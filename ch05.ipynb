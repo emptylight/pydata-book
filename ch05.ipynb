{
 "cells": [
  {
   "cell_type": "markdown",
   "metadata": {},
   "source": [
    "# Getting started with pandas"
   ]
  },
  {
   "cell_type": "code",
   "execution_count": 1,
   "metadata": {
    "collapsed": false
   },
   "outputs": [],
   "source": [
    "from pandas import Series, DataFrame\n",
    "import pandas as pd"
   ]
  },
  {
   "cell_type": "code",
<<<<<<< HEAD
   "execution_count": 2,
=======
   "execution_count": 3,
>>>>>>> f32e067bd584571f8b4a5dfe277594c96491ea32
   "metadata": {
    "collapsed": false
   },
   "outputs": [],
   "source": [
    "from __future__ import division\n",
    "from numpy.random import randn\n",
    "import numpy as np\n",
    "import os\n",
    "import matplotlib.pyplot as plt\n",
    "np.random.seed(12345)\n",
    "plt.rc('figure', figsize=(10, 6))\n",
    "from pandas import Series, DataFrame\n",
    "import pandas as pd\n",
    "np.set_printoptions(precision=4)"
   ]
  },
  {
   "cell_type": "code",
   "execution_count": null,
   "metadata": {
    "collapsed": false
   },
   "outputs": [],
   "source": [
    "%pwd"
   ]
  },
  {
   "cell_type": "code",
   "execution_count": null,
   "metadata": {
    "collapsed": false
   },
   "outputs": [],
   "source": [
    "%cd ../book_scripts"
   ]
  },
  {
   "cell_type": "markdown",
   "metadata": {},
   "source": [
    "## Introduction to pandas data structures"
   ]
  },
  {
   "cell_type": "markdown",
   "metadata": {},
   "source": [
    "### Series"
   ]
  },
  {
   "cell_type": "code",
   "execution_count": null,
   "metadata": {
    "collapsed": false
   },
   "outputs": [],
   "source": [
    "obj = Series([4, 7, -5, 3])\n",
    "obj"
   ]
  },
  {
   "cell_type": "code",
   "execution_count": null,
   "metadata": {
    "collapsed": false
   },
   "outputs": [],
   "source": [
    "obj.values\n",
    "obj.index"
   ]
  },
  {
   "cell_type": "code",
   "execution_count": null,
   "metadata": {
    "collapsed": false
   },
   "outputs": [],
   "source": [
    "obj2 = Series([4, 7, -5, 3], index=['d', 'b', 'a', 'c'])\n",
    "obj2"
   ]
  },
  {
   "cell_type": "code",
   "execution_count": null,
   "metadata": {
    "collapsed": false
   },
   "outputs": [],
   "source": [
    "obj2.index"
   ]
  },
  {
   "cell_type": "code",
   "execution_count": null,
   "metadata": {
    "collapsed": false
   },
   "outputs": [],
   "source": [
    "obj2['a']"
   ]
  },
  {
   "cell_type": "code",
   "execution_count": null,
   "metadata": {
    "collapsed": false
   },
   "outputs": [],
   "source": [
    "obj2['d'] = 6\n",
    "obj2[['c', 'a', 'd']]"
   ]
  },
  {
   "cell_type": "code",
   "execution_count": null,
   "metadata": {
    "collapsed": false
   },
   "outputs": [],
   "source": [
    "obj2[obj2 > 0]"
   ]
  },
  {
   "cell_type": "code",
   "execution_count": null,
   "metadata": {
    "collapsed": false
   },
   "outputs": [],
   "source": [
    "obj2 * 2"
   ]
  },
  {
   "cell_type": "code",
   "execution_count": null,
   "metadata": {
    "collapsed": false
   },
   "outputs": [],
   "source": [
    "np.exp(obj2)"
   ]
  },
  {
   "cell_type": "code",
   "execution_count": null,
   "metadata": {
    "collapsed": false
   },
   "outputs": [],
   "source": [
    "'b' in obj2"
   ]
  },
  {
   "cell_type": "code",
   "execution_count": null,
   "metadata": {
    "collapsed": false
   },
   "outputs": [],
   "source": [
    "'e' in obj2"
   ]
  },
  {
   "cell_type": "code",
   "execution_count": null,
   "metadata": {
    "collapsed": false
   },
   "outputs": [],
   "source": [
    "sdata = {'Ohio': 35000, 'Texas': 71000, 'Oregon': 16000, 'Utah': 5000}\n",
    "obj3 = Series(sdata)\n",
    "obj3"
   ]
  },
  {
   "cell_type": "code",
   "execution_count": null,
   "metadata": {
    "collapsed": false
   },
   "outputs": [],
   "source": [
    "states = ['California', 'Ohio', 'Oregon', 'Texas']\n",
    "obj4 = Series(sdata, index=states)\n",
    "obj4"
   ]
  },
  {
   "cell_type": "code",
   "execution_count": null,
   "metadata": {
    "collapsed": false
   },
   "outputs": [],
   "source": [
    "pd.isnull(obj4)"
   ]
  },
  {
   "cell_type": "code",
   "execution_count": null,
   "metadata": {
    "collapsed": false
   },
   "outputs": [],
   "source": [
    "pd.notnull(obj4)"
   ]
  },
  {
   "cell_type": "code",
   "execution_count": null,
   "metadata": {
    "collapsed": false
   },
   "outputs": [],
   "source": [
    "obj4.isnull()"
   ]
  },
  {
   "cell_type": "code",
   "execution_count": null,
   "metadata": {
    "collapsed": false
   },
   "outputs": [],
   "source": [
    "obj3"
   ]
  },
  {
   "cell_type": "code",
   "execution_count": null,
   "metadata": {
    "collapsed": false
   },
   "outputs": [],
   "source": [
    "obj4"
   ]
  },
  {
   "cell_type": "code",
   "execution_count": null,
   "metadata": {
    "collapsed": false
   },
   "outputs": [],
   "source": [
    "obj3 + obj4"
   ]
  },
  {
   "cell_type": "code",
   "execution_count": null,
   "metadata": {
    "collapsed": false
   },
   "outputs": [],
   "source": [
    "obj4.name = 'population'\n",
    "obj4.index.name = 'state'\n",
    "obj4"
   ]
  },
  {
   "cell_type": "code",
   "execution_count": null,
   "metadata": {
    "collapsed": false
   },
   "outputs": [],
   "source": [
    "obj.index = ['Bob', 'Steve', 'Jeff', 'Ryan']\n",
    "obj"
   ]
  },
  {
   "cell_type": "markdown",
   "metadata": {},
   "source": [
    "### DataFrame"
   ]
  },
  {
   "cell_type": "code",
   "execution_count": null,
   "metadata": {
    "collapsed": false
   },
   "outputs": [],
   "source": [
    "data = {'state': ['Ohio', 'Ohio', 'Ohio', 'Nevada', 'Nevada'],\n",
    "        'year': [2000, 2001, 2002, 2001, 2002],\n",
    "        'pop': [1.5, 1.7, 3.6, 2.4, 2.9]}\n",
    "frame = DataFrame(data)"
   ]
  },
  {
   "cell_type": "code",
   "execution_count": null,
   "metadata": {
    "collapsed": false
   },
   "outputs": [],
   "source": [
    "frame"
   ]
  },
  {
   "cell_type": "code",
   "execution_count": null,
   "metadata": {
    "collapsed": false
   },
   "outputs": [],
   "source": [
    "DataFrame(data, columns=['year', 'state', 'pop'])"
   ]
  },
  {
   "cell_type": "code",
   "execution_count": null,
   "metadata": {
    "collapsed": false
   },
   "outputs": [],
   "source": [
    "frame2 = DataFrame(data, columns=['year', 'state', 'pop', 'debt'],\n",
    "                   index=['one', 'two', 'three', 'four', 'five'])\n",
    "frame2"
   ]
  },
  {
   "cell_type": "code",
   "execution_count": null,
   "metadata": {
    "collapsed": false
   },
   "outputs": [],
   "source": [
    "frame2.columns"
   ]
  },
  {
   "cell_type": "code",
   "execution_count": null,
   "metadata": {
    "collapsed": false
   },
   "outputs": [],
   "source": [
    "frame2['state']"
   ]
  },
  {
   "cell_type": "code",
   "execution_count": null,
   "metadata": {
    "collapsed": false
   },
   "outputs": [],
   "source": [
    "frame2.year"
   ]
  },
  {
   "cell_type": "code",
   "execution_count": null,
   "metadata": {
    "collapsed": false
   },
   "outputs": [],
   "source": [
    "frame2.ix['three']"
   ]
  },
  {
   "cell_type": "code",
   "execution_count": null,
   "metadata": {
    "collapsed": false
   },
   "outputs": [],
   "source": [
    "frame2['debt'] = 16.5\n",
    "frame2"
   ]
  },
  {
   "cell_type": "code",
   "execution_count": null,
   "metadata": {
    "collapsed": false
   },
   "outputs": [],
   "source": [
    "frame2['debt'] = np.arange(5.)\n",
    "frame2"
   ]
  },
  {
   "cell_type": "code",
   "execution_count": null,
   "metadata": {
    "collapsed": false
   },
   "outputs": [],
   "source": [
    "val = Series([-1.2, -1.5, -1.7], index=['two', 'four', 'five'])\n",
    "frame2['debt'] = val\n",
    "frame2"
   ]
  },
  {
   "cell_type": "code",
   "execution_count": null,
   "metadata": {
    "collapsed": false
   },
   "outputs": [],
   "source": [
    "frame2['eastern'] = frame2.state == 'Ohio'\n",
    "frame2"
   ]
  },
  {
   "cell_type": "code",
   "execution_count": null,
   "metadata": {
    "collapsed": false
   },
   "outputs": [],
   "source": [
    "del frame2['eastern']\n",
    "frame2.columns"
   ]
  },
  {
   "cell_type": "code",
   "execution_count": null,
   "metadata": {
    "collapsed": false
   },
   "outputs": [],
   "source": [
    "pop = {'Nevada': {2001: 2.4, 2002: 2.9},\n",
    "       'Ohio': {2000: 1.5, 2001: 1.7, 2002: 3.6}}"
   ]
  },
  {
   "cell_type": "code",
   "execution_count": null,
   "metadata": {
    "collapsed": false
   },
   "outputs": [],
   "source": [
    "frame3 = DataFrame(pop)\n",
    "frame3"
   ]
  },
  {
   "cell_type": "code",
   "execution_count": null,
   "metadata": {
    "collapsed": false
   },
   "outputs": [],
   "source": [
    "frame3.T"
   ]
  },
  {
   "cell_type": "code",
   "execution_count": null,
   "metadata": {
    "collapsed": false
   },
   "outputs": [],
   "source": [
    "DataFrame(pop, index=[2001, 2002, 2003])"
   ]
  },
  {
   "cell_type": "code",
   "execution_count": null,
   "metadata": {
    "collapsed": false
   },
   "outputs": [],
   "source": [
    "pdata = {'Ohio': frame3['Ohio'][:-1],\n",
    "         'Nevada': frame3['Nevada'][:2]}\n",
    "DataFrame(pdata)"
   ]
  },
  {
   "cell_type": "code",
   "execution_count": null,
   "metadata": {
    "collapsed": false
   },
   "outputs": [],
   "source": [
    "frame3.index.name = 'year'; frame3.columns.name = 'state'\n",
    "frame3"
   ]
  },
  {
   "cell_type": "code",
   "execution_count": null,
   "metadata": {
    "collapsed": false
   },
   "outputs": [],
   "source": [
    "frame3.values"
   ]
  },
  {
   "cell_type": "code",
   "execution_count": null,
   "metadata": {
    "collapsed": false
   },
   "outputs": [],
   "source": [
    "frame2.values"
   ]
  },
  {
   "cell_type": "markdown",
   "metadata": {},
   "source": [
    "### Index objects"
   ]
  },
  {
   "cell_type": "code",
   "execution_count": null,
   "metadata": {
    "collapsed": false
   },
   "outputs": [],
   "source": [
    "obj = Series(range(3), index=['a', 'b', 'c'])\n",
    "index = obj.index\n",
    "index"
   ]
  },
  {
   "cell_type": "code",
   "execution_count": null,
   "metadata": {
    "collapsed": false
   },
   "outputs": [],
   "source": [
    "index[1:]"
   ]
  },
  {
   "cell_type": "code",
   "execution_count": null,
   "metadata": {
    "collapsed": false
   },
   "outputs": [],
   "source": [
    "index[1] = 'd'"
   ]
  },
  {
   "cell_type": "code",
   "execution_count": null,
   "metadata": {
    "collapsed": false
   },
   "outputs": [],
   "source": [
    "index = pd.Index(np.arange(3))\n",
    "obj2 = Series([1.5, -2.5, 0], index=index)\n",
    "obj2.index is index"
   ]
  },
  {
   "cell_type": "code",
   "execution_count": null,
   "metadata": {
    "collapsed": false
   },
   "outputs": [],
   "source": [
    "frame3"
   ]
  },
  {
   "cell_type": "code",
   "execution_count": null,
   "metadata": {
    "collapsed": false
   },
   "outputs": [],
   "source": [
    "'Ohio' in frame3.columns"
   ]
  },
  {
   "cell_type": "code",
   "execution_count": null,
   "metadata": {
    "collapsed": false
   },
   "outputs": [],
   "source": [
    "2003 in frame3.index"
   ]
  },
  {
   "cell_type": "markdown",
   "metadata": {},
   "source": [
    "## Essential functionality"
   ]
  },
  {
   "cell_type": "markdown",
   "metadata": {},
   "source": [
    "### Reindexing"
   ]
  },
  {
   "cell_type": "code",
   "execution_count": null,
   "metadata": {
    "collapsed": false
   },
   "outputs": [],
   "source": [
    "obj = Series([4.5, 7.2, -5.3, 3.6], index=['d', 'b', 'a', 'c'])\n",
    "obj"
   ]
  },
  {
   "cell_type": "code",
   "execution_count": null,
   "metadata": {
    "collapsed": false
   },
   "outputs": [],
   "source": [
    "obj2 = obj.reindex(['a', 'b', 'c', 'd', 'e'])\n",
    "obj2"
   ]
  },
  {
   "cell_type": "code",
   "execution_count": null,
   "metadata": {
    "collapsed": false
   },
   "outputs": [],
   "source": [
    "obj.reindex(['a', 'b', 'c', 'd', 'e'], fill_value=0)"
   ]
  },
  {
   "cell_type": "code",
   "execution_count": null,
   "metadata": {
    "collapsed": false
   },
   "outputs": [],
   "source": [
    "obj3 = Series(['blue', 'purple', 'yellow'], index=[0, 2, 4])\n",
    "obj3.reindex(range(6), method='ffill')"
   ]
  },
  {
   "cell_type": "code",
   "execution_count": null,
   "metadata": {
    "collapsed": false
   },
   "outputs": [],
   "source": [
    "frame = DataFrame(np.arange(9).reshape((3, 3)), index=['a', 'c', 'd'],\n",
    "                  columns=['Ohio', 'Texas', 'California'])\n",
    "frame"
   ]
  },
  {
   "cell_type": "code",
   "execution_count": null,
   "metadata": {
    "collapsed": false
   },
   "outputs": [],
   "source": [
    "frame2 = frame.reindex(['a', 'b', 'c', 'd'])\n",
    "frame2"
   ]
  },
  {
   "cell_type": "code",
   "execution_count": null,
   "metadata": {
    "collapsed": false
   },
   "outputs": [],
   "source": [
    "states = ['Texas', 'Utah', 'California']\n",
    "frame.reindex(columns=states)"
   ]
  },
  {
   "cell_type": "code",
   "execution_count": null,
   "metadata": {
    "collapsed": false
   },
   "outputs": [],
   "source": [
    "frame.reindex(index=['a', 'b', 'c', 'd'], method='ffill',\n",
    "              columns=states)"
   ]
  },
  {
   "cell_type": "code",
   "execution_count": null,
   "metadata": {
    "collapsed": false
   },
   "outputs": [],
   "source": [
    "frame.ix[['a', 'b', 'c', 'd'], states]"
   ]
  },
  {
   "cell_type": "markdown",
   "metadata": {},
   "source": [
    "### Dropping entries from an axis"
   ]
  },
  {
   "cell_type": "code",
   "execution_count": null,
   "metadata": {
    "collapsed": false
   },
   "outputs": [],
   "source": [
    "obj = Series(np.arange(5.), index=['a', 'b', 'c', 'd', 'e'])\n",
    "new_obj = obj.drop('c')\n",
    "new_obj"
   ]
  },
  {
   "cell_type": "code",
   "execution_count": null,
   "metadata": {
    "collapsed": false
   },
   "outputs": [],
   "source": [
    "obj.drop(['d', 'c'])"
   ]
  },
  {
   "cell_type": "code",
   "execution_count": null,
   "metadata": {
    "collapsed": false
   },
   "outputs": [],
   "source": [
    "data = DataFrame(np.arange(16).reshape((4, 4)),\n",
    "                 index=['Ohio', 'Colorado', 'Utah', 'New York'],\n",
    "                 columns=['one', 'two', 'three', 'four'])"
   ]
  },
  {
   "cell_type": "code",
   "execution_count": null,
   "metadata": {
    "collapsed": false
   },
   "outputs": [],
   "source": [
    "data.drop(['Colorado', 'Ohio'])"
   ]
  },
  {
   "cell_type": "code",
   "execution_count": null,
   "metadata": {
    "collapsed": false
   },
   "outputs": [],
   "source": [
    "data.drop('two', axis=1)"
   ]
  },
  {
   "cell_type": "code",
   "execution_count": null,
   "metadata": {
    "collapsed": false
   },
   "outputs": [],
   "source": [
    "data.drop(['two', 'four'], axis=1)"
   ]
  },
  {
   "cell_type": "markdown",
   "metadata": {},
   "source": [
    "### Indexing, selection, and filtering"
   ]
  },
  {
   "cell_type": "code",
   "execution_count": null,
   "metadata": {
    "collapsed": false
   },
   "outputs": [],
   "source": [
    "obj = Series(np.arange(4.), index=['a', 'b', 'c', 'd'])\n",
    "obj['b']"
   ]
  },
  {
   "cell_type": "code",
   "execution_count": null,
   "metadata": {
    "collapsed": false
   },
   "outputs": [],
   "source": [
    "obj[1]"
   ]
  },
  {
   "cell_type": "code",
   "execution_count": null,
   "metadata": {
    "collapsed": false
   },
   "outputs": [],
   "source": [
    "obj[2:4]"
   ]
  },
  {
   "cell_type": "code",
   "execution_count": null,
   "metadata": {
    "collapsed": false
   },
   "outputs": [],
   "source": [
    "obj[['b', 'a', 'd']]"
   ]
  },
  {
   "cell_type": "code",
   "execution_count": null,
   "metadata": {
    "collapsed": false
   },
   "outputs": [],
   "source": [
    "obj[[1, 3]]"
   ]
  },
  {
   "cell_type": "code",
   "execution_count": null,
   "metadata": {
    "collapsed": false
   },
   "outputs": [],
   "source": [
    "obj[obj < 2]"
   ]
  },
  {
   "cell_type": "code",
   "execution_count": null,
   "metadata": {
    "collapsed": false
   },
   "outputs": [],
   "source": [
    "obj['b':'c']"
   ]
  },
  {
   "cell_type": "code",
   "execution_count": null,
   "metadata": {
    "collapsed": false
   },
   "outputs": [],
   "source": [
    "obj['b':'c'] = 5\n",
    "obj"
   ]
  },
  {
   "cell_type": "code",
   "execution_count": null,
   "metadata": {
    "collapsed": false
   },
   "outputs": [],
   "source": [
    "data = DataFrame(np.arange(16).reshape((4, 4)),\n",
    "                 index=['Ohio', 'Colorado', 'Utah', 'New York'],\n",
    "                 columns=['one', 'two', 'three', 'four'])\n",
    "data"
   ]
  },
  {
   "cell_type": "code",
   "execution_count": null,
   "metadata": {
    "collapsed": false
   },
   "outputs": [],
   "source": [
    "data['two']"
   ]
  },
  {
   "cell_type": "code",
   "execution_count": null,
   "metadata": {
    "collapsed": false
   },
   "outputs": [],
   "source": [
    "data[['three', 'one']]"
   ]
  },
  {
   "cell_type": "code",
   "execution_count": null,
   "metadata": {
    "collapsed": false
   },
   "outputs": [],
   "source": [
    "data[:2]"
   ]
  },
  {
   "cell_type": "code",
   "execution_count": null,
   "metadata": {
    "collapsed": false
   },
   "outputs": [],
   "source": [
    "data[data['three'] > 5]"
   ]
  },
  {
   "cell_type": "code",
   "execution_count": null,
   "metadata": {
    "collapsed": false
   },
   "outputs": [],
   "source": [
    "data < 5"
   ]
  },
  {
   "cell_type": "code",
   "execution_count": null,
   "metadata": {
    "collapsed": false
   },
   "outputs": [],
   "source": [
    "data[data < 5] = 0"
   ]
  },
  {
   "cell_type": "code",
   "execution_count": null,
   "metadata": {
    "collapsed": false
   },
   "outputs": [],
   "source": [
    "data"
   ]
  },
  {
   "cell_type": "code",
   "execution_count": null,
   "metadata": {
    "collapsed": false
   },
   "outputs": [],
   "source": [
    "data.ix['Colorado', ['two', 'three']]"
   ]
  },
  {
   "cell_type": "code",
   "execution_count": null,
   "metadata": {
    "collapsed": false
   },
   "outputs": [],
   "source": [
    "data.ix[['Colorado', 'Utah'], [3, 0, 1]]"
   ]
  },
  {
   "cell_type": "code",
   "execution_count": null,
   "metadata": {
    "collapsed": false
   },
   "outputs": [],
   "source": [
    "data.ix[2]"
   ]
  },
  {
   "cell_type": "code",
   "execution_count": null,
   "metadata": {
    "collapsed": false
   },
   "outputs": [],
   "source": [
    "data.ix[:'Utah', 'two']"
   ]
  },
  {
   "cell_type": "code",
   "execution_count": null,
   "metadata": {
    "collapsed": false
   },
   "outputs": [],
   "source": [
    "data.ix[data.three > 5, :3]"
   ]
  },
  {
   "cell_type": "markdown",
   "metadata": {},
   "source": [
    "### Arithmetic and data alignment"
   ]
  },
  {
   "cell_type": "code",
   "execution_count": null,
   "metadata": {
    "collapsed": false
   },
   "outputs": [],
   "source": [
    "s1 = Series([7.3, -2.5, 3.4, 1.5], index=['a', 'c', 'd', 'e'])\n",
    "s2 = Series([-2.1, 3.6, -1.5, 4, 3.1], index=['a', 'c', 'e', 'f', 'g'])"
   ]
  },
  {
   "cell_type": "code",
   "execution_count": null,
   "metadata": {
    "collapsed": false
   },
   "outputs": [],
   "source": [
    "s1"
   ]
  },
  {
   "cell_type": "code",
   "execution_count": null,
   "metadata": {
    "collapsed": false
   },
   "outputs": [],
   "source": [
    "s2"
   ]
  },
  {
   "cell_type": "code",
   "execution_count": null,
   "metadata": {
    "collapsed": false
   },
   "outputs": [],
   "source": [
    "s1 + s2"
   ]
  },
  {
   "cell_type": "code",
   "execution_count": null,
   "metadata": {
    "collapsed": false
   },
   "outputs": [],
   "source": [
    "df1 = DataFrame(np.arange(9.).reshape((3, 3)), columns=list('bcd'),\n",
    "                index=['Ohio', 'Texas', 'Colorado'])\n",
    "df2 = DataFrame(np.arange(12.).reshape((4, 3)), columns=list('bde'),\n",
    "                index=['Utah', 'Ohio', 'Texas', 'Oregon'])\n",
    "df1"
   ]
  },
  {
   "cell_type": "code",
   "execution_count": null,
   "metadata": {
    "collapsed": false
   },
   "outputs": [],
   "source": [
    "df2"
   ]
  },
  {
   "cell_type": "code",
   "execution_count": null,
   "metadata": {
    "collapsed": false
   },
   "outputs": [],
   "source": [
    "df1 + df2"
   ]
  },
  {
   "cell_type": "markdown",
   "metadata": {},
   "source": [
    "#### Arithmetic methods with fill values"
   ]
  },
  {
   "cell_type": "code",
   "execution_count": null,
   "metadata": {
    "collapsed": false
   },
   "outputs": [],
   "source": [
    "df1 = DataFrame(np.arange(12.).reshape((3, 4)), columns=list('abcd'))\n",
    "df2 = DataFrame(np.arange(20.).reshape((4, 5)), columns=list('abcde'))\n",
    "df1"
   ]
  },
  {
   "cell_type": "code",
   "execution_count": null,
   "metadata": {
    "collapsed": false
   },
   "outputs": [],
   "source": [
    "df2"
   ]
  },
  {
   "cell_type": "code",
   "execution_count": null,
   "metadata": {
    "collapsed": false
   },
   "outputs": [],
   "source": [
    "df1 + df2"
   ]
  },
  {
   "cell_type": "code",
   "execution_count": null,
   "metadata": {
    "collapsed": false
   },
   "outputs": [],
   "source": [
    "df1.add(df2, fill_value=0)"
   ]
  },
  {
   "cell_type": "code",
   "execution_count": null,
   "metadata": {
    "collapsed": false
   },
   "outputs": [],
   "source": [
    "df1.reindex(columns=df2.columns, fill_value=0)"
   ]
  },
  {
   "cell_type": "markdown",
   "metadata": {},
   "source": [
    "#### Operations between DataFrame and Series"
   ]
  },
  {
   "cell_type": "code",
   "execution_count": null,
   "metadata": {
    "collapsed": false
   },
   "outputs": [],
   "source": [
    "arr = np.arange(12.).reshape((3, 4))\n",
    "arr"
   ]
  },
  {
   "cell_type": "code",
   "execution_count": null,
   "metadata": {
    "collapsed": false
   },
   "outputs": [],
   "source": [
    "arr[0]"
   ]
  },
  {
   "cell_type": "code",
   "execution_count": null,
   "metadata": {
    "collapsed": false
   },
   "outputs": [],
   "source": [
    "arr - arr[0]"
   ]
  },
  {
   "cell_type": "code",
   "execution_count": null,
   "metadata": {
    "collapsed": false
   },
   "outputs": [],
   "source": [
    "frame = DataFrame(np.arange(12.).reshape((4, 3)), columns=list('bde'),\n",
    "                  index=['Utah', 'Ohio', 'Texas', 'Oregon'])\n",
    "series = frame.ix[0]\n",
    "frame"
   ]
  },
  {
   "cell_type": "code",
   "execution_count": null,
   "metadata": {
    "collapsed": false
   },
   "outputs": [],
   "source": [
    "series"
   ]
  },
  {
   "cell_type": "code",
   "execution_count": null,
   "metadata": {
    "collapsed": false
   },
   "outputs": [],
   "source": [
    "frame - series"
   ]
  },
  {
   "cell_type": "code",
   "execution_count": null,
   "metadata": {
    "collapsed": false
   },
   "outputs": [],
   "source": [
    "series2 = Series(range(3), index=['b', 'e', 'f'])\n",
    "frame + series2"
   ]
  },
  {
   "cell_type": "code",
   "execution_count": null,
   "metadata": {
    "collapsed": false
   },
   "outputs": [],
   "source": [
    "series3 = frame['d']\n",
    "frame"
   ]
  },
  {
   "cell_type": "code",
   "execution_count": null,
   "metadata": {
    "collapsed": false
   },
   "outputs": [],
   "source": [
    "series3"
   ]
  },
  {
   "cell_type": "code",
   "execution_count": null,
   "metadata": {
    "collapsed": false
   },
   "outputs": [],
   "source": [
    "frame.sub(series3, axis=0)"
   ]
  },
  {
   "cell_type": "markdown",
   "metadata": {},
   "source": [
    "### Function application and mapping"
   ]
  },
  {
   "cell_type": "code",
   "execution_count": null,
   "metadata": {
    "collapsed": false
   },
   "outputs": [],
   "source": [
    "frame = DataFrame(np.random.randn(4, 3), columns=list('bde'),\n",
    "                  index=['Utah', 'Ohio', 'Texas', 'Oregon'])"
   ]
  },
  {
   "cell_type": "code",
   "execution_count": null,
   "metadata": {
    "collapsed": false
   },
   "outputs": [],
   "source": [
    "frame"
   ]
  },
  {
   "cell_type": "code",
   "execution_count": null,
   "metadata": {
    "collapsed": false
   },
   "outputs": [],
   "source": [
    "np.abs(frame)"
   ]
  },
  {
   "cell_type": "code",
   "execution_count": null,
   "metadata": {
    "collapsed": false
   },
   "outputs": [],
   "source": [
    "f = lambda x: x.max() - x.min()"
   ]
  },
  {
   "cell_type": "code",
   "execution_count": null,
   "metadata": {
    "collapsed": false
   },
   "outputs": [],
   "source": [
    "frame.apply(f)"
   ]
  },
  {
   "cell_type": "code",
   "execution_count": null,
   "metadata": {
    "collapsed": false
   },
   "outputs": [],
   "source": [
    "frame.apply(f, axis=1)"
   ]
  },
  {
   "cell_type": "code",
   "execution_count": null,
   "metadata": {
    "collapsed": false
   },
   "outputs": [],
   "source": [
    "def f(x):\n",
    "    return Series([x.min(), x.max()], index=['min', 'max'])\n",
    "frame.apply(f)"
   ]
  },
  {
   "cell_type": "code",
   "execution_count": null,
   "metadata": {
    "collapsed": false
   },
   "outputs": [],
   "source": [
    "format = lambda x: '%.2f' % x\n",
    "frame.applymap(format)"
   ]
  },
  {
   "cell_type": "code",
   "execution_count": null,
   "metadata": {
    "collapsed": false
   },
   "outputs": [],
   "source": [
    "frame['e'].map(format)"
   ]
  },
  {
   "cell_type": "markdown",
   "metadata": {},
   "source": [
    "### Sorting and ranking"
   ]
  },
  {
   "cell_type": "code",
   "execution_count": null,
   "metadata": {
    "collapsed": false
   },
   "outputs": [],
   "source": [
    "obj = Series(range(4), index=['d', 'a', 'b', 'c'])\n",
    "obj.sort_index()"
   ]
  },
  {
   "cell_type": "code",
   "execution_count": null,
   "metadata": {
    "collapsed": false
   },
   "outputs": [],
   "source": [
    "frame = DataFrame(np.arange(8).reshape((2, 4)), index=['three', 'one'],\n",
    "                  columns=['d', 'a', 'b', 'c'])\n",
    "frame.sort_index()"
   ]
  },
  {
   "cell_type": "code",
   "execution_count": null,
   "metadata": {
    "collapsed": false
   },
   "outputs": [],
   "source": [
    "frame.sort_index(axis=1)"
   ]
  },
  {
   "cell_type": "code",
   "execution_count": null,
   "metadata": {
    "collapsed": false
   },
   "outputs": [],
   "source": [
    "frame.sort_index(axis=1, ascending=False)"
   ]
  },
  {
   "cell_type": "code",
   "execution_count": null,
   "metadata": {
    "collapsed": false
   },
   "outputs": [],
   "source": [
    "obj = Series([4, 7, -3, 2])\n",
    "obj.order()"
   ]
  },
  {
   "cell_type": "code",
   "execution_count": null,
   "metadata": {
    "collapsed": false
   },
   "outputs": [],
   "source": [
    "obj = Series([4, np.nan, 7, np.nan, -3, 2])\n",
    "obj.order()"
   ]
  },
  {
   "cell_type": "code",
   "execution_count": null,
   "metadata": {
    "collapsed": false
   },
   "outputs": [],
   "source": [
    "frame = DataFrame({'b': [4, 7, -3, 2], 'a': [0, 1, 0, 1]})\n",
    "frame"
   ]
  },
  {
   "cell_type": "code",
   "execution_count": null,
   "metadata": {
    "collapsed": false
   },
   "outputs": [],
   "source": [
    "frame.sort_index(by='b')"
   ]
  },
  {
   "cell_type": "code",
   "execution_count": null,
   "metadata": {
    "collapsed": false
   },
   "outputs": [],
   "source": [
    "frame.sort_index(by=['a', 'b'])"
   ]
  },
  {
   "cell_type": "code",
   "execution_count": null,
   "metadata": {
    "collapsed": false
   },
   "outputs": [],
   "source": [
    "obj = Series([7, -5, 7, 4, 2, 0, 4])\n",
    "obj.rank()"
   ]
  },
  {
   "cell_type": "code",
   "execution_count": null,
   "metadata": {
    "collapsed": false
   },
   "outputs": [],
   "source": [
    "obj.rank(method='first')"
   ]
  },
  {
   "cell_type": "code",
   "execution_count": null,
   "metadata": {
    "collapsed": false
   },
   "outputs": [],
   "source": [
    "obj.rank(ascending=False, method='max')"
   ]
  },
  {
   "cell_type": "code",
   "execution_count": null,
   "metadata": {
    "collapsed": false
   },
   "outputs": [],
   "source": [
    "frame = DataFrame({'b': [4.3, 7, -3, 2], 'a': [0, 1, 0, 1],\n",
    "                   'c': [-2, 5, 8, -2.5]})\n",
    "frame"
   ]
  },
  {
   "cell_type": "code",
   "execution_count": null,
   "metadata": {
    "collapsed": false
   },
   "outputs": [],
   "source": [
    "frame.rank(axis=1)"
   ]
  },
  {
   "cell_type": "markdown",
   "metadata": {},
   "source": [
    "### Axis indexes with duplicate values"
   ]
  },
  {
   "cell_type": "code",
   "execution_count": null,
   "metadata": {
    "collapsed": false
   },
   "outputs": [],
   "source": [
    "obj = Series(range(5), index=['a', 'a', 'b', 'b', 'c'])\n",
    "obj"
   ]
  },
  {
   "cell_type": "code",
   "execution_count": null,
   "metadata": {
    "collapsed": false
   },
   "outputs": [],
   "source": [
    "obj.index.is_unique"
   ]
  },
  {
   "cell_type": "code",
   "execution_count": null,
   "metadata": {
    "collapsed": false
   },
   "outputs": [],
   "source": [
    "obj['a']"
   ]
  },
  {
   "cell_type": "code",
   "execution_count": null,
   "metadata": {
    "collapsed": false
   },
   "outputs": [],
   "source": [
    "obj['c']"
   ]
  },
  {
   "cell_type": "code",
   "execution_count": null,
   "metadata": {
    "collapsed": false
   },
   "outputs": [],
   "source": [
    "df = DataFrame(np.random.randn(4, 3), index=['a', 'a', 'b', 'b'])\n",
    "df"
   ]
  },
  {
   "cell_type": "code",
   "execution_count": null,
   "metadata": {
    "collapsed": false
   },
   "outputs": [],
   "source": [
    "df.ix['b']"
   ]
  },
  {
   "cell_type": "markdown",
   "metadata": {},
   "source": [
    "## Summarizing and computing descriptive statistics"
   ]
  },
  {
   "cell_type": "code",
   "execution_count": null,
   "metadata": {
    "collapsed": false
   },
   "outputs": [],
   "source": [
    "df = DataFrame([[1.4, np.nan], [7.1, -4.5],\n",
    "                [np.nan, np.nan], [0.75, -1.3]],\n",
    "               index=['a', 'b', 'c', 'd'],\n",
    "               columns=['one', 'two'])\n",
    "df"
   ]
  },
  {
   "cell_type": "code",
   "execution_count": null,
   "metadata": {
    "collapsed": false
   },
   "outputs": [],
   "source": [
    "df.sum()"
   ]
  },
  {
   "cell_type": "code",
   "execution_count": null,
   "metadata": {
    "collapsed": false
   },
   "outputs": [],
   "source": [
    "df.sum(axis=1)"
   ]
  },
  {
   "cell_type": "code",
   "execution_count": null,
   "metadata": {
    "collapsed": false
   },
   "outputs": [],
   "source": [
    "df.mean(axis=1, skipna=False)"
   ]
  },
  {
   "cell_type": "code",
   "execution_count": null,
   "metadata": {
    "collapsed": false
   },
   "outputs": [],
   "source": [
    "df.idxmax()"
   ]
  },
  {
   "cell_type": "code",
   "execution_count": null,
   "metadata": {
    "collapsed": false
   },
   "outputs": [],
   "source": [
    "df.cumsum()"
   ]
  },
  {
   "cell_type": "code",
   "execution_count": null,
   "metadata": {
    "collapsed": false
   },
   "outputs": [],
   "source": [
    "df.describe()"
   ]
  },
  {
   "cell_type": "code",
   "execution_count": null,
   "metadata": {
    "collapsed": false
   },
   "outputs": [],
   "source": [
    "obj = Series(['a', 'a', 'b', 'c'] * 4)\n",
    "obj.describe()"
   ]
  },
  {
   "cell_type": "markdown",
   "metadata": {},
   "source": [
    "### Correlation and covariance"
   ]
  },
  {
   "cell_type": "code",
<<<<<<< HEAD
   "execution_count": null,
=======
   "execution_count": 1,
>>>>>>> f32e067bd584571f8b4a5dfe277594c96491ea32
   "metadata": {
    "collapsed": true
   },
   "outputs": [],
   "source": [
<<<<<<< HEAD
    "import pandas.io.data as web\n",
    "\n",
    "all_data = {}\n",
    "for ticker in ['159915.SZ', '159902.sz', '399001.sz', '^dji']:\n",
    "    all_data[ticker] = web.get_data_yahoo(ticker)"
=======
    "from pandas import *\n",
    "%matplotlib inline"
>>>>>>> f32e067bd584571f8b4a5dfe277594c96491ea32
   ]
  },
  {
   "cell_type": "code",
<<<<<<< HEAD
   "execution_count": 7,
=======
   "execution_count": 2,
>>>>>>> f32e067bd584571f8b4a5dfe277594c96491ea32
   "metadata": {
    "collapsed": false
   },
   "outputs": [],
   "source": [
<<<<<<< HEAD
    "price = DataFrame({tic: data['Adj Close']\n",
    "                   for tic, data in all_data.items()})\n",
    "volume = DataFrame({tic: data['Volume']\n",
    "                    for tic, data in all_data.items()})"
=======
    "import pandas.io.data as web\n",
    "\n",
    "all_data = {}\n",
    "for ticker in ['000001.SZ', '000002.SZ']:\n",
    "    all_data[ticker] = web.get_data_yahoo(ticker)"
>>>>>>> f32e067bd584571f8b4a5dfe277594c96491ea32
   ]
  },
  {
   "cell_type": "code",
<<<<<<< HEAD
   "execution_count": 8,
   "metadata": {
    "collapsed": true
   },
   "outputs": [],
   "source": [
    "web.get_data_google?"
=======
   "execution_count": 46,
   "metadata": {
    "collapsed": false
   },
   "outputs": [],
   "source": [
    "price = DataFrame({tic: data['Adj Close']\n",
    "                   for tic, data in all_data.items()})\n",
    "volume = DataFrame({tic: data['Volume']\n",
    "                    for tic, data in all_data.items()})"
>>>>>>> f32e067bd584571f8b4a5dfe277594c96491ea32
   ]
  },
  {
   "cell_type": "code",
<<<<<<< HEAD
   "execution_count": 10,
=======
   "execution_count": 90,
>>>>>>> f32e067bd584571f8b4a5dfe277594c96491ea32
   "metadata": {
    "collapsed": false
   },
   "outputs": [
    {
     "data": {
      "text/html": [
       "<div style=\"max-height:1000px;max-width:1500px;overflow:auto;\">\n",
       "<table border=\"1\" class=\"dataframe\">\n",
       "  <thead>\n",
       "    <tr style=\"text-align: right;\">\n",
       "      <th></th>\n",
<<<<<<< HEAD
       "      <th>159902.sz</th>\n",
       "      <th>159915.SZ</th>\n",
       "      <th>399001.sz</th>\n",
       "      <th>^dji</th>\n",
=======
       "      <th>000001.SZ</th>\n",
       "      <th>000002.SZ</th>\n",
       "      <th>000001.ma160</th>\n",
       "      <th>000002.ma160</th>\n",
>>>>>>> f32e067bd584571f8b4a5dfe277594c96491ea32
       "    </tr>\n",
       "    <tr>\n",
       "      <th>Date</th>\n",
       "      <th></th>\n",
       "      <th></th>\n",
       "      <th></th>\n",
       "      <th></th>\n",
       "    </tr>\n",
       "  </thead>\n",
       "  <tbody>\n",
       "    <tr>\n",
<<<<<<< HEAD
       "      <th>2010-01-04</th>\n",
       "      <td> 2.637</td>\n",
       "      <td>   NaN</td>\n",
       "      <td> 13533.5</td>\n",
       "      <td> 10583.95996</td>\n",
       "    </tr>\n",
       "    <tr>\n",
       "      <th>2010-01-05</th>\n",
       "      <td> 2.658</td>\n",
       "      <td>   NaN</td>\n",
       "      <td> 13517.4</td>\n",
       "      <td> 10572.01953</td>\n",
       "    </tr>\n",
       "    <tr>\n",
       "      <th>2010-01-06</th>\n",
       "      <td> 2.656</td>\n",
       "      <td>   NaN</td>\n",
       "      <td> 13505.2</td>\n",
       "      <td> 10573.67969</td>\n",
       "    </tr>\n",
       "    <tr>\n",
       "      <th>2010-01-07</th>\n",
       "      <td> 2.590</td>\n",
       "      <td>   NaN</td>\n",
       "      <td> 13235.5</td>\n",
       "      <td> 10606.86035</td>\n",
       "    </tr>\n",
       "    <tr>\n",
       "      <th>2010-01-08</th>\n",
       "      <td> 2.614</td>\n",
       "      <td>   NaN</td>\n",
       "      <td> 13267.4</td>\n",
       "      <td> 10618.19043</td>\n",
       "    </tr>\n",
       "    <tr>\n",
       "      <th>2010-01-11</th>\n",
       "      <td> 2.606</td>\n",
       "      <td>   NaN</td>\n",
       "      <td> 13161.1</td>\n",
       "      <td> 10663.99023</td>\n",
       "    </tr>\n",
       "    <tr>\n",
       "      <th>2010-01-12</th>\n",
       "      <td> 2.674</td>\n",
       "      <td>   NaN</td>\n",
       "      <td> 13381.2</td>\n",
       "      <td> 10627.25977</td>\n",
       "    </tr>\n",
       "    <tr>\n",
       "      <th>2010-01-13</th>\n",
       "      <td> 2.639</td>\n",
       "      <td>   NaN</td>\n",
       "      <td> 13016.6</td>\n",
       "      <td> 10680.76953</td>\n",
       "    </tr>\n",
       "    <tr>\n",
       "      <th>2010-01-14</th>\n",
       "      <td> 2.705</td>\n",
       "      <td>   NaN</td>\n",
       "      <td> 13204.2</td>\n",
       "      <td> 10710.54980</td>\n",
       "    </tr>\n",
       "    <tr>\n",
       "      <th>2010-01-15</th>\n",
       "      <td> 2.732</td>\n",
       "      <td>   NaN</td>\n",
       "      <td> 13264.4</td>\n",
       "      <td> 10609.65039</td>\n",
       "    </tr>\n",
       "    <tr>\n",
       "      <th>2010-01-18</th>\n",
       "      <td> 2.768</td>\n",
       "      <td>   NaN</td>\n",
       "      <td> 13361.5</td>\n",
       "      <td>         NaN</td>\n",
       "    </tr>\n",
       "    <tr>\n",
       "      <th>2010-01-19</th>\n",
       "      <td> 2.754</td>\n",
       "      <td>   NaN</td>\n",
       "      <td> 13350.7</td>\n",
       "      <td> 10725.42969</td>\n",
       "    </tr>\n",
       "    <tr>\n",
       "      <th>2010-01-20</th>\n",
       "      <td> 2.650</td>\n",
       "      <td>   NaN</td>\n",
       "      <td> 12916.2</td>\n",
       "      <td> 10603.15039</td>\n",
       "    </tr>\n",
       "    <tr>\n",
       "      <th>2010-01-21</th>\n",
       "      <td> 2.653</td>\n",
       "      <td>   NaN</td>\n",
       "      <td> 12917.2</td>\n",
       "      <td> 10389.87988</td>\n",
       "    </tr>\n",
       "    <tr>\n",
       "      <th>2010-01-22</th>\n",
       "      <td> 2.588</td>\n",
       "      <td>   NaN</td>\n",
       "      <td> 12595.9</td>\n",
       "      <td> 10172.98047</td>\n",
       "    </tr>\n",
       "    <tr>\n",
       "      <th>2010-01-25</th>\n",
       "      <td> 2.560</td>\n",
       "      <td>   NaN</td>\n",
       "      <td> 12470.2</td>\n",
       "      <td> 10196.86035</td>\n",
       "    </tr>\n",
       "    <tr>\n",
       "      <th>2010-01-26</th>\n",
       "      <td> 2.500</td>\n",
       "      <td>   NaN</td>\n",
       "      <td> 12162.6</td>\n",
       "      <td> 10194.29004</td>\n",
       "    </tr>\n",
       "    <tr>\n",
       "      <th>2010-01-27</th>\n",
       "      <td> 2.484</td>\n",
       "      <td>   NaN</td>\n",
       "      <td> 12046.8</td>\n",
       "      <td> 10236.16016</td>\n",
       "    </tr>\n",
       "    <tr>\n",
       "      <th>2010-01-28</th>\n",
       "      <td> 2.510</td>\n",
       "      <td>   NaN</td>\n",
       "      <td> 12120.5</td>\n",
       "      <td> 10120.45996</td>\n",
       "    </tr>\n",
       "    <tr>\n",
       "      <th>2010-01-29</th>\n",
       "      <td> 2.543</td>\n",
       "      <td>   NaN</td>\n",
       "      <td> 12137.2</td>\n",
       "      <td> 10067.33008</td>\n",
       "    </tr>\n",
       "    <tr>\n",
       "      <th>2010-02-01</th>\n",
       "      <td> 2.488</td>\n",
       "      <td>   NaN</td>\n",
       "      <td> 11989.1</td>\n",
       "      <td> 10185.53027</td>\n",
       "    </tr>\n",
       "    <tr>\n",
       "      <th>2010-02-02</th>\n",
       "      <td> 2.474</td>\n",
       "      <td>   NaN</td>\n",
       "      <td> 11912.9</td>\n",
       "      <td> 10296.84961</td>\n",
       "    </tr>\n",
       "    <tr>\n",
       "      <th>2010-02-03</th>\n",
       "      <td> 2.517</td>\n",
       "      <td>   NaN</td>\n",
       "      <td> 12262.6</td>\n",
       "      <td> 10270.54980</td>\n",
       "    </tr>\n",
       "    <tr>\n",
       "      <th>2010-02-04</th>\n",
       "      <td> 2.506</td>\n",
       "      <td>   NaN</td>\n",
       "      <td> 12169.5</td>\n",
       "      <td> 10002.17969</td>\n",
       "    </tr>\n",
       "    <tr>\n",
       "      <th>2010-02-05</th>\n",
       "      <td> 2.456</td>\n",
       "      <td>   NaN</td>\n",
       "      <td> 11917.1</td>\n",
       "      <td> 10012.23047</td>\n",
       "    </tr>\n",
       "    <tr>\n",
       "      <th>2010-02-08</th>\n",
       "      <td> 2.459</td>\n",
       "      <td>   NaN</td>\n",
       "      <td> 11947.3</td>\n",
       "      <td>  9908.38965</td>\n",
       "    </tr>\n",
       "    <tr>\n",
       "      <th>2010-02-09</th>\n",
       "      <td> 2.466</td>\n",
       "      <td>   NaN</td>\n",
       "      <td> 11970.4</td>\n",
       "      <td> 10058.63965</td>\n",
       "    </tr>\n",
       "    <tr>\n",
       "      <th>2010-02-10</th>\n",
       "      <td> 2.504</td>\n",
       "      <td>   NaN</td>\n",
       "      <td> 12185.4</td>\n",
       "      <td> 10038.37988</td>\n",
       "    </tr>\n",
       "    <tr>\n",
       "      <th>2010-02-11</th>\n",
       "      <td> 2.503</td>\n",
       "      <td>   NaN</td>\n",
       "      <td> 12224.6</td>\n",
       "      <td> 10144.19043</td>\n",
       "    </tr>\n",
       "    <tr>\n",
       "      <th>2010-02-12</th>\n",
       "      <td> 2.540</td>\n",
       "      <td>   NaN</td>\n",
       "      <td> 12304.8</td>\n",
       "      <td> 10099.13965</td>\n",
       "    </tr>\n",
       "    <tr>\n",
       "      <th>...</th>\n",
       "      <td>...</td>\n",
       "      <td>...</td>\n",
       "      <td>...</td>\n",
       "      <td>...</td>\n",
       "    </tr>\n",
       "    <tr>\n",
       "      <th>2015-04-06</th>\n",
       "      <td>   NaN</td>\n",
       "      <td>   NaN</td>\n",
       "      <td>     NaN</td>\n",
       "      <td> 17880.84961</td>\n",
       "    </tr>\n",
       "    <tr>\n",
       "      <th>2015-04-07</th>\n",
       "      <td> 3.985</td>\n",
       "      <td> 2.438</td>\n",
       "      <td> 13768.7</td>\n",
       "      <td> 17875.41992</td>\n",
       "    </tr>\n",
       "    <tr>\n",
       "      <th>2015-04-08</th>\n",
       "      <td> 3.918</td>\n",
       "      <td> 2.377</td>\n",
       "      <td> 13841.7</td>\n",
       "      <td> 17902.50977</td>\n",
       "    </tr>\n",
       "    <tr>\n",
       "      <th>2015-04-09</th>\n",
       "      <td> 3.845</td>\n",
       "      <td> 2.466</td>\n",
       "      <td> 13796.7</td>\n",
       "      <td> 17958.73047</td>\n",
       "    </tr>\n",
       "    <tr>\n",
       "      <th>2015-04-10</th>\n",
       "      <td> 3.960</td>\n",
       "      <td> 2.424</td>\n",
       "      <td> 14013.3</td>\n",
       "      <td> 18057.65039</td>\n",
       "    </tr>\n",
       "    <tr>\n",
       "      <th>2015-04-13</th>\n",
       "      <td>   NaN</td>\n",
       "      <td>   NaN</td>\n",
       "      <td> 14149.5</td>\n",
       "      <td> 17977.03906</td>\n",
       "    </tr>\n",
       "    <tr>\n",
       "      <th>2015-04-14</th>\n",
       "      <td> 4.024</td>\n",
       "      <td> 2.440</td>\n",
       "      <td> 14042.5</td>\n",
       "      <td> 18036.69922</td>\n",
       "    </tr>\n",
       "    <tr>\n",
       "      <th>2015-04-15</th>\n",
       "      <td> 3.878</td>\n",
       "      <td> 2.330</td>\n",
       "      <td> 13646.6</td>\n",
       "      <td> 18112.60938</td>\n",
       "    </tr>\n",
       "    <tr>\n",
       "      <th>2015-04-16</th>\n",
       "      <td> 3.920</td>\n",
       "      <td> 2.375</td>\n",
       "      <td> 13967.8</td>\n",
       "      <td> 18105.76953</td>\n",
       "    </tr>\n",
       "    <tr>\n",
       "      <th>2015-04-17</th>\n",
       "      <td> 3.915</td>\n",
       "      <td> 2.368</td>\n",
       "      <td> 14149.3</td>\n",
       "      <td> 17826.30078</td>\n",
       "    </tr>\n",
       "    <tr>\n",
       "      <th>2015-04-20</th>\n",
       "      <td> 3.815</td>\n",
       "      <td> 2.318</td>\n",
       "      <td> 13871.6</td>\n",
       "      <td> 18034.92969</td>\n",
       "    </tr>\n",
       "    <tr>\n",
       "      <th>2015-04-21</th>\n",
       "      <td> 3.982</td>\n",
       "      <td> 2.496</td>\n",
       "      <td> 14439.0</td>\n",
       "      <td> 17949.58984</td>\n",
       "    </tr>\n",
       "    <tr>\n",
       "      <th>2015-04-22</th>\n",
       "      <td> 4.083</td>\n",
       "      <td> 2.524</td>\n",
       "      <td> 14749.1</td>\n",
       "      <td> 18038.26953</td>\n",
       "    </tr>\n",
       "    <tr>\n",
       "      <th>2015-04-23</th>\n",
       "      <td> 4.103</td>\n",
       "      <td> 2.598</td>\n",
       "      <td> 14743.2</td>\n",
       "      <td> 18058.68945</td>\n",
       "    </tr>\n",
       "    <tr>\n",
       "      <th>2015-04-24</th>\n",
       "      <td> 4.140</td>\n",
       "      <td> 2.645</td>\n",
       "      <td> 14598.7</td>\n",
       "      <td> 18080.14062</td>\n",
       "    </tr>\n",
       "    <tr>\n",
       "      <th>2015-04-27</th>\n",
       "      <td> 4.155</td>\n",
       "      <td> 2.650</td>\n",
       "      <td> 14809.4</td>\n",
       "      <td> 18037.97070</td>\n",
       "    </tr>\n",
       "    <tr>\n",
       "      <th>2015-04-28</th>\n",
       "      <td> 4.018</td>\n",
       "      <td> 2.583</td>\n",
       "      <td> 14707.2</td>\n",
       "      <td> 18110.14062</td>\n",
       "    </tr>\n",
       "    <tr>\n",
       "      <th>2015-04-29</th>\n",
       "      <td> 4.104</td>\n",
       "      <td> 2.723</td>\n",
       "      <td> 14872.0</td>\n",
       "      <td> 18035.52930</td>\n",
       "    </tr>\n",
       "    <tr>\n",
       "      <th>2015-04-30</th>\n",
       "      <td> 4.076</td>\n",
       "      <td> 2.748</td>\n",
       "      <td> 14818.6</td>\n",
       "      <td> 17840.51953</td>\n",
       "    </tr>\n",
       "    <tr>\n",
       "      <th>2015-05-01</th>\n",
       "      <td>   NaN</td>\n",
       "      <td>   NaN</td>\n",
       "      <td>     NaN</td>\n",
       "      <td> 18024.06055</td>\n",
       "    </tr>\n",
       "    <tr>\n",
       "      <th>2015-05-04</th>\n",
       "      <td> 4.099</td>\n",
       "      <td> 2.740</td>\n",
       "      <td> 14860.5</td>\n",
       "      <td> 18070.40039</td>\n",
       "    </tr>\n",
       "    <tr>\n",
       "      <th>2015-05-05</th>\n",
       "      <td> 3.995</td>\n",
       "      <td> 2.670</td>\n",
       "      <td> 14233.1</td>\n",
       "      <td> 17928.19922</td>\n",
       "    </tr>\n",
       "    <tr>\n",
       "      <th>2015-05-06</th>\n",
       "      <td> 4.001</td>\n",
       "      <td> 2.738</td>\n",
       "      <td>     NaN</td>\n",
       "      <td> 17841.98047</td>\n",
       "    </tr>\n",
       "    <tr>\n",
       "      <th>2015-05-07</th>\n",
       "      <td> 3.967</td>\n",
       "      <td> 2.686</td>\n",
       "      <td>     NaN</td>\n",
       "      <td> 17924.06055</td>\n",
       "    </tr>\n",
       "    <tr>\n",
       "      <th>2015-05-08</th>\n",
       "      <td> 4.190</td>\n",
       "      <td> 2.894</td>\n",
       "      <td>     NaN</td>\n",
       "      <td> 18191.10938</td>\n",
       "    </tr>\n",
       "    <tr>\n",
       "      <th>2015-05-11</th>\n",
       "      <td> 4.389</td>\n",
       "      <td> 3.050</td>\n",
       "      <td>     NaN</td>\n",
       "      <td> 18191.10938</td>\n",
       "    </tr>\n",
       "    <tr>\n",
       "      <th>2015-05-12</th>\n",
       "      <td> 4.461</td>\n",
       "      <td> 3.129</td>\n",
       "      <td>     NaN</td>\n",
       "      <td> 18068.23047</td>\n",
       "    </tr>\n",
       "    <tr>\n",
       "      <th>2015-05-13</th>\n",
       "      <td> 4.509</td>\n",
       "      <td> 3.036</td>\n",
       "      <td>     NaN</td>\n",
       "      <td> 18060.49023</td>\n",
       "    </tr>\n",
       "    <tr>\n",
       "      <th>2015-05-14</th>\n",
       "      <td> 4.498</td>\n",
       "      <td> 3.008</td>\n",
       "      <td>     NaN</td>\n",
       "      <td> 18252.24023</td>\n",
       "    </tr>\n",
       "    <tr>\n",
       "      <th>2015-05-15</th>\n",
       "      <td> 4.465</td>\n",
       "      <td> 3.016</td>\n",
       "      <td>     NaN</td>\n",
       "      <td> 18272.56055</td>\n",
       "    </tr>\n",
       "  </tbody>\n",
       "</table>\n",
       "<p>1397 rows × 4 columns</p>\n",
       "</div>"
      ],
      "text/plain": [
       "            159902.sz  159915.SZ  399001.sz         ^dji\n",
       "Date                                                    \n",
       "2010-01-04      2.637        NaN    13533.5  10583.95996\n",
       "2010-01-05      2.658        NaN    13517.4  10572.01953\n",
       "2010-01-06      2.656        NaN    13505.2  10573.67969\n",
       "2010-01-07      2.590        NaN    13235.5  10606.86035\n",
       "2010-01-08      2.614        NaN    13267.4  10618.19043\n",
       "2010-01-11      2.606        NaN    13161.1  10663.99023\n",
       "2010-01-12      2.674        NaN    13381.2  10627.25977\n",
       "2010-01-13      2.639        NaN    13016.6  10680.76953\n",
       "2010-01-14      2.705        NaN    13204.2  10710.54980\n",
       "2010-01-15      2.732        NaN    13264.4  10609.65039\n",
       "2010-01-18      2.768        NaN    13361.5          NaN\n",
       "2010-01-19      2.754        NaN    13350.7  10725.42969\n",
       "2010-01-20      2.650        NaN    12916.2  10603.15039\n",
       "2010-01-21      2.653        NaN    12917.2  10389.87988\n",
       "2010-01-22      2.588        NaN    12595.9  10172.98047\n",
       "2010-01-25      2.560        NaN    12470.2  10196.86035\n",
       "2010-01-26      2.500        NaN    12162.6  10194.29004\n",
       "2010-01-27      2.484        NaN    12046.8  10236.16016\n",
       "2010-01-28      2.510        NaN    12120.5  10120.45996\n",
       "2010-01-29      2.543        NaN    12137.2  10067.33008\n",
       "2010-02-01      2.488        NaN    11989.1  10185.53027\n",
       "2010-02-02      2.474        NaN    11912.9  10296.84961\n",
       "2010-02-03      2.517        NaN    12262.6  10270.54980\n",
       "2010-02-04      2.506        NaN    12169.5  10002.17969\n",
       "2010-02-05      2.456        NaN    11917.1  10012.23047\n",
       "2010-02-08      2.459        NaN    11947.3   9908.38965\n",
       "2010-02-09      2.466        NaN    11970.4  10058.63965\n",
       "2010-02-10      2.504        NaN    12185.4  10038.37988\n",
       "2010-02-11      2.503        NaN    12224.6  10144.19043\n",
       "2010-02-12      2.540        NaN    12304.8  10099.13965\n",
       "...               ...        ...        ...          ...\n",
       "2015-04-06        NaN        NaN        NaN  17880.84961\n",
       "2015-04-07      3.985      2.438    13768.7  17875.41992\n",
       "2015-04-08      3.918      2.377    13841.7  17902.50977\n",
       "2015-04-09      3.845      2.466    13796.7  17958.73047\n",
       "2015-04-10      3.960      2.424    14013.3  18057.65039\n",
       "2015-04-13        NaN        NaN    14149.5  17977.03906\n",
       "2015-04-14      4.024      2.440    14042.5  18036.69922\n",
       "2015-04-15      3.878      2.330    13646.6  18112.60938\n",
       "2015-04-16      3.920      2.375    13967.8  18105.76953\n",
       "2015-04-17      3.915      2.368    14149.3  17826.30078\n",
       "2015-04-20      3.815      2.318    13871.6  18034.92969\n",
       "2015-04-21      3.982      2.496    14439.0  17949.58984\n",
       "2015-04-22      4.083      2.524    14749.1  18038.26953\n",
       "2015-04-23      4.103      2.598    14743.2  18058.68945\n",
       "2015-04-24      4.140      2.645    14598.7  18080.14062\n",
       "2015-04-27      4.155      2.650    14809.4  18037.97070\n",
       "2015-04-28      4.018      2.583    14707.2  18110.14062\n",
       "2015-04-29      4.104      2.723    14872.0  18035.52930\n",
       "2015-04-30      4.076      2.748    14818.6  17840.51953\n",
       "2015-05-01        NaN        NaN        NaN  18024.06055\n",
       "2015-05-04      4.099      2.740    14860.5  18070.40039\n",
       "2015-05-05      3.995      2.670    14233.1  17928.19922\n",
       "2015-05-06      4.001      2.738        NaN  17841.98047\n",
       "2015-05-07      3.967      2.686        NaN  17924.06055\n",
       "2015-05-08      4.190      2.894        NaN  18191.10938\n",
       "2015-05-11      4.389      3.050        NaN  18191.10938\n",
       "2015-05-12      4.461      3.129        NaN  18068.23047\n",
       "2015-05-13      4.509      3.036        NaN  18060.49023\n",
       "2015-05-14      4.498      3.008        NaN  18252.24023\n",
       "2015-05-15      4.465      3.016        NaN  18272.56055\n",
       "\n",
       "[1397 rows x 4 columns]"
      ]
     },
     "execution_count": 10,
=======
       "      <th>2015-05-18</th>\n",
       "      <td> 15.18</td>\n",
       "      <td> 13.84</td>\n",
       "      <td> 11.926868</td>\n",
       "      <td> 12.181938</td>\n",
       "    </tr>\n",
       "    <tr>\n",
       "      <th>2015-05-19</th>\n",
       "      <td> 15.59</td>\n",
       "      <td> 14.16</td>\n",
       "      <td> 11.972050</td>\n",
       "      <td> 12.213063</td>\n",
       "    </tr>\n",
       "    <tr>\n",
       "      <th>2015-05-20</th>\n",
       "      <td> 15.74</td>\n",
       "      <td> 14.05</td>\n",
       "      <td> 12.017551</td>\n",
       "      <td> 12.241875</td>\n",
       "    </tr>\n",
       "    <tr>\n",
       "      <th>2015-05-21</th>\n",
       "      <td> 15.79</td>\n",
       "      <td> 14.15</td>\n",
       "      <td> 12.063673</td>\n",
       "      <td> 12.271125</td>\n",
       "    </tr>\n",
       "    <tr>\n",
       "      <th>2015-05-22</th>\n",
       "      <td> 16.27</td>\n",
       "      <td> 14.49</td>\n",
       "      <td> 12.113002</td>\n",
       "      <td> 12.301875</td>\n",
       "    </tr>\n",
       "  </tbody>\n",
       "</table>\n",
       "</div>"
      ],
      "text/plain": [
       "            000001.SZ  000002.SZ  000001.ma160  000002.ma160\n",
       "Date                                                        \n",
       "2015-05-18      15.18      13.84     11.926868     12.181938\n",
       "2015-05-19      15.59      14.16     11.972050     12.213063\n",
       "2015-05-20      15.74      14.05     12.017551     12.241875\n",
       "2015-05-21      15.79      14.15     12.063673     12.271125\n",
       "2015-05-22      16.27      14.49     12.113002     12.301875"
      ]
     },
     "execution_count": 90,
>>>>>>> f32e067bd584571f8b4a5dfe277594c96491ea32
     "metadata": {},
     "output_type": "execute_result"
    }
   ],
   "source": [
<<<<<<< HEAD
    "price"
   ]
  },
  {
   "cell_type": "code",
   "execution_count": 11,
   "metadata": {
    "collapsed": true
   },
   "outputs": [],
   "source": [
    "priced = price.dropna()"
   ]
  },
  {
   "cell_type": "code",
   "execution_count": 37,
   "metadata": {
    "collapsed": false
   },
   "outputs": [],
   "source": [
    "gp = priced.groupby(priced['159902.sz'].cummax())"
=======
    "price.dropna().tail()"
>>>>>>> f32e067bd584571f8b4a5dfe277594c96491ea32
   ]
  },
  {
   "cell_type": "code",
<<<<<<< HEAD
   "execution_count": 40,
=======
   "execution_count": 95,
>>>>>>> f32e067bd584571f8b4a5dfe277594c96491ea32
   "metadata": {
    "collapsed": false
   },
   "outputs": [
    {
     "data": {
      "text/plain": [
<<<<<<< HEAD
       "<pandas.core.groupby.SeriesGroupBy object at 0x06E06E50>"
      ]
     },
     "execution_count": 40,
     "metadata": {},
     "output_type": "execute_result"
    }
   ],
   "source": [
    "gp['159902.sz']"
   ]
  },
  {
   "cell_type": "code",
   "execution_count": null,
   "metadata": {
    "collapsed": true
   },
   "outputs": [],
   "source": []
  },
  {
   "cell_type": "code",
   "execution_count": 24,
   "metadata": {
    "collapsed": true
   },
   "outputs": [],
   "source": [
    "%matplotlib inline"
   ]
  },
  {
   "cell_type": "code",
   "execution_count": 25,
   "metadata": {
    "collapsed": false
   },
   "outputs": [
    {
     "data": {
      "text/plain": [
       "<matplotlib.axes._subplots.AxesSubplot at 0x48cd3b0>"
      ]
     },
     "execution_count": 25,
=======
       "<matplotlib.axes._subplots.AxesSubplot at 0x10a632e80>"
      ]
     },
     "execution_count": 95,
>>>>>>> f32e067bd584571f8b4a5dfe277594c96491ea32
     "metadata": {},
     "output_type": "execute_result"
    },
    {
     "data": {
<<<<<<< HEAD
      "image/png": "iVBORw0KGgoAAAANSUhEUgAAAX8AAAEQCAYAAABY5nToAAAABHNCSVQICAgIfAhkiAAAAAlwSFlz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\nkP8CUtT3lvCYYj8AAAAASUVORK5CYII=\n",
      "text/plain": [
       "<matplotlib.figure.Figure at 0x4d52630>"
=======
      "image/png": "iVBORw0KGgoAAAANSUhEUgAAAXEAAAEQCAYAAABGL0RbAAAABHNCSVQICAgIfAhkiAAAAAlwSFlz\nAAALEgAACxIB0t1+/AAAIABJREFUeJzsnXe4FOX1+D+Hfi+9CKiA2AXF3rCEQYOaGHv0p7FhT2L9\nxsRulrXE2KKJ3RjsnRgTW6yMvWEsqCiiUkSkI+UCl3J+f5x37u7du/3uvXcX3s/z7LO78868c3Z2\n5syZ8573HFFVPB6Px1OZtGppATwej8dTPF6JezweTwXjlbjH4/FUMF6JezweTwXjlbjH4/FUMF6J\nezweTwVTsBIXkdEiMlNExict21lE3hORD0XkfRHZqbRiejwejycdxVjidwP7pSy7BrhUVbcD/ui+\nezwej6eJKViJq+rrwPyUxTOAru5zN2B6I+XyeDweTx5IMTM2RWQg8JSqDnHfNwDeABS7MQxV1Wml\nE9Pj8Xg86SjVwOY/gLNUdQDwf8DoEvXr8Xg8niyUyhJfqKpd3GcBFqhq1zTb+UQtHo/HUwSqKumW\ntylR/5NEZJiqvgrsBUwsVJBiEJF7VHVkqforBeUmk5cnN+Umk5cnN+UmU1PLk80ALliJi8jDwDCg\nl4hMw6JRTgVuEZH2wFL3vTmY3Ez7KYTJLS1ACpNbWoAUJre0AGmY3NICpDC5pQVIYXJLC5CGyS0t\nQAqTW2rHBStxVT0qQ9MujZTF4/F4PAVS6TM2F7S0AGkoN5m8PLkpN5m8PLkpN5laTJ5KV+IftbQA\naSg3mbw8uSk3mbw8uSk3mVpMnqKiU4remYimG9j0USueTJRyINzjqVQy6U4oXXRKo/EXqycVf3P3\neHJT0e4UEQlaWoZUyk0mL09uyk0mL09uyk2mlpSnopW4x+PxrO2UjU/cu1M8qfjzwuMxsl0L3hL3\neDyeCqailXhz+aFEpIeI/EtEFovIZBE5KqltbxH5QkSWiMgrInJEyrZXi8gc9/pzSttAERnrtp0g\nInuntP9KRKa4/f5LRLontR0hIm+5bcdmkT0QkXYicr2ITBORRSLyrYjc4NqPdstSX6tF5JLGHrt0\n8pS6z8ZSbjJ5eXJTbjJ5n3j5cwuwDOgNHA3cJiKDRaQX8ARwMdAdGAfEoo1E5DTgIGBr9zrALYt4\nGPgA6OH6GOP6RES2BG53++sD1AC3Jm07F/gLUO/GkIELge2BnVS1MxC4/aKqD6pq5+QXlonyB+Dv\neR0dj8dTMCL0L0k/3ieeHRHpCMwDtlTVSW7ZvcD3wLfAcaq6h1teDcwBtlXViSLyFjBaVe9y7ScA\np6rqUBHZDPgE6KmqS1z7q8BDqnqHiPwJGKCqx7i2jYAJQI9ofbf8ZOBoVR2e5Tc8Bbykqn/N4/du\nB7wG7K+qrxVwqEpOOZ8XHk9jEGET4CtgQ2AjVV7Jvr73iTeGzYCVkQJ3fAxsCQzGFDEAqloDTHJt\nuPaPk7b7JKltS+CbZIWc1G/UXretqn4DLHfyFMo7wO9E5DciMsSlC26AiHQDxgCXtbQC93jWcLq4\n9xeAlxvTUcUocRG0FK8idt0JWJiybCHQ2bX9mCqqayNN+0K3LF0bwKKk9o5p2qP95o3z1V0FXI25\nZt4HvhOR41LWE+A+4BNVvbaQfRQhT1lRbjJ5eXJTbjIVIU9Ub6F3Y/ddMUpcFUl9gQxPtzzbq4hd\nLyZx14zohincdG0dXVu6bbu6ZZn67ZqybWphjeT2vFHV1ap6q3P7dAWuBEaLyBZJq50PDAKOL7R/\nj8dTMN3ce4PiOYVSMUo8HaoaNsNuJgJtRGSTpGXbAJ8Cn7nPQJ3/vK9bjnvfNs12UdtGItIppT15\n2+S+Nwba0bDgRtani9RjpKrLVfVWrNj1INd3AFwE/FJVU586Skoz/WcFUW4yeXlyU24yFSFPPeUt\nwk3OW7B/ofuuaCXeHDif9RPAZSJSLSJ7AAcA9wP/ArYSkUNFpAMWmfKRqkaK9j7MF72eiKwP/A64\nx/U7Ect8FhORDiJyKLAV8E+37YNYNMse7uZwOfDPpEHQVm6fbYFWItJeRNqm+w0icraIDBORKhFp\nIyLHY26bD0VkXeAR4GxV/Tjd9h6Pp+R0BVYkfd/Vvf+24J5Utdletrv8l+fRX9BMcnfHFPZirILH\nkUlte2NRIzXAK8ARKdtejYUDzgX+nNK2ATDWbTsB2Cul/Shgitvvv4BuSW0jgdUpr9FJ7YuA3bFw\nwlOw8McFmAX+DvBzt94f3baL0rxubYJjmfd/Vux5Ua7nkZdnzZWpsPNaBVRBP3bvCvoM6PGgP4L2\nTNO/ZuqvbLIYljOqOh84JEPbyzi3BDQc4FDV8zF/c7ptpwAZQwNV9WEsljxd2z04qz5De+dIHlX9\nOxlivlX1MuCyTP14PJ6S08G9T8XmjwD0xwy2D4HtgJfy7czHiXvKFn9eeNZEROiCRZ7dSyKQYBEw\nFLgGuE2Vp+tv4+PEPR6Pp1yIxq6SS7q1wYIWlpKw1POiYCUuIqNFZKaIjE9ZfqbL//GpiFxdaL/F\nUG6xolB+Mnl5clNuMnl5clNuMhUoT6TE/43N8J4CjFNlBZbeo54SF2FEts6KscTvBvarvxMZDhwI\nbK2qWwHXFdGvx+PxrA20A75TZawq6wAzgLddWwMlDmyUrbOClbiqvo5FOCTzG+AqVV3h1pldaL/F\noGUWKwrlJ5OXJzflJpOXJzflJlOB8rQFapO+zwded5/TKfGO2TorlU98U+AnIvKOiIQismOJ+vV4\nPJ41jXbUjxE/AnjGfV4GdBCht0id26VZlHgboLuq7gr8AXisRP1mpdz8YlB+Mnl5clNuMnl5clNu\nMhXhE69T4qosVq2beR1Z4k8Cp7tlWZV4qeLEv8NmNaKq77uCAj1VdW7qiiJyDzZhBmx09qOktsD1\nEebzHdhWRPJev5m+bwt4eUogT7SsqeVL3lcZHB8vzxr+HXQxUJu+/bZ14dcdIBwKt24pMmY7OCY5\nx1EDiooTF5GBwFOqOsR9Pw1YT1VjYnmyX1LVAWm283Hinrzx54VnTUSEocANqnVT7ZPbzsUCQx4B\njgSGASNBTihZnLiIPAy8BWwmVu7rBGA0lsxpPDbD8LhsfVQaUlh5tgEp2zZVebbrRGSiiCx02x6b\nRf6yKc/m8XgaDGwmM9W9P4/5ybsCvbL2lmk+flO8qNzcKdH092osH8kCrOBDL2zm1WHYYMU1wGdJ\n250GfAGs516fAacltb+N3XXbA4dio9S9XNuWWP7wPTCf2IPAw0nbjgI2c593xqoPDU13jLDEXGOB\nvm7ZBsAxWX7vyVjloj5NcCzz/s+KPS/K9Tzy8qy5MhV2XutPQV/O0La1y6WyN+jDoMeALsl2LfgZ\nmzkQyyB4KHCpqtao6ptYkP6xbvl4Vf2nqtZiinVj51ICm1J7nap+r6rfYwp7pOt3MyxHQkwtPewT\nWOWfw9y2RwP/UdU31DIXXgoc6uRBVUepy5aoqu9hIUpDM/yMHYEnVfUHt/4UVX0gw+/dDrgBS/I1\ns9Dj5fF4cpLNEv8Uq+D1FZb4bhBmoGWkopW4Nk+saKHl2SbSzOXZRKQK2IlErnKStgspo/JszfSf\nFUS5yeTlyU25yVSgPKkhhkn9sFqVDqpMxZT4EKyWb0YqJouhxKUkmbo0VvBAWa7ybKkTm5JLqBVT\nnm1d97mQ8my3Y3nMX8jwG67CXDVHY1b2XBG5UFXvi1Zwir3Jy7N5PJ76IYZZWAysD0zLtlLFKPF0\nyjc5/KwJKbQ823o0Y3k2EbkWs/jTprRNOka3AreKSHvgJKw823uq+oVbNSrPtkO6fkpFM/1nBVFu\nMnl5clNuMhUoTzZ3SjI/YuNXE7KtVNHulGai0PJs0QAmNHF5NhGJA/sC+6jqYvJAW7g8m8fjyexO\nSeFDoCe56uo28whu2hHWTMvL5YVFpjyERafsgUWnDMKiUxZgA5wdsOiUt5K2Ow34HFPs62OK+dSk\n9reBa922UXRKT9c2GLsTR9EpDwEPJW17IabQc0aQAGdj8aZV2NPX8VjKy4GY++YH4ISWPs6Vdl74\nl38V8wI9GfSuPNbrBLoK9Jps14K3xPPjt5gCnAU8APxaVSeo6hwsmuRKbAR5RyxAHwBVvQN4ChiP\nDWo+pap3JvV7pNtmnuvjMHWzXFX1c+DXWGjhTLf/5Pp7V2LVQCYlxXZfEDW677u7rzXA9Vi2tNlY\nwrLDVHUyVrqtN/C3NLHitzbmoHk8nrTkZYmrshgLbshqiVd0ZZ9y84tB+clUyfI014zNSj5GzUG5\nyQPlJ1Nh5zVnAxurclYe644CJoI8mOla8Ja4x+PxNC/tyG9gE1VGqfJQtnUq2hL3rNn488KzJiLC\nRUBnVS7MfxtfY9Pj8XgaIHFpJXGpbubd5htimBcVrcQTqR3Lh3KTycuTm3KTycuTmxLKdBawJOda\nOShQnrqBTYnLThKXyxqz74pW4h6Px9NItsy9SukQoRM2WTCyxE/A8iIVTUUr8XIanY4oN5m8PLkp\nN5m8PLkpoUztStFJAfL8DwsVjkIMpwFIXKpSV0y3LB0VrcQ9Ho+nkZREieeNrN6ULtMAVkhczgN6\nuJYvJC4b160Wl85AjcQlZ2qUilbia7ivriR4eXJTbjJ5eXJTQplKosTzlmfw4/C7AWDulFNJ5Dwa\nADwocTnEfY8GWxtkLU2lYhJgeTweTxPQvJZ425ro0wosAd7ApNZdgNESl8lAVJ94fYnLlGxdVrQl\n3ly+ukLKswHfpGzbVOXZjhCRt9y2YzPJ3hTHSETudL95lYgcn6Z9IxF52pWOmy0iVyc1f5LpWLYU\n5ebz9fLkpmJ94ivqohlrMSXeOmWN94A+SXJ1Ag7P1mVFK/Fm5BZgGZZj5GjgNhEZLCK9gCeAi4Hu\nwDjg0WgjsQLSBwFbu9cBblnEw8AHmF/sYmCM6xMR2RLLE3409qfWYOlkI+YCfwHq3RiaiY+wwZn/\nAfVmi4lIO+BF4CVM7vWxfDMRaY9lM8js8aSjeS3xlW6sctioTbGyjGB1NZe6z8vd8qgtimbJSEUr\n8ebw1RVRnm27ZirP9rKqjsGSWmWTPxCRkSLypoj8RUTmi8gkEdlNRE4QkakiMlNEjkvaZn8R+VBE\nfnTtseQ+VfVWVX0FU8apjAS+U9UbVXWpqtaq6vikY3lYhmPZYpSbz9fLk5sSytQRQOKSmru/IPKW\np9VKex8eT76mjiRRISxViXem1EpcREa7i358mrZzxaqk90i3bYVSaHm26TRzebY82dn11wN7AngM\n2B7YGDgGuFmkbubaYqyQcldgf+A3InJQnvvZFZgiIs86V8pYEdnKtW0GrMpwLD2elqAbNtlni6ba\ngcSlWuKyPwCtl8PcTVJXmYvN4gRzs6Ra4llvMMVY4ncD+zUQVKQ/MALI6oQvGhFNfSmMTbc866tw\ncpVnSy2hNoPGlWeL2gspz5aRJF/dt6p6r1qynMewHOeXqeoKVX0RO3k2cdu8qqqfuc/jgUewfOT5\n0A+zLP6K5Sp/Bvi3iLR1v21ByvqLCv1NpabcfL5entyUUKZumHHVrzGd5JDnWOBpAFrXwncN6pnP\nxm4k02loifcCdsu274KVuKq+jhUvSOUvwHmF9lfAjqUkr8IptDxbaom1Ji3PVgDJleuXAqjq7JRl\nnQBEZBdnQc8SkQVYcYueee6nBnhdVZ9X1ZWqep3bdgty/2aPp9mQuAh2Lc/ACrM0Fe3rPrVZDivb\nw+pWy8HKTmpM5wMHYNfIcsxPH23zB+wpOiMl8Ym7R+3vVPWTnCuXkGby1RVanm1Tmqk8myPr00WR\nx+gh4Emgn6p2wwZY8z1X6p0DIpJ845wItM1wLFuMcvP5enlyUyKZOgCrsafDRinxHPIkBk9b18Kq\ndqCt6iXA0pj+qDFdTMIS/2+++250nLjzo16EuVLqFmdZ/x5gsvu6AIt0iNoCSDya5PoObCsiea9f\n7HcsAuUyEbkX8+seAAx1n7cVkUOBZ4G7gBmqGinad4BLRORZd0wuAf7p9jFRRL4B7hKRkcDPMYUf\nVZp/EHhPRM4ERgOXA68DOwGhiLQCfor5k1uJFUDeA/M5J8u/rTvOyb/nuwzHczsXXdIJe9raTUS2\nAH4FPJ+0/ZtYaFQ3YIiIdMBOvmGYoj7XhUsqNvg7Gyv2ugdW5egyETkZK9h8iPtN6eSpl2y/Cf9f\nGrO9l6cyv/MPfkZADRuzDOjQZMdvlPm7RSRg8K+hexVoq2V8S+cG5/eB9GZ7fuBbIs2otOUrso2F\naVE14hiIRWUADMEe1b91rxWYku6dZjvN0F/a5eXywsIH/4W5AyYDRya17Y0pqBrgFWBAyrZXYwMX\nc4E/p7RtAIx1204A9kppPwobY1js9t8tqW0kZkUkv0YntS8CdnefjwdeS2rbBFP2yfuaBuzmPh/m\nfudCrLzc34D7ktYN3f5WJe37J0nthwBfYT79V4BB+RzLSjsv/KuyX4ziCkbxPaO4nlH8PqXtSUax\nTon2cyWjUEbRnj3+pPz0fOWijp8zCk2z7uWM4j63/iJG8QmjuDLbtVBUUQgRGYjVixySpu1bYAdV\nnZemTdUXhfDkiT8vPE2JxOVT4D5snGaZxvSKpLalwKka0/tLsJ9bsbq26xDGZoPCgg2GcfBJP2hM\nJ6asewlWW/ctLGrsDmA8o7g+07VQTIjhw24Hm4nINBE5IWWVZisVtAb76kqGlyc35SaTlyc3JZKp\nFpuUZu6UuOwocblR4tIe85E3iMIrUp4o5Lo/XafC4nXhoxNnpCpwx3Jsgty7GtNabGDz79n2XbBP\nXFWzTpNW1Y0K7dPj8XhagLbASiwyqztm+Z4N/AlT8PuUaD89gHnA1vT5GMadBpmr3c9x75MBNKZz\nAGRU5gfSip6xqWt2/GpJ8PLkptxk8vLkpkQytcGU6TLM8o5CXbthU+G7S1zaZti2EHl6YGNfW9Nx\nFixaDzKXZ4tmYH+Xz36hwpW4x+PxNII2mCW+iMTcD7C5Cz9iAQd5FWbIQQ/gNWArqufA0p64/aYj\nms8xId/OK1qJr8G+upLh5clNucnk5clNiWSKlPgkLP1ElCe2k/tcQyKvd2Pk6Y6FG28HEmUyzORO\n+QgYpDFNnSWeEZ9P3OPxrK1ESvxLYBCJWZI9MRfLElyCrGKRuLTG0kp8BHzPlD3XcU1pLXGNqQJf\nFLKPilbia7CvrmR4eXJTbjJ5eXJTIpnaAis0pnMlLotIJMFaBxvszNsSTyePxGV74ERgkca0VoTt\nsbkVkNkSL5iKdqd4PB5PI4gscYAPsQycYEp8GQUo8QwchU2ci5K+JQ+SZvKJF0xFK/E12FdXMrw8\nuSk3mbw8uSmZT/zRMf1FOAlzd0Qpk3tRoCWeQZ79gL4kBkyTC1Csarh6cVS0Em8upLDybL1Ttm2q\n8mzXichEsRJoE0Sk2QorSOPKs3XOdCw9nmamDZOHnQWcTFIOJxJK/EdgRD4V51ORuPyDxE1hkQhP\nY4VdAFAt3aTIilbizeirK6Q82/9FG0nTlmdbDPxCVbtguVH+KiINEhU30TFqTHm2X1Fm5dnKzefr\n5clNSWRa3aodtZ2Ow6zlN5NaemHn6HfAhdh5Wqg8JyZ9XoQVV/lDY8TNREUr8eZACi/Pto00T3m2\nUeqyJarqe1iGwwZK3O1rpJRPebZMx9LjaWakLdrqaqAvo3QmVunqSRIDm7Pcitu53OOl4K4S9VNH\nRSvxZvLVFVqebQbNXJ5NRKqwdK4N8nInHaNyKc+2OsOxbDHKzefr5clNY2WSuAitVkGrVbdhg4xd\nNKYfYpk7I3fKrVhBlLOBPxYtz6q2Vdg1VYVlAC0pFRNiKGHY0Ic0diwShgX1o0FQ6B01V3m22Slt\nNTSuPNu67nMh5dluBz5S1Rcy/gpXng1ARB7D3DeXqeoK4EURicqzfaKqr0Ybqep4EYnKs/07S/8R\n/YAAy7n+MnAOVp5tCxKTKJJp8fJsnrWQ2YPa0OMrWFk1F/gBc6n8iCnbXlhWwzkSl7uxTIJbp+tG\n4jICeDfDXhYA3ajp1Rb4SJVlIqU3nCtGiRehfEtFoeXZoBnLs4nItZjFPzyd8KoaihWdKKg8G/Bn\nzEKOSkU9lq7/NNSVZ3PfrxORS0iUZ0utoNLi5dnKzefr5clNo2X6cGQXhsdQpUaEH7Dxmy9JnKN2\njcR0hcTll9jgJxKXbphFvbvr6XHgv4zimAb7ePfMXdjlpi+p6SnA125p60bJnYaKdqc0E4WWZ9uY\nZirPJiJxYF9gH1VdTOloyvJsmY6lx9N8LBzQg9Vtoqf7OZgfHBJGVvJ4zyckJgLdhJ2vMeBct2w/\n3FgXgPT8an1Wt4Lnbjye8I/XMeaRt7GCOdAEOreilXhz+Oqczzoqz1YtIntgroL7sQo1W4nIoWIl\nymKYnztStPcBvxOR9URkfeB3wD2u34lYlEdMRDqIlXjbCle+DSvPdoCI7OFuDpcD/4x86CJyITaZ\nYISqpitcjVsvKOJndwLmq2qtiOyMRZTUubNEpK37va2Adk7+SFk/AOzqQi9bY+6U2cAEJ/sbGY5l\ni1FuPl8vT26KkUmEWSIMFWE3VrfugraOzulFQCcRNuP566JB/KVJm04G+rvBzT7YuNJVQNy1P8Q4\nEhFWKzucbPlRWl1EGP89s7fsS0KJl9yjUNFKvBn5LfYINQtTUr9W1QmqOgeLJrkSyxe8I3BZtJGq\n3oGVNxuP3c2fUtU7k/o90m0zz/VxmKrOddt+jlX4eBBzhVQ5OSKuBPoDk0RkkXtdEDW679Ejn9Kw\nWEe2ONXfYop2IRYV82hK+4uY22RX4E73eU8n90RsoPR297sOAA5U1WiG2g2kOZZZZPF4ikaEdUXq\nMhGug9W5PZzO3/dhRVU04SYal9mG2s6Ru6NOiWtMV2AlCNtiCvxy4DkSY1azaZXkJuw4azuWRnUg\nWIKVsIyUeMndKRXjE09Hc/nqnKV7SIa2l7HkOZm2PR84P0PbFDL4sl37w1gkSbq2rDdgVU0dLLw3\nqW0SKSeTqvZP+vxPEk8E6foOcuz7X9hTSrq2p4Gns23f3JSbz9fLk5sCZLoJGCPC4+77T4Dv6Dql\nHzW9lrtli7GnzyXU1nk3U8Nno9mbPYB7NKbzJS5RwMNstk9as9vkrZm/8Uoszrwd9oT9jWv17hSP\nx+MpgAHYwHyUobATMIQ5g37N0p6Rtb0UOAHolKTEl1KfpViI7IYkqu9E4cHzcHnHRWhHry/7s964\nuzALfD23TlTswSvxZNYUX11T4uXJTbnJ5OXJTQEy9cM8DslRUTvResV21PSMlPAWmILul0WJ1wDX\nAFOTcn3Pr2sbz8C6vjZ6aRntF72kWjdIiiqro495yp03Fa3EPR6PJxMitGXj5/uy4ct9SVjiHwFt\n6DQDanpGyvg19/6zJCWeGvZag+UZvyhaoDH9UWMqQE2dT7xNzUas/14HbAA/InlM6W6gXo6knL8j\nDHfO1l6UEheR0W6q9vikZde6REwfi8gTIpIa41xyKtxX1yx4eXJTbjJ5eXKTp0x92elWYYsnNyOh\nxC2PT59PprDuR09aX9yKDXgOobauBsS0lL5qgIEkpuIns4wt2UniMoADTz2IZV1rNKbRvIx9sQgt\nJzfLVHklD9kBkDCsJkf0VrGW+N1YbGQyLwBbquo2WDzwhUX27fF4PKWgH9VzodXKdpg7ZSKR1d11\nyirWf39c0rohAGrj/WnKo9Vg/vR0BYy/xnzik9n6wZFMDuoq86jygio/FCO8hOHmwLOojsu2XlFK\nXFVfJ+EPipa9qKqR3+ddzBfVpFS4r65Z8PLkptxk8vLkJk+Z1qeqTom3x3IPWdqH6rlVJAYbAd4H\nYM5m7/PYY5fSkFHAnhprGA6rMf2cScwkigGfs/mUfH9HJiQM22KzQV+Yc9BBL2Zbt6lCDE8kQ2hc\nJkSkKIe/lCy5WOkoN5m8PJ61FLPEt37g50zf+V7+d0pCiXdY0BESFrIqtSJsBK3O4fPDG8x+1lgi\nn1BaNKnc2vIuqfmUCkLCsDOW9uK72D33XNVz0aIPsq1fciUuIhcDtar6UIb2e7AZUGAJYj5SVXFt\nAST8Xf67/y4iQTnJ47+Xx3eXEyjr+nDXzsyaDRvSgcGP78aX0pEld2yDvANtazpyFZvLKNkksb5s\nAHf2gFNmFyzfpqxXN52ntvP8on9fp05teOqpywjDFVxzzQ/3LV363BILk8yIqBYX8SIiA7EZiEOS\nlo0ETgH2VtUGuaZFRCOF7fF4PE2JdJn+d87tdzIAn/3yKrYccyEfnNKfVy6fxjkDF+oVSxsEX4hw\nAZZmIgTOV20Qaph+X3GZB7zGD1vvyhP3X6Yzt74150apfYRhN+BvWIK9g3X48F2wlB//J/BwJt1Z\nshBDEdkPq1xxUDoF3hRUsK+u8fuJy+Uuo1r29crsGJWbPFB+Mnl5cpOXTJ2/T1wf7Rf2AmDQE+3o\nPANWts+Ub2gRNknnTMg/ioTbGAn8kts/fp1ZWxfsTpEwbIOlswA4ToNgNXAtcD6qj2TbttgQw4eB\nt4DNRWSaiJyITW/thOWm/lBECr4TeQriEizHd4sjcakupg6hx9OkdJyVSPVcNb8vANVzt2JYfDWr\n283JsFVyfPi2InlWu5/JQo3pSixKJS/rPYVzsVwsx2sQLMDSQffDMopmpagLT1XTFbcdXUxfjaGC\n41dLxcpcKzSTPK9iudE3z7Wi/89y4+XJTV4yHf2Lfeo+d1jQx316gEFPtmLxOplSN0fLTwSuwHKl\npBYySSuPDYyyHenLFmZEwvAOLJ58Lw0CRaQP5la5kUTiuIz4GZuVTc4/uJmYDWwmcUkt+ODxlAfV\nszdynywxXKvVmZR4ZInXYFkLd83WrQg/EyFy27yP5UrJ2xKXMDwUe6IerEEQJcm6E/N03JRPHxWt\nxCvWV9fYfcSlXd3u4tnj9ZpKHonLcIlLlAkxygbXPed2a+l/VghentwULFPVgl71vndYkG7mJSQs\n8SVY6trHRWglgougo7UIg0W4XoTrgWeB+SJXX41Z7ZCnEpcwPBNT2CdrEJi1bwXUhwIXo7oqy+Z1\nVLQSX4sSDiV8AAAgAElEQVSJ5gavA6wuYSXuQngIOF3isj/U+Q1zKnGPpyxotSqTiySyxJdgRVwA\nVgFXu8/3kSg4Hp3370H3PiTI6U6RMDwI+D9gmAaB5VmxCRSXArdjRdfzoqKVeMX66hpPlCu8T8p7\nA5pQnk7AdcAFJG4qO+S6oazF/1neeHlyk0smiYvptq9HJIqNLxgwE+qyDeZS4ouBm6FuEs/Bzhrf\nC6stcCoJd8cTcOqCpD5SC5zXly0Mjwb+DhyrQfBZUtPVWDbFG7Ntn0pFK/G1mKiAQ2/3vmFz7twp\n6o6Yz3AnzAKfhJWe2605ZfF4MlDNiirlgecmc7nz9rVZ3ppEYqtMLo+pwIFYdfoV2LwXgE2xnFF9\ngWdc29dY8ZQ51C96/n0moSQM98ZmYx6kQfBmokG6un0djOq8/H9mhSvxNcJXVxxbufdIifeXuFRJ\nXNrWkyUu3ZpInvbYoOrNWEHnwcBB2KPm4Czbrc3/Wd54eXKTh0wdWVGtaOubWNXuVsadNp8vDn5b\nY3X5ndIGBaiiqjyliWn0ydPttwKeULWc4KosV+WXwI/wryGYC6Z11N5A5jDcBbgLOFWD4O2U5qOB\nl1Cd0XDL7FS0El+LGYL56aLpuI9i1UWmR4+REpeewHwG1lXxLiUdgcUa0zNJ5FeuwU74I5pgfx5P\noXR0aWX/pcrpPH37Mzx9e5jUntegoSqTsbqw3wDrA3ekWW0WdN8RmJFU/KEeEob7Af8B/qRB8Fz9\nRtkEmyh5ez4ypVLRSrwSfXWNReLyLnA6Vqx1z7r9xrQK8+Nt6hZZSNVIJhaxj44SryuynI6OuNJU\nGtPnMSt8KhYWNTBb32vjf1YoXp7c5CFTd5Z1FxJuk/Mxd1/E3Pz3xe8w10kfEgWPk3kdAiB9JXun\nwO8BDtcg+Hv9RhHgSeBvWL3egqloJb6WElX5uB04FEtS/4xbNg7Y0X2ORs6TfXX5Mhx4vG5wqCF1\nShxAY/of95g6j0SYlcfTcqxq24uaXoKLFFHle1WSfc2FTo0/HOiuylepDZncJwAShucCtwKnaBC8\nlmaVn2B6uKDBzGQqWolXqK+u+L7jUpX0dZbG9CmNaR+N6S/csmQlbuu+SDaLOhPrA+sCO6Tsv4PE\nZQNSlHgS84GuWZT/WvefFYOXJzc5Zart1Jel3VdlULBPAK8Xsj9VflTNFnVy/Q3AsXXyhWFfCcPH\nsBwswzQInsqw4enArRSbiZAKV+JrIXXVlDSW9k//gFRLvF1d+F8hDMAm8ByYsvxbLI3wCNIocY3p\nKixEq8lL83k8mZC4bAkMYln39IOXMT1MY9qonN8N+f1/VHlbwlBcTcxXsOtlWw2C1FJvTlC5EjOU\nspZfy0VFJy2qUF9dY4gmEWyXoX0qZkFDpMSHMb2QHbjMiGcAt9Ew0qSve/8T8N8MXUQulbRZ4tbC\n/6xgvDy5ySHTxbT/8UBqejWfkTp27GsShrtjiek2AW7SIPhbxvVFBgC/BjZFNWtceS68JV5ZVAFP\nakw/ytC+mMTEm8j1UqhPvB9W8eQ5EpOKkqlJeU/F+8U9LU0VrVZ3ZEnvtrlXbTwShn2Al7DwwVew\nPCiZFbhxCvBgoTHh6ahoJV6RvrrGkSvN5RKgm8tpYpb4BwzJsn46qrEZZwtJugG4CT5LScwOTRtK\nhSnxnpk6Xwv/s4Lx8uQmh0yWiK169tNNLkcYngN8ydNPfwdspUFwrQbBiuwbyQBMid9WChkqWomv\nheSjxDsAD2DKeCmtC/aJR/uoU+LupnA4oBrTKEFQ+wzbzwOOkbj8ssD9ejylwpR4Ta/UivUlQ8Kw\nrYThKVge8CFcf/1oDYLcseciPYA3gavRhkWXi6GilXgF+uoaS1Yl7gYWAY7ElPhMtq2X5D4fqkko\n8U2dBT4Cm1CUPBiU6VH1H9jgZtrHybXwPysYL09ucshUxRt/eJaPRn7ZFPt2VXiewXKOH6BBMK2A\nY3QN8CSqN5RKnooe2FwLKaRqyBDMtx1Z09VYMp+VWPKqWuAojek9GfYxHzs/hmEDNY9gFj7YFOG0\n+SE0pi9JXMYB6QqHeDzNQQemDJvPsu7pwmAbhYThAOAqQIE98rK+AUSqscyfWwHbl1KmirbEK9BX\n11jyVeJfYRN2ZvA1P5G4KJak56/ALzAre1/gbonLHhKXqRKXc9221UCNxnQJFk+7DubjnqQxfQZA\nY/qQxrJaHjWQ3o2zFv5nBePlyU0OmapY3kVI5LkvzT7DsBcWXz4b+H/JCjyPY3QTdu1uhWpJ3TwV\nrcTXQqrIXSqqA5bfoQswk1Z1kSJVWIhgFCb4b/c+FPgO+K1znSTfKOZikSY9KGSackxrAVITcnk8\nzUQHlnduTQmVuIThrsDTwKMaBOdoECzItY1tKOshEgK7AKfQBEXkC3aniMhoYH9glqoOcct6YD7T\nDbDJIEeoan4/shFUoK+usXTDjm/m/cd0ucuvAvBDSpLamSTyO0xx/W0PPIXNHHsZG3SJlPhqbHr/\nRODKAmWtIRHpkpAvy/GRMGyN3YS6ufdWToZV7rUCmOUqgZeMcjuPvDy5ySqT0oHlXdtSIiUuYbgF\ndo38EcsDnp88Iv0wxf8f4HJUs0etFEkxPvG7sUeD+5KWXQC8qKrXiMj57vsFJZDPU5/uQD43xyiO\nfGbSshBzi0Rlqs4ARmE+7yewgZpTMTfMvm6dpZgyvg47GQshcqmkncgg127wEzY87QB67dYH2B2r\nTdgem9C0EIu0Ueym0wZo7do7SRh+g+Uvfx24RYOgmOrinjUQiUsrVrXvzeK+hwKPNbq/MByGlVC7\nWIPgzvw3lMOxJ+K/AfHGTKvPRcFKXFVfF5GBKYsPxJQBwL2YwmhyJS4iQblZCU0sU3cyzIRMRmO6\nWOICsJJvgQ25EngRGxmfDpyrMX1a4vIbzBJ/BUtu/yTwG43pC66r37l1i7F818EyKdYNgEoYtuam\nm87kzDM3Z8i1p7Lk61bAb7AZoNM0CHIOREkYdgQ2xgZbfwX8UcLweSzJ0Lt1tQoLoNzOIy9PbrLI\nFENWw8oqaKQlLmE4GLsuzsQG9nPLI9IOOB47p/dCM07MKxmlik7po6qR1TeTLOXCPI0iLyWeRDSA\n8lfMqt0cs2D/55bPBN7XmEb+7ufcC6jLz1KsBdEaOEfCcDmW82VTYD922mkBcBef/3Eui75cR2Na\nUA5lp+g/ca8nJAx7AMdhpa36SBjeAYzRICg4Ba9njeCPtK7zWnQothMJw3Wx9LGXahA8nN9G0hcz\nYquAg5pDgUMTDGyqNurCL3RfYXPspxCaWKZClHhf4HHu1QGM0oHYwGR7bNwiqvT9JWZ9lxQJw1YM\nufYOdrxnBOaq6Qi8AeyiF1ywmQbBNSz6smCLOR0aBPM0CG7UINgZs8zXA96QMIxLGOZVtq7czqNK\nkkfiIhKXfTO1NxVZj9HoV6MMhUXdyCUMewMfYk+o6YpApGwgrdVy6n+JGRd7ofpWMfsuCnX1iAp5\nYYn/xyd9/wLo6z6vC3yRYTvF7m6j3OscIEhqD/z3LN+P40f6clBh2z81wW6tCscyh+NYzCi2ajJ5\njz76YsaOfZOXnx/HbzdZTOdOI9KtzygmcTxKZ/Yt9fFi7NgBjB17F9ddt4ALLhjD2LF7MnZsmxb/\n/9bE71txIqNQRrE5+3Fzi8rThf04nuWw6gXQfYrqb5119mPs2GcZO/ZP+ax/Opyl8L7C2MEWvluS\n3+M+30NCX2q0XupL3AYF4XziT2kiOuUaYK6qXi0iFwDdVLWBT1xEVFWzVkMvUI5Ay8xqaSqZXI7u\nWqCDxjRtis308jz/A+zbRxWRuHyKpYkdkCGVbfHyhWEVcBpWZuoslkz+D+NOqAWmaUwH1K3njo/E\nZQKwhVvcX2P6XSnlcTL1Af4Pc+dUAQ8Cd2kQ1JuoVG7nUSXJI3H5GfCs+/qhxrSkE1kKkcnlun+D\nUfo1MEqVMN22Gfu0iTzvYWUGj8maA8Uq8uyF+cp/2wnmLS6yMk9esmXRncWEGD6MDWL2EpFpWNjN\nn4HHROQkXIhh8eJ6MtAZm4STtwI36oU1zQPGNoECj/JBfAcMj/zRMu4EgP4ZNpuK+exnY+fTg6WU\nCUCDYCZwgYThhVgpuyOAzyUMJ2F1E5/wkS3FI3EZjKVZiMj0Xydv8zgWCLGlxnRSiUXqhU1qa4cZ\nPHkjYSiY6+RmDYIrsq8sbbGQ6u2AY1H975IWnBBVsE9cVY9S1fVUtZ2q9lfVu1V1nqr+VFU3U9V9\ntBlixJ0sYXPspxCaUKZCBzUd+/2Q9OVZYHSJ5AHqQrCeA57VIBiRMqB4DlDPmkk6Poo9Jn4DjSvm\nLHHJaoxoEKgGwWsaBGdgVYsuAk5GmSMvvfoEY8f2lDAspoxdk1Bu53UWeU6hftx0l5TqU+nYDpgB\nbFYKmSQunSQuvd3idTCjoC0p5102JAzXAd7FJshdnX1lGYqF47YHNkf1v8nytAR+xmblkG+MeCrL\nAEQQjemfNaYflkogCcMDMItkNHBemlUeIhEhY9vEZX2Jyxm46f3YRZdRiUtc2mYt92ZtKyQuh+Yj\nswbBEg2CFzQIhnP40Gu4ZeNDgJOBiRKGt0gYbp1PPx7AZvJGhYPvw8JX+2Va2WXD7I/F9+djtVdJ\nXHLd4P8FzJS49KN4S/xa4B1gz4wuFJFWLvb73+51GKoFWftNRUUr8QrM6dAYirTE/9PNfehUKkEk\nDLtIGD6CTfw6UIPgjgyJgOZh+c0TlvJLdeGA65CHEscyIo7K0h752w/P+wdEzG2/NU/2g+HDrwZ+\nirmDXpIwfFzC8EgJwxa5PsrtvM4iTxfsJv01NrP3O2AviUumepLrYJO/JpFF2QNIXNpjT45pQ1CT\nZPqpe/8NCUs8byUuYXgslqXz4owzgUX6YNEqo4BfoHoLKdPnW/I/q2glvpZRsBIXYRi0bue+dnHL\neolwg0jGfOCZ+7P6gYdgk7kWABtqELyXaX2XGrd+kQir+VmNDWrWYBd1WleGxKUj9tg6NItYg4DP\ngX1zuVXSUFe5SIPgUw2Cq4DBLG31X5SzgekShjGXDsDTkM7AQo3pJhrTt4FPgSuAX0hc0o2LrYu5\nUr4jtyV+AHaD3ibTChKX5IInu5KwxNuShxKXMDwUiAO/0CBomLJZRBA5A7PS/4nqlqhmPN9biopO\nRVtuvkNonEwSly3IrLD2oAAlLsJmQAj7R4+HXbHH3R0wX/X6FDAA7QZ+4pjFexVwvwZBPgOks4De\nRCkAfsL3mIunA6bEoxwriX3F5VpsltzfMd9mP4nLbsB7aQZ2B2E5X/bELuQ38v1N2ISkhH9V+CUE\nGwGXIXoXr7x6HDbYdZiE4Y3A3Xn+5kZRbud1FnkiSzziGcwifhzYmobT3tfFZvBOBXaVuHTVmP7o\nEq/trjFN/u9GYBNnzpe4dEoqRlInk8TlT8DNToazsHPsNcwSz+oTd9FU1wGnaBA0dDFa6ti4k+N4\nVF/L1p/3iXsifg+cBPwkzasVMKaAviI3Slssjn9/930l5scMnKLPiave/Q0WqjdMg+C+ApTZ98BO\nAM5vuRn2+A0JJV4lcdncXcxgiqA9lt/lGcxqfxPYLU3/g4AJ2ODqPnnKFJGaUe4qzNXTHpXTGR4o\ndhGfg91U3pIwPN1b5nV0hXpFR14GzsZ83hdLXD6QuCRb3JEl/hrm9rjILR8IvC5x2Shp3QOw/PWf\nA3s690o0uehuicufsf/kbo3pxdiNYSfy8IlLGG6FDWS+pUHQMCxQJJrZPAj4aS4F3tJUtBIvN98h\nNFqmauBWjekJGV7P5uwhgXOjhGBWykUiddkBJ2CxsNtl60DCcB0Jwyj51TnALhoEs7Jtk4Z/A7s7\nS/pbvuVsEpkYky3xLzDrrBN2Xu7i1nkHGIkp8Q3S9B8p8W+x2ZqFsAJA5LxoUDY1DndHDYJVGgSv\nOHkux55exkkYnuqeTkpOuZ3XWeTpRVK1J43pMo3p3zBlPhbLyzNV4hIZC+sBMzSmy7FK70e7dMXR\neXgKENVz7YU9OS7HfOPRzOIewEi+5XygE1fUzBKhLTANy6cznSxKXMJwoOvvRuDYND92N+yc/SOq\nv0B1TsYDU28z7xP3GFHERk5EWE+Es7Kskuzz/gK72PpgSnyZ+94rzXZIGFZJGP4ay7HSFrO+/12k\nK+F7zCe+CeYfB0uDC4ksiZE7pZuTcSYJa/1Ljem9mHW3QXKOcnexRz7xeVCXOz1f2gMvwjZR8rZk\npTwO57cV4ViGB0dpEDyLZXm8ALMCb5Iw7MtaiMSlHeZOaVCtXWP6ucZ0LywTJUBUb3U9zBJHY/qZ\n274WSzJ1P3CqxGU9t3yZU/YnYlZ55BvfFPieFXwJnM7KqmnYPBWLkvnglGnYOd4gkkvCcCQ2QHmd\nBsHoBuezSJQm4kZU7yrsiLQcFa3Ek/1QEpf7JC5bJD2StwiN9I3lrcSBLYFrROiaod1Z4gHYhfIj\ndiF0I6HEG0SFuLwRz2O5IEZqEJytQdCYgq5zMSXeAfjC5Tf/AcD5t5OrAHXAKXGXlGsf4L+ubQpm\niddKXI6RuByN5Rpv7X7LfKC7xOUXEpdj8pStAzAGjv65CNeQUOITMH/8UBGOxcLnYiK00iBYrUHw\nPObiqgI+kTDcJV3nxVIhPvHewKwcGS7/gR3LM9x4zx6YEo34k3u/D8tC+XfMCh6NuUXQmE7ELOda\nicvewNvAejykRzJKoxj1bYie7p66syfwtSr15JIwDLBQwqEaBA3rv4rs4PZ7DFpYUjbwPvFG4xT3\n4dgJc3ILi9MYClHi1ZgleViG9vYkLKEVmD/yUeAvmBKfB8SilSUMW0sY/gXzBb4H7J/WX1g4czCL\nvz0JC/xzEpWFlpC4mUSWeKTkX9RYXSjXFCxbIdjgbBRa2JVR2pYVHRZgd6wnyL++ZwcsogIsp3l0\nPXyLzSANMAVzB7ChWwcADYL5GgQnYZbisxKG16xlvvK+uP8pExrTs7Far99g1+ZUzBcdtf9ZYyoa\n0+M1pu9gA4k3YOfGyKT1VmP/w2HAa7xz9ruYu2YvzOIeiCno7pilXm8mqHMJ3g+coEHwRQNBRfbD\nbhSjUH0p3wNQLlS0EheRQOLSFTtRojtv0eknS0GhvjGJyzUSlyh1b6FKvAY4UyTt/9gOmOR84rVY\nNAq4R1UscmAO1D1mfoFFFGygQfD7ElbPSbbEZ7uH3kUa04Nd+0Koe5rYDFMOM2nI2+79HSxPeTRd\n/ntgPtfMOQbL47wfZiXWIXF5X+JSz+0hwiVYXvJlcN1fsBtLdO58q8oSzGUyRpVfk5hmXQ8NgqeB\nbbFBtRtKEVteIT7xev+TCK1FGqagdmGmF7qvR2ZLG6ExXerqt96nsQaDifcDJ6H05ONjdoJXOmL/\n95VAX0ZpJ43pAsxtNwksm6ZzCx4CbO3+q9Qftx72BHAUqv9o0J4n3ideLPbwOxn4GLMKbsR8uJXE\nSSQKaBSqxN/AFEi6qIz2JPzKqYM8y4Dl7DCvvYTho8Al2CDPPhoERUwoyso8zEKKfPGQdN5pTBeS\nmLq9CwmfeD3cBVqFRawcCPwcuB7ziVezomOgMb0Ps/p6p2y+I3bBJ3M89gSwDJYsxp7gojGCbwBU\neVC1bhLRy8COIjRwnWgQTMMUxY7AeOeSWtOpe2ISYTAWVpjJMv8Q+KvGtGEsdp5oTL8CJiFsyZI+\nNbByIfbE9Sj25Bilw90U+Mo9FT2BDZYenPa8FtkRGA/cjOorxcrW0lS2Eo/xHgnrqQp7tOqWeYOm\npxDfmHMDdcUGdNpjyi5fJV6FVbV/1X1OpR2wAIJdVKnFBuSMg6evywuv3sl5X3bCwr121iB4p1jr\nW4TzRDgoXZvGdAXmMukNLGND9gZSH1kvxLIfbkaSckjT12rM/fEaFvo3y90EALYTYScsLr1PmrGR\nP0tcBiR9t0HQU3fYh823meqWbere02VUfB44GHsSaCibFc7dHYvkubcxrpVy9olLXPpLXLYFzgXe\nF2Fj4DPsJka6SWQa08Ua03NKIMo4ABb3WQz7vA28q8o04BbgHBF+A+zDQdOXY+6wTsCuGgTjG/Qk\n0gYzHs5BNXu+lDzwPvHiSZ7F2AN7NN+25cQpmGrMX90as1InY6FSWRGhDXbRLMUUTrop9e2BWlVs\nhtnYcByvhL/j+o/g+Mn7orzOSTuu1CC4RYOgQYRBgVyNXUiZmIu5c5ZrTF9JfaTWmM7DfKFdMJdO\nOndKtO5yzOqaTyJGeSJ2HE7UmNZgx7Qz1E3fBvMr7QP26E/kwun96fHsffFPAFTr8oA0+A9UmYq7\nEYqkvWnioh0ucV8nuHC2NQYX5z8Vs6w/05jehuXQjpgB7CJSN3ZRaj5gdev5rG63BLuhRmMUTwKb\n0nr1NRwx7RPO/uo6zMA5LG0uFJH+2ID5HCwWvaKpbCX+OPtgF/OXWITCF8AB2RImNTUF+sa6YlEj\nkaI5N880sTtigzqbY4qsc5p12tFKl8uIESdLGI4BvkcYyts9X+L32+zJvsP+xuK2bUUaxEbnjQgi\nEkXB1Pnc0zEXCy9blun4ON/ps9iEnlwDZsuAS4EP3KIaLNlWNL1/FokSgZ0xl869JNxOXYHFQC/a\n1K7Pws/3ZVTdOdNOtc7/Xn+/ygdOtu4ZZTOl8XPgLuBRNzOwIMrRJy5x+QVWozXyK0c3vI2xG9cR\nmFvjEeBeER4U4SN3wywVb7OywwygBmRPVSxfz9hwCKd8DQ+/04nTvu6PcLAGwaUaBA2LdCfSyL6L\n5UEpyQxc7xMvlmo6YUp8N2AHjelzWLD/XRKXQ13IYaMrXjcF7tF+Oolpy9NTph1nY1DS5wZKXMJw\nY347aShPvnkiI0Zchl1cAzQIjtDH+4/QSZ0+V0Uxi7UxYwhvY4o3BBDhGRFuSLPeHJwlnqO/f7n3\nz3LtWGN6i8bq8lhUY9ZzLxH6UFv9I9BX4tIFu3kswrlDJC6jOb/H/bRaMY9RUgt0wiaLnA+gygqJ\ny0SJS7qsjGDnW9Z4dGeRX+t+x1QJw0JnkpYjT2E+6KhgcDQNfiPgU1Uex/6Ddd3yX2GhfztFHYhQ\nJcI7IswVqXNd5Y3G9H3u+OAMYAnV1a0lDI92BsrT7DLvdR4Z8HvdK9hag+DNtB2IbICdrwuAS1Ft\nVCHlcqGic6ewP1OA+e5xPOJZbDBjC8x/WXh2u0aQj2/M1SSM4p+/x3yxhVS26Ye5Ly7AKtd0kjBs\nzw/tzwN+RV+6s9WPS7l3gwd0zB6/zdJPLUUk0AcQoSM2EPkWFhn0FWaB7uZkSibhTsl+fJ4G/uwG\nMQshUuKDgDeZvnM7NgzvJnHjeEtjOkPi8hxwAm1rZjBw7CK3/hdszO1Qb8ByU8xFdE2afc0C1hNh\nPvBDnTWYglPkJ0oY7gn8U8LwJuBWDYK56davt22Z+cQZVe/J5BP3Ho0vbExiAP0lLJb/KOzYnoQd\n12gc4RTshj4Zy3XzVcGybN+1H0M/68/wZ/7u9vskcLyetNMSTsqynUhr4GEsNPEyNGt8e8G05H9W\ndkpc4lKNhQ39IfKdSlw2Bn7UWIMpsOky+52LnSzfk36adjmwpXs/EbOSD8aiH/KlFzBJlcXSWr9i\n53k3MKX6dGa3r+KpdTvwfdWmTOr8CBZbm41IiRfDHsAq7GY5HbO89gaOTLPuHCyW6Ps0bXVoTJeQ\nCEcrhI7YoNcNwAZ0+PFIbLZlb43pbAARTuGSdg/QpnYqM4d0Y7e/jMAU0CRMqRwJdX5f3Od2GmuQ\nM/pt4G+YK+skchTZ0CB4XcJwBJb64AMJwz8ALzVBFFBBuNDc84A5GtN0T0/JbEMiVHQiNhFsvAtt\nHYhzrajW5doGGCfCEOA8EW5yk29+hqWW3RD4hwgTsCelmaqZE5dJGLYFDgXO4feyFS/0nQIcr0Hw\nQaZt6ncg/bCJRcsxC7ykCrylaXZ3isRloMTlColLJr/iYbgCym79ntiF9gc31TfBO+xEihJ3YUwH\nYhEbzR6pkqdvbH3gPI3p3RrTzzSmV7rJDnn0Txtcyk0Jw9a89OpwLv18JdOqHuOCISN4rfc7TOrc\nG/vtc3PI0xglPhybLt0Di9NfjIWZpftfI+X9cal9hy4aohOmCK4BHuW5v04Bhicp8J7AnVyxfJXG\n9EzeO+N/9P2oM1FCpptpB2wvcemBZZF8CvN9p0tLMA5T4F9hsdI50SD42E0MOhu7cU+RMHxbwvDs\ndFEszeRfPRIbIL4q5xjS2xyNhettoTFdrjH9j8b0W+z4LXAx9el4GbvJHyHCFrgQTMwaXow9eY0B\n7hapf/N3aSVEwvAw7Cn1LFZzBb/adTTXb/4Qw4enGwdqiEg34EXsJnREUynwtc0n/nfgYhIZzFLZ\nFYvU2MudXGdhmffOxgL+E1QxABsYTGU6FvRfN9gmcRniKouUAw1mleWDCAdifuxe/OGLTYDvEDag\netVgvWTIr3VlqzdIDOpFg6bZqAVGijBLhEvz2P+uImziBkNHYFboS9j/s4jM+VhWAmhMM0adNIL+\nwHRVooiXRUzds7XG6j3eRk9wvwfgk2OWoLISsyhnMIfF2CDprths0PfcNumKVbyBzeC8kYRLIS9c\n/pmfYcr/IuwJbJKE4UUtUIBiO6yS+kKgt8RlM4nLixKXTRqsWcX6wASN6ZcpLYNIuFIa4CJ69sLc\nGBOAK1T5RpWPVemMXdsfY9fqwyJ2UxRB6F8znfvfHccKuZlH+1/I8OB+9g6OYG77QW6b3IjsjIXg\nvojq/6E6O9cmlUhLKPHoTnhSUm28KMVkP8yHdgb2WL0KK6J7PjZItHO9+N9tOAALeUplOhZzvMj1\n3Qrz5TX5AFOevrFNKMYfCP1YbylcMGE7Rsw8HThEg2C/lIT2MzEl3g34MYc8tVi1kstJTGlHhPVF\nuE8kMaVfhG0xV8LH2MXbG3hFlRHAIFWmY9ZV2zQheP/F3YCbwHfYn/ohgZmidQB2EKEN2roHk/b7\nGD9HUckAACAASURBVMt/Ms3J9CxwG3auTcWOoymVpHNOlZluBudcCk+4ZX0EQY0GQTRt/GDMzTDW\n+c+by7+6DvYbp2JGxT3AT/no2KdELGRV4rKOxKUj21JD+lz2PycxtpMWVcZig7xgbqjktgepPwv2\nEWm/6jNG/PAdN3wEz/XdjEN278vtG/8D+2+OxZ6UPs55jGwiz3+wnOGliFHPyhoTJy4iF4rIZyIy\nXkQeEpEGgf8krJsnqJ8K8hDsYtwSCxe71S0fioVr7YxZ6N8BOHfMYupX246YjVmsAVaQN6qbmN8j\nWBPingY2xM0KzGsbq6izA1d98lNu/h/Ma1fN4/0O0iBI54KZifkpV6rmjAapxfzmNwPVSREDQ7D/\n5ldJ6+6HHe9qLK/FZFVL5apqTxUu4mUOyZV8AI3pBI1pU8UOp04OWkjm/3kWpniu4t2zxrllUe6U\ne0hY1j9gYatbSFxOBz6RuNziEjBF1LtZiDBIpC4yIy9cAeePMWV+NzYAOjzHZqWiJ3Yj2hCbPDWY\n0a9NY6OXNqVNTVTy7FHgfcwgSqfEe5HeiKqHKuepIu78SG1T4AuqVj7PCd9+ypNvVnHOVzNY0PYY\nHtrgcJa0+R12k3sUm8BTixlpDbE6mIMRuRtz1ZyO6v1rmg88lZINbIrIQGxAcZCqLheRRzG/270p\nq36JjV7vBNzmclrcjA0yAdRoTJcCp0tcDgLWj2blSVwGA7MkLhYe9ymv6uMN4zzdzL52bptlmI8c\nsscylwQRCXLclXcB5rpJKen7CMMOmL9yd+zx3mYitl89jfO3hq86dwQ+5s60m8/EUnfOykOe24HH\nVFER3sBuiD/BBgqXksguCDZoeTT2dPQ0mS2wKOFV2mibPI5PoSSqBhnzgS4itI1uMm7Zb93LBt5+\n2G4F5tcfH8nkFPYt2EDna5hVvgDYyr0OkrhM05gOpeHNIsQMhrxT04rwIfCAanA9cI+E4VTgMbn8\n8m/Zc89DNQgKiVgqlEiJR9fPPkzd8ylar1zKgDeGSXzfZ4ChrG71FlNW78XSQzuJsJkqE5P66EZx\nxbvrkDDsyLOtLqJq9dXY+XYp8JCetJO6aJPoPPuvCD2AZ+18deeRRZ38ErsRHogZeo9glehzuRNL\nRhOc13lTyuiUhZj1Wy0iqzCLrcEdU2N6FIDEZRo2SeM44HSo82km+622IynCRGOqEpdPsD+sLc+k\nDQFLpQrzwf8T8qtk01S4mpHPAqfWLTOFvQFmEW0E/D9Mab+PDcjcALytQTBXhhPDDfiSeXr+TCxy\n5NVc8qjWe7y9lkRkQUfsJtARwE3o2RUL14wST9Url5VEpMSjnBpDVdM+LZWKPk5WwMV5CzMwq/pr\n57+vxh6tD0narmPkN5dR5i3RmN6KewKUuHyF3bQOwGYiTsQG5c6QuPQCXUT92qCdSCkzlwfbuj6u\nB9AgeEXCcH3mzbsFy8HykpPnTQ2CWqQuTUM1ZqSkvtpj/8unmWKgXfTX/Zgb6nss1K+VxvQzGUU3\nlnWdxPb/OI7VrX6JrG7DB6ftRa/bYOxl0czG5MlhRStxCcMumIV9LVWrJwMXahD8M9s2qszD/Ovs\nCb0QuQr7f34kytCpDfz2azwlU+KqOk9Erscer5YCz2uWtI7OEn0iKSKgFovLvTlpndnUV+qQmCm2\nudboRHJzI+bLnQn8yT0Sf64xnZG6oiu02yYp/WlUW7IHFnXRCVNsVdgNaxk2Zb4aqGbee0O458RT\n5N83fUvXIdPd+q3dqx17PNeZmikd6Lz5eRKGV2DWUCfMjfQtZgHeBDytQZBaOgwSsxBJ92jqmOnk\n+czWy9s6mERi+n6kxKPvvYGFqnbBOg9xJlfcHOAYEbpgN6QjSHJ5NYG10psop0aCqTgljinJFarU\niNQNJv8BK+eWUSZnMFyDPRGdCnTQmI6RuGwOzGDg2G2ZPLyXCDup8j51VYJon4cbC5E6F99GImhX\nFmy0gO6L1fzT7385Zsyq+/bdd/sxw4Y9Nbtbtw63HHxwzQnt2nWorq1diuWiqU16LU/63B3YBJE3\nsciPD4DxSUq9H/ZUdU/y9SVCB0Cp7fg0Wz12Hov69mD6LrBovdfYskc1swe9DKTmae9BgUpcwrAj\nNlX/Bixz5MkaBC/kt7H0wZ6ezn4NBmMD62cAr5Zq5mWxtKRPXEr120VkYyw0a0/szvg4MEZVH0xa\nR1W13jRvicsh2GN9CPxbY/pQ1v1YcvljXV29/OWzm0U00WI8sA3DxoI9Eq/Lgo+2ZtYrD9B1mzn0\n2fsrzHffEztRazDltASzdJZhN8Aq7AnCyozN/9+2rFiwlJop1awTXE/t/FV0334yNphbyw/PDWTm\ny+eyzXXHYj7VucA8DYK0E0Ya/AbhP5jlgWr66fIulGsCMFK1gSsrW9/i5NwNc+MMwy62DTFl/pgq\ng926ij3W7p+mn32wmN5DsVCyIzLJWgpE+Ddwt2pd+S5EeBt7cvgvdgPdUJX/3955hklRZQ34PTMw\nQ2YkoyBBwIABUYQVhVEMYAID5oS6ZtBFZQ2sw4go5rSurmHRNSuon4oBRUYxgiQRcQEFAQXJSfJw\nvh/n9kzT9ITuqQ4D932enunqqq46Xafq1r3nntDW+TXXCT2M4jiYzMthn3u68p+Ga7KWzBv/dA9F\n/hxBvz6tmDt+EU3nFlLlXOAn1e1qT0aTu28Wm17/Gw89uS8zrzyfF7dksm0N9jCfjulwMbBgQP/+\ndZ4+8cRBG7OyOiDyHPAUML3ESktW5PdkrKfbEZuI3gAsX5XNus9a0qT3//gn9uCeDcwRtCrwPYOz\nO1Nl81wemnsPa5ov1G2Z/3Tyhnzq38DSGNyLjRZbqW5XLDm6SNYZOgobBfwMDNbc3NJrV4pkYfMz\nvbDRdwd3zCeA99EdfPh3WqK1nUXrAmzEzwKOVdXL3PIFQBdVvSZcEMxGPs99tIquZHMsw4ENjKI/\n0/m5uPq4+V6Wsnw9MLU820tBgfDiSduovTcc3nsVOR1WMH2O1WTs2HEhW9b8yfiRbVg/vyon/qMX\nkvkH1167NwsWrNXVqz8ulzznyU+MZwyXcjkwneksYxT3FK3vKoPYk7P0FT2knL8vYnn0LKjeHI6u\npopE336/WjDjXaATSC2gg6o+XL79vz0Jfv0arlsGNIOCS2H6k9D/ReA+EOcWqg8Db4J8Hm1/oF8D\n6+DtaZBziGquhK0vUZ42Iic0h5rjrAFrOBSOyoEG/a0BavoeHFwF6vS0B+CSF2HVZ5zR+QL+eKEb\n46fcDM1Xw7pvmPz3JTRq9if33L6aOgp3vq/K5JJ+f9E1EmX9edDmRTMPdRwLJxTC+g41+Om7PThg\n9WyZMosjjrqc2b8ArWawRFeSU9iE/ao2YXHBB8yZ+SstWMU/uj3LZYOuh703wZYnYPXXdLloET92\n3UjG0ukMav4aZ906l72+LlWevfY6hb59z6dnz0OA9bz33hRmzvxaR49+olT9mmmt7olwgrYl94AW\ndLrnE0a/DofXgD1OgiabyMq4jt7Z1XnjlnFXsmbqE/r09r7POgEK/oTfRsN5JwLD4c1cOP2WUq/f\njAwYO7YQeIaJE+syadKD+uqr94bWt4Dq82w00PYR6FoT6l5mHaP9P4WDNsHiXvbg+LwBrF8OW8LP\nTenXc/KWg5bHvb/Y7XIekJeMRvwgbPa4E9ZTfQ6YoKqPh20TrSdeG3Nbe0Lz9D5ioDyTCa50lkUS\nbllzABsWLGPt7HGsmrqV9kOu1Nzc0KTpGZg3xu7A8y5DW0jGu7AAj0Lges3T393no7Be+ErN0wGS\nL/N4kVs4n+OxfNVjNU+PkXxpi9m3WwCfaJ4eG8vvLP69LMHs+11UowcZux71dKCzKn/GMuEiwi3Y\ncDwDG6Lfik0GzgeuUeWEGGRVit0dq4TC08MmpDIw+34vrNe/J8XJqtZgN/YfmN029JqHmXmqYhOI\n+z7MdXeewyujG7MkA7PR5symzaE1+bPq7izahDUIG7GR1EzMG+crYGnIayFMpjqYOWMfrOfXE9P5\nSMyLZTSqf7hR3e9ALYZoaPL0nlb88pIi3+/FzyuasbBeRybTkw/H/8D+R+ZS8GU9Vm7BUifPf5Hz\nqr9B39Xv0HskFjr+pCpXbSdPSef2jqzWND/7ElpdAma3V8w89LTm5k4tVS/5cjlwmOZpcQUsEWnJ\n3G0DeZABPFaATaYvx3q9X/SDTSPgqZDJwl0n1wKvqDrf+8jjWM/7eOBxVKu2Xbjwthn9+s2tWli4\nHzYyCL0aYqOB/2Ejj6Xu/0/AhBJt+ymcSIxGouVJSk/cHWgQ1nhtw4rsXqZadJGXKkiQSEFBPczu\n2Qeb8HkLGMPnxyxHCxdjJoNzNE9PK/pOvtyA+W+/BDyueXpQ2Lo1wFXut9UA3tM8He68ZP6JXdC7\nY8PNJljU6Qj39T0xX1Uw+/AYzdNQAvvy/yazWa4GqkfWDwwKES7CGtUNWGHibtgNNh/opbqdy2FZ\n+1LM02AQ0FyRLGw43RFrJPbFbtj/wwKGfgEWxWrbFGEd0DTcfCFCK6CaIj9hpqBqmF46YFXW22IN\n/kqK3SELsQZ/DtbYT8Sum7nRZJJ8mQI8wBA9Erg8ZDIS4W6s5xgKCb8FuBtzmx0TMnGJcJ87/n2Y\nn/5fVOlOOZB8eQ64SPNUXJDQ3piHxmXYg+8p4FXNzd1h8lkG13iAiVf1YcwDjbF75DVVVjh9mZnO\ncm23xPR/KBZfUR+be/gA+OZQJk6ZxKGoFk10g0jd9w877PAXjjvugtFduvSus349jz/88IqTv/qq\nfobZ639y5/ZH938mMA/VcpkTd2WS1ohXRJBA9l9Q0BFLXNQFa4yfAqZF2pwlXzoBT2qeM2vkSzds\nyHkCxSG6rTVPl7uRwmKsMbiU4io0TbC6j9WBMdhEYm/3PXX7HYvZ+5/A8k/sh1VvL9O3doffJrQG\nxqq6UsMJQITdKfYoOgXrlV+PzQO8r8rwGPZVWJs1h/fnsTF55C/KYktTbN5jMhYROQeYU5EJKZeE\naxlQo5SJ3pK+nIVLX4B1OqoCG8srj+TLzUAjhmgmMCDS7u9GRGOxB8NmKJo/qIONdGYCJ6gy1bnO\nzQN2KymhVthx2wB3YpPGF7Mt41fNLywAcCH8oYnYbpjHxlOamzvFxSf0QOV93nr+d76/4N/A7e53\n3449SKLPtZhXTANsxNQdexi3wEZFSwCZ26RJ24fOOKPOiF69ZP+5c3+76bXX3jxt/PjPMK+eBWj8\nVX08pbedaZcAKxaK/HsLCrpiDfZuWATiaRFRjJHMw3oaIUKZ/j7RPN0q+fIN5qb3f7j8Gs5bIeS2\nNwsbkme7z2dhPbybGEJ38iw1K+bWeDfWs/1d8zR6kEL5aEZsmQ6B2IZ5qvwuwgLM/Wwd9kBriD2o\nXijtuxEHzVRrGF77ir9UeYnz/tGP597B4geCHHY2wnKmxP4gsEkxM4vFJ9Mv2IjiCmTr25JftSqw\nNfQAd773IzDzzVCKG/GlmCvgOFWmum1XiLAYG538EE0eyZdqbh/DsREjwHNsqblNZNujqhl/09zc\nQhE+VOV9KSjYA8vT8rZ88tlG9nlhPStf2of5dX5gxjnTVBkGDBNhrZOvRAS6O3lGuheI1F1To0aj\nG6+8suf7Xbqcuqh+fbaJ/AeRW7++5prlXHNNabusMLuaOaU0Km0jLgUFGZxzzl9cis/6uECOEmfs\nt2cZkCP5ciXWs24HHOFKiYHlxzgSa8R3w+y0UJzv5GjgEcyvG6yC/LtYo3dk2HGewDxapJzFHkqj\nOXE04nFwAOZTPUOVjTgf5nIj0g9LRbsMOKUrX04DGdBPR7wRpJCup7sHYT7iSWY50IAhsgqrDlMd\niwEId8N7Ges1fwAMCZnBXNKuyDw+E4ALRCjJO+sdLF8NmDloEf+adj9XH3QljWacL3LAC8As2nyw\nVjr+fjW9L3tR83SoFBTcxU0HfslVD3Zmty5QrddBfPhlGynQvwArGVX1R9ZV2cLs2u1ZXTVHCn4b\njnmP/IE9yNfRvXsLKSg4BDvfewItGDeuFWZqWY25+p0SzXzjSTyVypwiBQU5mMmjK3azLMDseh/F\nWh9S8uV8991vsQjS+qG0o5IvudiN1wYzgfxd8/SYiO9nAe01T6fE+3tikle4EdhdlYHJOF7MiLTB\nGu9jsAdqAaqF29laAz0c/bFcHKNVtysRlhRcncn/YkmcxrmPN2qexlzJB0CEAVjHIOq5knxZiU02\nN9Y8Ddnff+Xkv+5J609W8c4zeczt8RFD5CcAfu+4kHFDb2D2CW+QvfpXbslpzpOTJrC447O8+eVb\n7LalPtZBsdfje93LNtmd/nMGY9HTDTATYi3MBLQRM7XNx8yIv2C27Rnl7Dh5KkClNadIQUE2NmTt\nhtmb22M3zLdA+4qEJWuevij5Mg1LjPVmRN7oL7DJsNuwSbcdTDNu+6Q04I7I8PL0QaQL1lN8CeiK\nbpf3vQ/F5qoKHMKCUcICaULRkqnKy70MM7WFGvA/gUzJl5ouL3qsTAy9EWGgKg9GrK+JeXA0Dvts\nPB898AnX7H8PFx3zCEP0aLZU38bT32Zw3E3NOObml+nb91FGvgrKLBZ37GKmp64QEUQnR3ELsLuO\najYsDtk9KSQty7NJQcGJUlDwFhbu/ChmSrgN2ENzc3trbu5dmpu7sKI5fDVPp2P5XS6L+Hwr0B8Q\nLLKs5o7fLkH2xOUV7kwcpoOE5jkWqYnI69io5SKX7jOycMdvhKV0rYA8o4GNIjRyOdUV6xU+E+f+\niohTpt/YvpBHB8yTZ58d9p8vV0Ykz4rGJGz+pAWMvTNUNd5l9zwCu1f7AO1FyBZhTyCHzXWWU3W9\n9dBOuqIvUqisaHM4r43cn8bTM8la35hDn1yGsKiMuYMS16VbzU9IP5lSKU9a9MSdT+mBFCeqr4nZ\nEq/W3NwdwuODRPP0tRJW/Y6FwEMKikuEI0IzbDQSm306kYj0wHQ0E2iGltj7XEr0vNyxEtLBH9g8\nxmrgcdWyc8QkAjehfS4wEFiqebrF5fU5kGL3whDHY6mXDytpbkSVzbgc+yJb1wAHS76sxc5xH5R1\n5OtW7Hw/hOXXnwisJHPzacB4Dn3qKhZ1+EW3VP8aQAZXG0zVjXfSemwzkjtq9CSRlDXizr+1M8Uh\n2hnYzHd/YKLm5pYZUpvg2eBxmLtiI0pONrUDCZIplNz+3Vi/GLg8FhAzCAsyGQ48XUaqz6VAQxFL\nRRqPPGKFjJtiI5FG2MisLmZeqDDxniOXLTO85Nw0zJW0CJdwqg/mZngZxS6qpXB8Y+BrVF5FtI/t\niFrYudxG8Qi6ATBf71ozX4Tr6Xvmw6xoXVQkWO/cMEzOPfl/tHtvCDaSjYt08gIJkW4ypVKepDfi\nUlCQh/maHoJ5W4zCgmOmpdMEiebpSqwQcTrQDKsontrzI3IsluZzPNAZ1TLNOy7xVCE2QRavr/AZ\nWIMdskP3xNw2E+vHFjvTYIeo1lCh7mHYBPrTQCiXT1fN02gP5juA29lUqwXVdjhl32GRrpsjfMof\n443X2+Gy/IXQl98tdgv07JSkwiaejbnk7aW5ue01N/d2zc2dGk8Dnm52MUiYTFYLMg4CkUekOSIv\nYxOXvVHtU54GPIwik0q4PCLUEtm+57rjoWmMBVn9G4uOvRSLBD1ZlUj7e1wEqLPvgYMkX5qHfRZK\nDvU+2/fSHwXekXyJYmqSccAoNtduz9bsbSgvsKU6mD93f1U2RAYFqbJNlWtKKzhcBt4mXgF2KZu4\n5uaWVFvTUzJNsN5vchFpgUVsnoMVS7iO+OoUhhrxyGpGz2GjsNLcD2dhnii3uJSvYHbitEPzdLEr\nQjJf8qW6S2lcA8tlMwnIknzpgsUldMVs2l0lX95xpplwppL15+ncvwgKsy8gY0uhKrcn8/d4Kgdp\n6Z1SXtLNLgYJk6kp25cgKzdxySOyFyL/wobuG4DjUB0aZwMOYQWUizO20RNrwBEptWxeyJUwYUVu\nA9bZQZiXysluuQ7wpZvQHIWZUwZixVAexcxThc4DxRjCNA5+dilZa2FTHdhSAzbVTVmR713oPoub\nXcom7omLuM0pMSHSAbgCs+M+BnRBtcRq5jEQzUPlUCzSrytm85+5ozjUjdhH2qN5ulTy5UbgDsmX\nt7BGfI1bd3HE5uMlX1Zg7pPHQpEpZBC9L7uZjXVAM2/Giqb0TsoP8FQ6kt4Td36+B5a9ZXn2lV52\nMaikNnGRQ7BiA2OwaLy/oJofUAMO5lXSJEKealgBhIVYIx6Ng7Bw9DuIwUMoVhKgs/ew6MqZWHBO\naQFJH2Kuo22KPvnGVVTKWrdAlXswW3vK2IXus7hJpTypMKeMAKaJMMxVWvGUgAiNXdDHbiSiJyqy\nDyL3YsE604ADUR2O6uyAjzQLC1KpFfZZdSyUeyHQzOVCiaQDMEWVvJR75sSAs29fjDXMZwHflLHt\nKCwfipFBNjCejG3T3CcPA/0SJK6nkpOKRvQALGFQLyw/d9ykm10MgpPJ+UZ/i+UxX1pWitKY5BGp\ng8g12GSpYmaTh1CNy+5eDmZguW4+CJOnGmZvX4D1xLeJcIAIDUR4UYTvsFwiCQ9SScR1pHk6Eyty\n/AxQehkys6G3k3xXvfQw/sAyaoZK8a1Q5bmgZSwvO/N9FhS7lE1ckZuAwnxuL1xFTm9k4BIsIX8h\nVmx2vXutApbsSnX0QojwVyyxUgssIX9w9nCR5li4+P+AY1CdVsY3guBH9/8IETq4FKzVKO6JH+LW\nD8Um/s7DcrEcghW5rpRonpbXj305FsTTABtx1SAZcyDbk6pskJ4KkoqJzdOBzIt4fo85tGm/DcnO\nQDOw1JxVsWF2DcyE0ACR+ZiL1g/u/0/Yhb5C4PB0eyJXNK+wCPWxSkDDsSi/+zG7cMXksSII92M9\n4rtQvb+MrwaGKqukyFjy/GC46AxMzxuwB3YoqVNvzI78PXBqoioYRZLq3NQuhH820FbyZRlzGUgr\nbkiyGGdAdC+hVJ+faKSbTLtWPnHVMwFaWRKjsVj03c9YAvvemA9wa1UmIVIVsxXuj5lhzsVKUdUH\n6n0CWxBZgvVkwl8rIpbXYr2+De7/RmA5qhuT8ZNjpC/wgSp3uzmD+7EczvEj0hMLkFmG2b2TkZc8\nGr9BvX3d+1BPfBlWoGMzNhK7GSx4JRUCppDZmP94aBIziHwz5UaVVdjo11PJSJmLoSpbna/wh1hy\npxFYkYUewEEi9FDVT7Gh+I/A69vtQER6mPtWfaCe+18/bHkvLOdIfYrrLFbDeoDVgXruATAHe4hM\nBt5EtULpXivYCxfsYZZv+2KbCL8Rp484gFrv6t9YcqUXUljP8GBgC5wcSlgV3oi3cf8/xUYKZWX8\nC5Q06dHNwjosLV0BvrSZyE2T87Md6SbTLmUTD0eVDSKcjCV2moMlNQqFJo8VIaNErwSrZrHavSIj\nActGJBNLpNTGvboBwxFZh4VIfwOMQjWZvZMRQCfswRbiAIijVyqS4/bXDeiJ6sQyvpFQXC1JAeqL\ncDjF3imLsQZ9Ofaw6U1xju5didlYJaBbMXPhHakVx1NZCNQ7RURyRGSkiMwUkR/FigWUiiprVOmu\nyqVYb21PigvJHlHadyvkm6laiOo8VD9B9UlUz8XSnXbH7O89gXmIjEHkYkR2L89uY5VJhH+IsMhV\nqtkDuDbcE0WVlaqsjmGHNRC5AXsILWgJ56e6AQ9hD+QCsD85wCo3jG+MBbt8CXRMtjthmvgczyp6\nN5XPXch+WpAm52c70k2mnclP/BHgfVXdF8urvEMUXmmossC9FIvm+9xVYMe5nvULJcs3BnUWsTIl\n5UGEPUR2yDIXLoCiOgfVR1Dti5lk/g2cCkxH5CtEbkIkyIrz12JFlodhdtD4JjGtQMPfMX/vLsBA\nVAf8avMAaUSvHlgVnPaYCQVVlqlawWPVojqmuxoh3/yjeJt/plQST6UisBqbIlIXmKKqrUvZptw1\nNl1gyM9AHuZn+w1m3z0diyycQfGEXx1V1opQD8hUtcAYZ3N/AbN3jwIux9zW2sbcWIhUwdKM9gTO\ndMd/F3gb+KWMnNql/c51WETmRCxXdltVlsewg2pYYMl12KTYk6imtTlChHeBk4BaqsRTyszj2aUo\nre0MshHvgPVaf8Ts2pOA61R1fdg2MRVKFuEWzNVwCuYC9TM2+fkdFgRzIuaKtxazJdfHhuk1XR7r\n/2KNbRcsMf8YzO8aoIlqnDUrRWphpp5zgKOwEc0HWHDOOGBeeSYQnffJVsy1cndgRbkbNRHBzE//\nwsK6n0D1nZh/Swpwer0LSpnz8Hg8RZTadqobw1b0hSU02gJ0cssPA3dEbKOx7VNPA10JqqDfg3YA\n/dUtK5ALeo5bngE6BnQU6BrQt0GXgbYBzQKt6/Z5NOjjoO8E9dsV2itco/Dqh7BY4U+FrxRGKPxV\nobNClSi/rybo+jiOl63wrMKvCjeoexiXoJfcwH5nMNdJLmgOaMdUy5LO5yjVMqSzPOkoU6LlKa3t\nDNI7ZSGwUIsn0UYSpTKOWKKleW5xFTBVi9KT2uSAFrnrZK6Au5+BQTcC00FyoPkVMD8Ti/DsAHvM\nhN/uUCWveHJBXwNeg9MvgjebqeocYLNbvw10IDBb5G8D4eHJJR0/xuUZIjID+EbNK6TDA9B7Dzjj\nbLN7N39dZNpcmPB3eFrQX+G+fDh4MxxDeY7XSaTP1XB2P0tZMKYlXPkrbFCn5RK+3wE3m1jB3xfU\ncgdVCoDJaSJPEV6eyiHPrrDs3l+MMY9SCMyc4oT4HLhMVWeJyBCguqr+PWy9agzmFPsODbCKLudq\nOQNAnCtbtiolzvCLcCvmTz5ClRmxyBQXIqGyYscB3VaSk/kpRzeeTEeGMfhKzN1uU9h/MK+NJu7V\nDjgceAPIQ/X3yEN4PJ6dk6TYxN2BDsIS/mRh9ut+qro6bH3MjXiiEKEj5tJWDfPJfReorZoEQHI6\nBgAAE8FJREFUH2WRjMP4dl5rfmnekckM4r6nKA5Gynb/wSq7L3avBcBHqMZbp9Lj8VRSktaIV0SQ\nOPeXW2x6ief7jMCCaVYBHbFJ1IeAT1V5L1EyOc+bJUBNCPlPJwafY6Js0k0mL0/ZpJtMiZantLZz\nV6/scxnW862H9XS/xArx/k2Ew7S4pmMMHNlAhEZYlGW2Kr9F2agpsCiRjbfH49k1qNQ98aBwNvRt\nmM/31cCDgKhydhnfq4+5OY5WZblLIfAc9nBcCUxUpW+U7x0N3KFaekSqx+PxQOltp6+sQ5E5YznW\nGC/CGvITRYps0yXxHFZaa7BbvgC4EQsuWg0cL0IrEeq63nmInuya+UE8Hk/AVOpGPOB8BQ1VeQYs\nXwmWu3yHnrIIGSJkuujQblgU54WubujRkLsOywPSASuAezFmc/9DhE9FqIPlSJkVue9E4HNMlE26\nyeTlKZt0k2lnyp1SaYliny7AXPoQoZYITUVoiFWB34rlQv/I2c0/Bp4CvobPlqqy1e3vUcwJ/Hes\n1uJRWB6WehBDaL3H4/GUgLeJl4AIF2JBNZdjyYkUy0ueieVj6QVcpMo4Ec5w292qynel7HMolndl\nNTBAteQCuh6PxxNip3UxTCQitIWiBnmGKoeL0BQr8nwmlkY1pgILIhwHfOQW26jyc2ACezyenZad\ndmIzkXYoVWZjGRPr4EplqbJIlR6qLC+pAS9NJlXGAEdjRXBjL2QRB952WDbpJpOXp2zSTaZUyrOr\n+4mXiiqfiHApAebkdhGh5Sow4fF4PGXhzSkej8eT5uy05hSPx+PZ1anUjXi62cUg/WTy8pRNusnk\n5SmbdJPJ+4l7PB6PJy68Tdzj8XjSHG8T93g8np2USt2Ip5tdDNJPJi9P2aSbTF6eskk3mbxN3OPx\neDxx4W3iHo/Hk+Z4m7jH4/HspFTqRjzd7GKQfjJ5ecom3WTy8pRNusm0U9nERSRTRKaIyLtB7zsK\nHZJwjFhJN5m8PGWTbjJ5ecom3WRKmTyJ6IlfB/wISSkCnJOEY8RKusnk5SmbdJPJy1M26SZTyuQJ\ntBEXkWZYubJnAD+B6fF4PAkm6J74Q8BNWOX4ZNAySceJhZapFiCClqkWIIKWqRYgCi1TLUAELVMt\nQAQtUy1AFFqmWoAIWqbqwIG5GIrISUAvVb3GGflvUNWTI7ZJnj+jx+Px7EQkvDybiNwFXIAVEa6G\nVcQZpaoXBnIAj8fj8exAQoJ9RKQ7cGNkT9zj8Xg8wZJIP3FvOvF4PJ4Ek9Swe4/H4/EES6WO2EwF\nItJbRK4WkU6plgVARI4SkSNEJCvVsqQrInK6iNwqIj1TLQuAiPQSkfPc+7S4B0WkqvufFq7BItJN\nREaJyN6plgVARM4UkQGpliMaaXEBRUNEaonIHSJynYgcnAbyNBOR94EbgPrASyLSI4Xy7C8i/wcM\nw9w6/yYidVIlj5OppojcJyJDROTYVMri5GkmIh8A/YFlwAgROTrFMjUEHgaGiUgjVU2WO25pMg0F\nXk21HBEcDOwPdE7ldS0i+4jIm8C1wMxUyVEaadmIi8gZwCTMw6UpMFhEOqdWKg4FxqlqN1UdCjwG\nXJUKQVzv7TagQFUPB/4J7Keqa1Ihj5OpL/AN5pm0DLheRPZPlTyOdsAbqpqrqk8BT5PCIDTXy90A\nvAF8CtybKllCiEh14BCgu4h0UVVNk974blij2Qk4MBUCuPPwELDZ3fcfi0hmKmQpjSqpFqAEWgFX\nq+pYEdkN62m2Br5NphAi0lRVF7nFCcCXYauX4p7M4vJEJkGebFXdpKrbROQSVd3gVh0B7OF6mTNU\n9Y9EyxKFasB5qvq9iOQA+wH/S7YQETr7QlU/dZ/fANwM1BCRJqr6UpLkyVbVTSKS4fRWHzgM6Ae8\nIyL7qmpKenhOpg0iMhb4CbhPRLol41qOkKOpqi5yjWYGFiy4HLgLOAs4UERmAJtUdX0S5AndZyoi\nzwCniUgToC/QRETGA5NVdUmiZSkPadETF5EWIrJn2EcjgK/dRbYS61EVum0T3ksQkS4i8gfwcegz\nVf1dVZeGHb8ZLl9Coi96ETnJ3WhXhMmzwa27GmvE3wIuBQYmw84aRWcvugZ8d+Al4HTgThE5222f\nUJnCdDYm9Jmqbnbr2gDZQDfgc2CouykTKc92OnMNeAawHpiiqr8BTwEvi8hzydaZiFRxMtUDjgJu\nwUYpvUUkO9GyOBm205kahe5+OgjYDDyKNeSfY9d5IuWJdp+NAjKBL7DrZzFwGWa+TIv2M6VCiJEP\nzMIabgBUdVnoiRs2BF3i1iW6wawBHAncCqwRkX7u88hzdQw2LMb1rhIlT2vMdLIQ2FtEDnKfV3Wb\nPKOqPVT1cSxnTSNgz6g7C0aeknQW0ss+wOvAAZhJ7DYRyUmk7TdCZ2uj6OwXVb1LVb9R1XeA6UDC\ngtBK0pk7B42B+iLSCjgZG2Gudg1qQkbG0XSmqludaWAVMEtVNwEPAM8DPyTymnYylaSzKu6enw/s\njs0ftAF+BqYmUJ6oOnP8A7hZVfuq6mPA4062FomSJxZS/SSpjdm9jwI2i8gFYIqEoou+HrAv8JVb\nt0/QQrgLp52I1HAPj1Gq+ixwJ3CTiNQOb4ScfIuAuSIyHPhEApx8CX9gqOovwPnAEMzWfJr7fIvb\nZEvYV5cCNYAFQckShZJ0VtXJ9amqPu+Gmm8CP2CmlUCJRWcRuquKnceCgOUpU2eOFdiE3beYee48\n4CQRyVLVrUHKFEZUnalqIdAAM1cMAIZinaX3VXV50KPecupsq+sQ7AW8AowHumDXeW6QD7ry6kxV\nZ6vqyLCvLgdqYQ+a1KOqSX0BnYG2QC233NT9Px34DqjiljPc/06YMttj5o37gawA5TkNu3D/D2t0\ndotY/zYw3L3PdP/rYXa7WcAjQL0A5fkrMAUYDpwWsa4X8G/guNA5cq+awOXAZGAQNiyWVOks7HvH\nA+8CdQK+hmLRWYY7H3u4czsZeALITrLOjnfL9YFTgZywba7A5hSSrjP32VvYpPS+mIlwDdA6VTpz\ny3WAumHLRwPVk6yzovvM/c9y99lUbH4l0Pss7t+StANBdWwYMg94FngnYn0m5uY01C2HApHOxBrM\nL4FzA5apJjZ87OyW/wPkA+3DtmkHzA27CWpi9roXgQMDlqeTu8E6u5vtG6Bn2PqGwI3Ao2GfVQWu\nAcYCh6RSZ2Gfd8bs4hOBU8P1mSKdZWMN2v3AoanWWbjugpQlHp25hqhhxDYHByxTPDrbLfR7EnCO\n4tIZZgsvCPo+q/DvSdqBzK41Nmz5M2AgUC3ss86YvTLLLWcAZwB3RuwrowJy1IlYngCc6N7vB9wD\nDGD7nspg4COs4b494POSGfb+ROCesOXzgDkR2x9CsW/43e6CC6xXGYDOsrAJoJsClKOiOstLM501\nIUE9uBh1lu2W67n/QY5OKqKz/wL5aaSz4ZjZKTNImYJ6JdpjoF3YogJLRaStW74Jmxzc320rqvot\nNtSaIiJfA91VdaSqDnbbhNvK45HnduBTEbkn5DWBDSX3d54wPwLfA82xmyFEDjacm6+qd8Rz7BLk\nyQeGi0goUdhmrAEEQM0NbpmI3BT2tR+Bw7ELvrqqLlWblApKporqrKuqfq6q97ltKuRXG5DO8isi\nQ4Q8QehssbqWIiCZ4tXZZBH5EgusIajrKACdLVTVvCBkcfJUVGfV1JwtCoOSKUgS0oiLSCcR+Rh4\nRiyCrzOwzq2u5xQ5AfMjPg/Mu0FE9gNOAv4EblPVcWH7zNA4J35EpImIvIZdMP2wC+g6EamN9Uia\nAN3d5p9hT+Ft7rvdsRujlareGs/xo8jTWUQmYRfx98AdInKMqn4MVBeR/mGbDwJOkOKw+nuxSZ59\nVfX6IORxMiVCZxLvhe91Vi6ZgtDZP1R1bEDyeJ2lgqC79piSJmG+nQ0w29ddbt1w92rslvfEbHcN\n3PJFwKVh+wpk4gCbnT83bLkRNmRrh7l83Yoprb5bP4rioV/cpptS5OkMXBK2PBx40r3PxTxfctzy\nvlh0aE23XC0B8nideZ15nSVYZ4l6BXnCQhORtYBTwj4/Gxjp3rfAhnEX4yZ1sAmPRlH2VyUo2UIX\nWNj7htjMdCO3vLdT4Bh30U0BmifspNs5qk6xt8uJ2GRUyMvjX5g/71lOnpcTJIfXmdeZ11mCdZbo\nV4XNKWK5F1C1nAuqug4YHbbJQkBFpLqq/go8ieUhGSki07Eh1Iqw/YnbXyA+s2H7Wxv2cX3gN3Vh\ns6r6P1Xt72SbDBymqoH4WkezCavqOlXdoMWmhl5OntBvvhELJDoV+IOAA1O8zso8vtdZ7PJ5naWK\nCj7pbgFuJ8qsNsW+lYOAhyPWVQXOAXIT9XTCfJRru/cS8b8X8LR7fzLQLUEySIQ8WRHrQz2Cd3Du\nilikYx33PjB/eK8zrzOvs+TpLJmvuHriYVFToXwC0aIo1f1vCrzporX+JiKHqOoWVX1FVQvEqKgH\nQ7TIsquA7SYk1GkMC/fNFpFnsdn7jRU5fkmoqopIYxF5GLsRW0bIGsqnsQpoJyIjsdnwLPf9zUHJ\n4nVWPrzOSpXH6ywNiasRVzccUdXxmNN8PzcDvR3uRLYCrsbCjJtgYdhF69WI14MhM+x9toicErZ6\nNLBCRDJDF5W7kAVzt+oKfKeWYnJCPMcvTR633BjLP95TLR3qrLALHDVXyfZYuO8g4FNVPUtVlwUh\nTzheZ2XL45a9znbcv9dZOhNr1x1r+BsDeVhOgwZYFNPxRMxwY72DbcDLhEVnVfTlZIg8VjvMrtUX\nC2G+CHjercuM2LYPUCMoeSKPgU2ghCLOemCRi8eEZI/4XjNs1r5mkPJ4nXmdeZ0lV2epepXnpD0I\nDHbvQ7PM2Vj+iVvc8pVYfpPGkScbm7wIvygqEm1ZO2K5B+amdAXmRtURS+L+iLvApgO7hx8/4Auq\nO9t7CByN+b++haXQvNJ9fhtwH8WeAgnNt+B15nXmdZZ4naXLqzwnsBs2q703NpN7rPv8KCw3Q0/M\nz/Rt4BKKJxEin+BxuzJh+R7OxbKshcK7L8RmuC/B7Fsz3MWbieUefhRLvhRYzyRCpkZY72cyFkwg\nWAa0zphr1QfAbGxoe6C7Gc9JxsXldeZ15nW26zTipdrEnS3tc8yvczj2NA6lsRyHpTw9BZsFfxbz\nS63n1mv4vjT+aMtQ1J8CdbEQYrAewb2q+h9VvROLSnvUbXshFlp7fDzHLEOe0DlbhpX7+gMY4H7v\n/Vjo8DgsW9snWN6X74FfgK5iaTh1xz0HJp/X2Y7yeJ2VTwavs8pIGU/BkKtQPWA1Zgd7DLjQfd4V\n80/9q1tuGeAT+CQsu9gFbrk2NvN8Nzar/C/gobDtO2OpakPuTjWIGBZWUJ4TsQu4n1uug11c52ND\n3JAt7nbgYvd+ALAVs2nmkAR7nNeZ15nX2c5n9y7tVWpPXFXVzTqvwGx2N2ORYIPEKl/0wQq+TnDb\nzyvBDSkelmC1CAeLyPXYxMSbWBRWLyyR/MUicoDbfj9gorpgA1Vdr9sHHgQhT1vgahE5CbtoZmE3\n2LtYrgiwiZ8GItITGxoPA1aq6ipV/TNAeaLidbaDPF5npeN1Vskp08VQnVuSWia4htiT7gHMFrZZ\nVS9U1Wlh2wcyhFFzR3oSq6IxH8uB3BLLOdwZS1w/FLhdRN7H3KvGB3HsEuSZiNnbamKTOU9gPZIF\nmDtXpogcj11MDbGyUl+oap6qJrVgsNdZkTxeZ2Uf1+usslOe7jrFUWFnAzPd+6yw9QnJswvshl1E\nTYATsGobE7A8EJe4bXKA3skYtrhjrcaCLu7FZuVfdevOwS7unGTI4nXmdeZ1lnqdpcMrlhMbstt9\nAvQNXVQkIPtYxHGHAZ+59zUwt6Y1WImkFkk/YXAX8IF7fzE2EVUVK/91CQHaBwOQ1evM68zrbCd/\nxXpia2P5B5Jangj4FTjTvc/A3LGOTNlJs2FnH/c+lMoyLd2ZvM68zrzOdu5X6KlfLkQkF3P8H6JJ\nrHIhVh3kv6qaVebGSUBEzsGi1NJCntLwOjO8zsp1XK+zSkiVsjcpRlULsNDfpKKqr4pII+c7qhrL\nkycx8rwiIg3TRZ7S8DorksfrrOzjep1VQmLqiXs8Ho8nvUhooWSPx+PxJBbfiHs8Hk8lxjfiHo/H\nU4nxjbjH4/FUYnwj7vF4PJUY34h7PB5PJcY34p6dGhEpFJEpIvKDiEwVkYFlZQAUkRYu0MTjSXt8\nI+7Z2Vmvqger6v7AsVh61bwyvtMKq3Dj8aQ9vhH37DKo6lLgcuBaABFpKSKfi8gk9/qL23Q4cKTr\nwV8nIhkicp+ITBCRaSJyeap+g8cTiY/Y9OzUiMhaVa0d8dlKrKjAOmCbqm4SkbbAy6raSUS6Azeq\n6slu+8uBhqo6TESygS+wDIPzkvpjPJ4oxJQ7xePZycgC/umq5xRiFWXAivGGcxxwgIic4ZbrAG2A\neckQ0uMpDd+Ie3YpRKQ1UKiqS0VkCLBIVS8QkUxgYylfvVZVP06KkB5PDHibuGeXQUQaYqXIHnMf\n1QEWu/cXYsUXANZiOb1DfITVfKzi9tNORGokXmKPp2x8T9yzs1NdRKZgVWG2Av8FHnLr/gWMEpEL\ngQ8xGznANKBQRKYCI7A6ly2Byc49cQlwatJ+gcdTCn5i0+PxeCox3pzi8Xg8lRjfiHs8Hk8lxjfi\nHo/HU4nxjbjH4/FUYnwj7vF4PJUY34h7PB5PJcY34h6Px1OJ8Y24x+PxVGL+H433/Z4z0wYSAAAA\nAElFTkSuQmCC\n",
      "text/plain": [
       "<matplotlib.figure.Figure at 0x10a62cf60>"
>>>>>>> f32e067bd584571f8b4a5dfe277594c96491ea32
      ]
     },
     "metadata": {},
     "output_type": "display_data"
    }
   ],
   "source": [
<<<<<<< HEAD
    "priced.plot()"
=======
    "#import matplotlib.pyplot as plt\n",
    "price.tail(800).plot()\n",
    "#plt.show()"
>>>>>>> f32e067bd584571f8b4a5dfe277594c96491ea32
   ]
  },
  {
   "cell_type": "code",
<<<<<<< HEAD
   "execution_count": 28,
=======
   "execution_count": 97,
>>>>>>> f32e067bd584571f8b4a5dfe277594c96491ea32
   "metadata": {
    "collapsed": false
   },
   "outputs": [
    {
<<<<<<< HEAD
     "data": {
      "text/plain": [
       "<matplotlib.axes._subplots.AxesSubplot at 0x6d98470>"
      ]
     },
     "execution_count": 28,
     "metadata": {},
     "output_type": "execute_result"
    },
    {
     "data": {
      "image/png": "iVBORw0KGgoAAAANSUhEUgAAAXAAAAEECAYAAAAxqm/oAAAABHNCSVQICAgIfAhkiAAAAAlwSFlz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\nRU5ErkJggg==\n",
      "text/plain": [
       "<matplotlib.figure.Figure at 0x6d9c5d0>"
      ]
     },
     "metadata": {},
     "output_type": "display_data"
    }
   ],
   "source": [
    "price[['159902.sz','159915.SZ']].plot()"
=======
     "ename": "ValueError",
     "evalue": "Columns must be same length as key",
     "output_type": "error",
     "traceback": [
      "\u001b[0;31m---------------------------------------------------------------------------\u001b[0m",
      "\u001b[0;31mValueError\u001b[0m                                Traceback (most recent call last)",
      "\u001b[0;32m<ipython-input-97-fdaacbbe66af>\u001b[0m in \u001b[0;36m<module>\u001b[0;34m()\u001b[0m\n\u001b[0;32m----> 1\u001b[0;31m \u001b[0mprice\u001b[0m\u001b[0;34m.\u001b[0m\u001b[0mtail\u001b[0m\u001b[0;34m(\u001b[0m\u001b[0;36m800\u001b[0m\u001b[0;34m)\u001b[0m\u001b[0;34m[\u001b[0m\u001b[0;34m[\u001b[0m\u001b[0;34m'000001.ma160'\u001b[0m\u001b[0;34m,\u001b[0m\u001b[0;34m'000002.ma160'\u001b[0m\u001b[0;34m]\u001b[0m\u001b[0;34m]\u001b[0m \u001b[0;34m=\u001b[0m \u001b[0mrolling_mean\u001b[0m\u001b[0;34m(\u001b[0m\u001b[0mprice\u001b[0m\u001b[0;34m,\u001b[0m \u001b[0;36m160\u001b[0m\u001b[0;34m)\u001b[0m\u001b[0;34m\u001b[0m\u001b[0m\n\u001b[0m",
      "\u001b[0;32m/Users/jk/anaconda/lib/python3.4/site-packages/pandas/core/frame.py\u001b[0m in \u001b[0;36m__setitem__\u001b[0;34m(self, key, value)\u001b[0m\n\u001b[1;32m   2103\u001b[0m \u001b[0;34m\u001b[0m\u001b[0m\n\u001b[1;32m   2104\u001b[0m         \u001b[0;32mif\u001b[0m \u001b[0misinstance\u001b[0m\u001b[0;34m(\u001b[0m\u001b[0mkey\u001b[0m\u001b[0;34m,\u001b[0m \u001b[0;34m(\u001b[0m\u001b[0mSeries\u001b[0m\u001b[0;34m,\u001b[0m \u001b[0mnp\u001b[0m\u001b[0;34m.\u001b[0m\u001b[0mndarray\u001b[0m\u001b[0;34m,\u001b[0m \u001b[0mlist\u001b[0m\u001b[0;34m,\u001b[0m \u001b[0mIndex\u001b[0m\u001b[0;34m)\u001b[0m\u001b[0;34m)\u001b[0m\u001b[0;34m:\u001b[0m\u001b[0;34m\u001b[0m\u001b[0m\n\u001b[0;32m-> 2105\u001b[0;31m             \u001b[0mself\u001b[0m\u001b[0;34m.\u001b[0m\u001b[0m_setitem_array\u001b[0m\u001b[0;34m(\u001b[0m\u001b[0mkey\u001b[0m\u001b[0;34m,\u001b[0m \u001b[0mvalue\u001b[0m\u001b[0;34m)\u001b[0m\u001b[0;34m\u001b[0m\u001b[0m\n\u001b[0m\u001b[1;32m   2106\u001b[0m         \u001b[0;32melif\u001b[0m \u001b[0misinstance\u001b[0m\u001b[0;34m(\u001b[0m\u001b[0mkey\u001b[0m\u001b[0;34m,\u001b[0m \u001b[0mDataFrame\u001b[0m\u001b[0;34m)\u001b[0m\u001b[0;34m:\u001b[0m\u001b[0;34m\u001b[0m\u001b[0m\n\u001b[1;32m   2107\u001b[0m             \u001b[0mself\u001b[0m\u001b[0;34m.\u001b[0m\u001b[0m_setitem_frame\u001b[0m\u001b[0;34m(\u001b[0m\u001b[0mkey\u001b[0m\u001b[0;34m,\u001b[0m \u001b[0mvalue\u001b[0m\u001b[0;34m)\u001b[0m\u001b[0;34m\u001b[0m\u001b[0m\n",
      "\u001b[0;32m/Users/jk/anaconda/lib/python3.4/site-packages/pandas/core/frame.py\u001b[0m in \u001b[0;36m_setitem_array\u001b[0;34m(self, key, value)\u001b[0m\n\u001b[1;32m   2127\u001b[0m             \u001b[0;32mif\u001b[0m \u001b[0misinstance\u001b[0m\u001b[0;34m(\u001b[0m\u001b[0mvalue\u001b[0m\u001b[0;34m,\u001b[0m \u001b[0mDataFrame\u001b[0m\u001b[0;34m)\u001b[0m\u001b[0;34m:\u001b[0m\u001b[0;34m\u001b[0m\u001b[0m\n\u001b[1;32m   2128\u001b[0m                 \u001b[0;32mif\u001b[0m \u001b[0mlen\u001b[0m\u001b[0;34m(\u001b[0m\u001b[0mvalue\u001b[0m\u001b[0;34m.\u001b[0m\u001b[0mcolumns\u001b[0m\u001b[0;34m)\u001b[0m \u001b[0;34m!=\u001b[0m \u001b[0mlen\u001b[0m\u001b[0;34m(\u001b[0m\u001b[0mkey\u001b[0m\u001b[0;34m)\u001b[0m\u001b[0;34m:\u001b[0m\u001b[0;34m\u001b[0m\u001b[0m\n\u001b[0;32m-> 2129\u001b[0;31m                     \u001b[0;32mraise\u001b[0m \u001b[0mValueError\u001b[0m\u001b[0;34m(\u001b[0m\u001b[0;34m'Columns must be same length as key'\u001b[0m\u001b[0;34m)\u001b[0m\u001b[0;34m\u001b[0m\u001b[0m\n\u001b[0m\u001b[1;32m   2130\u001b[0m                 \u001b[0;32mfor\u001b[0m \u001b[0mk1\u001b[0m\u001b[0;34m,\u001b[0m \u001b[0mk2\u001b[0m \u001b[0;32min\u001b[0m \u001b[0mzip\u001b[0m\u001b[0;34m(\u001b[0m\u001b[0mkey\u001b[0m\u001b[0;34m,\u001b[0m \u001b[0mvalue\u001b[0m\u001b[0;34m.\u001b[0m\u001b[0mcolumns\u001b[0m\u001b[0;34m)\u001b[0m\u001b[0;34m:\u001b[0m\u001b[0;34m\u001b[0m\u001b[0m\n\u001b[1;32m   2131\u001b[0m                     \u001b[0mself\u001b[0m\u001b[0;34m[\u001b[0m\u001b[0mk1\u001b[0m\u001b[0;34m]\u001b[0m \u001b[0;34m=\u001b[0m \u001b[0mvalue\u001b[0m\u001b[0;34m[\u001b[0m\u001b[0mk2\u001b[0m\u001b[0;34m]\u001b[0m\u001b[0;34m\u001b[0m\u001b[0m\n",
      "\u001b[0;31mValueError\u001b[0m: Columns must be same length as key"
     ]
    }
   ],
   "source": [
    "price[['000001.ma160','000002.ma160']] = rolling_mean(price, 160)"
>>>>>>> f32e067bd584571f8b4a5dfe277594c96491ea32
   ]
  },
  {
   "cell_type": "code",
<<<<<<< HEAD
   "execution_count": 23,
=======
   "execution_count": 99,
>>>>>>> f32e067bd584571f8b4a5dfe277594c96491ea32
   "metadata": {
    "collapsed": false
   },
   "outputs": [
    {
     "data": {
      "text/plain": [
<<<<<<< HEAD
       "[<matplotlib.lines.Line2D at 0x4d83630>]"
      ]
     },
     "execution_count": 23,
     "metadata": {},
     "output_type": "execute_result"
    }
   ],
   "source": [
    "plt.plot([1,2,3,4])"
=======
       "<matplotlib.axes._subplots.AxesSubplot at 0x10b065160>"
      ]
     },
     "execution_count": 99,
     "metadata": {},
     "output_type": "execute_result"
    },
    {
     "data": {
      "image/png": "iVBORw0KGgoAAAANSUhEUgAAAXEAAAEQCAYAAABGL0RbAAAABHNCSVQICAgIfAhkiAAAAAlwSFlz\nAAALEgAACxIB0t1+/AAAIABJREFUeJzsnXe4FOX1+D+Hfi+9CKiA2AXF3rCEQYOaGHv0p7FhT2L9\nxsRulrXE2KKJ3RjsnRgTW6yMvWEsqCiiUkSkI+UCl3J+f5x37u7du/3uvXcX3s/z7LO78868c3Z2\n5syZ8573HFFVPB6Px1OZtGppATwej8dTPF6JezweTwXjlbjH4/FUMF6JezweTwXjlbjH4/FUMF6J\nezweTwVTsBIXkdEiMlNExict21lE3hORD0XkfRHZqbRiejwejycdxVjidwP7pSy7BrhUVbcD/ui+\nezwej6eJKViJq+rrwPyUxTOAru5zN2B6I+XyeDweTx5IMTM2RWQg8JSqDnHfNwDeABS7MQxV1Wml\nE9Pj8Xg86SjVwOY/gLNUdQDwf8DoEvXr8Xg8niyUyhJfqKpd3GcBFqhq1zTb+UQtHo/HUwSqKumW\ntylR/5NEZJiqvgrsBUwsVJBiEJF7VHVkqforBeUmk5cnN+Umk5cnN+UmU1PLk80ALliJi8jDwDCg\nl4hMw6JRTgVuEZH2wFL3vTmY3Ez7KYTJLS1ACpNbWoAUJre0AGmY3NICpDC5pQVIYXJLC5CGyS0t\nQAqTW2rHBStxVT0qQ9MujZTF4/F4PAVS6TM2F7S0AGkoN5m8PLkpN5m8PLkpN5laTJ5KV+IftbQA\naSg3mbw8uSk3mbw8uSk3mVpMnqKiU4remYimG9j0USueTJRyINzjqVQy6U4oXXRKo/EXqycVf3P3\neHJT0e4UEQlaWoZUyk0mL09uyk0mL09uyk2mlpSnopW4x+PxrO2UjU/cu1M8qfjzwuMxsl0L3hL3\neDyeCqailXhz+aFEpIeI/EtEFovIZBE5KqltbxH5QkSWiMgrInJEyrZXi8gc9/pzSttAERnrtp0g\nInuntP9KRKa4/f5LRLontR0hIm+5bcdmkT0QkXYicr2ITBORRSLyrYjc4NqPdstSX6tF5JLGHrt0\n8pS6z8ZSbjJ5eXJTbjJ5n3j5cwuwDOgNHA3cJiKDRaQX8ARwMdAdGAfEoo1E5DTgIGBr9zrALYt4\nGPgA6OH6GOP6RES2BG53++sD1AC3Jm07F/gLUO/GkIELge2BnVS1MxC4/aKqD6pq5+QXlonyB+Dv\neR0dj8dTMCL0L0k/3ieeHRHpCMwDtlTVSW7ZvcD3wLfAcaq6h1teDcwBtlXViSLyFjBaVe9y7ScA\np6rqUBHZDPgE6KmqS1z7q8BDqnqHiPwJGKCqx7i2jYAJQI9ofbf8ZOBoVR2e5Tc8Bbykqn/N4/du\nB7wG7K+qrxVwqEpOOZ8XHk9jEGET4CtgQ2AjVV7Jvr73iTeGzYCVkQJ3fAxsCQzGFDEAqloDTHJt\nuPaPk7b7JKltS+CbZIWc1G/UXretqn4DLHfyFMo7wO9E5DciMsSlC26AiHQDxgCXtbQC93jWcLq4\n9xeAlxvTUcUocRG0FK8idt0JWJiybCHQ2bX9mCqqayNN+0K3LF0bwKKk9o5p2qP95o3z1V0FXI25\nZt4HvhOR41LWE+A+4BNVvbaQfRQhT1lRbjJ5eXJTbjIVIU9Ub6F3Y/ddMUpcFUl9gQxPtzzbq4hd\nLyZx14zohincdG0dXVu6bbu6ZZn67ZqybWphjeT2vFHV1ap6q3P7dAWuBEaLyBZJq50PDAKOL7R/\nj8dTMN3ce4PiOYVSMUo8HaoaNsNuJgJtRGSTpGXbAJ8Cn7nPQJ3/vK9bjnvfNs12UdtGItIppT15\n2+S+Nwba0bDgRtani9RjpKrLVfVWrNj1INd3AFwE/FJVU586Skoz/WcFUW4yeXlyU24yFSFPPeUt\nwk3OW7B/ofuuaCXeHDif9RPAZSJSLSJ7AAcA9wP/ArYSkUNFpAMWmfKRqkaK9j7MF72eiKwP/A64\nx/U7Ect8FhORDiJyKLAV8E+37YNYNMse7uZwOfDPpEHQVm6fbYFWItJeRNqm+w0icraIDBORKhFp\nIyLHY26bD0VkXeAR4GxV/Tjd9h6Pp+R0BVYkfd/Vvf+24J5Utdletrv8l+fRX9BMcnfHFPZirILH\nkUlte2NRIzXAK8ARKdtejYUDzgX+nNK2ATDWbTsB2Cul/Shgitvvv4BuSW0jgdUpr9FJ7YuA3bFw\nwlOw8McFmAX+DvBzt94f3baL0rxubYJjmfd/Vux5Ua7nkZdnzZWpsPNaBVRBP3bvCvoM6PGgP4L2\nTNO/ZuqvbLIYljOqOh84JEPbyzi3BDQc4FDV8zF/c7ptpwAZQwNV9WEsljxd2z04qz5De+dIHlX9\nOxlivlX1MuCyTP14PJ6S08G9T8XmjwD0xwy2D4HtgJfy7czHiXvKFn9eeNZEROiCRZ7dSyKQYBEw\nFLgGuE2Vp+tv4+PEPR6Pp1yIxq6SS7q1wYIWlpKw1POiYCUuIqNFZKaIjE9ZfqbL//GpiFxdaL/F\nUG6xolB+Mnl5clNuMnl5clNuMhUoT6TE/43N8J4CjFNlBZbeo54SF2FEts6KscTvBvarvxMZDhwI\nbK2qWwHXFdGvx+PxrA20A75TZawq6wAzgLddWwMlDmyUrbOClbiqvo5FOCTzG+AqVV3h1pldaL/F\noGUWKwrlJ5OXJzflJpOXJzflJlOB8rQFapO+zwded5/TKfGO2TorlU98U+AnIvKOiIQismOJ+vV4\nPJ41jXbUjxE/AnjGfV4GdBCht0id26VZlHgboLuq7gr8AXisRP1mpdz8YlB+Mnl5clNuMnl5clNu\nMhXhE69T4qosVq2beR1Z4k8Cp7tlWZV4qeLEv8NmNaKq77uCAj1VdW7qiiJyDzZhBmx09qOktsD1\nEebzHdhWRPJev5m+bwt4eUogT7SsqeVL3lcZHB8vzxr+HXQxUJu+/bZ14dcdIBwKt24pMmY7OCY5\nx1EDiooTF5GBwFOqOsR9Pw1YT1VjYnmyX1LVAWm283Hinrzx54VnTUSEocANqnVT7ZPbzsUCQx4B\njgSGASNBTihZnLiIPAy8BWwmVu7rBGA0lsxpPDbD8LhsfVQaUlh5tgEp2zZVebbrRGSiiCx02x6b\nRf6yKc/m8XgaDGwmM9W9P4/5ybsCvbL2lmk+flO8qNzcKdH092osH8kCrOBDL2zm1WHYYMU1wGdJ\n250GfAGs516fAacltb+N3XXbA4dio9S9XNuWWP7wPTCf2IPAw0nbjgI2c593xqoPDU13jLDEXGOB\nvm7ZBsAxWX7vyVjloj5NcCzz/s+KPS/K9Tzy8qy5MhV2XutPQV/O0La1y6WyN+jDoMeALsl2LfgZ\nmzkQyyB4KHCpqtao6ptYkP6xbvl4Vf2nqtZiinVj51ICm1J7nap+r6rfYwp7pOt3MyxHQkwtPewT\nWOWfw9y2RwP/UdU31DIXXgoc6uRBVUepy5aoqu9hIUpDM/yMHYEnVfUHt/4UVX0gw+/dDrgBS/I1\ns9Dj5fF4cpLNEv8Uq+D1FZb4bhBmoGWkopW4Nk+saKHl2SbSzOXZRKQK2IlErnKStgspo/JszfSf\nFUS5yeTlyU25yVSgPKkhhkn9sFqVDqpMxZT4EKyWb0YqJouhxKUkmbo0VvBAWa7ybKkTm5JLqBVT\nnm1d97mQ8my3Y3nMX8jwG67CXDVHY1b2XBG5UFXvi1Zwir3Jy7N5PJ76IYZZWAysD0zLtlLFKPF0\nyjc5/KwJKbQ823o0Y3k2EbkWs/jTprRNOka3AreKSHvgJKw823uq+oVbNSrPtkO6fkpFM/1nBVFu\nMnl5clNuMhUoTzZ3SjI/YuNXE7KtVNHulGai0PJs0QAmNHF5NhGJA/sC+6jqYvJAW7g8m8fjyexO\nSeFDoCe56uo28whu2hHWTMvL5YVFpjyERafsgUWnDMKiUxZgA5wdsOiUt5K2Ow34HFPs62OK+dSk\n9reBa922UXRKT9c2GLsTR9EpDwEPJW17IabQc0aQAGdj8aZV2NPX8VjKy4GY++YH4ISWPs6Vdl74\nl38V8wI9GfSuPNbrBLoK9Jps14K3xPPjt5gCnAU8APxaVSeo6hwsmuRKbAR5RyxAHwBVvQN4ChiP\nDWo+pap3JvV7pNtmnuvjMHWzXFX1c+DXWGjhTLf/5Pp7V2LVQCYlxXZfEDW677u7rzXA9Vi2tNlY\nwrLDVHUyVrqtN/C3NLHitzbmoHk8nrTkZYmrshgLbshqiVd0ZZ9y84tB+clUyfI014zNSj5GzUG5\nyQPlJ1Nh5zVnAxurclYe644CJoI8mOla8Ja4x+PxNC/tyG9gE1VGqfJQtnUq2hL3rNn488KzJiLC\nRUBnVS7MfxtfY9Pj8XgaIHFpJXGpbubd5htimBcVrcQTqR3Lh3KTycuTm3KTycuTmxLKdBawJOda\nOShQnrqBTYnLThKXyxqz74pW4h6Px9NItsy9SukQoRM2WTCyxE/A8iIVTUUr8XIanY4oN5m8PLkp\nN5m8PLkpoUztStFJAfL8DwsVjkIMpwFIXKpSV0y3LB0VrcQ9Ho+nkZREieeNrN6ULtMAVkhczgN6\nuJYvJC4b160Wl85AjcQlZ2qUilbia7ivriR4eXJTbjJ5eXJTQplKosTzlmfw4/C7AWDulFNJ5Dwa\nADwocTnEfY8GWxtkLU2lYhJgeTweTxPQvJZ425ro0wosAd7ApNZdgNESl8lAVJ94fYnLlGxdVrQl\n3ly+ukLKswHfpGzbVOXZjhCRt9y2YzPJ3hTHSETudL95lYgcn6Z9IxF52pWOmy0iVyc1f5LpWLYU\n5ebz9fLkpmJ94ivqohlrMSXeOmWN94A+SXJ1Ag7P1mVFK/Fm5BZgGZZj5GjgNhEZLCK9gCeAi4Hu\nwDjg0WgjsQLSBwFbu9cBblnEw8AHmF/sYmCM6xMR2RLLE3409qfWYOlkI+YCfwHq3RiaiY+wwZn/\nAfVmi4lIO+BF4CVM7vWxfDMRaY9lM8js8aSjeS3xlW6sctioTbGyjGB1NZe6z8vd8qgtimbJSEUr\n8ebw1RVRnm27ZirP9rKqjsGSWmWTPxCRkSLypoj8RUTmi8gkEdlNRE4QkakiMlNEjkvaZn8R+VBE\nfnTtseQ+VfVWVX0FU8apjAS+U9UbVXWpqtaq6vikY3lYhmPZYpSbz9fLk5sSytQRQOKSmru/IPKW\np9VKex8eT76mjiRRISxViXem1EpcREa7i358mrZzxaqk90i3bYVSaHm26TRzebY82dn11wN7AngM\n2B7YGDgGuFmkbubaYqyQcldgf+A3InJQnvvZFZgiIs86V8pYEdnKtW0GrMpwLD2elqAbNtlni6ba\ngcSlWuKyPwCtl8PcTVJXmYvN4gRzs6Ra4llvMMVY4ncD+zUQVKQ/MALI6oQvGhFNfSmMTbc866tw\ncpVnSy2hNoPGlWeL2gspz5aRJF/dt6p6r1qynMewHOeXqeoKVX0RO3k2cdu8qqqfuc/jgUewfOT5\n0A+zLP6K5Sp/Bvi3iLR1v21ByvqLCv1NpabcfL5entyUUKZumHHVrzGd5JDnWOBpAFrXwncN6pnP\nxm4k02loifcCdsu274KVuKq+jhUvSOUvwHmF9lfAjqUkr8IptDxbaom1Ji3PVgDJleuXAqjq7JRl\nnQBEZBdnQc8SkQVYcYueee6nBnhdVZ9X1ZWqep3bdgty/2aPp9mQuAh2Lc/ACrM0Fe3rPrVZDivb\nw+pWy8HKTmpM5wMHYNfIcsxPH23zB+wpOiMl8Ym7R+3vVPWTnCuXkGby1RVanm1Tmqk8myPr00WR\nx+gh4Emgn6p2wwZY8z1X6p0DIpJ845wItM1wLFuMcvP5enlyUyKZOgCrsafDRinxHPIkBk9b18Kq\ndqCt6iXA0pj+qDFdTMIS/2+++250nLjzo16EuVLqFmdZ/x5gsvu6AIt0iNoCSDya5PoObCsiea9f\n7HcsAuUyEbkX8+seAAx1n7cVkUOBZ4G7gBmqGinad4BLRORZd0wuAf7p9jFRRL4B7hKRkcDPMYUf\nVZp/EHhPRM4ERgOXA68DOwGhiLQCfor5k1uJFUDeA/M5J8u/rTvOyb/nuwzHczsXXdIJe9raTUS2\nAH4FPJ+0/ZtYaFQ3YIiIdMBOvmGYoj7XhUsqNvg7Gyv2ugdW5egyETkZK9h8iPtN6eSpl2y/Cf9f\nGrO9l6cyv/MPfkZADRuzDOjQZMdvlPm7RSRg8K+hexVoq2V8S+cG5/eB9GZ7fuBbIs2otOUrso2F\naVE14hiIRWUADMEe1b91rxWYku6dZjvN0F/a5eXywsIH/4W5AyYDRya17Y0pqBrgFWBAyrZXYwMX\nc4E/p7RtAIx1204A9kppPwobY1js9t8tqW0kZkUkv0YntS8CdnefjwdeS2rbBFP2yfuaBuzmPh/m\nfudCrLzc34D7ktYN3f5WJe37J0nthwBfYT79V4BB+RzLSjsv/KuyX4ziCkbxPaO4nlH8PqXtSUax\nTon2cyWjUEbRnj3+pPz0fOWijp8zCk2z7uWM4j63/iJG8QmjuDLbtVBUUQgRGYjVixySpu1bYAdV\nnZemTdUXhfDkiT8vPE2JxOVT4D5snGaZxvSKpLalwKka0/tLsJ9bsbq26xDGZoPCgg2GcfBJP2hM\nJ6asewlWW/ctLGrsDmA8o7g+07VQTIjhw24Hm4nINBE5IWWVZisVtAb76kqGlyc35SaTlyc3JZKp\nFpuUZu6UuOwocblR4tIe85E3iMIrUp4o5Lo/XafC4nXhoxNnpCpwx3Jsgty7GtNabGDz79n2XbBP\nXFWzTpNW1Y0K7dPj8XhagLbASiwyqztm+Z4N/AlT8PuUaD89gHnA1vT5GMadBpmr3c9x75MBNKZz\nAGRU5gfSip6xqWt2/GpJ8PLkptxk8vLkpkQytcGU6TLM8o5CXbthU+G7S1zaZti2EHl6YGNfW9Nx\nFixaDzKXZ4tmYH+Xz36hwpW4x+PxNII2mCW+iMTcD7C5Cz9iAQd5FWbIQQ/gNWArqufA0p64/aYj\nms8xId/OK1qJr8G+upLh5clNucnk5clNiWSKlPgkLP1ElCe2k/tcQyKvd2Pk6Y6FG28HEmUyzORO\n+QgYpDFNnSWeEZ9P3OPxrK1ESvxLYBCJWZI9MRfLElyCrGKRuLTG0kp8BHzPlD3XcU1pLXGNqQJf\nFLKPilbia7CvrmR4eXJTbjJ5eXJTIpnaAis0pnMlLotIJMFaBxvszNsSTyePxGV74ERgkca0VoTt\nsbkVkNkSL5iKdqd4PB5PI4gscYAPsQycYEp8GQUo8QwchU2ci5K+JQ+SZvKJF0xFK/E12FdXMrw8\nuSk3mbw8uSmZT/zRMf1FOAlzd0Qpk3tRoCWeQZ79gL4kBkyTC1Csarh6cVS0Em8upLDybL1Ttm2q\n8mzXichEsRJoE0Sk2QorSOPKs3XOdCw9nmamDZOHnQWcTFIOJxJK/EdgRD4V51ORuPyDxE1hkQhP\nY4VdAFAt3aTIilbizeirK6Q82/9FG0nTlmdbDPxCVbtguVH+KiINEhU30TFqTHm2X1Fm5dnKzefr\n5clNSWRa3aodtZ2Ow6zlN5NaemHn6HfAhdh5Wqg8JyZ9XoQVV/lDY8TNREUr8eZACi/Pto00T3m2\nUeqyJarqe1iGwwZK3O1rpJRPebZMx9LjaWakLdrqaqAvo3QmVunqSRIDm7Pcitu53OOl4K4S9VNH\nRSvxZvLVFVqebQbNXJ5NRKqwdK4N8nInHaNyKc+2OsOxbDHKzefr5clNY2WSuAitVkGrVbdhg4xd\nNKYfYpk7I3fKrVhBlLOBPxYtz6q2Vdg1VYVlAC0pFRNiKGHY0Ic0diwShgX1o0FQ6B01V3m22Slt\nNTSuPNu67nMh5dluBz5S1Rcy/gpXng1ARB7D3DeXqeoK4EURicqzfaKqr0Ybqep4EYnKs/07S/8R\n/YAAy7n+MnAOVp5tCxKTKJJp8fJsnrWQ2YPa0OMrWFk1F/gBc6n8iCnbXlhWwzkSl7uxTIJbp+tG\n4jICeDfDXhYA3ajp1Rb4SJVlIqU3nCtGiRehfEtFoeXZoBnLs4nItZjFPzyd8KoaihWdKKg8G/Bn\nzEKOSkU9lq7/NNSVZ3PfrxORS0iUZ0utoNLi5dnKzefr5clNo2X6cGQXhsdQpUaEH7Dxmy9JnKN2\njcR0hcTll9jgJxKXbphFvbvr6XHgv4zimAb7ePfMXdjlpi+p6SnA125p60bJnYaKdqc0E4WWZ9uY\nZirPJiJxYF9gH1VdTOloyvJsmY6lx9N8LBzQg9Vtoqf7OZgfHBJGVvJ4zyckJgLdhJ2vMeBct2w/\n3FgXgPT8an1Wt4Lnbjye8I/XMeaRt7GCOdAEOreilXhz+Oqczzoqz1YtIntgroL7sQo1W4nIoWIl\nymKYnztStPcBvxOR9URkfeB3wD2u34lYlEdMRDqIlXjbCle+DSvPdoCI7OFuDpcD/4x86CJyITaZ\nYISqpitcjVsvKOJndwLmq2qtiOyMRZTUubNEpK37va2Adk7+SFk/AOzqQi9bY+6U2cAEJ/sbGY5l\ni1FuPl8vT26KkUmEWSIMFWE3VrfugraOzulFQCcRNuP566JB/KVJm04G+rvBzT7YuNJVQNy1P8Q4\nEhFWKzucbPlRWl1EGP89s7fsS0KJl9yjUNFKvBn5LfYINQtTUr9W1QmqOgeLJrkSyxe8I3BZtJGq\n3oGVNxuP3c2fUtU7k/o90m0zz/VxmKrOddt+jlX4eBBzhVQ5OSKuBPoDk0RkkXtdEDW679Ejn9Kw\nWEe2ONXfYop2IRYV82hK+4uY22RX4E73eU8n90RsoPR297sOAA5U1WiG2g2kOZZZZPF4ikaEdUXq\nMhGug9W5PZzO3/dhRVU04SYal9mG2s6Ru6NOiWtMV2AlCNtiCvxy4DkSY1azaZXkJuw4azuWRnUg\nWIKVsIyUeMndKRXjE09Hc/nqnKV7SIa2l7HkOZm2PR84P0PbFDL4sl37w1gkSbq2rDdgVU0dLLw3\nqW0SKSeTqvZP+vxPEk8E6foOcuz7X9hTSrq2p4Gns23f3JSbz9fLk5sCZLoJGCPC4+77T4Dv6Dql\nHzW9lrtli7GnzyXU1nk3U8Nno9mbPYB7NKbzJS5RwMNstk9as9vkrZm/8Uoszrwd9oT9jWv17hSP\nx+MpgAHYwHyUobATMIQ5g37N0p6Rtb0UOAHolKTEl1KfpViI7IYkqu9E4cHzcHnHRWhHry/7s964\nuzALfD23TlTswSvxZNYUX11T4uXJTbnJ5OXJTQEy9cM8DslRUTvResV21PSMlPAWmILul0WJ1wDX\nAFOTcn3Pr2sbz8C6vjZ6aRntF72kWjdIiiqro495yp03Fa3EPR6PJxMitGXj5/uy4ct9SVjiHwFt\n6DQDanpGyvg19/6zJCWeGvZag+UZvyhaoDH9UWMqQE2dT7xNzUas/14HbAA/InlM6W6gXo6knL8j\nDHfO1l6UEheR0W6q9vikZde6REwfi8gTIpIa41xyKtxX1yx4eXJTbjJ5eXKTp0x92elWYYsnNyOh\nxC2PT59PprDuR09aX9yKDXgOobauBsS0lL5qgIEkpuIns4wt2UniMoADTz2IZV1rNKbRvIx9sQgt\nJzfLVHklD9kBkDCsJkf0VrGW+N1YbGQyLwBbquo2WDzwhUX27fF4PKWgH9VzodXKdpg7ZSKR1d11\nyirWf39c0rohAGrj/WnKo9Vg/vR0BYy/xnzik9n6wZFMDuoq86jygio/FCO8hOHmwLOojsu2XlFK\nXFVfJ+EPipa9qKqR3+ddzBfVpFS4r65Z8PLkptxk8vLkJk+Z1qeqTom3x3IPWdqH6rlVJAYbAd4H\nYM5m7/PYY5fSkFHAnhprGA6rMf2cScwkigGfs/mUfH9HJiQM22KzQV+Yc9BBL2Zbt6lCDE8kQ2hc\nJkSkKIe/lCy5WOkoN5m8PJ61FLPEt37g50zf+V7+d0pCiXdY0BESFrIqtSJsBK3O4fPDG8x+1lgi\nn1BaNKnc2vIuqfmUCkLCsDOW9uK72D33XNVz0aIPsq1fciUuIhcDtar6UIb2e7AZUGAJYj5SVXFt\nAST8Xf67/y4iQTnJ47+Xx3eXEyjr+nDXzsyaDRvSgcGP78aX0pEld2yDvANtazpyFZvLKNkksb5s\nAHf2gFNmFyzfpqxXN52ntvP8on9fp05teOqpywjDFVxzzQ/3LV363BILk8yIqBYX8SIiA7EZiEOS\nlo0ETgH2VtUGuaZFRCOF7fF4PE2JdJn+d87tdzIAn/3yKrYccyEfnNKfVy6fxjkDF+oVSxsEX4hw\nAZZmIgTOV20Qaph+X3GZB7zGD1vvyhP3X6Yzt74150apfYRhN+BvWIK9g3X48F2wlB//J/BwJt1Z\nshBDEdkPq1xxUDoF3hRUsK+u8fuJy+Uuo1r29crsGJWbPFB+Mnl5cpOXTJ2/T1wf7Rf2AmDQE+3o\nPANWts+Ub2gRNknnTMg/ioTbGAn8kts/fp1ZWxfsTpEwbIOlswA4ToNgNXAtcD6qj2TbttgQw4eB\nt4DNRWSaiJyITW/thOWm/lBECr4TeQriEizHd4sjcakupg6hx9OkdJyVSPVcNb8vANVzt2JYfDWr\n283JsFVyfPi2InlWu5/JQo3pSixKJS/rPYVzsVwsx2sQLMDSQffDMopmpagLT1XTFbcdXUxfjaGC\n41dLxcpcKzSTPK9iudE3z7Wi/89y4+XJTV4yHf2Lfeo+d1jQx316gEFPtmLxOplSN0fLTwSuwHKl\npBYySSuPDYyyHenLFmZEwvAOLJ58Lw0CRaQP5la5kUTiuIz4GZuVTc4/uJmYDWwmcUkt+ODxlAfV\nszdynywxXKvVmZR4ZInXYFkLd83WrQg/EyFy27yP5UrJ2xKXMDwUe6IerEEQJcm6E/N03JRPHxWt\nxCvWV9fYfcSlXd3u4tnj9ZpKHonLcIlLlAkxygbXPed2a+l/VghentwULFPVgl71vndYkG7mJSQs\n8SVY6trHRWglgougo7UIg0W4XoTrgWeB+SJXX41Z7ZCnEpcwPBNT2CdrEJi1bwXUhwIXo7oqy+Z1\nVLQSX4sSDiV8AAAgAElEQVSJ5gavA6wuYSXuQngIOF3isj/U+Q1zKnGPpyxotSqTiySyxJdgRVwA\nVgFXu8/3kSg4Hp3370H3PiTI6U6RMDwI+D9gmAaB5VmxCRSXArdjRdfzoqKVeMX66hpPlCu8T8p7\nA5pQnk7AdcAFJG4qO+S6oazF/1neeHlyk0smiYvptq9HJIqNLxgwE+qyDeZS4ouBm6FuEs/Bzhrf\nC6stcCoJd8cTcOqCpD5SC5zXly0Mjwb+DhyrQfBZUtPVWDbFG7Ntn0pFK/G1mKiAQ2/3vmFz7twp\n6o6Yz3AnzAKfhJWe2605ZfF4MlDNiirlgecmc7nz9rVZ3ppEYqtMLo+pwIFYdfoV2LwXgE2xnFF9\ngWdc29dY8ZQ51C96/n0moSQM98ZmYx6kQfBmokG6un0djOq8/H9mhSvxNcJXVxxbufdIifeXuFRJ\nXNrWkyUu3ZpInvbYoOrNWEHnwcBB2KPm4Czbrc3/Wd54eXKTh0wdWVGtaOubWNXuVsadNp8vDn5b\nY3X5ndIGBaiiqjyliWn0ydPttwKeULWc4KosV+WXwI/wryGYC6Z11N5A5jDcBbgLOFWD4O2U5qOB\nl1Cd0XDL7FS0El+LGYL56aLpuI9i1UWmR4+REpeewHwG1lXxLiUdgcUa0zNJ5FeuwU74I5pgfx5P\noXR0aWX/pcrpPH37Mzx9e5jUntegoSqTsbqw3wDrA3ekWW0WdN8RmJFU/KEeEob7Af8B/qRB8Fz9\nRtkEmyh5ez4ypVLRSrwSfXWNReLyLnA6Vqx1z7r9xrQK8+Nt6hZZSNVIJhaxj44SryuynI6OuNJU\nGtPnMSt8KhYWNTBb32vjf1YoXp7c5CFTd5Z1FxJuk/Mxd1/E3Pz3xe8w10kfEgWPk3kdAiB9JXun\nwO8BDtcg+Hv9RhHgSeBvWL3egqloJb6WElX5uB04FEtS/4xbNg7Y0X2ORs6TfXX5Mhx4vG5wqCF1\nShxAY/of95g6j0SYlcfTcqxq24uaXoKLFFHle1WSfc2FTo0/HOiuylepDZncJwAShucCtwKnaBC8\nlmaVn2B6uKDBzGQqWolXqK+u+L7jUpX0dZbG9CmNaR+N6S/csmQlbuu+SDaLOhPrA+sCO6Tsv4PE\nZQNSlHgS84GuWZT/WvefFYOXJzc5Zart1Jel3VdlULBPAK8Xsj9VflTNFnVy/Q3AsXXyhWFfCcPH\nsBwswzQInsqw4enArRSbiZAKV+JrIXXVlDSW9k//gFRLvF1d+F8hDMAm8ByYsvxbLI3wCNIocY3p\nKixEq8lL83k8mZC4bAkMYln39IOXMT1MY9qonN8N+f1/VHlbwlBcTcxXsOtlWw2C1FJvTlC5EjOU\nspZfy0VFJy2qUF9dY4gmEWyXoX0qZkFDpMSHMb2QHbjMiGcAt9Ew0qSve/8T8N8MXUQulbRZ4tbC\n/6xgvDy5ySHTxbT/8UBqejWfkTp27GsShrtjiek2AW7SIPhbxvVFBgC/BjZFNWtceS68JV5ZVAFP\nakw/ytC+mMTEm8j1UqhPvB9W8eQ5EpOKkqlJeU/F+8U9LU0VrVZ3ZEnvtrlXbTwShn2Al7DwwVew\nPCiZFbhxCvBgoTHh6ahoJV6RvrrGkSvN5RKgm8tpYpb4BwzJsn46qrEZZwtJugG4CT5LScwOTRtK\nhSnxnpk6Xwv/s4Lx8uQmh0yWiK169tNNLkcYngN8ydNPfwdspUFwrQbBiuwbyQBMid9WChkqWomv\nheSjxDsAD2DKeCmtC/aJR/uoU+LupnA4oBrTKEFQ+wzbzwOOkbj8ssD9ejylwpR4Ta/UivUlQ8Kw\nrYThKVge8CFcf/1oDYLcseciPYA3gavRhkWXi6GilXgF+uoaS1Yl7gYWAY7ElPhMtq2X5D4fqkko\n8U2dBT4Cm1CUPBiU6VH1H9jgZtrHybXwPysYL09ucshUxRt/eJaPRn7ZFPt2VXiewXKOH6BBMK2A\nY3QN8CSqN5RKnooe2FwLKaRqyBDMtx1Z09VYMp+VWPKqWuAojek9GfYxHzs/hmEDNY9gFj7YFOG0\n+SE0pi9JXMYB6QqHeDzNQQemDJvPsu7pwmAbhYThAOAqQIE98rK+AUSqscyfWwHbl1KmirbEK9BX\n11jyVeJfYRN2ZvA1P5G4KJak56/ALzAre1/gbonLHhKXqRKXc9221UCNxnQJFk+7DubjnqQxfQZA\nY/qQxrJaHjWQ3o2zFv5nBePlyU0OmapY3kVI5LkvzT7DsBcWXz4b+H/JCjyPY3QTdu1uhWpJ3TwV\nrcTXQqrIXSqqA5bfoQswk1Z1kSJVWIhgFCb4b/c+FPgO+K1znSTfKOZikSY9KGSackxrAVITcnk8\nzUQHlnduTQmVuIThrsDTwKMaBOdoECzItY1tKOshEgK7AKfQBEXkC3aniMhoYH9glqoOcct6YD7T\nDbDJIEeoan4/shFUoK+usXTDjm/m/cd0ucuvAvBDSpLamSTyO0xx/W0PPIXNHHsZG3SJlPhqbHr/\nRODKAmWtIRHpkpAvy/GRMGyN3YS6ufdWToZV7rUCmOUqgZeMcjuPvDy5ySqT0oHlXdtSIiUuYbgF\ndo38EcsDnp88Iv0wxf8f4HJUs0etFEkxPvG7sUeD+5KWXQC8qKrXiMj57vsFJZDPU5/uQD43xyiO\nfGbSshBzi0Rlqs4ARmE+7yewgZpTMTfMvm6dpZgyvg47GQshcqmkncgg127wEzY87QB67dYH2B2r\nTdgem9C0EIu0Ueym0wZo7do7SRh+g+Uvfx24RYOgmOrinjUQiUsrVrXvzeK+hwKPNbq/MByGlVC7\nWIPgzvw3lMOxJ+K/AfHGTKvPRcFKXFVfF5GBKYsPxJQBwL2YwmhyJS4iQblZCU0sU3cyzIRMRmO6\nWOICsJJvgQ25EngRGxmfDpyrMX1a4vIbzBJ/BUtu/yTwG43pC66r37l1i7F818EyKdYNgEoYtuam\nm87kzDM3Z8i1p7Lk61bAb7AZoNM0CHIOREkYdgQ2xgZbfwX8UcLweSzJ0Lt1tQoLoNzOIy9PbrLI\nFENWw8oqaKQlLmE4GLsuzsQG9nPLI9IOOB47p/dCM07MKxmlik7po6qR1TeTLOXCPI0iLyWeRDSA\n8lfMqt0cs2D/55bPBN7XmEb+7ufcC6jLz1KsBdEaOEfCcDmW82VTYD922mkBcBef/3Eui75cR2Na\nUA5lp+g/ca8nJAx7AMdhpa36SBjeAYzRICg4Ba9njeCPtK7zWnQothMJw3Wx9LGXahA8nN9G0hcz\nYquAg5pDgUMTDGyqNurCL3RfYXPspxCaWKZClHhf4HHu1QGM0oHYwGR7bNwiqvT9JWZ9lxQJw1YM\nufYOdrxnBOaq6Qi8AeyiF1ywmQbBNSz6smCLOR0aBPM0CG7UINgZs8zXA96QMIxLGOZVtq7czqNK\nkkfiIhKXfTO1NxVZj9HoV6MMhUXdyCUMewMfYk+o6YpApGwgrdVy6n+JGRd7ofpWMfsuCnX1iAp5\nYYn/xyd9/wLo6z6vC3yRYTvF7m6j3OscIEhqD/z3LN+P40f6clBh2z81wW6tCscyh+NYzCi2ajJ5\njz76YsaOfZOXnx/HbzdZTOdOI9KtzygmcTxKZ/Yt9fFi7NgBjB17F9ddt4ALLhjD2LF7MnZsmxb/\n/9bE71txIqNQRrE5+3Fzi8rThf04nuWw6gXQfYrqb5119mPs2GcZO/ZP+ax/Opyl8L7C2MEWvluS\n3+M+30NCX2q0XupL3AYF4XziT2kiOuUaYK6qXi0iFwDdVLWBT1xEVFWzVkMvUI5Ay8xqaSqZXI7u\nWqCDxjRtis308jz/A+zbRxWRuHyKpYkdkCGVbfHyhWEVcBpWZuoslkz+D+NOqAWmaUwH1K3njo/E\nZQKwhVvcX2P6XSnlcTL1Af4Pc+dUAQ8Cd2kQ1JuoVG7nUSXJI3H5GfCs+/qhxrSkE1kKkcnlun+D\nUfo1MEqVMN22Gfu0iTzvYWUGj8maA8Uq8uyF+cp/2wnmLS6yMk9esmXRncWEGD6MDWL2EpFpWNjN\nn4HHROQkXIhh8eJ6MtAZm4STtwI36oU1zQPGNoECj/JBfAcMj/zRMu4EgP4ZNpuK+exnY+fTg6WU\nCUCDYCZwgYThhVgpuyOAzyUMJ2F1E5/wkS3FI3EZjKVZiMj0Xydv8zgWCLGlxnRSiUXqhU1qa4cZ\nPHkjYSiY6+RmDYIrsq8sbbGQ6u2AY1H975IWnBBVsE9cVY9S1fVUtZ2q9lfVu1V1nqr+VFU3U9V9\ntBlixJ0sYXPspxCaUKZCBzUd+/2Q9OVZYHSJ5AHqQrCeA57VIBiRMqB4DlDPmkk6Poo9Jn4DjSvm\nLHHJaoxoEKgGwWsaBGdgVYsuAk5GmSMvvfoEY8f2lDAspoxdk1Bu53UWeU6hftx0l5TqU+nYDpgB\nbFYKmSQunSQuvd3idTCjoC0p5102JAzXAd7FJshdnX1lGYqF47YHNkf1v8nytAR+xmblkG+MeCrL\nAEQQjemfNaYflkogCcMDMItkNHBemlUeIhEhY9vEZX2Jyxm46f3YRZdRiUtc2mYt92ZtKyQuh+Yj\nswbBEg2CFzQIhnP40Gu4ZeNDgJOBiRKGt0gYbp1PPx7AZvJGhYPvw8JX+2Va2WXD7I/F9+djtVdJ\nXHLd4P8FzJS49KN4S/xa4B1gz4wuFJFWLvb73+51GKoFWftNRUUr8QrM6dAYirTE/9PNfehUKkEk\nDLtIGD6CTfw6UIPgjgyJgOZh+c0TlvJLdeGA65CHEscyIo7K0h752w/P+wdEzG2/NU/2g+HDrwZ+\nirmDXpIwfFzC8EgJwxa5PsrtvM4iTxfsJv01NrP3O2AviUumepLrYJO/JpFF2QNIXNpjT45pQ1CT\nZPqpe/8NCUs8byUuYXgslqXz4owzgUX6YNEqo4BfoHoLKdPnW/I/q2glvpZRsBIXYRi0bue+dnHL\neolwg0jGfOCZ+7P6gYdgk7kWABtqELyXaX2XGrd+kQir+VmNDWrWYBd1WleGxKUj9tg6NItYg4DP\ngX1zuVXSUFe5SIPgUw2Cq4DBLG31X5SzgekShjGXDsDTkM7AQo3pJhrTt4FPgSuAX0hc0o2LrYu5\nUr4jtyV+AHaD3ibTChKX5IInu5KwxNuShxKXMDwUiAO/0CBomLJZRBA5A7PS/4nqlqhmPN9biopO\nRVtuvkNonEwSly3IrLD2oAAlLsJmQAj7R4+HXbHH3R0wX/X6FDAA7QZ+4pjFexVwvwZBPgOks4De\nRCkAfsL3mIunA6bEoxwriX3F5VpsltzfMd9mP4nLbsB7aQZ2B2E5X/bELuQ38v1N2ISkhH9V+CUE\nGwGXIXoXr7x6HDbYdZiE4Y3A3Xn+5kZRbud1FnkiSzziGcwifhzYmobT3tfFZvBOBXaVuHTVmP7o\nEq/trjFN/u9GYBNnzpe4dEoqRlInk8TlT8DNToazsHPsNcwSz+oTd9FU1wGnaBA0dDFa6ti4k+N4\nVF/L1p/3iXsifg+cBPwkzasVMKaAviI3Slssjn9/930l5scMnKLPiave/Q0WqjdMg+C+ApTZ98BO\nAM5vuRn2+A0JJV4lcdncXcxgiqA9lt/lGcxqfxPYLU3/g4AJ2ODqPnnKFJGaUe4qzNXTHpXTGR4o\ndhGfg91U3pIwPN1b5nV0hXpFR14GzsZ83hdLXD6QuCRb3JEl/hrm9rjILR8IvC5x2Shp3QOw/PWf\nA3s690o0uehuicufsf/kbo3pxdiNYSfy8IlLGG6FDWS+pUHQMCxQJJrZPAj4aS4F3tJUtBIvN98h\nNFqmauBWjekJGV7P5uwhgXOjhGBWykUiddkBJ2CxsNtl60DCcB0Jwyj51TnALhoEs7Jtk4Z/A7s7\nS/pbvuVsEpkYky3xLzDrrBN2Xu7i1nkHGIkp8Q3S9B8p8W+x2ZqFsAJA5LxoUDY1DndHDYJVGgSv\nOHkux55exkkYnuqeTkpOuZ3XWeTpRVK1J43pMo3p3zBlPhbLyzNV4hIZC+sBMzSmy7FK70e7dMXR\neXgKENVz7YU9OS7HfOPRzOIewEi+5XygE1fUzBKhLTANy6cznSxKXMJwoOvvRuDYND92N+yc/SOq\nv0B1TsYDU28z7xP3GFHERk5EWE+Es7Kskuzz/gK72PpgSnyZ+94rzXZIGFZJGP4ay7HSFrO+/12k\nK+F7zCe+CeYfB0uDC4ksiZE7pZuTcSYJa/1Ljem9mHW3QXKOcnexRz7xeVCXOz1f2gMvwjZR8rZk\npTwO57cV4ViGB0dpEDyLZXm8ALMCb5Iw7MtaiMSlHeZOaVCtXWP6ucZ0LywTJUBUb3U9zBJHY/qZ\n274WSzJ1P3CqxGU9t3yZU/YnYlZ55BvfFPieFXwJnM7KqmnYPBWLkvnglGnYOd4gkkvCcCQ2QHmd\nBsHoBuezSJQm4kZU7yrsiLQcFa3Ek/1QEpf7JC5bJD2StwiN9I3lrcSBLYFrROiaod1Z4gHYhfIj\ndiF0I6HEG0SFuLwRz2O5IEZqEJytQdCYgq5zMSXeAfjC5Tf/AcD5t5OrAHXAKXGXlGsf4L+ubQpm\niddKXI6RuByN5Rpv7X7LfKC7xOUXEpdj8pStAzAGjv65CNeQUOITMH/8UBGOxcLnYiK00iBYrUHw\nPObiqgI+kTDcJV3nxVIhPvHewKwcGS7/gR3LM9x4zx6YEo34k3u/D8tC+XfMCh6NuUXQmE7ELOda\nicvewNvAejykRzJKoxj1bYie7p66syfwtSr15JIwDLBQwqEaBA3rv4rs4PZ7DFpYUjbwPvFG4xT3\n4dgJc3ILi9MYClHi1ZgleViG9vYkLKEVmD/yUeAvmBKfB8SilSUMW0sY/gXzBb4H7J/WX1g4czCL\nvz0JC/xzEpWFlpC4mUSWeKTkX9RYXSjXFCxbIdjgbBRa2JVR2pYVHRZgd6wnyL++ZwcsogIsp3l0\nPXyLzSANMAVzB7ChWwcADYL5GgQnYZbisxKG16xlvvK+uP8pExrTs7Far99g1+ZUzBcdtf9ZYyoa\n0+M1pu9gA4k3YOfGyKT1VmP/w2HAa7xz9ruYu2YvzOIeiCno7pilXm8mqHMJ3g+coEHwRQNBRfbD\nbhSjUH0p3wNQLlS0EheRQOLSFTtRojtv0eknS0GhvjGJyzUSlyh1b6FKvAY4UyTt/9gOmOR84rVY\nNAq4R1UscmAO1D1mfoFFFGygQfD7ElbPSbbEZ7uH3kUa04Nd+0Koe5rYDFMOM2nI2+79HSxPeTRd\n/ntgPtfMOQbL47wfZiXWIXF5X+JSz+0hwiVYXvJlcN1fsBtLdO58q8oSzGUyRpVfk5hmXQ8NgqeB\nbbFBtRtKEVteIT7xev+TCK1FGqagdmGmF7qvR2ZLG6ExXerqt96nsQaDifcDJ6H05ONjdoJXOmL/\n95VAX0ZpJ43pAsxtNwksm6ZzCx4CbO3+q9Qftx72BHAUqv9o0J4n3ideLPbwOxn4GLMKbsR8uJXE\nSSQKaBSqxN/AFEi6qIz2JPzKqYM8y4Dl7DCvvYTho8Al2CDPPhoERUwoyso8zEKKfPGQdN5pTBeS\nmLq9CwmfeD3cBVqFRawcCPwcuB7ziVezomOgMb0Ps/p6p2y+I3bBJ3M89gSwDJYsxp7gojGCbwBU\neVC1bhLRy8COIjRwnWgQTMMUxY7AeOeSWtOpe2ISYTAWVpjJMv8Q+KvGtGEsdp5oTL8CJiFsyZI+\nNbByIfbE9Sj25Bilw90U+Mo9FT2BDZYenPa8FtkRGA/cjOorxcrW0lS2Eo/xHgnrqQp7tOqWeYOm\npxDfmHMDdcUGdNpjyi5fJV6FVbV/1X1OpR2wAIJdVKnFBuSMg6evywuv3sl5X3bCwr121iB4p1jr\nW4TzRDgoXZvGdAXmMukNLGND9gZSH1kvxLIfbkaSckjT12rM/fEaFvo3y90EALYTYScsLr1PmrGR\nP0tcBiR9t0HQU3fYh823meqWbere02VUfB44GHsSaCibFc7dHYvkubcxrpVy9olLXPpLXLYFzgXe\nF2Fj4DPsJka6SWQa08Ua03NKIMo4ABb3WQz7vA28q8o04BbgHBF+A+zDQdOXY+6wTsCuGgTjG/Qk\n0gYzHs5BNXu+lDzwPvHiSZ7F2AN7NN+25cQpmGrMX90as1InY6FSWRGhDXbRLMUUTrop9e2BWlVs\nhtnYcByvhL/j+o/g+Mn7orzOSTuu1CC4RYOgQYRBgVyNXUiZmIu5c5ZrTF9JfaTWmM7DfKFdMJdO\nOndKtO5yzOqaTyJGeSJ2HE7UmNZgx7Qz1E3fBvMr7QP26E/kwun96fHsffFPAFTr8oA0+A9UmYq7\nEYqkvWnioh0ucV8nuHC2NQYX5z8Vs6w/05jehuXQjpgB7CJSN3ZRaj5gdev5rG63BLuhRmMUTwKb\n0nr1NRwx7RPO/uo6zMA5LG0uFJH+2ID5HCwWvaKpbCX+OPtgF/OXWITCF8AB2RImNTUF+sa6YlEj\nkaI5N880sTtigzqbY4qsc5p12tFKl8uIESdLGI4BvkcYyts9X+L32+zJvsP+xuK2bUUaxEbnjQgi\nEkXB1Pnc0zEXCy9blun4ON/ps9iEnlwDZsuAS4EP3KIaLNlWNL1/FokSgZ0xl869JNxOXYHFQC/a\n1K7Pws/3ZVTdOdNOtc7/Xn+/ygdOtu4ZZTOl8XPgLuBRNzOwIMrRJy5x+QVWozXyK0c3vI2xG9cR\nmFvjEeBeER4U4SN3wywVb7OywwygBmRPVSxfz9hwCKd8DQ+/04nTvu6PcLAGwaUaBA2LdCfSyL6L\n5UEpyQxc7xMvlmo6YUp8N2AHjelzWLD/XRKXQ13IYaMrXjcF7tF+Oolpy9NTph1nY1DS5wZKXMJw\nY347aShPvnkiI0Zchl1cAzQIjtDH+4/QSZ0+V0Uxi7UxYwhvY4o3BBDhGRFuSLPeHJwlnqO/f7n3\nz3LtWGN6i8bq8lhUY9ZzLxH6UFv9I9BX4tIFu3kswrlDJC6jOb/H/bRaMY9RUgt0wiaLnA+gygqJ\ny0SJS7qsjGDnW9Z4dGeRX+t+x1QJw0JnkpYjT2E+6KhgcDQNfiPgU1Uex/6Ddd3yX2GhfztFHYhQ\nJcI7IswVqXNd5Y3G9H3u+OAMYAnV1a0lDI92BsrT7DLvdR4Z8HvdK9hag+DNtB2IbICdrwuAS1Ft\nVCHlcqGic6ewP1OA+e5xPOJZbDBjC8x/WXh2u0aQj2/M1SSM4p+/x3yxhVS26Ye5Ly7AKtd0kjBs\nzw/tzwN+RV+6s9WPS7l3gwd0zB6/zdJPLUUk0AcQoSM2EPkWFhn0FWaB7uZkSibhTsl+fJ4G/uwG\nMQshUuKDgDeZvnM7NgzvJnHjeEtjOkPi8hxwAm1rZjBw7CK3/hdszO1Qb8ByU8xFdE2afc0C1hNh\nPvBDnTWYglPkJ0oY7gn8U8LwJuBWDYK56davt22Z+cQZVe/J5BP3Ho0vbExiAP0lLJb/KOzYnoQd\n12gc4RTshj4Zy3XzVcGybN+1H0M/68/wZ/7u9vskcLyetNMSTsqynUhr4GEsNPEyNGt8e8G05H9W\ndkpc4lKNhQ39IfKdSlw2Bn7UWIMpsOky+52LnSzfk36adjmwpXs/EbOSD8aiH/KlFzBJlcXSWr9i\n53k3MKX6dGa3r+KpdTvwfdWmTOr8CBZbm41IiRfDHsAq7GY5HbO89gaOTLPuHCyW6Ps0bXVoTJeQ\nCEcrhI7YoNcNwAZ0+PFIbLZlb43pbAARTuGSdg/QpnYqM4d0Y7e/jMAU0CRMqRwJdX5f3Od2GmuQ\nM/pt4G+YK+skchTZ0CB4XcJwBJb64AMJwz8ALzVBFFBBuNDc84A5GtN0T0/JbEMiVHQiNhFsvAtt\nHYhzrajW5doGGCfCEOA8EW5yk29+hqWW3RD4hwgTsCelmaqZE5dJGLYFDgXO4feyFS/0nQIcr0Hw\nQaZt6ncg/bCJRcsxC7ykCrylaXZ3isRloMTlColLJr/iYbgCym79ntiF9gc31TfBO+xEihJ3YUwH\nYhEbzR6pkqdvbH3gPI3p3RrTzzSmV7rJDnn0Txtcyk0Jw9a89OpwLv18JdOqHuOCISN4rfc7TOrc\nG/vtc3PI0xglPhybLt0Di9NfjIWZpftfI+X9cal9hy4aohOmCK4BHuW5v04Bhicp8J7AnVyxfJXG\n9EzeO+N/9P2oM1FCpptpB2wvcemBZZF8CvN9p0tLMA5T4F9hsdI50SD42E0MOhu7cU+RMHxbwvDs\ndFEszeRfPRIbIL4q5xjS2xyNhettoTFdrjH9j8b0W+z4LXAx9el4GbvJHyHCFrgQTMwaXow9eY0B\n7hapf/N3aSVEwvAw7Cn1LFZzBb/adTTXb/4Qw4enGwdqiEg34EXsJnREUynwtc0n/nfgYhIZzFLZ\nFYvU2MudXGdhmffOxgL+E1QxABsYTGU6FvRfN9gmcRniKouUAw1mleWDCAdifuxe/OGLTYDvEDag\netVgvWTIr3VlqzdIDOpFg6bZqAVGijBLhEvz2P+uImziBkNHYFboS9j/s4jM+VhWAmhMM0adNIL+\nwHRVooiXRUzds7XG6j3eRk9wvwfgk2OWoLISsyhnMIfF2CDprths0PfcNumKVbyBzeC8kYRLIS9c\n/pmfYcr/IuwJbJKE4UUtUIBiO6yS+kKgt8RlM4nLixKXTRqsWcX6wASN6ZcpLYNIuFIa4CJ69sLc\nGBOAK1T5RpWPVemMXdsfY9fqwyJ2UxRB6F8znfvfHccKuZlH+1/I8OB+9g6OYG77QW6b3IjsjIXg\nvojq/6E6O9cmlUhLKPHoTnhSUm28KMVkP8yHdgb2WL0KK6J7PjZItHO9+N9tOAALeUplOhZzvMj1\n3Qrz5TX5AFOevrFNKMYfCP1YbylcMGE7Rsw8HThEg2C/lIT2MzEl3g34MYc8tVi1kstJTGlHhPVF\nuE8kMaVfhG0xV8LH2MXbG3hFlRHAIFWmY9ZV2zQheP/F3YCbwHfYn/ohgZmidQB2EKEN2roHk/b7\nGD9HUckAACAASURBVMt/Ms3J9CxwG3auTcWOoymVpHNOlZluBudcCk+4ZX0EQY0GQTRt/GDMzTDW\n+c+by7+6DvYbp2JGxT3AT/no2KdELGRV4rKOxKUj21JD+lz2PycxtpMWVcZig7xgbqjktgepPwv2\nEWm/6jNG/PAdN3wEz/XdjEN278vtG/8D+2+OxZ6UPs55jGwiz3+wnOGliFHPyhoTJy4iF4rIZyIy\nXkQeEpEGgf8krJsnqJ8K8hDsYtwSCxe71S0fioVr7YxZ6N8BOHfMYupX246YjVmsAVaQN6qbmN8j\nWBPingY2xM0KzGsbq6izA1d98lNu/h/Ma1fN4/0O0iBI54KZifkpV6rmjAapxfzmNwPVSREDQ7D/\n5ldJ6+6HHe9qLK/FZFVL5apqTxUu4mUOyZV8AI3pBI1pU8UOp04OWkjm/3kWpniu4t2zxrllUe6U\ne0hY1j9gYatbSFxOBz6RuNziEjBF1LtZiDBIpC4yIy9cAeePMWV+NzYAOjzHZqWiJ3Yj2hCbPDWY\n0a9NY6OXNqVNTVTy7FHgfcwgSqfEe5HeiKqHKuepIu78SG1T4AuqVj7PCd9+ypNvVnHOVzNY0PYY\nHtrgcJa0+R12k3sUm8BTixlpDbE6mIMRuRtz1ZyO6v1rmg88lZINbIrIQGxAcZCqLheRRzG/270p\nq36JjV7vBNzmclrcjA0yAdRoTJcCp0tcDgLWj2blSVwGA7MkLhYe9ymv6uMN4zzdzL52bptlmI8c\nsscylwQRCXLclXcB5rpJKen7CMMOmL9yd+zx3mYitl89jfO3hq86dwQ+5s60m8/EUnfOykOe24HH\nVFER3sBuiD/BBgqXksguCDZoeTT2dPQ0mS2wKOFV2mibPI5PoSSqBhnzgS4itI1uMm7Zb93LBt5+\n2G4F5tcfH8nkFPYt2EDna5hVvgDYyr0OkrhM05gOpeHNIsQMhrxT04rwIfCAanA9cI+E4VTgMbn8\n8m/Zc89DNQgKiVgqlEiJR9fPPkzd8ylar1zKgDeGSXzfZ4ChrG71FlNW78XSQzuJsJkqE5P66EZx\nxbvrkDDsyLOtLqJq9dXY+XYp8JCetJO6aJPoPPuvCD2AZ+18deeRRZ38ErsRHogZeo9glehzuRNL\nRhOc13lTyuiUhZj1Wy0iqzCLrcEdU2N6FIDEZRo2SeM44HSo82km+622IynCRGOqEpdPsD+sLc+k\nDQFLpQrzwf8T8qtk01S4mpHPAqfWLTOFvQFmEW0E/D9Mab+PDcjcALytQTBXhhPDDfiSeXr+TCxy\n5NVc8qjWe7y9lkRkQUfsJtARwE3o2RUL14wST9Url5VEpMSjnBpDVdM+LZWKPk5WwMV5CzMwq/pr\n57+vxh6tD0narmPkN5dR5i3RmN6KewKUuHyF3bQOwGYiTsQG5c6QuPQCXUT92qCdSCkzlwfbuj6u\nB9AgeEXCcH3mzbsFy8HykpPnTQ2CWqQuTUM1ZqSkvtpj/8unmWKgXfTX/Zgb6nss1K+VxvQzGUU3\nlnWdxPb/OI7VrX6JrG7DB6ftRa/bYOxl0czG5MlhRStxCcMumIV9LVWrJwMXahD8M9s2qszD/Ovs\nCb0QuQr7f34kytCpDfz2azwlU+KqOk9Erscer5YCz2uWtI7OEn0iKSKgFovLvTlpndnUV+qQmCm2\nudboRHJzI+bLnQn8yT0Sf64xnZG6oiu02yYp/WlUW7IHFnXRCVNsVdgNaxk2Zb4aqGbee0O458RT\n5N83fUvXIdPd+q3dqx17PNeZmikd6Lz5eRKGV2DWUCfMjfQtZgHeBDytQZBaOgwSsxBJ92jqmOnk\n+czWy9s6mERi+n6kxKPvvYGFqnbBOg9xJlfcHOAYEbpgN6QjSHJ5NYG10psop0aCqTgljinJFarU\niNQNJv8BK+eWUSZnMFyDPRGdCnTQmI6RuGwOzGDg2G2ZPLyXCDup8j51VYJon4cbC5E6F99GImhX\nFmy0gO6L1fzT7385Zsyq+/bdd/sxw4Y9Nbtbtw63HHxwzQnt2nWorq1diuWiqU16LU/63B3YBJE3\nsciPD4DxSUq9H/ZUdU/y9SVCB0Cp7fg0Wz12Hov69mD6LrBovdfYskc1swe9DKTmae9BgUpcwrAj\nNlX/Bixz5MkaBC/kt7H0wZ6ezn4NBmMD62cAr5Zq5mWxtKRPXEr120VkYyw0a0/szvg4MEZVH0xa\nR1W13jRvicsh2GN9CPxbY/pQ1v1YcvljXV29/OWzm0U00WI8sA3DxoI9Eq/Lgo+2ZtYrD9B1mzn0\n2fsrzHffEztRazDltASzdJZhN8Aq7AnCyozN/9+2rFiwlJop1awTXE/t/FV0334yNphbyw/PDWTm\ny+eyzXXHYj7VucA8DYK0E0Ya/AbhP5jlgWr66fIulGsCMFK1gSsrW9/i5NwNc+MMwy62DTFl/pgq\ng926ij3W7p+mn32wmN5DsVCyIzLJWgpE+Ddwt2pd+S5EeBt7cvgvdgPdUJX/3955hklRZQ34PTMw\nQ2YkoyBBwIABUYQVhVEMYAID5oS6ZtBFZQ2sw4go5rSurmHRNSuon4oBRUYxgiQRcQEFAQXJSfJw\nvh/n9kzT9ITuqQ4D932enunqqq46Xafq1r3nntDW+TXXCT2M4jiYzMthn3u68p+Ga7KWzBv/dA9F\n/hxBvz6tmDt+EU3nFlLlXOAn1e1qT0aTu28Wm17/Gw89uS8zrzyfF7dksm0N9jCfjulwMbBgQP/+\ndZ4+8cRBG7OyOiDyHPAUML3ESktW5PdkrKfbEZuI3gAsX5XNus9a0qT3//gn9uCeDcwRtCrwPYOz\nO1Nl81wemnsPa5ov1G2Z/3Tyhnzq38DSGNyLjRZbqW5XLDm6SNYZOgobBfwMDNbc3NJrV4pkYfMz\nvbDRdwd3zCeA99EdfPh3WqK1nUXrAmzEzwKOVdXL3PIFQBdVvSZcEMxGPs99tIquZHMsw4ENjKI/\n0/m5uPq4+V6Wsnw9MLU820tBgfDiSduovTcc3nsVOR1WMH2O1WTs2HEhW9b8yfiRbVg/vyon/qMX\nkvkH1167NwsWrNXVqz8ulzznyU+MZwyXcjkwneksYxT3FK3vKoPYk7P0FT2knL8vYnn0LKjeHI6u\npopE336/WjDjXaATSC2gg6o+XL79vz0Jfv0arlsGNIOCS2H6k9D/ReA+EOcWqg8Db4J8Hm1/oF8D\n6+DtaZBziGquhK0vUZ42Iic0h5rjrAFrOBSOyoEG/a0BavoeHFwF6vS0B+CSF2HVZ5zR+QL+eKEb\n46fcDM1Xw7pvmPz3JTRq9if33L6aOgp3vq/K5JJ+f9E1EmX9edDmRTMPdRwLJxTC+g41+Om7PThg\n9WyZMosjjrqc2b8ArWawRFeSU9iE/ao2YXHBB8yZ+SstWMU/uj3LZYOuh703wZYnYPXXdLloET92\n3UjG0ukMav4aZ906l72+LlWevfY6hb59z6dnz0OA9bz33hRmzvxaR49+olT9mmmt7olwgrYl94AW\ndLrnE0a/DofXgD1OgiabyMq4jt7Z1XnjlnFXsmbqE/r09r7POgEK/oTfRsN5JwLD4c1cOP2WUq/f\njAwYO7YQeIaJE+syadKD+uqr94bWt4Dq82w00PYR6FoT6l5mHaP9P4WDNsHiXvbg+LwBrF8OW8LP\nTenXc/KWg5bHvb/Y7XIekJeMRvwgbPa4E9ZTfQ6YoKqPh20TrSdeG3Nbe0Lz9D5ioDyTCa50lkUS\nbllzABsWLGPt7HGsmrqV9kOu1Nzc0KTpGZg3xu7A8y5DW0jGu7AAj0Lges3T393no7Be+ErN0wGS\nL/N4kVs4n+OxfNVjNU+PkXxpi9m3WwCfaJ4eG8vvLP69LMHs+11UowcZux71dKCzKn/GMuEiwi3Y\ncDwDG6Lfik0GzgeuUeWEGGRVit0dq4TC08MmpDIw+34vrNe/J8XJqtZgN/YfmN029JqHmXmqYhOI\n+z7MdXeewyujG7MkA7PR5symzaE1+bPq7izahDUIG7GR1EzMG+crYGnIayFMpjqYOWMfrOfXE9P5\nSMyLZTSqf7hR3e9ALYZoaPL0nlb88pIi3+/FzyuasbBeRybTkw/H/8D+R+ZS8GU9Vm7BUifPf5Hz\nqr9B39Xv0HskFjr+pCpXbSdPSef2jqzWND/7ElpdAma3V8w89LTm5k4tVS/5cjlwmOZpcQUsEWnJ\n3G0DeZABPFaATaYvx3q9X/SDTSPgqZDJwl0n1wKvqDrf+8jjWM/7eOBxVKu2Xbjwthn9+s2tWli4\nHzYyCL0aYqOB/2Ejj6Xu/0/AhBJt+ymcSIxGouVJSk/cHWgQ1nhtw4rsXqZadJGXKkiQSEFBPczu\n2Qeb8HkLGMPnxyxHCxdjJoNzNE9PK/pOvtyA+W+/BDyueXpQ2Lo1wFXut9UA3tM8He68ZP6JXdC7\nY8PNJljU6Qj39T0xX1Uw+/AYzdNQAvvy/yazWa4GqkfWDwwKES7CGtUNWGHibtgNNh/opbqdy2FZ\n+1LM02AQ0FyRLGw43RFrJPbFbtj/wwKGfgEWxWrbFGEd0DTcfCFCK6CaIj9hpqBqmF46YFXW22IN\n/kqK3SELsQZ/DtbYT8Sum7nRZJJ8mQI8wBA9Erg8ZDIS4W6s5xgKCb8FuBtzmx0TMnGJcJ87/n2Y\nn/5fVOlOOZB8eQ64SPNUXJDQ3piHxmXYg+8p4FXNzd1h8lkG13iAiVf1YcwDjbF75DVVVjh9mZnO\ncm23xPR/KBZfUR+be/gA+OZQJk6ZxKGoFk10g0jd9w877PAXjjvugtFduvSus349jz/88IqTv/qq\nfobZ639y5/ZH938mMA/VcpkTd2WS1ohXRJBA9l9Q0BFLXNQFa4yfAqZF2pwlXzoBT2qeM2vkSzds\nyHkCxSG6rTVPl7uRwmKsMbiU4io0TbC6j9WBMdhEYm/3PXX7HYvZ+5/A8k/sh1VvL9O3doffJrQG\nxqq6UsMJQITdKfYoOgXrlV+PzQO8r8rwGPZVWJs1h/fnsTF55C/KYktTbN5jMhYROQeYU5EJKZeE\naxlQo5SJ3pK+nIVLX4B1OqoCG8srj+TLzUAjhmgmMCDS7u9GRGOxB8NmKJo/qIONdGYCJ6gy1bnO\nzQN2KymhVthx2wB3YpPGF7Mt41fNLywAcCH8oYnYbpjHxlOamzvFxSf0QOV93nr+d76/4N/A7e53\n3449SKLPtZhXTANsxNQdexi3wEZFSwCZ26RJ24fOOKPOiF69ZP+5c3+76bXX3jxt/PjPMK+eBWj8\nVX08pbedaZcAKxaK/HsLCrpiDfZuWATiaRFRjJHMw3oaIUKZ/j7RPN0q+fIN5qb3f7j8Gs5bIeS2\nNwsbkme7z2dhPbybGEJ38iw1K+bWeDfWs/1d8zR6kEL5aEZsmQ6B2IZ5qvwuwgLM/Wwd9kBriD2o\nXijtuxEHzVRrGF77ir9UeYnz/tGP597B4geCHHY2wnKmxP4gsEkxM4vFJ9Mv2IjiCmTr25JftSqw\nNfQAd773IzDzzVCKG/GlmCvgOFWmum1XiLAYG538EE0eyZdqbh/DsREjwHNsqblNZNujqhl/09zc\nQhE+VOV9KSjYA8vT8rZ88tlG9nlhPStf2of5dX5gxjnTVBkGDBNhrZOvRAS6O3lGuheI1F1To0aj\nG6+8suf7Xbqcuqh+fbaJ/AeRW7++5prlXHNNabusMLuaOaU0Km0jLgUFGZxzzl9cis/6uECOEmfs\nt2cZkCP5ciXWs24HHOFKiYHlxzgSa8R3w+y0UJzv5GjgEcyvG6yC/LtYo3dk2HGewDxapJzFHkqj\nOXE04nFwAOZTPUOVjTgf5nIj0g9LRbsMOKUrX04DGdBPR7wRpJCup7sHYT7iSWY50IAhsgqrDlMd\niwEId8N7Ges1fwAMCZnBXNKuyDw+E4ALRCjJO+sdLF8NmDloEf+adj9XH3QljWacL3LAC8As2nyw\nVjr+fjW9L3tR83SoFBTcxU0HfslVD3Zmty5QrddBfPhlGynQvwArGVX1R9ZV2cLs2u1ZXTVHCn4b\njnmP/IE9yNfRvXsLKSg4BDvfewItGDeuFWZqWY25+p0SzXzjSTyVypwiBQU5mMmjK3azLMDseh/F\nWh9S8uV8991vsQjS+qG0o5IvudiN1wYzgfxd8/SYiO9nAe01T6fE+3tikle4EdhdlYHJOF7MiLTB\nGu9jsAdqAaqF29laAz0c/bFcHKNVtysRlhRcncn/YkmcxrmPN2qexlzJB0CEAVjHIOq5knxZiU02\nN9Y8Ddnff+Xkv+5J609W8c4zeczt8RFD5CcAfu+4kHFDb2D2CW+QvfpXbslpzpOTJrC447O8+eVb\n7LalPtZBsdfje93LNtmd/nMGY9HTDTATYi3MBLQRM7XNx8yIv2C27Rnl7Dh5KkClNadIQUE2NmTt\nhtmb22M3zLdA+4qEJWuevij5Mg1LjPVmRN7oL7DJsNuwSbcdTDNu+6Q04I7I8PL0QaQL1lN8CeiK\nbpf3vQ/F5qoKHMKCUcICaULRkqnKy70MM7WFGvA/gUzJl5ouL3qsTAy9EWGgKg9GrK+JeXA0Dvts\nPB898AnX7H8PFx3zCEP0aLZU38bT32Zw3E3NOObml+nb91FGvgrKLBZ37GKmp64QEUQnR3ELsLuO\najYsDtk9KSQty7NJQcGJUlDwFhbu/ChmSrgN2ENzc3trbu5dmpu7sKI5fDVPp2P5XS6L+Hwr0B8Q\nLLKs5o7fLkH2xOUV7kwcpoOE5jkWqYnI69io5SKX7jOycMdvhKV0rYA8o4GNIjRyOdUV6xU+E+f+\niohTpt/YvpBHB8yTZ58d9p8vV0Ykz4rGJGz+pAWMvTNUNd5l9zwCu1f7AO1FyBZhTyCHzXWWU3W9\n9dBOuqIvUqisaHM4r43cn8bTM8la35hDn1yGsKiMuYMS16VbzU9IP5lSKU9a9MSdT+mBFCeqr4nZ\nEq/W3NwdwuODRPP0tRJW/Y6FwEMKikuEI0IzbDQSm306kYj0wHQ0E2iGltj7XEr0vNyxEtLBH9g8\nxmrgcdWyc8QkAjehfS4wEFiqebrF5fU5kGL3whDHY6mXDytpbkSVzbgc+yJb1wAHS76sxc5xH5R1\n5OtW7Hw/hOXXnwisJHPzacB4Dn3qKhZ1+EW3VP8aQAZXG0zVjXfSemwzkjtq9CSRlDXizr+1M8Uh\n2hnYzHd/YKLm5pYZUpvg2eBxmLtiI0pONrUDCZIplNz+3Vi/GLg8FhAzCAsyGQ48XUaqz6VAQxFL\nRRqPPGKFjJtiI5FG2MisLmZeqDDxniOXLTO85Nw0zJW0CJdwqg/mZngZxS6qpXB8Y+BrVF5FtI/t\niFrYudxG8Qi6ATBf71ozX4Tr6Xvmw6xoXVQkWO/cMEzOPfl/tHtvCDaSjYt08gIJkW4ypVKepDfi\nUlCQh/maHoJ5W4zCgmOmpdMEiebpSqwQcTrQDKsontrzI3IsluZzPNAZ1TLNOy7xVCE2QRavr/AZ\nWIMdskP3xNw2E+vHFjvTYIeo1lCh7mHYBPrTQCiXT1fN02gP5juA29lUqwXVdjhl32GRrpsjfMof\n443X2+Gy/IXQl98tdgv07JSkwiaejbnk7aW5ue01N/d2zc2dGk8Dnm52MUiYTFYLMg4CkUekOSIv\nYxOXvVHtU54GPIwik0q4PCLUEtm+57rjoWmMBVn9G4uOvRSLBD1ZlUj7e1wEqLPvgYMkX5qHfRZK\nDvU+2/fSHwXekXyJYmqSccAoNtduz9bsbSgvsKU6mD93f1U2RAYFqbJNlWtKKzhcBt4mXgF2KZu4\n5uaWVFvTUzJNsN5vchFpgUVsnoMVS7iO+OoUhhrxyGpGz2GjsNLcD2dhnii3uJSvYHbitEPzdLEr\nQjJf8qW6S2lcA8tlMwnIknzpgsUldMVs2l0lX95xpplwppL15+ncvwgKsy8gY0uhKrcn8/d4Kgdp\n6Z1SXtLNLgYJk6kp25cgKzdxySOyFyL/wobuG4DjUB0aZwMOYQWUizO20RNrwBEptWxeyJUwYUVu\nA9bZQZiXysluuQ7wpZvQHIWZUwZixVAexcxThc4DxRjCNA5+dilZa2FTHdhSAzbVTVmR713oPoub\nXcom7omLuM0pMSHSAbgCs+M+BnRBtcRq5jEQzUPlUCzSrytm85+5ozjUjdhH2qN5ulTy5UbgDsmX\nt7BGfI1bd3HE5uMlX1Zg7pPHQpEpZBC9L7uZjXVAM2/Giqb0TsoP8FQ6kt4Td36+B5a9ZXn2lV52\nMaikNnGRQ7BiA2OwaLy/oJofUAMO5lXSJEKealgBhIVYIx6Ng7Bw9DuIwUMoVhKgs/ew6MqZWHBO\naQFJH2Kuo22KPvnGVVTKWrdAlXswW3vK2IXus7hJpTypMKeMAKaJMMxVWvGUgAiNXdDHbiSiJyqy\nDyL3YsE604ADUR2O6uyAjzQLC1KpFfZZdSyUeyHQzOVCiaQDMEWVvJR75sSAs29fjDXMZwHflLHt\nKCwfipFBNjCejG3T3CcPA/0SJK6nkpOKRvQALGFQLyw/d9ykm10MgpPJ+UZ/i+UxX1pWitKY5BGp\ng8g12GSpYmaTh1CNy+5eDmZguW4+CJOnGmZvX4D1xLeJcIAIDUR4UYTvsFwiCQ9SScR1pHk6Eyty\n/AxQehkys6G3k3xXvfQw/sAyaoZK8a1Q5bmgZSwvO/N9FhS7lE1ckZuAwnxuL1xFTm9k4BIsIX8h\nVmx2vXutApbsSnX0QojwVyyxUgssIX9w9nCR5li4+P+AY1CdVsY3guBH9/8IETq4FKzVKO6JH+LW\nD8Um/s7DcrEcghW5rpRonpbXj305FsTTABtx1SAZcyDbk6pskJ4KkoqJzdOBzIt4fo85tGm/DcnO\nQDOw1JxVsWF2DcyE0ACR+ZiL1g/u/0/Yhb5C4PB0eyJXNK+wCPWxSkDDsSi/+zG7cMXksSII92M9\n4rtQvb+MrwaGKqukyFjy/GC46AxMzxuwB3YoqVNvzI78PXBqoioYRZLq3NQuhH820FbyZRlzGUgr\nbkiyGGdAdC+hVJ+faKSbTLtWPnHVMwFaWRKjsVj03c9YAvvemA9wa1UmIVIVsxXuj5lhzsVKUdUH\n6n0CWxBZgvVkwl8rIpbXYr2+De7/RmA5qhuT8ZNjpC/wgSp3uzmD+7EczvEj0hMLkFmG2b2TkZc8\nGr9BvX3d+1BPfBlWoGMzNhK7GSx4JRUCppDZmP94aBIziHwz5UaVVdjo11PJSJmLoSpbna/wh1hy\npxFYkYUewEEi9FDVT7Gh+I/A69vtQER6mPtWfaCe+18/bHkvLOdIfYrrLFbDeoDVgXruATAHe4hM\nBt5EtULpXivYCxfsYZZv+2KbCL8Rp484gFrv6t9YcqUXUljP8GBgC5wcSlgV3oi3cf8/xUYKZWX8\nC5Q06dHNwjosLV0BvrSZyE2T87Md6SbTLmUTD0eVDSKcjCV2moMlNQqFJo8VIaNErwSrZrHavSIj\nActGJBNLpNTGvboBwxFZh4VIfwOMQjWZvZMRQCfswRbiAIijVyqS4/bXDeiJ6sQyvpFQXC1JAeqL\ncDjF3imLsQZ9Ofaw6U1xju5didlYJaBbMXPhHakVx1NZCNQ7RURyRGSkiMwUkR/FigWUiiprVOmu\nyqVYb21PigvJHlHadyvkm6laiOo8VD9B9UlUz8XSnXbH7O89gXmIjEHkYkR2L89uY5VJhH+IsMhV\nqtkDuDbcE0WVlaqsjmGHNRC5AXsILWgJ56e6AQ9hD+QCsD85wCo3jG+MBbt8CXRMtjthmvgczyp6\nN5XPXch+WpAm52c70k2mnclP/BHgfVXdF8urvEMUXmmossC9FIvm+9xVYMe5nvULJcs3BnUWsTIl\n5UGEPUR2yDIXLoCiOgfVR1Dti5lk/g2cCkxH5CtEbkIkyIrz12JFlodhdtD4JjGtQMPfMX/vLsBA\nVAf8avMAaUSvHlgVnPaYCQVVlqlawWPVojqmuxoh3/yjeJt/plQST6UisBqbIlIXmKKqrUvZptw1\nNl1gyM9AHuZn+w1m3z0diyycQfGEXx1V1opQD8hUtcAYZ3N/AbN3jwIux9zW2sbcWIhUwdKM9gTO\ndMd/F3gb+KWMnNql/c51WETmRCxXdltVlsewg2pYYMl12KTYk6imtTlChHeBk4BaqsRTyszj2aUo\nre0MshHvgPVaf8Ts2pOA61R1fdg2MRVKFuEWzNVwCuYC9TM2+fkdFgRzIuaKtxazJdfHhuk1XR7r\n/2KNbRcsMf8YzO8aoIlqnDUrRWphpp5zgKOwEc0HWHDOOGBeeSYQnffJVsy1cndgRbkbNRHBzE//\nwsK6n0D1nZh/Swpwer0LSpnz8Hg8RZTadqobw1b0hSU02gJ0cssPA3dEbKOx7VNPA10JqqDfg3YA\n/dUtK5ALeo5bngE6BnQU6BrQt0GXgbYBzQKt6/Z5NOjjoO8E9dsV2itco/Dqh7BY4U+FrxRGKPxV\nobNClSi/rybo+jiOl63wrMKvCjeoexiXoJfcwH5nMNdJLmgOaMdUy5LO5yjVMqSzPOkoU6LlKa3t\nDNI7ZSGwUIsn0UYSpTKOWKKleW5xFTBVi9KT2uSAFrnrZK6Au5+BQTcC00FyoPkVMD8Ti/DsAHvM\nhN/uUCWveHJBXwNeg9MvgjebqeocYLNbvw10IDBb5G8D4eHJJR0/xuUZIjID+EbNK6TDA9B7Dzjj\nbLN7N39dZNpcmPB3eFrQX+G+fDh4MxxDeY7XSaTP1XB2P0tZMKYlXPkrbFCn5RK+3wE3m1jB3xfU\ncgdVCoDJaSJPEV6eyiHPrrDs3l+MMY9SCMyc4oT4HLhMVWeJyBCguqr+PWy9agzmFPsODbCKLudq\nOQNAnCtbtiolzvCLcCvmTz5ClRmxyBQXIqGyYscB3VaSk/kpRzeeTEeGMfhKzN1uU9h/MK+NJu7V\nDjgceAPIQ/X3yEN4PJ6dk6TYxN2BDsIS/mRh9ut+qro6bH3MjXiiEKEj5tJWDfPJfReorZoEQHI6\nBgAAE8FJREFUH2WRjMP4dl5rfmnekckM4r6nKA5Gynb/wSq7L3avBcBHqMZbp9Lj8VRSktaIV0SQ\nOPeXW2x6ief7jMCCaVYBHbFJ1IeAT1V5L1EyOc+bJUBNCPlPJwafY6Js0k0mL0/ZpJtMiZantLZz\nV6/scxnW862H9XS/xArx/k2Ew7S4pmMMHNlAhEZYlGW2Kr9F2agpsCiRjbfH49k1qNQ98aBwNvRt\nmM/31cCDgKhydhnfq4+5OY5WZblLIfAc9nBcCUxUpW+U7x0N3KFaekSqx+PxQOltp6+sQ5E5YznW\nGC/CGvITRYps0yXxHFZaa7BbvgC4EQsuWg0cL0IrEeq63nmInuya+UE8Hk/AVOpGPOB8BQ1VeQYs\nXwmWu3yHnrIIGSJkuujQblgU54WubujRkLsOywPSASuAezFmc/9DhE9FqIPlSJkVue9E4HNMlE26\nyeTlKZt0k2lnyp1SaYliny7AXPoQoZYITUVoiFWB34rlQv/I2c0/Bp4CvobPlqqy1e3vUcwJ/Hes\n1uJRWB6WehBDaL3H4/GUgLeJl4AIF2JBNZdjyYkUy0ueieVj6QVcpMo4Ec5w292qynel7HMolndl\nNTBAteQCuh6PxxNip3UxTCQitIWiBnmGKoeL0BQr8nwmlkY1pgILIhwHfOQW26jyc2ACezyenZad\ndmIzkXYoVWZjGRPr4EplqbJIlR6qLC+pAS9NJlXGAEdjRXBjL2QRB952WDbpJpOXp2zSTaZUyrOr\n+4mXiiqfiHApAebkdhGh5Sow4fF4PGXhzSkej8eT5uy05hSPx+PZ1anUjXi62cUg/WTy8pRNusnk\n5SmbdJPJ+4l7PB6PJy68Tdzj8XjSHG8T93g8np2USt2Ip5tdDNJPJi9P2aSbTF6eskk3mbxN3OPx\neDxx4W3iHo/Hk+Z4m7jH4/HspFTqRjzd7GKQfjJ5ecom3WTy8pRNusm0U9nERSRTRKaIyLtB7zsK\nHZJwjFhJN5m8PGWTbjJ5ecom3WRKmTyJ6IlfB/wISSkCnJOEY8RKusnk5SmbdJPJy1M26SZTyuQJ\ntBEXkWZYubJnAD+B6fF4PAkm6J74Q8BNWOX4ZNAySceJhZapFiCClqkWIIKWqRYgCi1TLUAELVMt\nQAQtUy1AFFqmWoAIWqbqwIG5GIrISUAvVb3GGflvUNWTI7ZJnj+jx+Px7EQkvDybiNwFXIAVEa6G\nVcQZpaoXBnIAj8fj8exAQoJ9RKQ7cGNkT9zj8Xg8wZJIP3FvOvF4PJ4Ek9Swe4/H4/EES6WO2EwF\nItJbRK4WkU6plgVARI4SkSNEJCvVsqQrInK6iNwqIj1TLQuAiPQSkfPc+7S4B0WkqvufFq7BItJN\nREaJyN6plgVARM4UkQGpliMaaXEBRUNEaonIHSJynYgcnAbyNBOR94EbgPrASyLSI4Xy7C8i/wcM\nw9w6/yYidVIlj5OppojcJyJDROTYVMri5GkmIh8A/YFlwAgROTrFMjUEHgaGiUgjVU2WO25pMg0F\nXk21HBEcDOwPdE7ldS0i+4jIm8C1wMxUyVEaadmIi8gZwCTMw6UpMFhEOqdWKg4FxqlqN1UdCjwG\nXJUKQVzv7TagQFUPB/4J7Keqa1Ihj5OpL/AN5pm0DLheRPZPlTyOdsAbqpqrqk8BT5PCIDTXy90A\nvAF8CtybKllCiEh14BCgu4h0UVVNk974blij2Qk4MBUCuPPwELDZ3fcfi0hmKmQpjSqpFqAEWgFX\nq+pYEdkN62m2Br5NphAi0lRVF7nFCcCXYauX4p7M4vJEJkGebFXdpKrbROQSVd3gVh0B7OF6mTNU\n9Y9EyxKFasB5qvq9iOQA+wH/S7YQETr7QlU/dZ/fANwM1BCRJqr6UpLkyVbVTSKS4fRWHzgM6Ae8\nIyL7qmpKenhOpg0iMhb4CbhPRLol41qOkKOpqi5yjWYGFiy4HLgLOAs4UERmAJtUdX0S5AndZyoi\nzwCniUgToC/QRETGA5NVdUmiZSkPadETF5EWIrJn2EcjgK/dRbYS61EVum0T3ksQkS4i8gfwcegz\nVf1dVZeGHb8ZLl9Coi96ETnJ3WhXhMmzwa27GmvE3wIuBQYmw84aRWcvugZ8d+Al4HTgThE5222f\nUJnCdDYm9Jmqbnbr2gDZQDfgc2CouykTKc92OnMNeAawHpiiqr8BTwEvi8hzydaZiFRxMtUDjgJu\nwUYpvUUkO9GyOBm205kahe5+OgjYDDyKNeSfY9d5IuWJdp+NAjKBL7DrZzFwGWa+TIv2M6VCiJEP\nzMIabgBUdVnoiRs2BF3i1iW6wawBHAncCqwRkX7u88hzdQw2LMb1rhIlT2vMdLIQ2FtEDnKfV3Wb\nPKOqPVT1cSxnTSNgz6g7C0aeknQW0ss+wOvAAZhJ7DYRyUmk7TdCZ2uj6OwXVb1LVb9R1XeA6UDC\ngtBK0pk7B42B+iLSCjgZG2Gudg1qQkbG0XSmqludaWAVMEtVNwEPAM8DPyTymnYylaSzKu6enw/s\njs0ftAF+BqYmUJ6oOnP8A7hZVfuq6mPA4062FomSJxZS/SSpjdm9jwI2i8gFYIqEoou+HrAv8JVb\nt0/QQrgLp52I1HAPj1Gq+ixwJ3CTiNQOb4ScfIuAuSIyHPhEApx8CX9gqOovwPnAEMzWfJr7fIvb\nZEvYV5cCNYAFQckShZJ0VtXJ9amqPu+Gmm8CP2CmlUCJRWcRuquKnceCgOUpU2eOFdiE3beYee48\n4CQRyVLVrUHKFEZUnalqIdAAM1cMAIZinaX3VXV50KPecupsq+sQ7AW8AowHumDXeW6QD7ry6kxV\nZ6vqyLCvLgdqYQ+a1KOqSX0BnYG2QC233NT9Px34DqjiljPc/06YMttj5o37gawA5TkNu3D/D2t0\ndotY/zYw3L3PdP/rYXa7WcAjQL0A5fkrMAUYDpwWsa4X8G/guNA5cq+awOXAZGAQNiyWVOks7HvH\nA+8CdQK+hmLRWYY7H3u4czsZeALITrLOjnfL9YFTgZywba7A5hSSrjP32VvYpPS+mIlwDdA6VTpz\ny3WAumHLRwPVk6yzovvM/c9y99lUbH4l0Pss7t+StANBdWwYMg94FngnYn0m5uY01C2HApHOxBrM\nL4FzA5apJjZ87OyW/wPkA+3DtmkHzA27CWpi9roXgQMDlqeTu8E6u5vtG6Bn2PqGwI3Ao2GfVQWu\nAcYCh6RSZ2Gfd8bs4hOBU8P1mSKdZWMN2v3AoanWWbjugpQlHp25hqhhxDYHByxTPDrbLfR7EnCO\n4tIZZgsvCPo+q/DvSdqBzK41Nmz5M2AgUC3ss86YvTLLLWcAZwB3RuwrowJy1IlYngCc6N7vB9wD\nDGD7nspg4COs4b494POSGfb+ROCesOXzgDkR2x9CsW/43e6CC6xXGYDOsrAJoJsClKOiOstLM501\nIUE9uBh1lu2W67n/QY5OKqKz/wL5aaSz4ZjZKTNImYJ6JdpjoF3YogJLRaStW74Jmxzc320rqvot\nNtSaIiJfA91VdaSqDnbbhNvK45HnduBTEbkn5DWBDSX3d54wPwLfA82xmyFEDjacm6+qd8Rz7BLk\nyQeGi0goUdhmrAEEQM0NbpmI3BT2tR+Bw7ELvrqqLlWblApKporqrKuqfq6q97ltKuRXG5DO8isi\nQ4Q8QehssbqWIiCZ4tXZZBH5EgusIajrKACdLVTVvCBkcfJUVGfV1JwtCoOSKUgS0oiLSCcR+Rh4\nRiyCrzOwzq2u5xQ5AfMjPg/Mu0FE9gNOAv4EblPVcWH7zNA4J35EpImIvIZdMP2wC+g6EamN9Uia\nAN3d5p9hT+Ft7rvdsRujlareGs/xo8jTWUQmYRfx98AdInKMqn4MVBeR/mGbDwJOkOKw+nuxSZ59\nVfX6IORxMiVCZxLvhe91Vi6ZgtDZP1R1bEDyeJ2lgqC79piSJmG+nQ0w29ddbt1w92rslvfEbHcN\n3PJFwKVh+wpk4gCbnT83bLkRNmRrh7l83Yoprb5bP4rioV/cpptS5OkMXBK2PBx40r3PxTxfctzy\nvlh0aE23XC0B8nideZ15nSVYZ4l6BXnCQhORtYBTwj4/Gxjp3rfAhnEX4yZ1sAmPRlH2VyUo2UIX\nWNj7htjMdCO3vLdT4Bh30U0BmifspNs5qk6xt8uJ2GRUyMvjX5g/71lOnpcTJIfXmdeZ11mCdZbo\nV4XNKWK5F1C1nAuqug4YHbbJQkBFpLqq/go8ieUhGSki07Eh1Iqw/YnbXyA+s2H7Wxv2cX3gN3Vh\ns6r6P1Xt72SbDBymqoH4WkezCavqOlXdoMWmhl5OntBvvhELJDoV+IOAA1O8zso8vtdZ7PJ5naWK\nCj7pbgFuJ8qsNsW+lYOAhyPWVQXOAXIT9XTCfJRru/cS8b8X8LR7fzLQLUEySIQ8WRHrQz2Cd3Du\nilikYx33PjB/eK8zrzOvs+TpLJmvuHriYVFToXwC0aIo1f1vCrzporX+JiKHqOoWVX1FVQvEqKgH\nQ7TIsquA7SYk1GkMC/fNFpFnsdn7jRU5fkmoqopIYxF5GLsRW0bIGsqnsQpoJyIjsdnwLPf9zUHJ\n4nVWPrzOSpXH6ywNiasRVzccUdXxmNN8PzcDvR3uRLYCrsbCjJtgYdhF69WI14MhM+x9toicErZ6\nNLBCRDJDF5W7kAVzt+oKfKeWYnJCPMcvTR633BjLP95TLR3qrLALHDVXyfZYuO8g4FNVPUtVlwUh\nTzheZ2XL45a9znbcv9dZOhNr1x1r+BsDeVhOgwZYFNPxRMxwY72DbcDLhEVnVfTlZIg8VjvMrtUX\nC2G+CHjercuM2LYPUCMoeSKPgU2ghCLOemCRi8eEZI/4XjNs1r5mkPJ4nXmdeZ0lV2epepXnpD0I\nDHbvQ7PM2Vj+iVvc8pVYfpPGkScbm7wIvygqEm1ZO2K5B+amdAXmRtURS+L+iLvApgO7hx8/4Auq\nO9t7CByN+b++haXQvNJ9fhtwH8WeAgnNt+B15nXmdZZ4naXLqzwnsBs2q703NpN7rPv8KCw3Q0/M\nz/Rt4BKKJxEin+BxuzJh+R7OxbKshcK7L8RmuC/B7Fsz3MWbieUefhRLvhRYzyRCpkZY72cyFkwg\nWAa0zphr1QfAbGxoe6C7Gc9JxsXldeZ15nW26zTipdrEnS3tc8yvczj2NA6lsRyHpTw9BZsFfxbz\nS63n1mv4vjT+aMtQ1J8CdbEQYrAewb2q+h9VvROLSnvUbXshFlp7fDzHLEOe0DlbhpX7+gMY4H7v\n/Vjo8DgsW9snWN6X74FfgK5iaTh1xz0HJp/X2Y7yeJ2VTwavs8pIGU/BkKtQPWA1Zgd7DLjQfd4V\n80/9q1tuGeAT+CQsu9gFbrk2NvN8Nzar/C/gobDtO2OpakPuTjWIGBZWUJ4TsQu4n1uug11c52ND\n3JAt7nbgYvd+ALAVs2nmkAR7nNeZ15nX2c5n9y7tVWpPXFXVzTqvwGx2N2ORYIPEKl/0wQq+TnDb\nzyvBDSkelmC1CAeLyPXYxMSbWBRWLyyR/MUicoDbfj9gorpgA1Vdr9sHHgQhT1vgahE5CbtoZmE3\n2LtYrgiwiZ8GItITGxoPA1aq6ipV/TNAeaLidbaDPF5npeN1Vskp08VQnVuSWia4htiT7gHMFrZZ\nVS9U1Wlh2wcyhFFzR3oSq6IxH8uB3BLLOdwZS1w/FLhdRN7H3KvGB3HsEuSZiNnbamKTOU9gPZIF\nmDtXpogcj11MDbGyUl+oap6qJrVgsNdZkTxeZ2Uf1+usslOe7jrFUWFnAzPd+6yw9QnJswvshl1E\nTYATsGobE7A8EJe4bXKA3skYtrhjrcaCLu7FZuVfdevOwS7unGTI4nXmdeZ1lnqdpcMrlhMbstt9\nAvQNXVQkIPtYxHGHAZ+59zUwt6Y1WImkFkk/YXAX8IF7fzE2EVUVK/91CQHaBwOQ1evM68zrbCd/\nxXpia2P5B5Jangj4FTjTvc/A3LGOTNlJs2FnH/c+lMoyLd2ZvM68zrzOdu5X6KlfLkQkF3P8H6JJ\nrHIhVh3kv6qaVebGSUBEzsGi1NJCntLwOjO8zsp1XK+zSkiVsjcpRlULsNDfpKKqr4pII+c7qhrL\nkycx8rwiIg3TRZ7S8DorksfrrOzjep1VQmLqiXs8Ho8nvUhooWSPx+PxJBbfiHs8Hk8lxjfiHo/H\nU4nxjbjH4/FUYnwj7vF4PJUY34h7PB5PJcY34p6dGhEpFJEpIvKDiEwVkYFlZQAUkRYu0MTjSXt8\nI+7Z2Vmvqger6v7AsVh61bwyvtMKq3Dj8aQ9vhH37DKo6lLgcuBaABFpKSKfi8gk9/qL23Q4cKTr\nwV8nIhkicp+ITBCRaSJyeap+g8cTiY/Y9OzUiMhaVa0d8dlKrKjAOmCbqm4SkbbAy6raSUS6Azeq\n6slu+8uBhqo6TESygS+wDIPzkvpjPJ4oxJQ7xePZycgC/umq5xRiFWXAivGGcxxwgIic4ZbrAG2A\neckQ0uMpDd+Ie3YpRKQ1UKiqS0VkCLBIVS8QkUxgYylfvVZVP06KkB5PDHibuGeXQUQaYqXIHnMf\n1QEWu/cXYsUXANZiOb1DfITVfKzi9tNORGokXmKPp2x8T9yzs1NdRKZgVWG2Av8FHnLr/gWMEpEL\ngQ8xGznANKBQRKYCI7A6ly2Byc49cQlwatJ+gcdTCn5i0+PxeCox3pzi8Xg8lRjfiHs8Hk8lxjfi\nHo/HU4nxjbjH4/FUYnwj7vF4PJUY34h7PB5PJcY34h6Px1OJ8Y24x+PxVGL+H433/Z4z0wYSAAAA\nAElFTkSuQmCC\n",
      "text/plain": [
       "<matplotlib.figure.Figure at 0x10b093400>"
      ]
     },
     "metadata": {},
     "output_type": "display_data"
    }
   ],
   "source": [
    "price.tail(800).plot()"
>>>>>>> f32e067bd584571f8b4a5dfe277594c96491ea32
   ]
  },
  {
   "cell_type": "code",
<<<<<<< HEAD
   "execution_count": null,
   "metadata": {
    "collapsed": true
   },
   "outputs": [],
   "source": []
  },
  {
   "cell_type": "code",
   "execution_count": 13,
=======
   "execution_count": 87,
   "metadata": {
    "collapsed": false
   },
   "outputs": [
    {
     "data": {
      "text/plain": [
       "<matplotlib.axes._subplots.AxesSubplot at 0x10961ea58>"
      ]
     },
     "execution_count": 87,
     "metadata": {},
     "output_type": "execute_result"
    },
    {
     "data": {
      "image/png": "iVBORw0KGgoAAAANSUhEUgAAAWwAAAEECAYAAAAMOA6OAAAABHNCSVQICAgIfAhkiAAAAAlwSFlz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\nSUVORK5CYII=\n",
      "text/plain": [
       "<matplotlib.figure.Figure at 0x109409cf8>"
      ]
     },
     "metadata": {},
     "output_type": "display_data"
    }
   ],
   "source": [
    "price[['000001.SZ','000001.ma160']].plot()"
   ]
  },
  {
   "cell_type": "code",
   "execution_count": 100,
   "metadata": {
    "collapsed": false
   },
   "outputs": [
    {
     "data": {
      "text/plain": [
       "<matplotlib.axes._subplots.AxesSubplot at 0x10b1b8c88>"
      ]
     },
     "execution_count": 100,
     "metadata": {},
     "output_type": "execute_result"
    },
    {
     "data": {
      "image/png": "iVBORw0KGgoAAAANSUhEUgAAAXEAAAEQCAYAAABGL0RbAAAABHNCSVQICAgIfAhkiAAAAAlwSFlz\nAAALEgAACxIB0t1+/AAAIABJREFUeJztnXeYJFX1v98PG4BdwrKS45KjBBVB4pJzBpUcfghfUaKg\nJOltECQqikpQogQlCgoIiCxZQHJSEFiCAZacWcL5/XHusL29PdNhqruqZ877PPVMV7r1mbrVp2+d\ne+85MjOCIAiC7mSavAUEQRAErRNGPAiCoIsJIx4EQdDFhBEPgiDoYsKIB0EQdDFhxIMgCLqYloy4\npHMkvSzp0Yptx0h6WNJDkm6WNF92MoMgCIJaqJVx4pJWB94FLjCzL6ZtM5rZO+nzvsByZrZnlmKD\nIAiCKWmpJW5mtwNvVG17p2J1BuDVfugKgiAIGmBoloVJOhbYGXgfWDnLsoMgCIKpybRj08yOMLP5\ngfOAn2ZZdhAEQTA1mbbEK7gYuK56o6QI1BIEQdACZqZa2zMz4pIWNbOn0+oWwIPNCGnxmueZ2W5Z\nlZcFRdMUeupTNE2hpz5F09RuPX01gFsy4pIuAdYEZpX0IlACNpa0OPAp8Azw7VbKbpIJHbhGs0zI\nW0AVE/IWUMWEvAXUYELeAqqYkLeAKibkLaAGE/IWUMWEvC7ckhE3s+1rbD6nn1qCIAiCJun2GZtv\n5i2gBkXTFHrqUzRNoac+RdOUm55uN+IP5S2gBkXTFHrqUzRNoac+RdOUm56WZmy2fDHJanVsxqiV\noDey7AgPgm6lN9sJ7Rti2DTxZQ2qiR/3IKhPV7tTJI3NW0M1RdMUeupTNE2hpz5F05Snnq424kEQ\nBIOdwvjEw50SVBPPRRA4fX0XoiUeBEHQxXS1Ee+UH0rSaElXSXpX0gRJ21fsW0fSPyS9J+mvkr5e\nde4Jkl5Ny/FV+8ZIuiWd+6Skdar27yDp+XTdqyTNUrHv65LuSufe0of2sf2+AVOXeVb6nz+VtGuN\n/QtJ+pOktyVNlHRCxb7NeruXeRH+1b4pmh4onqbwiRefXwIfArMDOwKnS1pK0qzAlcARwCzA3/EQ\nBABI2huPI7NsWjZL23q4BLgfGJ3KuDyViaSlgTPS9ebAw/v+quLc14CfAFP8MHSIh4B9gAeAKfxx\nkoYDNwF/wXXPA1xYccgB1LiXHdAcBAMTM+vY4pdrfHsRFmAk8BGwSMW284EfA3sBd1RsH4Eb28XS\n+l3AnhX7dwfuTp8Xw43ZyIr9twJ7p8/HARdW7Fso6RhZpW9P4JY6/8NuwJ240X8D+BewStLzAvAy\nsEvF8ZvgAczeSvtLvZR7e+V5adtewK3N3stuey5iiaWTS1/fhWiJ12cx4BMz+1fFtoeBpYGlgEd6\nNprZ+7iBXDptWiod28MjFfuWBp41s/dqlNuz//NzzexZ3AAu1uL/8dVU3mj8DeBS4EvAwsBOwC8k\njUjHvgvsZGYz4wb925K2aPA6KwPPS7ouuVJukbRM2tfXvQyCoAW6xohLWBZLC5eeAXi7atvbwIxp\n31vVUtM+aux/O22rtQ/gnYr9I2vs77luw1T46p4zs/PNf9YvBeYGjjazj83sJmASsAiAmd1qZo+n\nz48Cv8OjVjbCvMA3gZ8BcwHXAldLGpb+tw+rjn+n2f8pa8K/2jdF0wPF09ROPSpr+r72d40RN0PV\nC2itWtv7Wlq49LvATFXbRuHGp9a+kWlfrXNnTtt6K3fmqnNn7mN/s7xc8fkDADObWLVtBgBJK6UW\n9CuS3gT2Br7Q4HXeB243sxvM7BMzOzmduwT+P42oOr4//1MQDAb6TDjfNUa8FmY2vgOXeQoYKmmR\nim3LAY8Bj6fPAEgaCcyZtpP+Ll/jvJ59C0maoWp/5bmVZS8MDE96Kunz7aLFe3Qx8AdgXjMbhXew\nNvqsPFK5Iqnyh/MpYJpe7mVudOg5apjQU5+iaWqXHpUlvJ+pV7raiHeC5LO+Ejha0ghJqwGbAb8F\nrgKWkbS1pOnwkSkPmVmPob0AOEjS3JLmAQ7C84+SjnkIKEmaTtLWwDLAFenci/DRLKulH4djgCt6\nfOiSpknXHIYbxmmTyyILZgDeMLNJkr4K7EDFj4WkYena0wDDk/4eY30hsHIaejkEH40yEXiyzr0M\ngmBqVgKm6/OIFntKz8Ffzx+t2HYS8CTeUXUlMHOjPay9bW9Ax9gO9QzPghvsd/EMHt+s2LdO+r/f\nB/4KfL3q3BPw4YCvAcdX7VsAuCWd+ySwdtX+7YHn03WvAkZV7NsN+KxqOadi/zvAqsBYYFfgtop9\niwCfVl3rRWCV9Hmb9H++DfwR+DlwQcWx49P1Pq249hoV+7cCnsZ9+n8FlqzYt2lv9zKr56Koz1Ho\nGbia2qGHcczJOP7OOA7s67vQ0rR7SaunL+EFZvbFtG094GYz+6xnUouZHVp1nlmG0+4ljbWCvVYV\nTVM36+nUtPtuvkedoGh6oHia2qFHZZ0JTOJH7x3PJyNf6u270HLsFEljgD/2GPGqfVsB25jZTlXb\nMzXiwcAmnotgsJJGpPwbWJZxtgPohN6+C+3yie8BXNemsoMgCAY6mwH3W8leAtbq68DMjbikI4BJ\nZnZx1mXXuNbYdl+jWYqmKfTUp2iaQk99iqYpSz0qa0HgR8BvJIbhfVu9kmlmH0m7ARvjnX29HXMe\n3qEFnlz0oYp9Y2HycJ1668Dykho+vkPry+Mdf6Gnn3p6trVbX+W1CnB/Qs8gX2cch3Ift3EtG8EC\nu8C279HHhLjMfOKSNgROAdY0s1d7OSd84kHDxHMRDDZU1lL4iK4xVrIPJY4BRoIOzLRjU9Il+DTs\nWfGhhiXgMHwyyuvpsLvNbJ+q88KIBw0Tz0UwmEgTey4A/mUlK0usDFwDrAb6Z6Ydm2a2vZnNbWbD\nzWw+MzvHzBY1swXMbIW07FO/pP5RNL8YFE9T6KlP0TSFnvoUTVNGeg7HJ/z9PK3vCfzYbKpZ2lMQ\nMzaDIAhyRmUNB/YHtrWSvZE2r43H5u/73FZ94q0Q7pSgGeK5CAYLKmtz4BAr2eoAEgsA9wJzmmF9\nfReiJd4Aai492/xV57YrPdvJkp6Sp0B7UtLO7fr/q1H/0rP1ei+DYDCSfOF74v7wHtYCxpvVD5/d\n1Ua8g36xZtKzXV+hr53p2d4FNjWzmfDYKD+T9LVq4W26R/1Jz3YZBUvPNkD9q5lRND1QPE391PND\nPI7S77wsBGyHj1Kpj3U2SIw1s72B8sZ2QHOz6dk+pIPp2Sr2Xw0cVOseUaz0bJNq3cssn4siPkeh\nZ2BralUP4xjJON5gHPNMLst2AXsYbLqK8q23Mrq6JW6dCYDTbHq2p+hwejZJ0wMrUiMud8U9Kkp6\nto97uZe50aHnqGFCT32KpqkferYC7rKS/bti287AUWZTZcGqSaYzNtuJysqkB9ZKTXeU1UvPNrGX\nfT3nNpueba70uZn0bGfgccxv7PW/SOnZACRdirtvjjazj4GbJPWkZ3vEzG7tOcnMHpXUk57t6j7K\n72FevPW/GXAzHk/8aklLUPte5p6eLQjyIPnCdwfO+nybmBZvCG3XaDldY8RrGV91Jhxls+nZ5qaD\n6dkknYS3+GsGyanw1TWVng04Hm8hDwemxVvujfB5era0frKkI5mcnm1Uvf+p03ToOWqY0FOfomlq\nUc9v8AZMZeNoJeAfZrzZaCFd7U7pEM2mZ5ubDqVnk1QGNgDWN7N3yY52pmcb0su9DIJBg8paFH9b\nXdNKVuk2WZtGOzR76LDzv6ZzvrftRVlwH/LFeMflanjgriXxsANvAlvjKZROBO6qOG9v4AncsM+D\nG+a9KvbfjWdEmi6V8QbwhbRvKdydshruWrkYuLji3MNwozhHA/p3w1vHPeuLAJ9VHVOZ2efzjk7c\nl/4yU2b2GZY034kPjZqOyXMOFgPew4OgDQEOxLP8DO3rXnbjcxFLLK0ujOMkxnHiFNuwacGeAFt3\nquP7+C50Vnj3GvFm0rPNX3Vuu9KzfYa7QN6pWA6t2P8OsGr6XKT0bL3ey257LmKJpZWFcSzAOCYy\nbvIoLTMD7CiwP4BpqnOyTs/WKlnP2CyaXwyKp6mb9XRqxmY336NOUDQ9UDxNjepRWUOBfwKnWclO\nnbIMHgL2NuOeGuX3+l0In3gQBEHn2ACYWMOAz4S/IT/YbIFd3RIPBjbxXAQDDZV1OXCTlezMKbaL\n9YHDzRhb87xoiQdBEOSLyloFWBf4fY3dq+EDBZqmq4140eInQPE0hZ76FE1T6KlP0TTV06Oy5gH+\nBOxkJas1BnwNBqMRD4Ig6BK+A1xoJftT9Q6JbfGZzuNbKbjV9Gzn4DE1XrHJOTa3A8bhM/NWNLMH\napwXPvGgYeK5CAYCKmsG4DlgFSvZ01Pt91Eph5j1ngCir+9Cq9PuzwVOY8r4t4/i44PPrHlGHaRs\nYqMEQRAUBZU1Ep8rcVkvBnxmfFTKrdX7GqXVHJu347MLK7f9w8z6zAXXR3lqZQHWavXcdi1F09Tt\nelp5npql2/yrnaZoeqB4mvrQsx8+ke47vexfBbjPjEmtXrtrAmAFQRB0EyprduAgYFUr9eq3Xg24\noz/X6bgRl3QePt0aPG7GQ5ZmOvX8mjW63rOt1fPbtV6pLfQUX0+sd9+6mY0vsh6VtRDPcA+vc7X9\nyT0Utc+/elPY/JDq/enzbjgT6ANZi5N9JI0B/mipY7Ni+y3A96yJjs0gCIKBhMr6PfCElazc6zFi\nNeByYBEz+oxCmsdkn0Hpy4TiaQo99SmaptBTn6Jp6tGjsoaprP3wxA4n1TntdDxWSr/CSLfkTpF0\nCZ7pZVZJLwIl4HV8xMqswLWSHjSzjfojLgiCoFtImXpOw2Pkb2kle7/XY8VswHz4BKD+XbdVd0pL\nFwt3ShAEAxCVNS+ePH05YDUrWXUawimPF1sBe5nRUEM3YqcEQRC0CZU1LR53/xVgbD0Dnuj3qJQe\nutqIF80vBsXTFHrqUzRNoac+RdGksmYGLuRx3gEOtpK93uCpqwG3Z6EhxokHQRC0zk+BSdzAcXZp\nY75piUXx8CT3ZSEgfOJBEAQtoLLGAPcDizbaApcQcBdwkRm/aPha4RMPgiDIDpU1Ez4S5ddNuFAA\nvgTMAfwqKy1dbcSL4herpGiaQk99iqYp9NSnAJrOwpORHwNN6dkJuNCMz7ISEj7xIAiCJlBZC+MZ\neha0kr3X8HliOmB7PAFEdnrCJx4EQdAYKmsYHoL7WSvZEQ2fJ4bi4WafMWOXpq/bhnjiQRAEg5Gz\n8Vnp+zR53pbp767ZygmfeOYUTVPoqU/RNIWe+uShSWUtgGc029pKNkU+hQb07Av8zIzMXR9dbcSD\nIAg6yHeB86xk7zRzksS3gIWAq9ohKnziQRAEdVBZ3wcOBFaykr3Q8HlibTyd5UZmPNHy9fuwnWHE\ngyAI+kBlfQF4BljGSvZSw+f5xJ7bgdPNuKhfGgZqx6YqsvoUhaJp6gY9KmtGYGFgfuATYB48eexI\n4LOK5WXgaTxz+CNWsk/bpSlPQk99OqxpT+Dqvgx4tR6JaYAjgdHA79oprquNeNDdqKwlgCOArXHD\nPAF/Jv8D/At4CU8wMg0wBDfuXwMWB+ZQWYdbyc7ovPJgsKCyFsGTHW/R5Kk7ANsAG5qRSWOjN8Kd\nEnScFDz/AOBQ3F94TDOTJlIZiwPXA38GTraSPZu50GBQo7Kmwd/8TrGSNTxNPrXCHwf2M+OmTLRk\nGTtF0jmSXpb0aMW20ZJukvSUpBsljeqP4GDgorLWAh4G9gK+aiU7tFkDDmAl+yewKvAWcIfKWiP9\nOARBVqwFvN2kAR+KT8V/C/hLu4RV0soQw3OBDau2HQrcZGaLATen9bYT41frUxQ9KmsJlXU2z3AF\n7itc2kr2fH/KtJL910p2GPAd/Lm8MgXob05bQe5RD6GnPh3StDv+XNWlQs/3gLWB7doxJrwWTRtx\nM7sdeKNq8+bA+enz+UyenRQMYlSWVNb+Kusp4E5gAuPZ00p2jZUsswBAVrKrgCWBT4HnVNa3syo7\nGJyorK/hE3subvgc8TXgEGAnM15sl7aprtuKT1zSGOCPZvbFtP6Gmc2SPgt4vWe96rzwiQ8SVNZX\n8E7LRYFdgMesZJM6cN1lgBuBna1kN7f7esHAQ2VNB7wI7GIlu76hc8TeQBn4tln2k3o6OsTQzExS\nr78Mks7DRyEAvAk81DM0p+eVJNa7e51xPANcy9+4lHv5tb1mD3T4+jsDl2lz/ZE/ca59Vqz7E+vF\nXmcco4HHGMcHGjd56GCvx2MTgGNh64PgqjdIXpT+6Emfd/PyP7eXNcmqJf4PYKyZ/U/SXMAtZrZE\njfMybYnH+NX6dFqPyloV+A1wvpXs+Lz0qKy5gT8AdwNH9jVVerDXWT2Kpgfaq0ll3QhcZCU7v+6x\n4kvA5XDan832bTYoVuOaOpDZ5xomR+faFf/yBIOMlO3kUvy18oQ8tVjJ/oN3wM8DTFBZ38xTT1B8\nUh/OMfg8hLoTdNKMzLOA42C/S9utr1cdzbbEJV0CrImHY3wZOAq4Gv/yzo83/b9uZm/WODd84gOU\nNKb2NGCElWz3vPVUorKWBa4D7gD2t5K9nLOkoICorBVwW7ZiI8+IxNeBHwArZpmpp/a1MvSJm9n2\nvexat9myggHFBXgn5mZ5C6nGSvZImh36Q+BulfUz4JdWsk9ylhYUi92Acxs04Hvgb5tbt9uA16Or\nQ9EO4vGrDdMJPakFszawppXslbz11MJK9q6V7AfA3vgU6stTmq1BWWfNUDQ9kL0mlTUcT512Qf1r\nMxo34GPNuL0depqhq414kD8pXdUxwElWsg/z1lMPK9lNuK/8ObxVPo6h8T0YzKRn+CrgDivZM30e\nK4YBxwNXmvF4J/TVI2KnBC2TprnfjEce3NJK9n7OkppCZc0BXAJ8EdjDSvbHnCUFOaCytsYn6axh\nJfu4z2PFVcBMwPZm9PnWmSUdHSceDCq2wENtfinLGZidIvk+11ZZKwNXq6wLgeOtZBNzlhZ0lm8C\n5zRgwDcBlgK+aEbbJ641Sle/Rg4GX11/aZcelTUncBxwRDMGvGj3B4BxTIeHuJ0RuEHlfAO4Fe0e\nFU0PZKdJZY0ENqBO6jSJbfAkyQfUMuDhEw+6ivTg34s/+NflLCcTUijbvYHxwAsq68B8FQUd4nvA\n7VayV3s7QGIBfDz4NmY0NA2/k4RPPGgalXUqMNpKtkveWtqBypofj79yHzCuXmdX0J2orOXxRsiX\nrWT/rXmMmBafA/OAGeVO6ptSR/tnbAaDAJU1RGWdB2yFJ40dkKREuKsCLwDXpvRxwcDjG3h4iN4M\n+FDgrrR6UsdUNUlXG/GB7KvLioz17I5P6FnaSvZaAfRkQi1NVrLXrGRH4CF0r0lpunLTkydF0wP9\n15RGVm0LXNHHYd/Cg/RtaUafI6/CJx4UHpW1IHA0Pm393bz1dJBv466Vm1TWrHmLCTLjK7j9u7/W\nTon18BhAB3UquUOrhE88qEuK0X0rngvz1Lz15IHK+jHecjvcSnZZ3nqC1klvVbfi0S2nytwjMQb4\nO7CjGTd0WF5NwicetEwKbHUG/sAPSgOeOBz4P+A0lbVB3mKCfnE0cHotA574DnBeUQx4PbraiA9E\nX13W9EdPGgt+C/AZcGbeetpFI5qsZJYyBW0HXKSy2tbRVbR7VDQ90LqmFAhtPeBntctlDbzv55ed\n0JMFXW3Eg/ahsoYAFwH3AGt344zMdmAlux1YBNhGZW2Ut56gcVTWYsD1QLlWkhCJ+fBcCLub8Vyn\n9bVK+MSDqVBZ8+AxRSYBG1jJPs1ZUuFILpWzgG2tZPflrSeoj8q6GHjCSvajmvvFOGA2M77TUWEN\nED7xoFlOw2dkbhgGvDZWshuAw4DrVdbseesJ+kZlzYtHrzyt5n4fE74nGbkNO0mmRlzS/pIelfSY\npP2zLLuX641t9zWapWiamtGjsoarrO/hUf2ObEfShKLdH2hdk5XsYjz+9LFF0NMuiqYHmn6uZ8Z9\n3BdYyd6auiyG4m+ej5nxSLv1ZE1mRlzSMvgv2YrAcsCmkgfdD7qGnwBbAlt3Q2zwgnA0sI7KOjFv\nIUGvnAC8j48wqsUmwAJ4VM6uIzOfuKRtgQ3NbM+0fiTwkZmdVHFM+MQLSJq99g18avEXrTR1ftSg\nd1TWLMCDwPZWsrvz1hNMJk3QehpYore0axJ/Ai4zo252+7zolE/8MWB1SaMljcB/3ebNsPygffwY\nGAd8Mwx481jJ3sDD8pby1hJMxfeAK/ow4AsAqwCXd1RVhmRmxM3sH/hry434MJ4Hoe0ZoMe2s/xW\nKJqmenpU1hrArsDqVrI789aTBxlpOg9YUGWdkt5s8taTGUXTA41pUln74bNsj6ldBqOAPwMnmPFe\nu/W0i0wz+5jZOcA5AJKOw6PATYGk84AJafVN4CEzG5/2jU3lNLQOLC+p4eM7tL48HpO6+Hq20EXM\nzCYszE5Wsom568lpvYf+lGclm6Q5dDDrcwaLcAVwV556inZ/Or2usmbiGY7mPva1J+35WsfDT0ow\n3ytm252Qt96p9Pvn3Vzn5/ayJpmOE5c0u5m9Iml+4AZgJTN7u2J/+MQLQMrsfRD+kHwtuQOCDEjJ\nJFa0ku2Qt5bBjMoqAYtZyXbs9RhxJ/BjM/7UOWWt0clx4pdLehy4Btin0oAHxSDFxr4dT0m1SRjw\nzDkP2EhlLZm3kMGKyjoZdxGO6/UYsSCwGHRHfJS+yNSIm9kaZra0mS1vZrdkWXYtutVX10kq9ais\nr+MG/AF8Kn3HM9YU7f5AtprSj+IBwK1p5muuerKgaHqgd00qay18pNUKVrKna5/LrHhH5hlm9Jkc\nub96OkFkux8EpCFwBwE7pr/XWKmD8RYGGVay81XWings8iPz1jMYSJ3Je+MxwPesNamngv2AR4Cj\nOqGt3UTslAFOeq3/C55man8r2X9yljQoUFmLA7cBC8TEqfaS7vWhwJeBXa1kD/Z6rOfMfB5Yy4wn\nOySx3/RlO8OID1BU1lDgdGAb3Hj/NmdJgw6VdSkwGp8BG/1DbUBlrY9H2zwfOLrefZb4DrCVGet2\nQl9WdLJjs6N0k6+uoxo8wt6VwPyczbeKZMCLcH+qaaOmHYBXge83c1LR7lHR9ABoNm2qsq4ELga2\nspId3IAB3xgPWnZA5noGQuyUIH9U1iiV9Uvg53gH5ta8SEsJjYP+kwKIfR/4dkpxF/QTlSWVtQ3r\ncyrwIjDGSnZHg6fvD/zAjMfap7DzhDtlgKCyvoz7vq8D9qnTsRN0EJW1K3Ay8F0r2e/z1tOtpM7L\nY4Ct8FARFzXaQS8xPz6LfF4zPmifyvYQPvEBTgrycxdQspJdkreeYGpU1gp4SIo1rWRP5K2n21BZ\nK+Muwpfw+Q0TGz5XTI8n8Hi7iAkfGiF84h2k05pU1heBJ4FLaxnwot2joumBzmhKIyYOAW5XWb9N\nqcJy09MMeepRWdOorJ2Bq4G9rGRfrQwR0SDHA18AftgOjRA+8aBFUib6M4EjrGQxHrngWMnOAxYG\nnsWN+Zn9DZY1CPgecDCeBq/p6fESswM7A3uY8XrW4opAuFO6FJU1Cjfg8wGrRSLj7kJlzYAHAnsI\nOCrG709NGj54IfBVK9mEps8XAn4B0K1ulB4GrDtlkHMS8AmeyDgMeJdhJXsX2AhPRn2jypo+Z0mF\nQmXtAJwN7NCKAU8cCqyKz+IcsHS1ES+a7xDarykNsdoO2BgfhfJOnnqapWh6ID9NqXPuO8CjwG96\nDHnR7lEO/TyjgFNwF8pfWtGU4qMcDGxpxiuZi2xSTzvpaiM+SBmHD7PaPoYRdj9piNxewHDg0pzl\n5E4aKnsncLmV7J6WyhDD8eTVl5r1HYt7IBA+8S5BZY3Aw2seCXypt3RTQXeSYrz/E4/9cVveevJA\nZc0H3A38ALi4lSBtyYBfDxiwkxn/y1ZlPoRPvItRWfOorP3xHKZbAFuGAR94WMkm4VH1fqWyls5b\nT6dRWfvgbqWTrWQNT+L5/HwxjcSuwF+Bd4ANB4oBr0dXG/Gi+Q4hG009fm+VdRX+YC+Lh9fc0Ep2\nX6f1ZEnR9EChNF0EnMEz3K6yxuSs5XPaeX9U1hCVtT2T3zBPbUaThCT2xkPL7o0HfdvOjE/aJLlP\nPXmQaTxxSYcBO+EJkh8Fdjezj7K8xkAmjRneHe/sGoYnnv6WlezVXIUFHSGNMvqFNtISLMy1KusQ\nK9l1eetqFynS5h/wYbJbW8mebep8MQP+9rIh/p253ay9ydmLSGY+cUlj8FeZJc3sI0m/B64zs/Mr\njgmfeBUq6wvA4sBKwHrAXHjQpFtSAKVgkJF+zL9Big8CnNTTiS0xApgNmBWYCZgFn404K+4HfgH4\ngxnv5yC9YdKbxo9x7ZtYyZrKsCOxCnAVcA8+kWdAN3T6sp1ZtsTfBj4GRkj6FBgB/DvD8rsClTUT\n8BVgEfweTA9Mh9/rocAQYBTuIhmT9j2JB+e5ErgwkggMcsbZEOBF5rnnFDY88HvM+uQhmvOh//Ly\n8rPhz89EPMTtW2mZCLwGCFgd+KnEacCpZrybzz/ROyprLjzK5u+A/2vGgEvMDJwKbIZ3XP65PSq7\nh6yz3e+Fj+/8ALjBzHau2p9pS1zSWDMbn1V5U5Rd1nTAgnhLZ1FgRbzFbMCHFctwvEU0MzAbzzIf\nC/F34B/Ae/i9+BCfmPNpWt7FfXjPAK+0c7JOO+9RKxRND+SvSWIIsDKwNLA63LgBrP8S8BRwB9tt\nN4Ylrt6eSTMcy7PrnGGXXtbn8yKxJB4nZAt8pMaF+LP2j1ZySmZ5f1TWergR/p2V7JjGNTAdsBue\nWm08rHST2T1XZaEpC9r9DHWkJS5pYTzY+hi8dXCZpB3N7KKsrtFOUhySr+JhLrfA/4/ngdfT33uB\nP+H+/unSMj0+4+5t/H9+nUuYyybZzZ3WH3SGNJV7dvyHe1r8+ZjYasLdFGHvImBJ/Bm7Dc7+q9n6\n504+6jJU1nimf6PE0pcvqbIO7MvVltKO7ZB8xt8C9sRjtiwk8RJwM96I+CfwmBn/bUV7s6isZfEk\nDvvgiYrF+2nNAAAfcUlEQVTrn+Pp1LbCZ1/+GzjKjMule8e2S2e3kaU75SvAXWb2GoCkK4FV8Af0\ncySdB58PwH8TeKjnF6ynh7fR9Z5trZyvspbmb3ybEYxhWUYBS/E0b/E2d/BldgAeYxyr9HL+jX2U\n/2mltmb+n3atDxw92+wCi8wFJzwMPAhaslP6/TX+hCNgyY1g83mA1+D6YTB0RlhveokJcOn/4NV/\nwT6nmPHP+uWf8hNYbk9Y9w/AcqDenrfxVrI/aTbBupRZgv+qrD0Yxzt9lQ/6CvCgmf3U98+yLqw3\nL1w6E7A0XP3/YORC0rpPAr+H+Z+EFz9sy/0rawv+xen8h7PsZrusr+PBbgW+BOceAnOtDhs+CZwM\nQ17yNpSlOinG82xm47PWkz7v5vej7wlLWXZsLocb7BVx98F5wL1m9suKY3Lt2FRZQ/DsHt/F3SDX\n4KNongSejPHX+ZNapgvhLcfqZQY8YNRwPCnuC8ADuE+4x0/8Bu6uetiMhmNO96FnGfx52RyP2X4l\n8Huzyh9rRuB9ICukZQe8gfJnvK/jNbzF/jruVlsD+CYwD57v8R9NafLY2lfgLelDrWT39uP/Gwas\njbsphuEzHe9q9c2i5jXK2gw4Aw8le23V9UcDywPz46NUFgHWwd9wLwSuN+PurLR0Kx1LCiHp+/is\nws/wL9eeZpM7LfLyiSfjfSSwB+4a2Rd4pJUZYVlp6hRF15NiXGyJ//hvgo+ymID7cKuXf/UYF4mh\n6Zyl0zmz4qM2RqVlOdyQPpz+TgBuAO42Y4p6r3WPkl9597ScAlxrxqON/Y8MAZZK/9cieLLknmU4\n7sq4ELihVsdjI3WmsmZM5Z8CXAscayX7VyP6etE8HDgc2BS/j5cDF5rxYKvPUBpC+FP8R23jnmn0\nqc63B9bFf9AewX+QX8DraTxe171+P4v+XLeh/I6MTsHMTgROzLLM/pCGau2dlrdwI/FERP3Ln9RR\n9W08UcJ43NiuCUyobOX2RprMcXdaapU/DW5Al8Fb8MviGdHvkDjejH9OPm6annNmxvtDNgTWB34N\nrGrGU838b0n/o2lpCynw2W9V1i14w+kOlXUInhyk6bkZZkzC4/KMk/gSbsyvl3gLfnqDxG3NjMFO\nDadTgcX5eLplOPaDGTWOnfAG1BJ4h+tFwLc6EaBqIDNgY6eorLVw18kY3FDEuOsCIPFlYDvcSDwH\nHNep1+XU0fcT/Mf8Y+B9fOTREKDH8N0I/BH4UzdN207P+zjcDbG5lazfeSRT63xZvLW/GHAZ8ON6\nHaE6ZPblme7t63l3jg84676XeH/2xfH7+wBwDnBdp2dUdjsdc6f0R0hm1/AWwG54pL/jgbOtZO+1\n85pB3yT3wv/hP6rT4v0ldwE39vXK3EY9Q/Ef9xH4ML5Pkq4PunnGX3r2L8T98gdlOdtTYiHgIGBH\nfBTNwfjIFkv7RzP0g41Y5aQjWfH0xRk/7gXu3/t6PHH3g8C/86jrgcKANeJT+VfLmhsfPvUBsKOV\n7MmsrtWqprzJW4/EPnhQ/seB78OQEWaf5qanFnnfo2r6oycNlV0PuABvxJxnJXsjKz2pI/RA3C0C\nnmpuAfhsNNvs8AYL3vIh781+gP3q0ev7c81mNBWBAeMTzxOVtSH+qvxbK9lxeesZ7KTW9w54h/Ka\nZjzh2z8bm6eugU7q77lBZa2Du1cOVFm7Ardm0ReUOpZPlDgJn/w2N2v98BPWOPZoZKOANe2klyPO\nfQfp6pb45+VOHsJ0EN6xE69tOZImxFwOLAjsbUZTkReD7FBZWwHH4RPTTgautZI9l1HZwifIXQyc\nBfyk2RgoQWMMXHfK5KGD++JBdFrKBBJkRxrnXQLWAtYwo+mREkH2pLHl++KulruB+/GO5f8BL+Fj\n2d9Mcc3rlTUU7xA+DI/VcryV7Mw2SQ8YoEZcZQ3nES5nWWbCw7U+nUW5/WWw+eqmvBYC/oKP/NjT\njJfy1NMoRdPU5phAI4FtcSO8IB41c158DPvM+ES9O/EO3zeANxjPKMbyFD4p52v4iJWJ+Lj7H6Sk\nzx1lMNVZKn9g+cRV1jbAmQzjWWCdesmCg47x/4AZga81MtY76DxppNb5tfYl98gs+Hj9BdLnhZiN\n5fHJS4/hb1kPW8nDawT501Ut8ZQB5Gh8XO92VrL7MxMX9AuJo/FhhOua8UjeeoJgINHV7pTUOtgZ\nD635MR6V7W9WsmjpFYQ0w+86YJmBHpw/CPKgL9tZ2BybKmuYyjoSH4d6MLALsIyV7M4eA14dFa8I\nFE1Tu/VIzIfnNTyqEQNetPsDxdMUeupTNE156imkT1xl7YzHYHkIz+AR8U4KiMSM+EiHc4Gzc5YT\nBIOSQrlTVNaseKTBA/Ahgw92TFzQNBInAHOYfR73OAiCNlD40SlpqvCawG/x3HvrWckez1dV0Btp\nKOHxuItrhZzlBMGgJnefuMpaAp94cDrwXSvZ9o0a8KL5xaB4mtqkZwdgY7wjs6lIf0W7P1A8TaGn\nPkXTNCh94iprSeCX+ASCw4CzYrp88ZHYDg/0v5EZMVY4CHIm68w+iwO/q9i0EPBDM/t52m+MY288\nFdRceICe0yPOd3cgMRYPdbqTGePzVRMEg4dOZvb5J8lHKmkaPDv1VVWHjcUDVf0lRpx0Dymhwi+B\n/cKAB0FxaKdPfF3gGTN7sXKjlWwHK9mNWRjwovnFoHiastAjsTDwD+A2pv5R7rierCmaptBTn6Jp\nylNPO434N/EQlUEXIzEKT8t1ghnfjuwsQVAs2jJOXNJw3JWylJlNrNjesRybQf+RWB/4PT70c/8w\n4EGQD3mME98IuL/SgFeIOQ+YkFbfBB6anPrJX0liPd91sFuBreCms+HKH5qd/osi6Yv1WB/o6+nz\nbjgT6IN2tcR/B1xvZudXbc82KUTBYgpD8TS1okfiOGALvBPz5rz1tJuiaQo99Smapnbr6WhLXNJI\nvFPzW1mXHbQXiTnxTEkbAyuZMdWbVBAExaJQsVOC/EhDCG8D7gGOM+PFOqcEQdAh+rKduU+7D/JH\nYk3gQeDvwD5hwIOge+hqI160saJQPE319KR44L8Hvodnpm/rq1nR7g8UT1PoqU/RNA3UceJBwZHY\nHrgX+IkZ18QQwiDoPsInPkiRWBa4GdjQjMhVGgQFJnziwRRIbARcDxwUBjwIupuOG3GJ+STmlBgt\nMYPEkNbLKpZfDIqnqVqPxCx4OrVdzPht3nqKQNE0hZ76FE1TnnryiCd+FzAcGAZMC0wnMQl4t8by\nGHA5cLcZEfGwn0iMAE4Frsp6Ek8QBPmQu088pfqaDpihYpkxLSsD2wKjgWuAB4A/xCSU5pEYBvwN\neBHYw4zXc5YUBEGD9OUTz92IN3YeS+LxWFYENgFexlO6PQ+8BDwHPA08Z8ak7BQPHCSOBFYFNo5R\nKEHQXXS9EZ+yDIYASwArwK/WgH0+ARYEFgfmBf4DPIUb+LfS8k7F8hYeUOZ5Mz7sj5ba+ooX0wFs\nazwWyupmvJC3niLdHyieptBTn6JpGlCxU9qNGZ8CjwOPS995yWyf8T37kstgAWBRYH5g5rTMxmQX\nzSzpmPkknsFnKl4FXGfG+x38VzrErosBWwNLmPFu3mqCIMiWrmuJZ0Uy+EsDKwHb4QmbjwMuNeOl\nPLVlhcQ0eF/Cn834Rd56giBojQHlTmkXEssAhwMbAH8ALu7mERwSQ/GAVp8C67XDdRQEQWcYsJN9\nshybacZjZuyAu2KeAc6SOEtisbw09ZODgXdgyA+LZMALdH8+p2iaQk99iqYpYqcUCDNeN+M44EvA\nR8AdEodJzJSztIaQGCFxJh7Qai9ieH0QDGjCnVIHiXmBM/HheYcDZxR14lFyofQkp97XjJfz1BME\nQTYMWHdKJzDjJTM2wceo7wL8R2LjnGVNhcT8wBPATPiU+jDgQTAIyNSISxol6XJJT0p6QtLKWZZf\n43pj21l+JWY8bfb5DNJzJC5Lk5By0zT5mswMXAmcbcaGlT7w8B3Wp2iaQk99iqZpIPnEfwZcZ2ZL\nAssCT2Zcfu6YcQewDB4D5naJX0oslZceiRWBZ4G7gRPz0hEEQT5k5hOXNDPwoJkt1McxXecT7wuJ\nRYGvAwfggbouMOPuDl5/BB5P5igzLu3UdYMg6Cyd8okvCEyUdK6kByT9WtKIDMsvHMnFciw+Ueh5\n4BKJv0mUJRZNwb3agsQSwKPA+DDgQTB4ybIl/hX8lX4VM7tP0qnA22Z2VMUxBpyPxy4BeBN4qCfm\nQI9fqYn1A/p5fsbrs64HS28Bt34GbA03TgtPXQHfPdWMf2R1PbA7/V7/9E446Ko6xy9vZqcW4/4U\nUg8920JPd+ip1DJQ9aTPu6UiJwClts/YlDQncLeZLZjWVwMONbNNK47J1J1StCA4MKUmiS8BewOb\nA3cAv8Njebc8RDH5338FvA9sUi8iYdHuUdH0QPE0hZ76FE1Tu/X0ZTszHScu6TZgTzN7StI4YHoz\n+0EjQgYyEjPgwxN3wycQ/Rq4sFljLjE3cA/egXmWGR9lLDUIggLSSSO+HPAbPHPPM8DuZvZWI0IG\nA2kyznbA/sAneIyWy8x4vs55I4F9gEOAE804ud1agyAoDh0z4v0R0mJ5hXqlgsY0JWO+JbAO8A1g\nEj5M8FXgA2B6PJvRaDyM7szAH4EjzZobtlm0e1Q0PVA8TaGnPkXTlKc7peviiQ8EzPgEH5J4ucR3\ngDmBhfFY5yNwQ/56Wl4FJhZ1qn8QBPnS1S3xIAiCwUCnxokHQRAEHaarjXjR4idA8TSFnvoUTVPo\nqU/RNOWpp6uNeBAEwWAnfOJBEAQFJ3ziQRAEA5SuNuJF84tB8TSFnvoUTVPoqU/RNIVPPAiCIGiJ\n8IkHQRAUnPCJB0EQDFC62ogXzS8GxdMUeupTNE2hpz5F0xQ+8SAIgqAlwiceBEFQcMInHgRBMEDp\naiNeNL8YFE9T6KlP0TSFnvoUTdOA8olLmiDpEUkPSro36/KrWL7N5bdC0TSFnvoUTVPoqU/RNOWm\npx1JIQwYa2avt6HsakZ14BrNUjRNoac+RdMUeupTNE256WmXOyU6L4MgCDpAO4y4AX+R9HdJ32pD\n+ZWMaXP5rTAmbwFVjMlbQBVj8hZQgzF5C6hiTN4CqhiTt4AajMlbQBVj8rpw5kMMJc1lZv+VNBtw\nE7Cvmd2e9nVuPGMQBMEAomOJks3sv+nvRElXAV8Fbu9LRBAEQdAambpTJI2QNGP6PBJYH3g0y2sE\nQRAEk8m6JT4HcJWknrIvMrMbM75GEARBkOjotPsgCIIgW7p6xmYeSNpC0j6SVsxbC4CktSStJml4\n3lqKiqRtJB0uacO8tQBI2kjSjulzIb6Dkoalv4Xot5K0hqQrJC2etxYASV+XtF/eOmpRiAeoFpJm\nkHS0pP0lrVAAPfNKug74HvAF4CJJ6+SoZxlJVwPHAocAB0qaKS89SdNISSdJGidpvTy1JD3zSroe\n2Bd4FThX0to5a5oNOBU4VtLsZvZZnnqSpmOA3+Wto4oVgGWAlfJ8riUtIelK4LvAk3np6ItCGnFJ\n2wL3AzMBcwFHSlopX1V8BbjFzNYws2OA04Bv5yEktd6OAMab2SrAL4ClzOztPPQkTdsBfwOmww3m\nAZKWyUtPYjHgMjMba2ZnAb8mx4loqZX7AXAZ8FfgxLy09CBpeuDLwJqSVjYzK0hrfBbcaK4ILJuH\ngHQffgpMSt/7myQNyUNLX7Rj2n0WLAjsY2Y3S5oFb2kuBNzTSRE9Y97T6r3AnRW7J5J+mZXiRHZA\nz7Rm9pGZfSZpDzP7IO1aDZgntTIfN7OX262lBtMBO5rZI5JGAUsB/+y0iKo6u8PM/pq2fw84FBgh\naU4zu6hDeqY1s48kTZPq7Qv4sNvdgWskLWlmubTwkqYPJN0M/AM4SdIanXiWq3T0zC0R3rD8DHgN\nOA74BrCspMeBj8zs/Q7o6fmemaTfAFtLmhPYDphT0u3AA2b2Sru1NEIhWuKSFpA0f8Wmc4G700P2\nBt6i+jQd2/ZWgqSVJb2MT1YCwMz+k8a+91x/XlK8hHY/9JI2TV+0vSv0fJD27YMb8auA/wcc1Ak/\na406uzAZ8LmBi4BtgB9J+mY6vq2aKurs89FQZjYp7VsEmBZYA7gNOCZ9KdupZ4o6SwZ8GuB94EEz\n+zdwFnCxpPM6XWeShiZNo4G1gMPwt5QtJE3bbi1JwxR1Zs6n6fu0HDAJ+DluyG/Dn/N26qn1PbsC\nGALcgT8//wP2xN2XhbCfuYqQUwaewg03AGb2as8vbsUr6CtpX7sN5ghgdeBw4G1Ju6ft1fdqXfy1\nmNS6apeehXDXyUvA4pKWS9uHpUN+Y2brmNkvgd8AswPz1ywsGz291VlPvSwBXAp8EXeJHSFpVDt9\nv1V19k6NOnvWzI4zs7+Z2TX43IVd2qinZp2lezAH8AVJCwKb4W+YbyWD2pY341p1ZmafJNfAm8BT\nZvYRcApwPvBYO5/ppKm3OhuavvMvAHPj/QeLAM8AD7VRT806S/wQONTMtjOz04BfJm0LtEtPM+T9\nSzIj7vdeC5gkaWfwioTPH/rRwJLAXWnfElmLSA/OYpJGpB+PK8zsbOBHwCGSZqw0Qknff4HnJB2P\nx4rJrPOl8gfDzJ4FdgLG4b7mrdP2j9MhH1ecOhEYAbyYlZYa9FZnw5Kuv5rZ+elV80rgMdy1kinN\n1FlV3Q3D7+P4jPXUrbPE63iH3T24e25HYFNJw83skyw1VVCzzszsU2BW3F2xH3AM3li6zsxey/qt\nt8E6+yQ1CBYGLsFne6+MP+djs/yha7TOzOxpM7u84tTXgBnwH5r8MbOOLsBKwKLADGl9rvR3G+Dv\nwNC0Pk36uyJemUvj7o2TgeEZ6tkaf3Cvxo3OLFX7/wAcnz4PSX9H4367p4CfAaMz1PMt4EHgeGDr\nqn0bAWcC6/fco7SMBPYCHgC+j78WK686qzhvA+CPwEwZP0PN1Nk06X7Mk+7tA8DpwLQdrrMN0voX\ngK2AURXH7I33KXS8ztK2q/BO6SVxF+HbwEJ51VlanwmYuWJ9bWD6DtfZ59+z9Hd4+p49hPevZPo9\na/l/6diFYHr8NWQCcDZwTdX+Ifgwp2PSes9EpK/jBvNOYIeMNY3EXx9XSuvnAGVg6YpjFgOeq/gS\njMT9dRcCy2asZ8X0BVspfdn+BmxYsX824GDg5xXbhgHfAW4GvpxnnVVsXwn3i98HbFVZnznV2bS4\nQTsZ+EredVZZd1lqaaXOkiGareqYFTLW1EqdzdLz/7ThHrVUZ7gvfHzW37N+/z8du5D7tW6uWL8V\nOAiYrmLbSri/cnhanwbYFvhRVVnT9EPHTFXr9wKbpM9LAScA+zFlS+VI4AbccB+V8X0ZUvF5E+CE\nivUdgX9VHf9lJo8N/3F64DJrVWZQZ8PxDqBDMtTR3zorFazO5qRNLbgm62zatD46/c3y7aQ/dXYB\nUC5QnR2Pu52GZKkpq6XdIwYWq1g1YKKkRdP6IXjn4DLpWJnZPfir1oOS7gbWNLPLzezIdEylr7wV\nPUcBf5V0Qs+oCfxVcpk0EuYJ4BFgPvzL0MMo/HXuBTM7upVr96KnDBwvabO0aRJuAAEwHwb3qqRD\nKk57AlgFf+CnN7OJ5p1SWWnqb52tama3mdlJ6Zh+javNqM7K/dFQpSeLOvufJUuRkaZW6+wBSXfi\nE2vI6jnKoM5eMrNSFlqSnv7W2XTmgy0+zUpTlrTFiEtaUdJNwG/kM/hWAt5Nu0enirwXH0e8I/jo\nBklLAZsC7wFHmNktFWVOYy12/EiaU9Lv8Qdmd/wB2l8ecfFRvGW0Zjr8VvxX+LN07pr4F2NBMzu8\nlevX0LOSpPvxh/gR4GhJ65rZTcD0kvatOPz7wMaaPK3+RLyTZ0kzOyALPUlTO+pMrT74UWcNacqi\nzn5oZjdnpCfqLA+ybtrjlXQ/PrZzVtz3dVzad3xa5kjr8+O+u1nT+q7A/6soK5OOA7x3foeK9dnx\nV7bF8CFfh+OV9oW0/womv/q17LrpQ89KwB4V68cDZ6TPY/GRL6PS+pL47NCRaX26NuiJOos6izpr\nc521a8nyhvV0RM4AbF6x/ZvA5enzAvhr3G6kTh28w2P2GuUNzUpbzwNW8Xk2vGd69rS+eKrAG9ND\n9yAwX9tuut+j6Zk82mUTvDOqZ5THr/DxvN9Iei5uk46os6izqLM211m7l367U+SxFzDzmAtm9i5w\nbcUhLwEmaXozex44A49DcrmkR/FXqNcrylMqL5MxsxXlvVOx+QvAvy1NmzWzf5rZvknbA8BXzSyT\nsda1fMJm9q6ZfWCTXQ0bJT09//PB+ESirYCXyXhiStRZ3etHnTWvL+osL/r5S3cYcBQ1erWZPLby\n+8CpVfuGAdsDY9v164SPUZ4xfVbV342AX6fPmwFrtEmDqvQMr9rf0yK4hjRcEZ/pOFP6nNl4+Kiz\nqLOos87VWSeXllriFbOmeuIJ1JpFaenvXMCVabbWgZK+bGYfm9klZjZeTn9HMNSaWfZtYIoOCUs1\nhk/3nVbS2Xjv/Yf9uX5vmJlJmkPSqfgXcUyV1p54Gm8Ci0m6HO8NH57On5SVlqizxog661NP1FkB\nacmIW3odMc9i/3dg99QDPQXpRi4I7INPM54Tn4b9+X5zWh3BMKTi87SSNq/YfS3wuqQhPQ9VepCF\nD7daFfi7eYjJe1u5fl960vocePzxDc3DoT5V8YBjPlRyaXy67/eBv5rZN8zs1Sz0VBJ1Vl9PWo86\nm7r8qLMi02zTHTf8cwAlPKbBrPgspg2o6uHGWwefARdTMTurv0vSUH2txXC/1nb4FOZdgfPTviFV\nx24JjMhKT/U18A6Unhln6+AzF9ft0V513rx4r/3ILPVEnUWdRZ11ts7yWhq5aT8Bjkyfe3qZp8Xj\nTxyW1v8Pj28yR/XNxjsvKh+K/sy2nLFqfR18mNLe+DCqL+FB3H+WHrBHgbkrr5/xA7UmU44QWBsf\n/3oVHkLz/9L2I4CTmDxSoK3xFqLOos6iztpfZ0VZGrmBa+C92ovjPbnrpe1r4bEZNsTHmf4B2IPJ\nnQjVv+AtD2XC4z3sgEdZ65nevQvew70H7t96PD28Q/DYwz/Hgy9l1jKp0jQ73vp5AJ9MIDwC2kr4\n0KrrgafxV9tl05dx+048XFFnUWdRZ4PHiPfpE0++tNvwcZ3H47/GPWEsb8FDnm6O94KfjY9LHZ32\nW2VZ1vpsy55ZfwbMjE8hBm8RnGhm55jZj/BZaT9Px+6CT63doJVr1tHTc89exdN9vQzsl/7fk/Gp\nw7fg0dr+gsd9eQR4FlhVHobTpi45M31RZ1PriTprTEPUWTdS51ewZ6jQaOAt3A92GrBL2r4qPj71\nW2l9TIa/wJvi0cV2Tusz4j3PP8Z7lX8F/LTi+JXwULU9w51GUPVa2E89m+AP8O5pfSb84doJf8Xt\n8cUdBeyWPu8HfIL7NEfRAX9c1FnUWdTZwPN797X02RI3M0u9zq/jPrtD8Zlg35dnvtgST/h6bzp+\nQi/DkFrhFTwX4ZGSDsA7Jq7EZ2FthAeS303SF9PxSwH3WZpsYGbv25QTD7LQsyiwj6RN8YfmKfwL\n9kc8VgR4x8+skjbEX42PBd4wszfN7L0M9dQk6mwqPVFnfRN11uXUHWJoaViSeSS42fBfulNwX9gk\nM9vFzB6uOD6TVxjz4Uhn4Fk0XsBjII/BYw6vhAeuPwY4StJ1+PCq27O4di967sP9bSPxzpzT8RbJ\ni/hwriGSNsAfptnwtFJ3mFnJzDqaMDjq7HM9UWf1rxt11u000lxn8qywbwJPps/DK/a3Jc4uMAv+\nEM0JbIxn27gXjwOxRzpmFLBFJ15b0rXewiddnIj3yv8u7dsef7hHdUJL1FnUWdRZ/nVWhKWZG9vj\nt/sLsF3PQ0Uboo9VXfdY4Nb0eQQ+rOltPEXSAh2/YXAccH36vBveETUMT/+1Bxn6BzPQGnUWdRZ1\nNsCXZm/sjHj8gY6mJwKeB76ePk+DD8daPbeb5q+dW6bPPaEsCzmcKeos6izqbGAvPb/6DSFpLD7w\nf5x1MMuFPDvIBWY2vO7BHUDS9vgstULo6YuoMyfqrKHrRp11IUPrHzIZMxuPT/3tKGb2O0mzp7Gj\nZs388rRHzyWSZiuKnr6IOvtcT9RZ/etGnXUhTbXEgyAIgmLR1kTJQRAEQXsJIx4EQdDFhBEPgiDo\nYsKIB0EQdDFhxIMgCLqYMOJBEARdTBjxYEAj6VNJD0p6TNJDkg6qFwFQ0gJpokkQFJ4w4sFA530z\nW8HMlgHWw8OrluqcsyCe4SYICk8Y8WDQYGYTgb2A7wJIGiPpNkn3p+Vr6dDjgdVTC35/SdNIOknS\nvZIelrRXXv9DEFQTMzaDAY2kd8xsxqptb+BJBd4FPjOzjyQtClxsZitKWhM42Mw2S8fvBcxmZsdK\nmha4A48wOKGj/0wQ1KCp2ClBMMAYDvwiZc/5FM8oA56Mt5L1gS9K2jatzwQsAkzohMgg6Isw4sGg\nQtJCwKdmNlHSOOC/ZrazpCHAh32c+l0zu6kjIoOgCcInHgwaJM2GpyI7LW2aCfhf+rwLnnwB4B08\npncPN+A5H4emchaTNKL9ioOgPtESDwY600t6EM8K8wlwAfDTtO9XwBWSdgH+jPvIAR4GPpX0EHAu\nnudyDPBAGp74CrBVx/6DIOiD6NgMgiDoYsKdEgRB0MWEEQ+CIOhiwogHQRB0MWHEgyAIupgw4kEQ\nBF1MGPEgCIIuJox4EARBFxNGPAiCoIv5/80whtwTnydOAAAAAElFTkSuQmCC\n",
      "text/plain": [
       "<matplotlib.figure.Figure at 0x10b2d77f0>"
      ]
     },
     "metadata": {},
     "output_type": "display_data"
    }
   ],
   "source": [
    "price.tail(800)[['000001.ma160','000002.ma160']].plot()"
   ]
  },
  {
   "cell_type": "code",
   "execution_count": 102,
>>>>>>> f32e067bd584571f8b4a5dfe277594c96491ea32
   "metadata": {
    "collapsed": false
   },
   "outputs": [
    {
     "data": {
      "text/html": [
       "<div style=\"max-height:1000px;max-width:1500px;overflow:auto;\">\n",
       "<table border=\"1\" class=\"dataframe\">\n",
       "  <thead>\n",
       "    <tr style=\"text-align: right;\">\n",
       "      <th></th>\n",
<<<<<<< HEAD
       "      <th>159902.sz</th>\n",
       "      <th>159915.SZ</th>\n",
       "      <th>399001.sz</th>\n",
       "      <th>^dji</th>\n",
       "    </tr>\n",
       "    <tr>\n",
       "      <th>Date</th>\n",
       "      <th></th>\n",
       "      <th></th>\n",
       "      <th></th>\n",
       "      <th></th>\n",
=======
       "      <th>000001.SZ</th>\n",
       "      <th>000002.SZ</th>\n",
       "      <th>000001.ma160</th>\n",
       "      <th>000002.ma160</th>\n",
>>>>>>> f32e067bd584571f8b4a5dfe277594c96491ea32
       "    </tr>\n",
       "  </thead>\n",
       "  <tbody>\n",
       "    <tr>\n",
<<<<<<< HEAD
       "      <th>2015-04-28</th>\n",
       "      <td>-0.032972</td>\n",
       "      <td>-0.025283</td>\n",
       "      <td>-0.006901</td>\n",
       "      <td> 0.004001</td>\n",
       "    </tr>\n",
       "    <tr>\n",
       "      <th>2015-04-29</th>\n",
       "      <td> 0.021404</td>\n",
       "      <td> 0.054201</td>\n",
       "      <td> 0.011205</td>\n",
       "      <td>-0.004120</td>\n",
       "    </tr>\n",
       "    <tr>\n",
       "      <th>2015-04-30</th>\n",
       "      <td>-0.006823</td>\n",
       "      <td> 0.009181</td>\n",
       "      <td>-0.003591</td>\n",
       "      <td>-0.010813</td>\n",
       "    </tr>\n",
       "    <tr>\n",
       "      <th>2015-05-04</th>\n",
       "      <td> 0.005643</td>\n",
       "      <td>-0.002911</td>\n",
       "      <td> 0.002828</td>\n",
       "      <td> 0.012885</td>\n",
       "    </tr>\n",
       "    <tr>\n",
       "      <th>2015-05-05</th>\n",
       "      <td>-0.025372</td>\n",
       "      <td>-0.025547</td>\n",
       "      <td>-0.042219</td>\n",
       "      <td>-0.007869</td>\n",
=======
       "      <th>000001.SZ</th>\n",
       "      <td> 1.000000</td>\n",
       "      <td> 0.822364</td>\n",
       "      <td> 0.846087</td>\n",
       "      <td> 0.737963</td>\n",
       "    </tr>\n",
       "    <tr>\n",
       "      <th>000002.SZ</th>\n",
       "      <td> 0.822364</td>\n",
       "      <td> 1.000000</td>\n",
       "      <td> 0.609776</td>\n",
       "      <td> 0.760560</td>\n",
       "    </tr>\n",
       "    <tr>\n",
       "      <th>000001.ma160</th>\n",
       "      <td> 0.846087</td>\n",
       "      <td> 0.609776</td>\n",
       "      <td> 1.000000</td>\n",
       "      <td> 0.687160</td>\n",
       "    </tr>\n",
       "    <tr>\n",
       "      <th>000002.ma160</th>\n",
       "      <td> 0.737963</td>\n",
       "      <td> 0.760560</td>\n",
       "      <td> 0.687160</td>\n",
       "      <td> 1.000000</td>\n",
>>>>>>> f32e067bd584571f8b4a5dfe277594c96491ea32
       "    </tr>\n",
       "  </tbody>\n",
       "</table>\n",
       "</div>"
      ],
      "text/plain": [
<<<<<<< HEAD
       "            159902.sz  159915.SZ  399001.sz      ^dji\n",
       "Date                                                 \n",
       "2015-04-28  -0.032972  -0.025283  -0.006901  0.004001\n",
       "2015-04-29   0.021404   0.054201   0.011205 -0.004120\n",
       "2015-04-30  -0.006823   0.009181  -0.003591 -0.010813\n",
       "2015-05-04   0.005643  -0.002911   0.002828  0.012885\n",
       "2015-05-05  -0.025372  -0.025547  -0.042219 -0.007869"
      ]
     },
     "execution_count": 13,
=======
       "              000001.SZ  000002.SZ  000001.ma160  000002.ma160\n",
       "000001.SZ      1.000000   0.822364      0.846087      0.737963\n",
       "000002.SZ      0.822364   1.000000      0.609776      0.760560\n",
       "000001.ma160   0.846087   0.609776      1.000000      0.687160\n",
       "000002.ma160   0.737963   0.760560      0.687160      1.000000"
      ]
     },
     "execution_count": 102,
>>>>>>> f32e067bd584571f8b4a5dfe277594c96491ea32
     "metadata": {},
     "output_type": "execute_result"
    }
   ],
   "source": [
<<<<<<< HEAD
    "returns = priced.pct_change()\n",
    "returns.tail()"
=======
    "price.corr()"
   ]
  },
  {
   "cell_type": "code",
   "execution_count": 103,
   "metadata": {
    "collapsed": true
   },
   "outputs": [],
   "source": [
    "%qtconsole"
>>>>>>> f32e067bd584571f8b4a5dfe277594c96491ea32
   ]
  },
  {
   "cell_type": "code",
<<<<<<< HEAD
   "execution_count": 32,
=======
   "execution_count": null,
   "metadata": {
    "collapsed": false
   },
   "outputs": [],
   "source": [
    "#import pandas.io.data as web\n",
    "\n",
    "gall_data = {}\n",
    "for ticker in ['159915', '159901']:\n",
    "    gall_data[ticker] = web.get_data_google(ticker)"
   ]
  },
  {
   "cell_type": "code",
   "execution_count": null,
   "metadata": {
    "collapsed": true
   },
   "outputs": [],
   "source": [
    "gprice = DataFrame({tic: data['Close']\n",
    "                   for tic, data in gall_data.items()})\n",
    "gvolume = DataFrame({tic: data['Volume']\n",
    "                    for tic, data in gall_data.items()})"
   ]
  },
  {
   "cell_type": "code",
   "execution_count": 34,
>>>>>>> f32e067bd584571f8b4a5dfe277594c96491ea32
   "metadata": {
    "collapsed": false
   },
   "outputs": [
    {
     "data": {
      "text/plain": [
<<<<<<< HEAD
       "<matplotlib.axes._subplots.AxesSubplot at 0x5036af0>"
      ]
     },
     "execution_count": 32,
     "metadata": {},
     "output_type": "execute_result"
    },
    {
     "data": {
      "image/png": "iVBORw0KGgoAAAANSUhEUgAAAX4AAAEQCAYAAAC3JB/WAAAABHNCSVQICAgIfAhkiAAAAAlwSFlz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\n",
      "text/plain": [
       "<matplotlib.figure.Figure at 0x5b45d70>"
      ]
     },
     "metadata": {},
     "output_type": "display_data"
    }
   ],
   "source": [
    "returns[['159902.sz','159915.SZ']].plot()"
=======
       "(            159901.SZ  159915.SZ\n",
       " Date                            \n",
       " 2015-05-11      5.351      3.050\n",
       " 2015-05-12      5.410      3.129\n",
       " 2015-05-13      5.437      3.036\n",
       " 2015-05-14      5.399      3.008\n",
       " 2015-05-15      5.309      3.016,             159901.SZ  159915.SZ\n",
       " Date                            \n",
       " 2015-05-11  167727700  569228800\n",
       " 2015-05-12  213225900  876827500\n",
       " 2015-05-13  256885100  730238600\n",
       " 2015-05-14  118857300  667815700\n",
       " 2015-05-15  212268900  966989900)"
      ]
     },
     "execution_count": 34,
     "metadata": {},
     "output_type": "execute_result"
    }
   ],
   "source": [
    "price.tail(),volume.tail()"
   ]
  },
  {
   "cell_type": "code",
   "execution_count": 16,
   "metadata": {
    "collapsed": false
   },
   "outputs": [
    {
     "data": {
      "text/plain": [
       "0.49564017763858931"
      ]
     },
     "execution_count": 16,
     "metadata": {},
     "output_type": "execute_result"
    }
   ],
   "source": [
    "returns.MSFT.corr(returns.IBM)"
>>>>>>> f32e067bd584571f8b4a5dfe277594c96491ea32
   ]
  },
  {
   "cell_type": "code",
<<<<<<< HEAD
   "execution_count": null,
   "metadata": {
    "collapsed": false
   },
   "outputs": [],
=======
   "execution_count": 18,
   "metadata": {
    "collapsed": false
   },
   "outputs": [
    {
     "data": {
      "text/plain": [
       "8.3964031845640475e-05"
      ]
     },
     "execution_count": 18,
     "metadata": {},
     "output_type": "execute_result"
    }
   ],
>>>>>>> f32e067bd584571f8b4a5dfe277594c96491ea32
   "source": [
    "returns.MSFT.cov(returns.IBM)"
   ]
  },
  {
   "cell_type": "code",
<<<<<<< HEAD
   "execution_count": 14,
=======
   "execution_count": 36,
>>>>>>> f32e067bd584571f8b4a5dfe277594c96491ea32
   "metadata": {
    "collapsed": false
   },
   "outputs": [
    {
     "data": {
      "text/html": [
       "<div style=\"max-height:1000px;max-width:1500px;overflow:auto;\">\n",
       "<table border=\"1\" class=\"dataframe\">\n",
       "  <thead>\n",
       "    <tr style=\"text-align: right;\">\n",
       "      <th></th>\n",
<<<<<<< HEAD
       "      <th>159902.sz</th>\n",
       "      <th>159915.SZ</th>\n",
       "      <th>399001.sz</th>\n",
       "      <th>^dji</th>\n",
=======
       "      <th>159901.SZ</th>\n",
       "      <th>159915.SZ</th>\n",
>>>>>>> f32e067bd584571f8b4a5dfe277594c96491ea32
       "    </tr>\n",
       "  </thead>\n",
       "  <tbody>\n",
       "    <tr>\n",
<<<<<<< HEAD
       "      <th>159902.sz</th>\n",
       "      <td> 1.000000</td>\n",
       "      <td> 0.860517</td>\n",
       "      <td> 0.796451</td>\n",
       "      <td> 0.006660</td>\n",
       "    </tr>\n",
       "    <tr>\n",
       "      <th>159915.SZ</th>\n",
       "      <td> 0.860517</td>\n",
       "      <td> 1.000000</td>\n",
       "      <td> 0.574445</td>\n",
       "      <td>-0.013030</td>\n",
       "    </tr>\n",
       "    <tr>\n",
       "      <th>399001.sz</th>\n",
       "      <td> 0.796451</td>\n",
       "      <td> 0.574445</td>\n",
       "      <td> 1.000000</td>\n",
       "      <td> 0.022482</td>\n",
       "    </tr>\n",
       "    <tr>\n",
       "      <th>^dji</th>\n",
       "      <td> 0.006660</td>\n",
       "      <td>-0.013030</td>\n",
       "      <td> 0.022482</td>\n",
=======
       "      <th>159901.SZ</th>\n",
       "      <td> 1.000000</td>\n",
       "      <td> 0.091875</td>\n",
       "    </tr>\n",
       "    <tr>\n",
       "      <th>159915.SZ</th>\n",
       "      <td> 0.091875</td>\n",
>>>>>>> f32e067bd584571f8b4a5dfe277594c96491ea32
       "      <td> 1.000000</td>\n",
       "    </tr>\n",
       "  </tbody>\n",
       "</table>\n",
       "</div>"
      ],
      "text/plain": [
<<<<<<< HEAD
       "           159902.sz  159915.SZ  399001.sz      ^dji\n",
       "159902.sz   1.000000   0.860517   0.796451  0.006660\n",
       "159915.SZ   0.860517   1.000000   0.574445 -0.013030\n",
       "399001.sz   0.796451   0.574445   1.000000  0.022482\n",
       "^dji        0.006660  -0.013030   0.022482  1.000000"
      ]
     },
     "execution_count": 14,
=======
       "           159901.SZ  159915.SZ\n",
       "159901.SZ   1.000000   0.091875\n",
       "159915.SZ   0.091875   1.000000"
      ]
     },
     "execution_count": 36,
>>>>>>> f32e067bd584571f8b4a5dfe277594c96491ea32
     "metadata": {},
     "output_type": "execute_result"
    }
   ],
   "source": [
    "returns.corr()"
   ]
  },
  {
   "cell_type": "code",
<<<<<<< HEAD
   "execution_count": 18,
=======
   "execution_count": 37,
>>>>>>> f32e067bd584571f8b4a5dfe277594c96491ea32
   "metadata": {
    "collapsed": false
   },
   "outputs": [
    {
     "data": {
      "text/html": [
       "<div style=\"max-height:1000px;max-width:1500px;overflow:auto;\">\n",
       "<table border=\"1\" class=\"dataframe\">\n",
       "  <thead>\n",
       "    <tr style=\"text-align: right;\">\n",
       "      <th></th>\n",
<<<<<<< HEAD
       "      <th></th>\n",
       "      <th>159902.sz</th>\n",
       "      <th>159915.SZ</th>\n",
       "      <th>399001.sz</th>\n",
       "    </tr>\n",
       "    <tr>\n",
       "      <th></th>\n",
       "      <th>^dji</th>\n",
       "      <th></th>\n",
       "      <th></th>\n",
       "      <th></th>\n",
=======
       "      <th>159901.SZ</th>\n",
       "      <th>159915.SZ</th>\n",
>>>>>>> f32e067bd584571f8b4a5dfe277594c96491ea32
       "    </tr>\n",
       "  </thead>\n",
       "  <tbody>\n",
       "    <tr>\n",
<<<<<<< HEAD
       "      <th>159902.sz</th>\n",
       "      <th> 0.000001</th>\n",
       "      <td> 0.000234</td>\n",
       "      <td> 0.000256</td>\n",
       "      <td> 0.000177</td>\n",
       "    </tr>\n",
       "    <tr>\n",
       "      <th>159915.SZ</th>\n",
       "      <th>-0.000002</th>\n",
       "      <td> 0.000256</td>\n",
       "      <td> 0.000378</td>\n",
       "      <td> 0.000162</td>\n",
       "    </tr>\n",
       "    <tr>\n",
       "      <th>399001.sz</th>\n",
       "      <th> 0.000002</th>\n",
       "      <td> 0.000177</td>\n",
       "      <td> 0.000162</td>\n",
       "      <td> 0.000211</td>\n",
       "    </tr>\n",
       "    <tr>\n",
       "      <th>^dji</th>\n",
       "      <th> 0.000054</th>\n",
       "      <td> 0.000001</td>\n",
       "      <td>-0.000002</td>\n",
       "      <td> 0.000002</td>\n",
=======
       "      <th>159901.SZ</th>\n",
       "      <td> 0.013187</td>\n",
       "      <td> 0.000257</td>\n",
       "    </tr>\n",
       "    <tr>\n",
       "      <th>159915.SZ</th>\n",
       "      <td> 0.000257</td>\n",
       "      <td> 0.000380</td>\n",
>>>>>>> f32e067bd584571f8b4a5dfe277594c96491ea32
       "    </tr>\n",
       "  </tbody>\n",
       "</table>\n",
       "</div>"
      ],
      "text/plain": [
<<<<<<< HEAD
       "                     159902.sz  159915.SZ  399001.sz\n",
       "          ^dji                                      \n",
       "159902.sz  0.000001   0.000234   0.000256   0.000177\n",
       "159915.SZ -0.000002   0.000256   0.000378   0.000162\n",
       "399001.sz  0.000002   0.000177   0.000162   0.000211\n",
       "^dji       0.000054   0.000001  -0.000002   0.000002"
      ]
     },
     "execution_count": 18,
=======
       "           159901.SZ  159915.SZ\n",
       "159901.SZ   0.013187   0.000257\n",
       "159915.SZ   0.000257   0.000380"
      ]
     },
     "execution_count": 37,
>>>>>>> f32e067bd584571f8b4a5dfe277594c96491ea32
     "metadata": {},
     "output_type": "execute_result"
    }
   ],
   "source": [
<<<<<<< HEAD
    "returns.cov().set_index('^dji',append = True)"
=======
    "returns.cov()"
>>>>>>> f32e067bd584571f8b4a5dfe277594c96491ea32
   ]
  },
  {
   "cell_type": "code",
<<<<<<< HEAD
   "execution_count": null,
   "metadata": {
    "collapsed": false
   },
   "outputs": [],
=======
   "execution_count": 17,
   "metadata": {
    "collapsed": false
   },
   "outputs": [
    {
     "data": {
      "text/plain": [
       "AAPL    0.375912\n",
       "GOOG    0.336891\n",
       "IBM     1.000000\n",
       "MSFT    0.495640\n",
       "dtype: float64"
      ]
     },
     "execution_count": 17,
     "metadata": {},
     "output_type": "execute_result"
    }
   ],
>>>>>>> f32e067bd584571f8b4a5dfe277594c96491ea32
   "source": [
    "returns.corrwith(returns.IBM)"
   ]
  },
  {
   "cell_type": "code",
<<<<<<< HEAD
   "execution_count": 16,
=======
   "execution_count": 21,
>>>>>>> f32e067bd584571f8b4a5dfe277594c96491ea32
   "metadata": {
    "collapsed": false
   },
   "outputs": [
    {
     "data": {
      "text/plain": [
<<<<<<< HEAD
       "159902.sz    0.151759\n",
       "159915.SZ    0.143557\n",
       "399001.sz         NaN\n",
       "^dji        -0.044514\n",
       "dtype: float64"
      ]
     },
     "execution_count": 16,
=======
       "AAPL   -0.097027\n",
       "GOOG   -0.048388\n",
       "IBM    -0.177244\n",
       "MSFT   -0.099722\n",
       "dtype: float64"
      ]
     },
     "execution_count": 21,
>>>>>>> f32e067bd584571f8b4a5dfe277594c96491ea32
     "metadata": {},
     "output_type": "execute_result"
    }
   ],
   "source": [
<<<<<<< HEAD
    "returns.corrwith(volume.dropna())"
=======
    "returns.corrwith(volume)"
>>>>>>> f32e067bd584571f8b4a5dfe277594c96491ea32
   ]
  },
  {
   "cell_type": "markdown",
   "metadata": {},
   "source": [
    "### Unique values, value counts, and membership"
   ]
  },
  {
   "cell_type": "code",
   "execution_count": null,
   "metadata": {
    "collapsed": false
   },
   "outputs": [],
   "source": [
    "obj = Series(['c', 'a', 'd', 'a', 'a', 'b', 'b', 'c', 'c'])"
   ]
  },
  {
   "cell_type": "code",
   "execution_count": null,
   "metadata": {
    "collapsed": false
   },
   "outputs": [],
   "source": [
    "uniques = obj.unique()\n",
    "uniques"
   ]
  },
  {
   "cell_type": "code",
   "execution_count": null,
   "metadata": {
    "collapsed": false
   },
   "outputs": [],
   "source": [
    "obj.value_counts()"
   ]
  },
  {
   "cell_type": "code",
   "execution_count": null,
   "metadata": {
    "collapsed": false
   },
   "outputs": [],
   "source": [
    "pd.value_counts(obj.values, sort=False)"
   ]
  },
  {
   "cell_type": "code",
   "execution_count": null,
   "metadata": {
    "collapsed": false
   },
   "outputs": [],
   "source": [
    "mask = obj.isin(['b', 'c'])\n",
    "mask"
   ]
  },
  {
   "cell_type": "code",
   "execution_count": null,
   "metadata": {
    "collapsed": false
   },
   "outputs": [],
   "source": [
    "obj[mask]"
   ]
  },
  {
   "cell_type": "code",
   "execution_count": null,
   "metadata": {
    "collapsed": false
   },
   "outputs": [],
   "source": [
    "data = DataFrame({'Qu1': [1, 3, 4, 3, 4],\n",
    "                  'Qu2': [2, 3, 1, 2, 3],\n",
    "                  'Qu3': [1, 5, 2, 4, 4]})\n",
    "data"
   ]
  },
  {
   "cell_type": "code",
   "execution_count": null,
   "metadata": {
    "collapsed": false
   },
   "outputs": [],
   "source": [
    "result = data.apply(pd.value_counts).fillna(0)\n",
    "result"
   ]
  },
  {
   "cell_type": "markdown",
   "metadata": {},
   "source": [
    "## Handling missing data"
   ]
  },
  {
   "cell_type": "code",
   "execution_count": null,
   "metadata": {
    "collapsed": false
   },
   "outputs": [],
   "source": [
    "string_data = Series(['aardvark', 'artichoke', np.nan, 'avocado'])\n",
    "string_data"
   ]
  },
  {
   "cell_type": "code",
   "execution_count": null,
   "metadata": {
    "collapsed": false
   },
   "outputs": [],
   "source": [
    "string_data.isnull()"
   ]
  },
  {
   "cell_type": "code",
   "execution_count": null,
   "metadata": {
    "collapsed": false
   },
   "outputs": [],
   "source": [
    "string_data[0] = None\n",
    "string_data.isnull()"
   ]
  },
  {
   "cell_type": "markdown",
   "metadata": {},
   "source": [
    "### Filtering out missing data"
   ]
  },
  {
   "cell_type": "code",
   "execution_count": null,
   "metadata": {
    "collapsed": false
   },
   "outputs": [],
   "source": [
    "from numpy import nan as NA\n",
    "data = Series([1, NA, 3.5, NA, 7])\n",
    "data.dropna()"
   ]
  },
  {
   "cell_type": "code",
   "execution_count": null,
   "metadata": {
    "collapsed": false
   },
   "outputs": [],
   "source": [
    "data[data.notnull()]"
   ]
  },
  {
   "cell_type": "code",
   "execution_count": null,
   "metadata": {
    "collapsed": false
   },
   "outputs": [],
   "source": [
    "data = DataFrame([[1., 6.5, 3.], [1., NA, NA],\n",
    "                  [NA, NA, NA], [NA, 6.5, 3.]])\n",
    "cleaned = data.dropna()\n",
    "data"
   ]
  },
  {
   "cell_type": "code",
   "execution_count": null,
   "metadata": {
    "collapsed": false
   },
   "outputs": [],
   "source": [
    "cleaned"
   ]
  },
  {
   "cell_type": "code",
   "execution_count": null,
   "metadata": {
    "collapsed": false
   },
   "outputs": [],
   "source": [
    "data.dropna(how='all')"
   ]
  },
  {
   "cell_type": "code",
   "execution_count": null,
   "metadata": {
    "collapsed": false
   },
   "outputs": [],
   "source": [
    "data[4] = NA\n",
    "data"
   ]
  },
  {
   "cell_type": "code",
   "execution_count": null,
   "metadata": {
    "collapsed": false
   },
   "outputs": [],
   "source": [
    "data.dropna(axis=1, how='all')"
   ]
  },
  {
   "cell_type": "code",
   "execution_count": null,
   "metadata": {
    "collapsed": false
   },
   "outputs": [],
   "source": [
    "df = DataFrame(np.random.randn(7, 3))\n",
    "df.ix[:4, 1] = NA; df.ix[:2, 2] = NA\n",
    "df"
   ]
  },
  {
   "cell_type": "code",
   "execution_count": null,
   "metadata": {
    "collapsed": false
   },
   "outputs": [],
   "source": [
    "df.dropna(thresh=3)"
   ]
  },
  {
   "cell_type": "markdown",
   "metadata": {},
   "source": [
    "### Filling in missing data"
   ]
  },
  {
   "cell_type": "code",
   "execution_count": null,
   "metadata": {
    "collapsed": false
   },
   "outputs": [],
   "source": [
    "df.fillna(0)"
   ]
  },
  {
   "cell_type": "code",
   "execution_count": null,
   "metadata": {
    "collapsed": false
   },
   "outputs": [],
   "source": [
    "df.fillna({1: 0.5, 3: -1})"
   ]
  },
  {
   "cell_type": "code",
   "execution_count": null,
   "metadata": {
    "collapsed": false
   },
   "outputs": [],
   "source": [
    "# always returns a reference to the filled object\n",
    "_ = df.fillna(0, inplace=True)\n",
    "df"
   ]
  },
  {
   "cell_type": "code",
   "execution_count": null,
   "metadata": {
    "collapsed": false
   },
   "outputs": [],
   "source": [
    "df = DataFrame(np.random.randn(6, 3))\n",
    "df.ix[2:, 1] = NA; df.ix[4:, 2] = NA\n",
    "df"
   ]
  },
  {
   "cell_type": "code",
   "execution_count": null,
   "metadata": {
    "collapsed": false
   },
   "outputs": [],
   "source": [
    "df.fillna(method='ffill')"
   ]
  },
  {
   "cell_type": "code",
   "execution_count": null,
   "metadata": {
    "collapsed": false
   },
   "outputs": [],
   "source": [
    "df.fillna(method='ffill', limit=2)"
   ]
  },
  {
   "cell_type": "code",
   "execution_count": null,
   "metadata": {
    "collapsed": false
   },
   "outputs": [],
   "source": [
    "data = Series([1., NA, 3.5, NA, 7])\n",
    "data.fillna(data.mean())"
   ]
  },
  {
   "cell_type": "markdown",
   "metadata": {},
   "source": [
    "## Hierarchical indexing"
   ]
  },
  {
   "cell_type": "code",
   "execution_count": null,
   "metadata": {
    "collapsed": false
   },
   "outputs": [],
   "source": [
    "data = Series(np.random.randn(10),\n",
    "              index=[['a', 'a', 'a', 'b', 'b', 'b', 'c', 'c', 'd', 'd'],\n",
    "                     [1, 2, 3, 1, 2, 3, 1, 2, 2, 3]])\n",
    "data"
   ]
  },
  {
   "cell_type": "code",
   "execution_count": null,
   "metadata": {
    "collapsed": false
   },
   "outputs": [],
   "source": [
    "data.index"
   ]
  },
  {
   "cell_type": "code",
   "execution_count": null,
   "metadata": {
    "collapsed": false
   },
   "outputs": [],
   "source": [
    "data['b']"
   ]
  },
  {
   "cell_type": "code",
   "execution_count": null,
   "metadata": {
    "collapsed": false
   },
   "outputs": [],
   "source": [
    "data['b':'c']"
   ]
  },
  {
   "cell_type": "code",
   "execution_count": null,
   "metadata": {
    "collapsed": false
   },
   "outputs": [],
   "source": [
    "data.ix[['b', 'd']]"
   ]
  },
  {
   "cell_type": "code",
   "execution_count": null,
   "metadata": {
    "collapsed": false
   },
   "outputs": [],
   "source": [
    "data[:, 2]"
   ]
  },
  {
   "cell_type": "code",
   "execution_count": null,
   "metadata": {
    "collapsed": false
   },
   "outputs": [],
   "source": [
    "data.unstack()"
   ]
  },
  {
   "cell_type": "code",
   "execution_count": null,
   "metadata": {
    "collapsed": false
   },
   "outputs": [],
   "source": [
    "data.unstack().stack()"
   ]
  },
  {
   "cell_type": "code",
   "execution_count": null,
   "metadata": {
    "collapsed": false
   },
   "outputs": [],
   "source": [
    "frame = DataFrame(np.arange(12).reshape((4, 3)),\n",
    "                  index=[['a', 'a', 'b', 'b'], [1, 2, 1, 2]],\n",
    "                  columns=[['Ohio', 'Ohio', 'Colorado'],\n",
    "                           ['Green', 'Red', 'Green']])\n",
    "frame"
   ]
  },
  {
   "cell_type": "code",
   "execution_count": null,
   "metadata": {
    "collapsed": false
   },
   "outputs": [],
   "source": [
    "frame.index.names = ['key1', 'key2']\n",
    "frame.columns.names = ['state', 'color']\n",
    "frame"
   ]
  },
  {
   "cell_type": "code",
   "execution_count": null,
   "metadata": {
    "collapsed": false
   },
   "outputs": [],
   "source": [
    "frame['Ohio']"
   ]
  },
  {
   "cell_type": "raw",
   "metadata": {},
   "source": [
    "MultiIndex.from_arrays([['Ohio', 'Ohio', 'Colorado'], ['Green', 'Red', 'Green']],\n",
    "                       names=['state', 'color'])"
   ]
  },
  {
   "cell_type": "markdown",
   "metadata": {},
   "source": [
    "### Reordering and sorting levels"
   ]
  },
  {
   "cell_type": "code",
   "execution_count": null,
   "metadata": {
    "collapsed": false
   },
   "outputs": [],
   "source": [
    "frame.swaplevel('key1', 'key2')"
   ]
  },
  {
   "cell_type": "code",
   "execution_count": null,
   "metadata": {
    "collapsed": false
   },
   "outputs": [],
   "source": [
    "frame.sortlevel(1)"
   ]
  },
  {
   "cell_type": "code",
   "execution_count": null,
   "metadata": {
    "collapsed": false
   },
   "outputs": [],
   "source": [
    "frame.swaplevel(0, 1).sortlevel(0)"
   ]
  },
  {
   "cell_type": "markdown",
   "metadata": {},
   "source": [
    "### Summary statistics by level"
   ]
  },
  {
   "cell_type": "code",
   "execution_count": null,
   "metadata": {
    "collapsed": false
   },
   "outputs": [],
   "source": [
    "frame.sum(level='key2')"
   ]
  },
  {
   "cell_type": "code",
   "execution_count": null,
   "metadata": {
    "collapsed": false
   },
   "outputs": [],
   "source": [
    "frame.sum(level='color', axis=1)"
   ]
  },
  {
   "cell_type": "markdown",
   "metadata": {},
   "source": [
    "### Using a DataFrame's columns"
   ]
  },
  {
   "cell_type": "code",
   "execution_count": null,
   "metadata": {
    "collapsed": false
   },
   "outputs": [],
   "source": [
    "frame = DataFrame({'a': range(7), 'b': range(7, 0, -1),\n",
    "                   'c': ['one', 'one', 'one', 'two', 'two', 'two', 'two'],\n",
    "                   'd': [0, 1, 2, 0, 1, 2, 3]})\n",
    "frame"
   ]
  },
  {
   "cell_type": "code",
   "execution_count": null,
   "metadata": {
    "collapsed": false
   },
   "outputs": [],
   "source": [
    "frame2 = frame.set_index(['c', 'd'])\n",
    "frame2"
   ]
  },
  {
   "cell_type": "code",
   "execution_count": null,
   "metadata": {
    "collapsed": false
   },
   "outputs": [],
   "source": [
    "frame.set_index(['c', 'd'], drop=False)"
   ]
  },
  {
   "cell_type": "code",
   "execution_count": null,
   "metadata": {
    "collapsed": false
   },
   "outputs": [],
   "source": [
    "frame2.reset_index()"
   ]
  },
  {
   "cell_type": "markdown",
   "metadata": {},
   "source": [
    "## Other pandas topics"
   ]
  },
  {
   "cell_type": "markdown",
   "metadata": {},
   "source": [
    "### Integer indexing"
   ]
  },
  {
   "cell_type": "code",
   "execution_count": null,
   "metadata": {
    "collapsed": false
   },
   "outputs": [],
   "source": [
    "ser = Series(np.arange(3.))\n",
    "ser.iloc[-1]"
   ]
  },
  {
   "cell_type": "code",
   "execution_count": null,
   "metadata": {
    "collapsed": false
   },
   "outputs": [],
   "source": [
    "ser"
   ]
  },
  {
   "cell_type": "code",
   "execution_count": null,
   "metadata": {
    "collapsed": false
   },
   "outputs": [],
   "source": [
    "ser2 = Series(np.arange(3.), index=['a', 'b', 'c'])\n",
    "ser2[-1]"
   ]
  },
  {
   "cell_type": "code",
   "execution_count": null,
   "metadata": {
    "collapsed": false
   },
   "outputs": [],
   "source": [
    "ser.ix[:1]"
   ]
  },
  {
   "cell_type": "code",
   "execution_count": null,
   "metadata": {
    "collapsed": false
   },
   "outputs": [],
   "source": [
    "ser3 = Series(range(3), index=[-5, 1, 3])\n",
    "ser3.iloc[2]"
   ]
  },
  {
   "cell_type": "code",
   "execution_count": null,
   "metadata": {
    "collapsed": false
   },
   "outputs": [],
   "source": [
    "frame = DataFrame(np.arange(6).reshape((3, 2)), index=[2, 0, 1])\n",
    "frame.iloc[0]"
   ]
  },
  {
   "cell_type": "markdown",
   "metadata": {},
   "source": [
    "### Panel data"
   ]
  },
  {
   "cell_type": "code",
   "execution_count": null,
   "metadata": {
    "collapsed": false
   },
   "outputs": [],
   "source": [
    "import pandas.io.data as web\n",
    "\n",
    "pdata = pd.Panel(dict((stk, web.get_data_yahoo(stk))\n",
    "                       for stk in ['AAPL', 'GOOG', 'MSFT', 'DELL']))"
   ]
  },
  {
   "cell_type": "code",
   "execution_count": null,
   "metadata": {
    "collapsed": false
   },
   "outputs": [],
   "source": [
    "pdata"
   ]
  },
  {
   "cell_type": "code",
   "execution_count": null,
   "metadata": {
    "collapsed": false
   },
   "outputs": [],
   "source": [
    "pdata = pdata.swapaxes('items', 'minor')\n",
    "pdata['Adj Close']"
   ]
  },
  {
   "cell_type": "code",
   "execution_count": null,
   "metadata": {
    "collapsed": false
   },
   "outputs": [],
   "source": [
    "pdata.ix[:, '6/1/2012', :]"
   ]
  },
  {
   "cell_type": "code",
   "execution_count": null,
   "metadata": {
    "collapsed": false
   },
   "outputs": [],
   "source": [
    "pdata.ix['Adj Close', '5/22/2012':, :]"
   ]
  },
  {
   "cell_type": "code",
   "execution_count": null,
   "metadata": {
    "collapsed": false
   },
   "outputs": [],
   "source": [
    "stacked = pdata.ix[:, '5/30/2012':, :].to_frame()\n",
    "stacked"
   ]
  },
  {
   "cell_type": "code",
   "execution_count": null,
   "metadata": {
    "collapsed": false
   },
   "outputs": [],
   "source": [
    "stacked.to_panel()"
   ]
  }
 ],
 "metadata": {
  "kernelspec": {
   "display_name": "Python 3",
   "language": "python",
   "name": "python3"
  },
  "language_info": {
   "codemirror_mode": {
    "name": "ipython",
    "version": 3
   },
   "file_extension": ".py",
   "mimetype": "text/x-python",
   "name": "python",
   "nbconvert_exporter": "python",
   "pygments_lexer": "ipython3",
   "version": "3.4.3"
  }
 },
 "nbformat": 4,
 "nbformat_minor": 0
}
