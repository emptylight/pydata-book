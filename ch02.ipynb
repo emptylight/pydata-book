{
 "cells": [
  {
   "cell_type": "markdown",
   "metadata": {},
   "source": [
    "# Introductory examples"
   ]
  },
  {
   "cell_type": "markdown",
   "metadata": {},
   "source": [
    "## 1.usa.gov data from bit.ly"
   ]
  },
  {
   "cell_type": "code",
<<<<<<< HEAD
   "execution_count": 1,
=======
   "execution_count": 2,
>>>>>>> f32e067bd584571f8b4a5dfe277594c96491ea32
   "metadata": {
    "collapsed": false
   },
   "outputs": [
    {
     "data": {
      "text/plain": [
<<<<<<< HEAD
       "'E:\\\\projects\\\\WindAPIv1.1.0\\\\wesbook\\\\pydata-book'"
      ]
     },
     "execution_count": 1,
=======
       "'/Users/jk/github/pyprojects/pydata-book'"
      ]
     },
     "execution_count": 2,
>>>>>>> f32e067bd584571f8b4a5dfe277594c96491ea32
     "metadata": {},
     "output_type": "execute_result"
    }
   ],
   "source": [
    "%pwd"
   ]
  },
  {
   "cell_type": "code",
<<<<<<< HEAD
   "execution_count": 3,
=======
   "execution_count": 2,
>>>>>>> f32e067bd584571f8b4a5dfe277594c96491ea32
   "metadata": {
    "collapsed": false
   },
   "outputs": [
    {
     "name": "stdout",
     "output_type": "stream",
     "text": [
<<<<<<< HEAD
      "[WinError 2] 系统找不到指定的文件。: '../book_scripts'\n",
      "E:\\projects\\WindAPIv1.1.0\\wesbook\\pydata-book\n"
=======
      "[Errno 2] No such file or directory: '../book_scripts'\n",
      "/Users/jk/github/pyprojects/pydata-book\n"
>>>>>>> f32e067bd584571f8b4a5dfe277594c96491ea32
     ]
    }
   ],
   "source": [
    "%cd ../book_scripts"
   ]
  },
  {
   "cell_type": "code",
<<<<<<< HEAD
   "execution_count": 10,
=======
   "execution_count": 3,
   "metadata": {
    "collapsed": false
   },
   "outputs": [],
   "source": [
    "path = 'ch02/usagov_bitly_data2012-03-16-1331923249.txt'"
   ]
  },
  {
   "cell_type": "code",
   "execution_count": 4,
   "metadata": {
    "collapsed": false
   },
   "outputs": [
    {
     "data": {
      "text/plain": [
       "'{ \"a\": \"Mozilla\\\\/5.0 (Windows NT 6.1; WOW64) AppleWebKit\\\\/535.11 (KHTML, like Gecko) Chrome\\\\/17.0.963.78 Safari\\\\/535.11\", \"c\": \"US\", \"nk\": 1, \"tz\": \"America\\\\/New_York\", \"gr\": \"MA\", \"g\": \"A6qOVH\", \"h\": \"wfLQtf\", \"l\": \"orofrog\", \"al\": \"en-US,en;q=0.8\", \"hh\": \"1.usa.gov\", \"r\": \"http:\\\\/\\\\/www.facebook.com\\\\/l\\\\/7AQEFzjSi\\\\/1.usa.gov\\\\/wfLQtf\", \"u\": \"http:\\\\/\\\\/www.ncbi.nlm.nih.gov\\\\/pubmed\\\\/22415991\", \"t\": 1331923247, \"hc\": 1331822918, \"cy\": \"Danvers\", \"ll\": [ 42.576698, -70.954903 ] }\\n'"
      ]
     },
     "execution_count": 4,
     "metadata": {},
     "output_type": "execute_result"
    }
   ],
   "source": [
    "open(path).readline()"
   ]
  },
  {
   "cell_type": "code",
   "execution_count": 5,
   "metadata": {
    "collapsed": false
   },
   "outputs": [],
   "source": [
    "import json\n",
    "path = 'ch02/usagov_bitly_data2012-03-16-1331923249.txt'\n",
    "records = [json.loads(line) for line in open(path)]"
   ]
  },
  {
   "cell_type": "code",
   "execution_count": 6,
   "metadata": {
    "collapsed": false
   },
   "outputs": [
    {
     "data": {
      "text/plain": [
       "{'a': 'Mozilla/5.0 (Windows NT 6.1; WOW64) AppleWebKit/535.11 (KHTML, like Gecko) Chrome/17.0.963.78 Safari/535.11',\n",
       " 'al': 'en-US,en;q=0.8',\n",
       " 'c': 'US',\n",
       " 'cy': 'Danvers',\n",
       " 'g': 'A6qOVH',\n",
       " 'gr': 'MA',\n",
       " 'h': 'wfLQtf',\n",
       " 'hc': 1331822918,\n",
       " 'hh': '1.usa.gov',\n",
       " 'l': 'orofrog',\n",
       " 'll': [42.576698, -70.954903],\n",
       " 'nk': 1,\n",
       " 'r': 'http://www.facebook.com/l/7AQEFzjSi/1.usa.gov/wfLQtf',\n",
       " 't': 1331923247,\n",
       " 'tz': 'America/New_York',\n",
       " 'u': 'http://www.ncbi.nlm.nih.gov/pubmed/22415991'}"
      ]
     },
     "execution_count": 6,
     "metadata": {},
     "output_type": "execute_result"
    }
   ],
   "source": [
    "records[0]"
   ]
  },
  {
   "cell_type": "code",
   "execution_count": 7,
   "metadata": {
    "collapsed": false
   },
   "outputs": [
    {
     "data": {
      "text/plain": [
       "'America/New_York'"
      ]
     },
     "execution_count": 7,
     "metadata": {},
     "output_type": "execute_result"
    }
   ],
   "source": [
    "records[0]['tz']"
   ]
  },
  {
   "cell_type": "code",
   "execution_count": 8,
>>>>>>> f32e067bd584571f8b4a5dfe277594c96491ea32
   "metadata": {
    "collapsed": false
   },
   "outputs": [
    {
     "name": "stdout",
     "output_type": "stream",
     "text": [
<<<<<<< HEAD
      " 驱动器 E 中的卷是 dev\n",
      " 卷的序列号是 B26B-92C7\n",
      "\n",
      " E:\\projects\\WindAPIv1.1.0\\wesbook\\pydata-book 的目录\n",
      "\n",
      "2015-05-07  16:56    <DIR>          .\n",
      "2015-05-07  16:56    <DIR>          ..\n",
      "2015-05-07  16:50    <DIR>          .ipynb_checkpoints\n",
      "2015-05-07  16:16            95,183 appendix_python.ipynb\n",
      "2015-05-06  08:09    <DIR>          ch02\n",
      "2015-05-07  16:56            30,325 ch02.ipynb\n",
      "2015-05-06  08:09    <DIR>          ch03\n",
      "2015-05-06  08:09            28,704 ch04.ipynb\n",
      "2015-05-06  08:09            53,575 ch05.ipynb\n",
      "2015-05-06  08:09    <DIR>          ch06\n",
      "2015-05-06  08:09            21,711 ch06.ipynb\n",
      "2015-05-06  08:09    <DIR>          ch07\n",
      "2015-05-06  08:09            51,733 ch07.ipynb\n",
      "2015-05-06  08:09    <DIR>          ch08\n",
      "2015-05-06  08:09            24,620 ch08.ipynb\n",
      "2015-05-06  08:09    <DIR>          ch09\n",
      "2015-05-06  08:09            37,294 ch09.ipynb\n",
      "2015-05-06  08:09            46,329 ch10.ipynb\n",
      "2015-05-06  08:09    <DIR>          ch11\n",
      "2015-05-06  08:09            31,362 ch11.ipynb\n",
      "2015-05-06  08:09            50,564 ch12.ipynb\n",
      "2015-05-06  08:09    <DIR>          ch13\n",
      "2015-05-06  08:09            21,984 fec_study.ipynb\n",
      "2015-05-06  08:35                21 hello_world.py\n",
      "2014-12-30  17:19           151,584 sz000005.day\n",
      "2015-05-07  16:53    <DIR>          temp\n",
      "              14 个文件        644,989 字节\n",
      "              12 个目录 52,120,088,576 可用字节\n"
=======
      "America/New_York\n"
>>>>>>> f32e067bd584571f8b4a5dfe277594c96491ea32
     ]
    }
   ],
   "source": [
<<<<<<< HEAD
    "!dir"
   ]
  },
  {
   "cell_type": "code",
   "execution_count": 11,
   "metadata": {
    "collapsed": false
   },
   "outputs": [],
   "source": [
    "path = 'ch02/usagov_bitly_data2012-03-16-1331923249.txt'"
   ]
  },
  {
   "cell_type": "code",
   "execution_count": 12,
   "metadata": {
    "collapsed": false
   },
   "outputs": [
    {
     "data": {
      "text/plain": [
       "'{ \"a\": \"Mozilla\\\\/5.0 (Windows NT 6.1; WOW64) AppleWebKit\\\\/535.11 (KHTML, like Gecko) Chrome\\\\/17.0.963.78 Safari\\\\/535.11\", \"c\": \"US\", \"nk\": 1, \"tz\": \"America\\\\/New_York\", \"gr\": \"MA\", \"g\": \"A6qOVH\", \"h\": \"wfLQtf\", \"l\": \"orofrog\", \"al\": \"en-US,en;q=0.8\", \"hh\": \"1.usa.gov\", \"r\": \"http:\\\\/\\\\/www.facebook.com\\\\/l\\\\/7AQEFzjSi\\\\/1.usa.gov\\\\/wfLQtf\", \"u\": \"http:\\\\/\\\\/www.ncbi.nlm.nih.gov\\\\/pubmed\\\\/22415991\", \"t\": 1331923247, \"hc\": 1331822918, \"cy\": \"Danvers\", \"ll\": [ 42.576698, -70.954903 ] }\\n'"
      ]
     },
     "execution_count": 12,
     "metadata": {},
     "output_type": "execute_result"
    }
   ],
   "source": [
    "open(path).readline()"
   ]
  },
  {
   "cell_type": "code",
   "execution_count": 13,
   "metadata": {
    "collapsed": false
   },
   "outputs": [],
   "source": [
    "import json\n",
    "path = 'ch02/usagov_bitly_data2012-03-16-1331923249.txt'\n",
    "records = [json.loads(line) for line in open(path)]"
   ]
  },
  {
   "cell_type": "code",
   "execution_count": 14,
   "metadata": {
    "collapsed": false
   },
   "outputs": [
    {
     "data": {
      "text/plain": [
       "{'a': 'Mozilla/5.0 (Windows NT 6.1; WOW64) AppleWebKit/535.11 (KHTML, like Gecko) Chrome/17.0.963.78 Safari/535.11',\n",
       " 'al': 'en-US,en;q=0.8',\n",
       " 'c': 'US',\n",
       " 'cy': 'Danvers',\n",
       " 'g': 'A6qOVH',\n",
       " 'gr': 'MA',\n",
       " 'h': 'wfLQtf',\n",
       " 'hc': 1331822918,\n",
       " 'hh': '1.usa.gov',\n",
       " 'l': 'orofrog',\n",
       " 'll': [42.576698, -70.954903],\n",
       " 'nk': 1,\n",
       " 'r': 'http://www.facebook.com/l/7AQEFzjSi/1.usa.gov/wfLQtf',\n",
       " 't': 1331923247,\n",
       " 'tz': 'America/New_York',\n",
       " 'u': 'http://www.ncbi.nlm.nih.gov/pubmed/22415991'}"
      ]
     },
     "execution_count": 14,
     "metadata": {},
     "output_type": "execute_result"
    }
   ],
   "source": [
    "records[0]"
   ]
  },
  {
   "cell_type": "code",
   "execution_count": 15,
   "metadata": {
    "collapsed": false
   },
   "outputs": [
    {
     "data": {
      "text/plain": [
       "'America/New_York'"
      ]
     },
     "execution_count": 15,
     "metadata": {},
     "output_type": "execute_result"
    }
   ],
   "source": [
    "records[0]['tz']"
   ]
  },
  {
   "cell_type": "code",
   "execution_count": 17,
   "metadata": {
    "collapsed": false
   },
   "outputs": [
    {
     "name": "stdout",
     "output_type": "stream",
     "text": [
      "America/New_York\n"
     ]
    }
   ],
   "source": [
=======
>>>>>>> f32e067bd584571f8b4a5dfe277594c96491ea32
    "print(records[0]['tz'])"
   ]
  },
  {
<<<<<<< HEAD
   "cell_type": "code",
   "execution_count": 19,
   "metadata": {
    "collapsed": false
   },
   "outputs": [
    {
     "data": {
      "text/plain": [
       "{'a': 'Mozilla/4.0 (compatible; MSIE 8.0; Windows NT 6.1; Trident/4.0; SLCC2; .NET CLR 2.0.50727; .NET CLR 3.5.30729; .NET CLR 3.0.30729; Media Center PC 6.0; MS-RTC LM 8; .NET4.0C; .NET4.0E; .NET CLR 1.1.4322)',\n",
       " 'al': 'en-US',\n",
       " 'c': 'US',\n",
       " 'cy': 'Mc Lean',\n",
       " 'g': 'qxKrTK',\n",
       " 'gr': 'VA',\n",
       " 'h': 'qxKrTK',\n",
       " 'hc': 1312897670,\n",
       " 'hh': '1.usa.gov',\n",
       " 'l': 'bitly',\n",
       " 'll': [38.935799, -77.162102],\n",
       " 'nk': 0,\n",
       " 'r': 'http://t.co/OEEEvwjU',\n",
       " 't': 1331926849,\n",
       " 'tz': 'America/New_York',\n",
       " 'u': 'http://herndon-va.gov/Content/public_safety/Public_Information/weekly_reports.aspx?cnlid=1736'}"
      ]
     },
     "execution_count": 19,
     "metadata": {},
     "output_type": "execute_result"
    }
   ],
   "source": [
    "records[-1]"
   ]
  },
  {
=======
>>>>>>> f32e067bd584571f8b4a5dfe277594c96491ea32
   "cell_type": "markdown",
   "metadata": {},
   "source": [
    "### Counting time zones in pure Python"
   ]
  },
  {
   "cell_type": "code",
<<<<<<< HEAD
   "execution_count": 20,
   "metadata": {
    "collapsed": false
   },
   "outputs": [
    {
     "ename": "KeyError",
     "evalue": "'tz'",
     "output_type": "error",
     "traceback": [
      "\u001b[1;31m---------------------------------------------------------------------------\u001b[0m",
      "\u001b[1;31mKeyError\u001b[0m                                  Traceback (most recent call last)",
      "\u001b[1;32m<ipython-input-20-db4fbd348da9>\u001b[0m in \u001b[0;36m<module>\u001b[1;34m()\u001b[0m\n\u001b[1;32m----> 1\u001b[1;33m \u001b[0mtime_zones\u001b[0m \u001b[1;33m=\u001b[0m \u001b[1;33m[\u001b[0m\u001b[0mrec\u001b[0m\u001b[1;33m[\u001b[0m\u001b[1;34m'tz'\u001b[0m\u001b[1;33m]\u001b[0m \u001b[1;32mfor\u001b[0m \u001b[0mrec\u001b[0m \u001b[1;32min\u001b[0m \u001b[0mrecords\u001b[0m\u001b[1;33m]\u001b[0m\u001b[1;33m\u001b[0m\u001b[0m\n\u001b[0m",
      "\u001b[1;32m<ipython-input-20-db4fbd348da9>\u001b[0m in \u001b[0;36m<listcomp>\u001b[1;34m(.0)\u001b[0m\n\u001b[1;32m----> 1\u001b[1;33m \u001b[0mtime_zones\u001b[0m \u001b[1;33m=\u001b[0m \u001b[1;33m[\u001b[0m\u001b[0mrec\u001b[0m\u001b[1;33m[\u001b[0m\u001b[1;34m'tz'\u001b[0m\u001b[1;33m]\u001b[0m \u001b[1;32mfor\u001b[0m \u001b[0mrec\u001b[0m \u001b[1;32min\u001b[0m \u001b[0mrecords\u001b[0m\u001b[1;33m]\u001b[0m\u001b[1;33m\u001b[0m\u001b[0m\n\u001b[0m",
      "\u001b[1;31mKeyError\u001b[0m: 'tz'"
     ]
    }
   ],
=======
   "execution_count": null,
   "metadata": {
    "collapsed": false
   },
   "outputs": [],
>>>>>>> f32e067bd584571f8b4a5dfe277594c96491ea32
   "source": [
    "time_zones = [rec['tz'] for rec in records]"
   ]
  },
  {
   "cell_type": "code",
<<<<<<< HEAD
   "execution_count": 21,
=======
   "execution_count": null,
>>>>>>> f32e067bd584571f8b4a5dfe277594c96491ea32
   "metadata": {
    "collapsed": false
   },
   "outputs": [],
   "source": [
    "time_zones = [rec['tz'] for rec in records if 'tz' in rec]"
   ]
  },
  {
   "cell_type": "code",
<<<<<<< HEAD
   "execution_count": 22,
   "metadata": {
    "collapsed": false
   },
   "outputs": [
    {
     "data": {
      "text/plain": [
       "['America/New_York',\n",
       " 'America/Denver',\n",
       " 'America/New_York',\n",
       " 'America/Sao_Paulo',\n",
       " 'America/New_York',\n",
       " 'America/New_York',\n",
       " 'Europe/Warsaw',\n",
       " '',\n",
       " '',\n",
       " '']"
      ]
     },
     "execution_count": 22,
     "metadata": {},
     "output_type": "execute_result"
    }
   ],
=======
   "execution_count": null,
   "metadata": {
    "collapsed": false
   },
   "outputs": [],
>>>>>>> f32e067bd584571f8b4a5dfe277594c96491ea32
   "source": [
    "time_zones[:10]"
   ]
  },
  {
   "cell_type": "code",
   "execution_count": null,
   "metadata": {
    "collapsed": false
   },
   "outputs": [],
   "source": [
    "def get_counts(sequence):\n",
    "    counts = {}\n",
    "    for x in sequence:\n",
    "        if x in counts:\n",
    "            counts[x] += 1\n",
    "        else:\n",
    "            counts[x] = 1\n",
    "    return counts"
   ]
  },
  {
   "cell_type": "code",
   "execution_count": null,
   "metadata": {
    "collapsed": false
   },
   "outputs": [],
   "source": [
    "from collections import defaultdict\n",
    "\n",
    "def get_counts2(sequence):\n",
    "    counts = defaultdict(int) # values will initialize to 0\n",
    "    for x in sequence:\n",
    "        counts[x] += 1\n",
    "    return counts"
   ]
  },
  {
   "cell_type": "code",
   "execution_count": null,
   "metadata": {
    "collapsed": false
   },
   "outputs": [],
   "source": [
    "counts = get_counts(time_zones)"
   ]
  },
  {
   "cell_type": "code",
   "execution_count": null,
   "metadata": {
    "collapsed": false
   },
   "outputs": [],
   "source": [
    "counts['America/New_York']"
   ]
  },
  {
   "cell_type": "code",
   "execution_count": null,
   "metadata": {
    "collapsed": false
   },
   "outputs": [],
   "source": [
    "len(time_zones)"
   ]
  },
  {
   "cell_type": "code",
   "execution_count": null,
   "metadata": {
    "collapsed": false
   },
   "outputs": [],
   "source": [
    "def top_counts(count_dict, n=10):\n",
    "    value_key_pairs = [(count, tz) for tz, count in count_dict.items()]\n",
    "    value_key_pairs.sort()\n",
    "    return value_key_pairs[-n:]"
   ]
  },
  {
   "cell_type": "code",
   "execution_count": null,
   "metadata": {
    "collapsed": false
   },
   "outputs": [],
   "source": [
    "top_counts(counts)"
   ]
  },
  {
   "cell_type": "code",
<<<<<<< HEAD
   "execution_count": 23,
=======
   "execution_count": null,
>>>>>>> f32e067bd584571f8b4a5dfe277594c96491ea32
   "metadata": {
    "collapsed": false
   },
   "outputs": [],
   "source": [
    "from collections import Counter"
   ]
  },
  {
   "cell_type": "code",
<<<<<<< HEAD
   "execution_count": 24,
=======
   "execution_count": null,
>>>>>>> f32e067bd584571f8b4a5dfe277594c96491ea32
   "metadata": {
    "collapsed": false
   },
   "outputs": [],
   "source": [
    "counts = Counter(time_zones)"
   ]
  },
  {
   "cell_type": "code",
<<<<<<< HEAD
   "execution_count": 25,
   "metadata": {
    "collapsed": false
   },
   "outputs": [
    {
     "data": {
      "text/plain": [
       "[('America/New_York', 1251),\n",
       " ('', 521),\n",
       " ('America/Chicago', 400),\n",
       " ('America/Los_Angeles', 382),\n",
       " ('America/Denver', 191),\n",
       " ('Europe/London', 74),\n",
       " ('Asia/Tokyo', 37),\n",
       " ('Pacific/Honolulu', 36),\n",
       " ('Europe/Madrid', 35),\n",
       " ('America/Sao_Paulo', 33)]"
      ]
     },
     "execution_count": 25,
     "metadata": {},
     "output_type": "execute_result"
    }
   ],
=======
   "execution_count": null,
   "metadata": {
    "collapsed": false
   },
   "outputs": [],
>>>>>>> f32e067bd584571f8b4a5dfe277594c96491ea32
   "source": [
    "counts.most_common(10)"
   ]
  },
  {
   "cell_type": "markdown",
   "metadata": {},
   "source": [
    "### Counting time zones with pandas"
   ]
  },
  {
   "cell_type": "code",
<<<<<<< HEAD
   "execution_count": 26,
=======
   "execution_count": 9,
>>>>>>> f32e067bd584571f8b4a5dfe277594c96491ea32
   "metadata": {
    "collapsed": false
   },
   "outputs": [],
   "source": [
    "%matplotlib inline"
   ]
  },
  {
   "cell_type": "code",
<<<<<<< HEAD
   "execution_count": 27,
=======
   "execution_count": 10,
>>>>>>> f32e067bd584571f8b4a5dfe277594c96491ea32
   "metadata": {
    "collapsed": false
   },
   "outputs": [],
   "source": [
    "from __future__ import division\n",
    "from numpy.random import randn\n",
    "import numpy as np\n",
    "import os\n",
    "import matplotlib.pyplot as plt\n",
    "import pandas as pd\n",
    "plt.rc('figure', figsize=(10, 6))\n",
    "np.set_printoptions(precision=4)"
   ]
  },
  {
   "cell_type": "code",
<<<<<<< HEAD
   "execution_count": 28,
=======
   "execution_count": 11,
>>>>>>> f32e067bd584571f8b4a5dfe277594c96491ea32
   "metadata": {
    "collapsed": false
   },
   "outputs": [],
   "source": [
    "import json\n",
    "path = 'ch02/usagov_bitly_data2012-03-16-1331923249.txt'\n",
    "lines = open(path).readlines()\n",
    "records = [json.loads(line) for line in lines]"
   ]
  },
  {
   "cell_type": "code",
<<<<<<< HEAD
   "execution_count": 29,
=======
   "execution_count": 12,
>>>>>>> f32e067bd584571f8b4a5dfe277594c96491ea32
   "metadata": {
    "collapsed": false
   },
   "outputs": [
    {
     "data": {
      "text/html": [
       "<div style=\"max-height:1000px;max-width:1500px;overflow:auto;\">\n",
       "<table border=\"1\" class=\"dataframe\">\n",
       "  <thead>\n",
       "    <tr style=\"text-align: right;\">\n",
       "      <th></th>\n",
       "      <th>_heartbeat_</th>\n",
       "      <th>a</th>\n",
       "      <th>al</th>\n",
       "      <th>c</th>\n",
       "      <th>cy</th>\n",
       "      <th>g</th>\n",
       "      <th>gr</th>\n",
       "      <th>h</th>\n",
       "      <th>hc</th>\n",
       "      <th>hh</th>\n",
       "      <th>kw</th>\n",
       "      <th>l</th>\n",
       "      <th>ll</th>\n",
       "      <th>nk</th>\n",
       "      <th>r</th>\n",
       "      <th>t</th>\n",
       "      <th>tz</th>\n",
       "      <th>u</th>\n",
       "    </tr>\n",
       "  </thead>\n",
       "  <tbody>\n",
       "    <tr>\n",
       "      <th>0   </th>\n",
       "      <td>        NaN</td>\n",
       "      <td> Mozilla/5.0 (Windows NT 6.1; WOW64) AppleWebKi...</td>\n",
       "      <td>                         en-US,en;q=0.8</td>\n",
       "      <td>   US</td>\n",
       "      <td>          Danvers</td>\n",
       "      <td> A6qOVH</td>\n",
       "      <td>  MA</td>\n",
       "      <td> wfLQtf</td>\n",
       "      <td> 1331822918</td>\n",
       "      <td>   1.usa.gov</td>\n",
       "      <td> NaN</td>\n",
       "      <td>       orofrog</td>\n",
       "      <td>  [42.576698, -70.954903]</td>\n",
       "      <td>  1</td>\n",
       "      <td> http://www.facebook.com/l/7AQEFzjSi/1.usa.gov/...</td>\n",
       "      <td> 1331923247</td>\n",
       "      <td>    America/New_York</td>\n",
       "      <td>       http://www.ncbi.nlm.nih.gov/pubmed/22415991</td>\n",
       "    </tr>\n",
       "    <tr>\n",
       "      <th>1   </th>\n",
       "      <td>        NaN</td>\n",
       "      <td>                            GoogleMaps/RochesterNY</td>\n",
       "      <td>                                    NaN</td>\n",
       "      <td>   US</td>\n",
       "      <td>            Provo</td>\n",
       "      <td> mwszkS</td>\n",
       "      <td>  UT</td>\n",
       "      <td> mwszkS</td>\n",
       "      <td> 1308262393</td>\n",
       "      <td>        j.mp</td>\n",
       "      <td> NaN</td>\n",
       "      <td>         bitly</td>\n",
       "      <td> [40.218102, -111.613297]</td>\n",
       "      <td>  0</td>\n",
       "      <td>                          http://www.AwareMap.com/</td>\n",
       "      <td> 1331923249</td>\n",
       "      <td>      America/Denver</td>\n",
       "      <td>       http://www.monroecounty.gov/etc/911/rss.php</td>\n",
       "    </tr>\n",
       "    <tr>\n",
       "      <th>2   </th>\n",
       "      <td>        NaN</td>\n",
       "      <td> Mozilla/4.0 (compatible; MSIE 8.0; Windows NT ...</td>\n",
       "      <td>                                  en-US</td>\n",
       "      <td>   US</td>\n",
       "      <td>       Washington</td>\n",
       "      <td> xxr3Qb</td>\n",
       "      <td>  DC</td>\n",
       "      <td> xxr3Qb</td>\n",
       "      <td> 1331919941</td>\n",
       "      <td>   1.usa.gov</td>\n",
       "      <td> NaN</td>\n",
       "      <td>         bitly</td>\n",
       "      <td>    [38.9007, -77.043098]</td>\n",
       "      <td>  1</td>\n",
       "      <td>                              http://t.co/03elZC4Q</td>\n",
       "      <td> 1331923250</td>\n",
       "      <td>    America/New_York</td>\n",
       "      <td> http://boxer.senate.gov/en/press/releases/0316...</td>\n",
       "    </tr>\n",
       "    <tr>\n",
       "      <th>3   </th>\n",
       "      <td>        NaN</td>\n",
       "      <td> Mozilla/5.0 (Macintosh; Intel Mac OS X 10_6_8)...</td>\n",
       "      <td>                                  pt-br</td>\n",
       "      <td>   BR</td>\n",
       "      <td>             Braz</td>\n",
       "      <td> zCaLwp</td>\n",
       "      <td>  27</td>\n",
       "      <td> zUtuOu</td>\n",
       "      <td> 1331923068</td>\n",
       "      <td>   1.usa.gov</td>\n",
       "      <td> NaN</td>\n",
       "      <td>      alelex88</td>\n",
       "      <td> [-23.549999, -46.616699]</td>\n",
       "      <td>  0</td>\n",
       "      <td>                                            direct</td>\n",
       "      <td> 1331923249</td>\n",
       "      <td>   America/Sao_Paulo</td>\n",
       "      <td>           http://apod.nasa.gov/apod/ap120312.html</td>\n",
       "    </tr>\n",
       "    <tr>\n",
       "      <th>4   </th>\n",
       "      <td>        NaN</td>\n",
       "      <td> Mozilla/5.0 (Windows NT 6.1; WOW64) AppleWebKi...</td>\n",
       "      <td>                         en-US,en;q=0.8</td>\n",
       "      <td>   US</td>\n",
       "      <td>       Shrewsbury</td>\n",
       "      <td> 9b6kNl</td>\n",
       "      <td>  MA</td>\n",
       "      <td> 9b6kNl</td>\n",
       "      <td> 1273672411</td>\n",
       "      <td>      bit.ly</td>\n",
       "      <td> NaN</td>\n",
       "      <td>         bitly</td>\n",
       "      <td>  [42.286499, -71.714699]</td>\n",
       "      <td>  0</td>\n",
       "      <td>               http://www.shrewsbury-ma.gov/selco/</td>\n",
       "      <td> 1331923251</td>\n",
       "      <td>    America/New_York</td>\n",
       "      <td> http://www.shrewsbury-ma.gov/egov/gallery/1341...</td>\n",
       "    </tr>\n",
       "    <tr>\n",
       "      <th>5   </th>\n",
       "      <td>        NaN</td>\n",
       "      <td> Mozilla/5.0 (Windows NT 6.1; WOW64) AppleWebKi...</td>\n",
       "      <td>                         en-US,en;q=0.8</td>\n",
       "      <td>   US</td>\n",
       "      <td>       Shrewsbury</td>\n",
       "      <td> axNK8c</td>\n",
       "      <td>  MA</td>\n",
       "      <td> axNK8c</td>\n",
       "      <td> 1273672506</td>\n",
       "      <td>      bit.ly</td>\n",
       "      <td> NaN</td>\n",
       "      <td>         bitly</td>\n",
       "      <td>  [42.286499, -71.714699]</td>\n",
       "      <td>  0</td>\n",
       "      <td>               http://www.shrewsbury-ma.gov/selco/</td>\n",
       "      <td> 1331923252</td>\n",
       "      <td>    America/New_York</td>\n",
       "      <td> http://www.shrewsbury-ma.gov/egov/gallery/1341...</td>\n",
       "    </tr>\n",
       "    <tr>\n",
       "      <th>6   </th>\n",
       "      <td>        NaN</td>\n",
       "      <td> Mozilla/5.0 (Windows NT 5.1) AppleWebKit/535.1...</td>\n",
       "      <td>    pl-PL,pl;q=0.8,en-US;q=0.6,en;q=0.4</td>\n",
       "      <td>   PL</td>\n",
       "      <td>            Luban</td>\n",
       "      <td> wcndER</td>\n",
       "      <td>  77</td>\n",
       "      <td> zkpJBR</td>\n",
       "      <td> 1331922854</td>\n",
       "      <td>   1.usa.gov</td>\n",
       "      <td> NaN</td>\n",
       "      <td>      bnjacobs</td>\n",
       "      <td>     [51.116699, 15.2833]</td>\n",
       "      <td>  0</td>\n",
       "      <td> http://plus.url.google.com/url?sa=z&amp;n=13319232...</td>\n",
       "      <td> 1331923255</td>\n",
       "      <td>       Europe/Warsaw</td>\n",
       "      <td> http://www.nasa.gov/mission_pages/nustar/main/...</td>\n",
       "    </tr>\n",
       "    <tr>\n",
       "      <th>7   </th>\n",
       "      <td>        NaN</td>\n",
       "      <td> Mozilla/5.0 (Windows NT 6.1; rv:2.0.1) Gecko/2...</td>\n",
       "      <td>                bg,en-us;q=0.7,en;q=0.3</td>\n",
       "      <td> None</td>\n",
       "      <td>              NaN</td>\n",
       "      <td> wcndER</td>\n",
       "      <td> NaN</td>\n",
       "      <td> zkpJBR</td>\n",
       "      <td> 1331922854</td>\n",
       "      <td>   1.usa.gov</td>\n",
       "      <td> NaN</td>\n",
       "      <td>      bnjacobs</td>\n",
       "      <td>                      NaN</td>\n",
       "      <td>  0</td>\n",
       "      <td>                          http://www.facebook.com/</td>\n",
       "      <td> 1331923255</td>\n",
       "      <td>                    </td>\n",
       "      <td> http://www.nasa.gov/mission_pages/nustar/main/...</td>\n",
       "    </tr>\n",
       "    <tr>\n",
       "      <th>8   </th>\n",
       "      <td>        NaN</td>\n",
       "      <td> Opera/9.80 (X11; Linux zbov; U; en) Presto/2.1...</td>\n",
       "      <td>                              en-US, en</td>\n",
       "      <td> None</td>\n",
       "      <td>              NaN</td>\n",
       "      <td> wcndER</td>\n",
       "      <td> NaN</td>\n",
       "      <td> zkpJBR</td>\n",
       "      <td> 1331922854</td>\n",
       "      <td>   1.usa.gov</td>\n",
       "      <td> NaN</td>\n",
       "      <td>      bnjacobs</td>\n",
       "      <td>                      NaN</td>\n",
       "      <td>  0</td>\n",
       "      <td> http://www.facebook.com/l.php?u=http%3A%2F%2F1...</td>\n",
       "      <td> 1331923254</td>\n",
       "      <td>                    </td>\n",
       "      <td> http://www.nasa.gov/mission_pages/nustar/main/...</td>\n",
       "    </tr>\n",
       "    <tr>\n",
       "      <th>9   </th>\n",
       "      <td>        NaN</td>\n",
       "      <td> Mozilla/5.0 (Windows NT 6.1; WOW64) AppleWebKi...</td>\n",
       "      <td>    pt-BR,pt;q=0.8,en-US;q=0.6,en;q=0.4</td>\n",
       "      <td> None</td>\n",
       "      <td>              NaN</td>\n",
       "      <td> zCaLwp</td>\n",
       "      <td> NaN</td>\n",
       "      <td> zUtuOu</td>\n",
       "      <td> 1331923068</td>\n",
       "      <td>   1.usa.gov</td>\n",
       "      <td> NaN</td>\n",
       "      <td>      alelex88</td>\n",
       "      <td>                      NaN</td>\n",
       "      <td>  0</td>\n",
       "      <td>                              http://t.co/o1Pd0WeV</td>\n",
       "      <td> 1331923255</td>\n",
       "      <td>                    </td>\n",
       "      <td>           http://apod.nasa.gov/apod/ap120312.html</td>\n",
       "    </tr>\n",
       "    <tr>\n",
       "      <th>10  </th>\n",
       "      <td>        NaN</td>\n",
       "      <td> Mozilla/5.0 (Windows NT 6.1; WOW64; rv:10.0.2)...</td>\n",
       "      <td>                         en-us,en;q=0.5</td>\n",
       "      <td>   US</td>\n",
       "      <td>          Seattle</td>\n",
       "      <td> vNJS4H</td>\n",
       "      <td>  WA</td>\n",
       "      <td> u0uD9q</td>\n",
       "      <td> 1319563556</td>\n",
       "      <td>   1.usa.gov</td>\n",
       "      <td> NaN</td>\n",
       "      <td>  o_4us71ccioa</td>\n",
       "      <td>   [47.5951, -122.332603]</td>\n",
       "      <td>  1</td>\n",
       "      <td>                                            direct</td>\n",
       "      <td> 1331923258</td>\n",
       "      <td> America/Los_Angeles</td>\n",
       "      <td> https://www.nysdot.gov/rexdesign/design/commun...</td>\n",
       "    </tr>\n",
       "    <tr>\n",
       "      <th>11  </th>\n",
       "      <td>        NaN</td>\n",
       "      <td> Mozilla/5.0 (Macintosh; U; Intel Mac OS X 10.4...</td>\n",
       "      <td>                         en-us,en;q=0.5</td>\n",
       "      <td>   US</td>\n",
       "      <td>       Washington</td>\n",
       "      <td> wG7OIH</td>\n",
       "      <td>  DC</td>\n",
       "      <td> A0nRz4</td>\n",
       "      <td> 1331815838</td>\n",
       "      <td>   1.usa.gov</td>\n",
       "      <td> NaN</td>\n",
       "      <td>   darrellissa</td>\n",
       "      <td>  [38.937599, -77.092796]</td>\n",
       "      <td>  0</td>\n",
       "      <td>                              http://t.co/ND7SoPyo</td>\n",
       "      <td> 1331923259</td>\n",
       "      <td>    America/New_York</td>\n",
       "      <td> http://oversight.house.gov/wp-content/uploads/...</td>\n",
       "    </tr>\n",
       "    <tr>\n",
       "      <th>12  </th>\n",
       "      <td>        NaN</td>\n",
       "      <td> Mozilla/5.0 (Windows NT 6.1; WOW64; rv:10.0.2)...</td>\n",
       "      <td>                         en-us,en;q=0.5</td>\n",
       "      <td>   US</td>\n",
       "      <td>       Alexandria</td>\n",
       "      <td> vNJS4H</td>\n",
       "      <td>  VA</td>\n",
       "      <td> u0uD9q</td>\n",
       "      <td> 1319563556</td>\n",
       "      <td>   1.usa.gov</td>\n",
       "      <td> NaN</td>\n",
       "      <td>  o_4us71ccioa</td>\n",
       "      <td>  [38.790901, -77.094704]</td>\n",
       "      <td>  1</td>\n",
       "      <td>                                            direct</td>\n",
       "      <td> 1331923259</td>\n",
       "      <td>    America/New_York</td>\n",
       "      <td> https://www.nysdot.gov/rexdesign/design/commun...</td>\n",
       "    </tr>\n",
       "    <tr>\n",
       "      <th>13  </th>\n",
       "      <td> 1331923261</td>\n",
       "      <td>                                               NaN</td>\n",
       "      <td>                                    NaN</td>\n",
       "      <td>  NaN</td>\n",
       "      <td>              NaN</td>\n",
       "      <td>    NaN</td>\n",
       "      <td> NaN</td>\n",
       "      <td>    NaN</td>\n",
       "      <td>        NaN</td>\n",
       "      <td>         NaN</td>\n",
       "      <td> NaN</td>\n",
       "      <td>           NaN</td>\n",
       "      <td>                      NaN</td>\n",
       "      <td>NaN</td>\n",
       "      <td>                                               NaN</td>\n",
       "      <td>        NaN</td>\n",
       "      <td>                 NaN</td>\n",
       "      <td>                                               NaN</td>\n",
       "    </tr>\n",
       "    <tr>\n",
       "      <th>14  </th>\n",
       "      <td>        NaN</td>\n",
       "      <td> Mozilla/5.0 (Windows; U; Windows NT 6.1; en-US...</td>\n",
       "      <td>                         en-us,en;q=0.5</td>\n",
       "      <td>   US</td>\n",
       "      <td>         Marietta</td>\n",
       "      <td> 2rOUYc</td>\n",
       "      <td>  GA</td>\n",
       "      <td> 2rOUYc</td>\n",
       "      <td> 1255769846</td>\n",
       "      <td>   1.usa.gov</td>\n",
       "      <td> NaN</td>\n",
       "      <td>         bitly</td>\n",
       "      <td>    [33.953201, -84.5177]</td>\n",
       "      <td>  1</td>\n",
       "      <td>                                            direct</td>\n",
       "      <td> 1331923262</td>\n",
       "      <td>    America/New_York</td>\n",
       "      <td>              http://toxtown.nlm.nih.gov/index.php</td>\n",
       "    </tr>\n",
       "    <tr>\n",
       "      <th>15  </th>\n",
       "      <td>        NaN</td>\n",
       "      <td> Mozilla/5.0 (Windows NT 6.1) AppleWebKit/535.1...</td>\n",
       "      <td>    zh-TW,zh;q=0.8,en-US;q=0.6,en;q=0.4</td>\n",
       "      <td>   HK</td>\n",
       "      <td> Central District</td>\n",
       "      <td> nQvgJp</td>\n",
       "      <td>  00</td>\n",
       "      <td> rtrrth</td>\n",
       "      <td> 1317318030</td>\n",
       "      <td>        j.mp</td>\n",
       "      <td> NaN</td>\n",
       "      <td>    walkeryuen</td>\n",
       "      <td>    [22.2833, 114.150002]</td>\n",
       "      <td>  1</td>\n",
       "      <td> http://forum2.hkgolden.com/view.aspx?type=BW&amp;m...</td>\n",
       "      <td> 1331923263</td>\n",
       "      <td>      Asia/Hong_Kong</td>\n",
       "      <td> http://www.ssd.noaa.gov/PS/TROP/TCFP/data/curr...</td>\n",
       "    </tr>\n",
       "    <tr>\n",
       "      <th>16  </th>\n",
       "      <td>        NaN</td>\n",
       "      <td> Mozilla/5.0 (Windows NT 6.1) AppleWebKit/535.1...</td>\n",
       "      <td>    zh-TW,zh;q=0.8,en-US;q=0.6,en;q=0.4</td>\n",
       "      <td>   HK</td>\n",
       "      <td> Central District</td>\n",
       "      <td>  XdUNr</td>\n",
       "      <td>  00</td>\n",
       "      <td> qWkgbq</td>\n",
       "      <td> 1317318039</td>\n",
       "      <td>        j.mp</td>\n",
       "      <td> NaN</td>\n",
       "      <td>    walkeryuen</td>\n",
       "      <td>    [22.2833, 114.150002]</td>\n",
       "      <td>  1</td>\n",
       "      <td> http://forum2.hkgolden.com/view.aspx?type=BW&amp;m...</td>\n",
       "      <td> 1331923263</td>\n",
       "      <td>      Asia/Hong_Kong</td>\n",
       "      <td> http://www.usno.navy.mil/NOOC/nmfc-ph/RSS/jtwc...</td>\n",
       "    </tr>\n",
       "    <tr>\n",
       "      <th>17  </th>\n",
       "      <td>        NaN</td>\n",
       "      <td> Mozilla/5.0 (Macintosh; Intel Mac OS X 10.5; r...</td>\n",
       "      <td>                         en-us,en;q=0.5</td>\n",
       "      <td>   US</td>\n",
       "      <td>        Buckfield</td>\n",
       "      <td> zH1BFf</td>\n",
       "      <td>  ME</td>\n",
       "      <td> x3jOIv</td>\n",
       "      <td> 1331839576</td>\n",
       "      <td>   1.usa.gov</td>\n",
       "      <td> NaN</td>\n",
       "      <td> andyzieminski</td>\n",
       "      <td>  [44.299702, -70.369797]</td>\n",
       "      <td>  0</td>\n",
       "      <td>                              http://t.co/6Cx4ROLs</td>\n",
       "      <td> 1331923264</td>\n",
       "      <td>    America/New_York</td>\n",
       "      <td> http://www.usda.gov/wps/portal/usda/usdahome?c...</td>\n",
       "    </tr>\n",
       "    <tr>\n",
       "      <th>18  </th>\n",
       "      <td>        NaN</td>\n",
       "      <td>                            GoogleMaps/RochesterNY</td>\n",
       "      <td>                                    NaN</td>\n",
       "      <td>   US</td>\n",
       "      <td>            Provo</td>\n",
       "      <td> mwszkS</td>\n",
       "      <td>  UT</td>\n",
       "      <td> mwszkS</td>\n",
       "      <td> 1308262393</td>\n",
       "      <td>   1.usa.gov</td>\n",
       "      <td> NaN</td>\n",
       "      <td>         bitly</td>\n",
       "      <td> [40.218102, -111.613297]</td>\n",
       "      <td>  0</td>\n",
       "      <td>                          http://www.AwareMap.com/</td>\n",
       "      <td> 1331923262</td>\n",
       "      <td>      America/Denver</td>\n",
       "      <td>       http://www.monroecounty.gov/etc/911/rss.php</td>\n",
       "    </tr>\n",
       "    <tr>\n",
       "      <th>19  </th>\n",
       "      <td>        NaN</td>\n",
       "      <td> Mozilla/5.0 (Windows NT 6.1; WOW64) AppleWebKi...</td>\n",
       "      <td>    it-IT,it;q=0.8,en-US;q=0.6,en;q=0.4</td>\n",
       "      <td>   IT</td>\n",
       "      <td>           Venice</td>\n",
       "      <td> wcndER</td>\n",
       "      <td>  20</td>\n",
       "      <td> zkpJBR</td>\n",
       "      <td> 1331922854</td>\n",
       "      <td>   1.usa.gov</td>\n",
       "      <td> NaN</td>\n",
       "      <td>      bnjacobs</td>\n",
       "      <td>     [45.438599, 12.3267]</td>\n",
       "      <td>  0</td>\n",
       "      <td>                          http://www.facebook.com/</td>\n",
       "      <td> 1331923264</td>\n",
       "      <td>         Europe/Rome</td>\n",
       "      <td> http://www.nasa.gov/mission_pages/nustar/main/...</td>\n",
       "    </tr>\n",
       "    <tr>\n",
       "      <th>20  </th>\n",
       "      <td>        NaN</td>\n",
       "      <td> Mozilla/5.0 (compatible; MSIE 9.0; Windows NT ...</td>\n",
       "      <td>                                  es-ES</td>\n",
       "      <td>   ES</td>\n",
       "      <td>            Alcal</td>\n",
       "      <td> zQ95Hi</td>\n",
       "      <td>  51</td>\n",
       "      <td> ytZYWR</td>\n",
       "      <td> 1331670549</td>\n",
       "      <td>   bitly.com</td>\n",
       "      <td> NaN</td>\n",
       "      <td>       jplnews</td>\n",
       "      <td>     [37.516701, -5.9833]</td>\n",
       "      <td>  0</td>\n",
       "      <td>                          http://www.facebook.com/</td>\n",
       "      <td> 1331923265</td>\n",
       "      <td>        Africa/Ceuta</td>\n",
       "      <td> http://voyager.jpl.nasa.gov/imagesvideo/uranus...</td>\n",
       "    </tr>\n",
       "    <tr>\n",
       "      <th>21  </th>\n",
       "      <td>        NaN</td>\n",
       "      <td> Mozilla/5.0 (Macintosh; U; Intel Mac OS X 10.6...</td>\n",
       "      <td>                         en-us,en;q=0.5</td>\n",
       "      <td>   US</td>\n",
       "      <td>    Davidsonville</td>\n",
       "      <td> wcndER</td>\n",
       "      <td>  MD</td>\n",
       "      <td> zkpJBR</td>\n",
       "      <td> 1331922854</td>\n",
       "      <td>   1.usa.gov</td>\n",
       "      <td> NaN</td>\n",
       "      <td>      bnjacobs</td>\n",
       "      <td>  [38.939201, -76.635002]</td>\n",
       "      <td>  0</td>\n",
       "      <td>                          http://www.facebook.com/</td>\n",
       "      <td> 1331923267</td>\n",
       "      <td>    America/New_York</td>\n",
       "      <td> http://www.nasa.gov/mission_pages/nustar/main/...</td>\n",
       "    </tr>\n",
       "    <tr>\n",
       "      <th>22  </th>\n",
       "      <td>        NaN</td>\n",
       "      <td> Mozilla/4.0 (compatible; MSIE 8.0; Windows NT ...</td>\n",
       "      <td>                                  en-us</td>\n",
       "      <td>   US</td>\n",
       "      <td>        Hockessin</td>\n",
       "      <td> y3ZImz</td>\n",
       "      <td>  DE</td>\n",
       "      <td> y3ZImz</td>\n",
       "      <td> 1331064158</td>\n",
       "      <td>   1.usa.gov</td>\n",
       "      <td> NaN</td>\n",
       "      <td>         bitly</td>\n",
       "      <td>     [39.785, -75.682297]</td>\n",
       "      <td>  0</td>\n",
       "      <td>                                            direct</td>\n",
       "      <td> 1331923267</td>\n",
       "      <td>    America/New_York</td>\n",
       "      <td> http://portal.hud.gov/hudportal/documents/hudd...</td>\n",
       "    </tr>\n",
       "    <tr>\n",
       "      <th>23  </th>\n",
       "      <td>        NaN</td>\n",
       "      <td> Mozilla/5.0 (Macintosh; Intel Mac OS X 10_7_3)...</td>\n",
       "      <td>                                  en-us</td>\n",
       "      <td>   US</td>\n",
       "      <td>           Lititz</td>\n",
       "      <td> wWiOiD</td>\n",
       "      <td>  PA</td>\n",
       "      <td> wWiOiD</td>\n",
       "      <td> 1330217829</td>\n",
       "      <td>   1.usa.gov</td>\n",
       "      <td> NaN</td>\n",
       "      <td>         bitly</td>\n",
       "      <td>    [40.174999, -76.3078]</td>\n",
       "      <td>  0</td>\n",
       "      <td> http://www.facebook.com/l.php?u=http%3A%2F%2F1...</td>\n",
       "      <td> 1331923267</td>\n",
       "      <td>    America/New_York</td>\n",
       "      <td> http://www.tricare.mil/mybenefit/ProfileFilter...</td>\n",
       "    </tr>\n",
       "    <tr>\n",
       "      <th>24  </th>\n",
       "      <td>        NaN</td>\n",
       "      <td> Mozilla/5.0 (Windows; U; Windows NT 5.1; es-ES...</td>\n",
       "      <td>    es-es,es;q=0.8,en-us;q=0.5,en;q=0.3</td>\n",
       "      <td>   ES</td>\n",
       "      <td>           Bilbao</td>\n",
       "      <td> wcndER</td>\n",
       "      <td>  59</td>\n",
       "      <td> zkpJBR</td>\n",
       "      <td> 1331922854</td>\n",
       "      <td>   1.usa.gov</td>\n",
       "      <td> NaN</td>\n",
       "      <td>      bnjacobs</td>\n",
       "      <td>         [43.25, -2.9667]</td>\n",
       "      <td>  0</td>\n",
       "      <td>                          http://www.facebook.com/</td>\n",
       "      <td> 1331923268</td>\n",
       "      <td>       Europe/Madrid</td>\n",
       "      <td> http://www.nasa.gov/mission_pages/nustar/main/...</td>\n",
       "    </tr>\n",
       "    <tr>\n",
       "      <th>25  </th>\n",
       "      <td>        NaN</td>\n",
       "      <td> Mozilla/5.0 (Windows NT 6.1) AppleWebKit/535.1...</td>\n",
       "      <td> en-GB,en;q=0.8,en-US;q=0.6,en-AU;q=0.4</td>\n",
       "      <td>   MY</td>\n",
       "      <td>     Kuala Lumpur</td>\n",
       "      <td> wcndER</td>\n",
       "      <td>  14</td>\n",
       "      <td> zkpJBR</td>\n",
       "      <td> 1331922854</td>\n",
       "      <td>   1.usa.gov</td>\n",
       "      <td> NaN</td>\n",
       "      <td>      bnjacobs</td>\n",
       "      <td>     [3.1667, 101.699997]</td>\n",
       "      <td>  0</td>\n",
       "      <td>                          http://www.facebook.com/</td>\n",
       "      <td> 1331923269</td>\n",
       "      <td>   Asia/Kuala_Lumpur</td>\n",
       "      <td> http://www.nasa.gov/mission_pages/nustar/main/...</td>\n",
       "    </tr>\n",
       "    <tr>\n",
       "      <th>26  </th>\n",
       "      <td>        NaN</td>\n",
       "      <td> Mozilla/5.0 (Windows NT 6.1) AppleWebKit/535.1...</td>\n",
       "      <td>    ro-RO,ro;q=0.8,en-US;q=0.6,en;q=0.4</td>\n",
       "      <td>   CY</td>\n",
       "      <td>          Nicosia</td>\n",
       "      <td> wcndER</td>\n",
       "      <td>  04</td>\n",
       "      <td> zkpJBR</td>\n",
       "      <td> 1331922854</td>\n",
       "      <td>   1.usa.gov</td>\n",
       "      <td> NaN</td>\n",
       "      <td>      bnjacobs</td>\n",
       "      <td>   [35.166698, 33.366699]</td>\n",
       "      <td>  0</td>\n",
       "      <td>              http://www.facebook.com/?ref=tn_tnmn</td>\n",
       "      <td> 1331923268</td>\n",
       "      <td>        Asia/Nicosia</td>\n",
       "      <td> http://www.nasa.gov/mission_pages/nustar/main/...</td>\n",
       "    </tr>\n",
       "    <tr>\n",
       "      <th>27  </th>\n",
       "      <td>        NaN</td>\n",
       "      <td> Mozilla/5.0 (Macintosh; Intel Mac OS X 10_6_8)...</td>\n",
       "      <td>                         en-US,en;q=0.8</td>\n",
       "      <td>   BR</td>\n",
       "      <td>           SPaulo</td>\n",
       "      <td> zCaLwp</td>\n",
       "      <td>  27</td>\n",
       "      <td> zUtuOu</td>\n",
       "      <td> 1331923068</td>\n",
       "      <td>   1.usa.gov</td>\n",
       "      <td> NaN</td>\n",
       "      <td>      alelex88</td>\n",
       "      <td>   [-23.5333, -46.616699]</td>\n",
       "      <td>  0</td>\n",
       "      <td>                                            direct</td>\n",
       "      <td> 1331923269</td>\n",
       "      <td>   America/Sao_Paulo</td>\n",
       "      <td>           http://apod.nasa.gov/apod/ap120312.html</td>\n",
       "    </tr>\n",
       "    <tr>\n",
       "      <th>28  </th>\n",
       "      <td>        NaN</td>\n",
       "      <td> Mozilla/5.0 (iPad; CPU OS 5_0_1 like Mac OS X)...</td>\n",
       "      <td>                                  en-us</td>\n",
       "      <td> None</td>\n",
       "      <td>              NaN</td>\n",
       "      <td> vNJS4H</td>\n",
       "      <td> NaN</td>\n",
       "      <td> u0uD9q</td>\n",
       "      <td> 1319563556</td>\n",
       "      <td>   1.usa.gov</td>\n",
       "      <td> NaN</td>\n",
       "      <td>  o_4us71ccioa</td>\n",
       "      <td>                      NaN</td>\n",
       "      <td>  0</td>\n",
       "      <td>                                            direct</td>\n",
       "      <td> 1331923270</td>\n",
       "      <td>                    </td>\n",
       "      <td> https://www.nysdot.gov/rexdesign/design/commun...</td>\n",
       "    </tr>\n",
       "    <tr>\n",
       "      <th>29  </th>\n",
       "      <td>        NaN</td>\n",
       "      <td> Mozilla/5.0 (iPad; U; CPU OS 3_2 like Mac OS X...</td>\n",
       "      <td>                                  en-us</td>\n",
       "      <td> None</td>\n",
       "      <td>              NaN</td>\n",
       "      <td> FPX0IM</td>\n",
       "      <td> NaN</td>\n",
       "      <td> FPX0IL</td>\n",
       "      <td> 1331922978</td>\n",
       "      <td>   1.usa.gov</td>\n",
       "      <td> NaN</td>\n",
       "      <td>  twittershare</td>\n",
       "      <td>                      NaN</td>\n",
       "      <td>  1</td>\n",
       "      <td>                              http://t.co/5xlp0B34</td>\n",
       "      <td> 1331923270</td>\n",
       "      <td>                    </td>\n",
       "      <td> http://www.ed.gov/news/media-advisories/us-dep...</td>\n",
       "    </tr>\n",
       "    <tr>\n",
       "      <th>...</th>\n",
       "      <td>...</td>\n",
       "      <td>...</td>\n",
       "      <td>...</td>\n",
       "      <td>...</td>\n",
       "      <td>...</td>\n",
       "      <td>...</td>\n",
       "      <td>...</td>\n",
       "      <td>...</td>\n",
       "      <td>...</td>\n",
       "      <td>...</td>\n",
       "      <td>...</td>\n",
       "      <td>...</td>\n",
       "      <td>...</td>\n",
       "      <td>...</td>\n",
       "      <td>...</td>\n",
       "      <td>...</td>\n",
       "      <td>...</td>\n",
       "      <td>...</td>\n",
       "    </tr>\n",
       "    <tr>\n",
       "      <th>3530</th>\n",
       "      <td>        NaN</td>\n",
       "      <td> Mozilla/5.0 (Windows NT 6.0) AppleWebKit/535.1...</td>\n",
       "      <td>                         en-US,en;q=0.8</td>\n",
       "      <td>   US</td>\n",
       "      <td>    San Francisco</td>\n",
       "      <td> xVZg4P</td>\n",
       "      <td>  CA</td>\n",
       "      <td> wqUkTo</td>\n",
       "      <td> 1331908247</td>\n",
       "      <td> go.nasa.gov</td>\n",
       "      <td> NaN</td>\n",
       "      <td>   nasatwitter</td>\n",
       "      <td>   [37.7645, -122.429398]</td>\n",
       "      <td>  0</td>\n",
       "      <td> http://www.facebook.com/l.php?u=http%3A%2F%2Fg...</td>\n",
       "      <td> 1331926815</td>\n",
       "      <td> America/Los_Angeles</td>\n",
       "      <td> http://www.nasa.gov/multimedia/imagegallery/im...</td>\n",
       "    </tr>\n",
       "    <tr>\n",
       "      <th>3531</th>\n",
       "      <td>        NaN</td>\n",
       "      <td> Mozilla/5.0 (Macintosh; U; Intel Mac OS X 10_6...</td>\n",
       "      <td>                                  en-US</td>\n",
       "      <td> None</td>\n",
       "      <td>              NaN</td>\n",
       "      <td> wcndER</td>\n",
       "      <td> NaN</td>\n",
       "      <td> zkpJBR</td>\n",
       "      <td> 1331922854</td>\n",
       "      <td>   1.usa.gov</td>\n",
       "      <td> NaN</td>\n",
       "      <td>      bnjacobs</td>\n",
       "      <td>                      NaN</td>\n",
       "      <td>  0</td>\n",
       "      <td>                                            direct</td>\n",
       "      <td> 1331926816</td>\n",
       "      <td>                    </td>\n",
       "      <td> http://www.nasa.gov/mission_pages/nustar/main/...</td>\n",
       "    </tr>\n",
       "    <tr>\n",
       "      <th>3532</th>\n",
       "      <td>        NaN</td>\n",
       "      <td> Mozilla/5.0 (Windows NT 6.1; WOW64; rv:10.0.2)...</td>\n",
       "      <td>                         en-us,en;q=0.5</td>\n",
       "      <td>   US</td>\n",
       "      <td>       Washington</td>\n",
       "      <td> Au3aUS</td>\n",
       "      <td>  DC</td>\n",
       "      <td> A9ct6C</td>\n",
       "      <td> 1331926420</td>\n",
       "      <td>   1.usa.gov</td>\n",
       "      <td> NaN</td>\n",
       "      <td>         ncsha</td>\n",
       "      <td>  [38.904202, -77.031998]</td>\n",
       "      <td>  1</td>\n",
       "      <td>                             http://www.ncsha.org/</td>\n",
       "      <td> 1331926817</td>\n",
       "      <td>    America/New_York</td>\n",
       "      <td> http://portal.hud.gov/hudportal/HUD?src=/press...</td>\n",
       "    </tr>\n",
       "    <tr>\n",
       "      <th>3533</th>\n",
       "      <td>        NaN</td>\n",
       "      <td> Mozilla/5.0 (iPad; CPU OS 5_1 like Mac OS X) A...</td>\n",
       "      <td>                                  en-us</td>\n",
       "      <td>   US</td>\n",
       "      <td>     Jacksonville</td>\n",
       "      <td> b2UtUJ</td>\n",
       "      <td>  FL</td>\n",
       "      <td> ieCdgH</td>\n",
       "      <td> 1301393171</td>\n",
       "      <td> go.nasa.gov</td>\n",
       "      <td> NaN</td>\n",
       "      <td>   nasatwitter</td>\n",
       "      <td>  [30.279301, -81.585098]</td>\n",
       "      <td>  1</td>\n",
       "      <td>                                            direct</td>\n",
       "      <td> 1331926818</td>\n",
       "      <td>    America/New_York</td>\n",
       "      <td>                        http://apod.nasa.gov/apod/</td>\n",
       "    </tr>\n",
       "    <tr>\n",
       "      <th>3534</th>\n",
       "      <td>        NaN</td>\n",
       "      <td> Mozilla/5.0 (Macintosh; Intel Mac OS X 10_6_8)...</td>\n",
       "      <td>                                  en-us</td>\n",
       "      <td>   US</td>\n",
       "      <td>           Frisco</td>\n",
       "      <td> vNJS4H</td>\n",
       "      <td>  TX</td>\n",
       "      <td> u0uD9q</td>\n",
       "      <td> 1319563556</td>\n",
       "      <td>   1.usa.gov</td>\n",
       "      <td> NaN</td>\n",
       "      <td>  o_4us71ccioa</td>\n",
       "      <td>  [33.149899, -96.855499]</td>\n",
       "      <td>  1</td>\n",
       "      <td>                                            direct</td>\n",
       "      <td> 1331926820</td>\n",
       "      <td>     America/Chicago</td>\n",
       "      <td> https://www.nysdot.gov/rexdesign/design/commun...</td>\n",
       "    </tr>\n",
       "    <tr>\n",
       "      <th>3535</th>\n",
       "      <td>        NaN</td>\n",
       "      <td> Mozilla/5.0 (Windows NT 5.1; rv:10.0.2) Gecko/...</td>\n",
       "      <td>                                  en-us</td>\n",
       "      <td>   US</td>\n",
       "      <td>          Houston</td>\n",
       "      <td> zIgLx8</td>\n",
       "      <td>  TX</td>\n",
       "      <td> yrPaLt</td>\n",
       "      <td> 1331903484</td>\n",
       "      <td>     aash.to</td>\n",
       "      <td> NaN</td>\n",
       "      <td>        aashto</td>\n",
       "      <td>  [29.775499, -95.415199]</td>\n",
       "      <td>  1</td>\n",
       "      <td>                                            direct</td>\n",
       "      <td> 1331926823</td>\n",
       "      <td>     America/Chicago</td>\n",
       "      <td> http://ntl.bts.gov/lib/44000/44300/44374/FHWA-...</td>\n",
       "    </tr>\n",
       "    <tr>\n",
       "      <th>3536</th>\n",
       "      <td>        NaN</td>\n",
       "      <td> Mozilla/5.0 (BlackBerry; U; BlackBerry 9800; e...</td>\n",
       "      <td>                         en-US,en;q=0.5</td>\n",
       "      <td> None</td>\n",
       "      <td>              NaN</td>\n",
       "      <td> xIcyim</td>\n",
       "      <td> NaN</td>\n",
       "      <td> yG1TTf</td>\n",
       "      <td> 1331728309</td>\n",
       "      <td> go.nasa.gov</td>\n",
       "      <td> NaN</td>\n",
       "      <td>   nasatwitter</td>\n",
       "      <td>                      NaN</td>\n",
       "      <td>  0</td>\n",
       "      <td>                              http://t.co/g1VKE8zS</td>\n",
       "      <td> 1331926824</td>\n",
       "      <td>                    </td>\n",
       "      <td> http://www.nasa.gov/mission_pages/hurricanes/a...</td>\n",
       "    </tr>\n",
       "    <tr>\n",
       "      <th>3537</th>\n",
       "      <td>        NaN</td>\n",
       "      <td> Mozilla/5.0 (Windows NT 6.1; WOW64; rv:10.0.2)...</td>\n",
       "      <td>    es-es,es;q=0.8,en-us;q=0.5,en;q=0.3</td>\n",
       "      <td>   HN</td>\n",
       "      <td>      Tegucigalpa</td>\n",
       "      <td> zCaLwp</td>\n",
       "      <td>  08</td>\n",
       "      <td> w63FZW</td>\n",
       "      <td> 1331546756</td>\n",
       "      <td>   1.usa.gov</td>\n",
       "      <td> NaN</td>\n",
       "      <td>     bufferapp</td>\n",
       "      <td>       [14.1, -87.216698]</td>\n",
       "      <td>  0</td>\n",
       "      <td>                              http://t.co/A8TJyibE</td>\n",
       "      <td> 1331926825</td>\n",
       "      <td> America/Tegucigalpa</td>\n",
       "      <td>           http://apod.nasa.gov/apod/ap120312.html</td>\n",
       "    </tr>\n",
       "    <tr>\n",
       "      <th>3538</th>\n",
       "      <td>        NaN</td>\n",
       "      <td> Mozilla/5.0 (iPhone; CPU iPhone OS 5_1 like Ma...</td>\n",
       "      <td>                                  en-us</td>\n",
       "      <td>   US</td>\n",
       "      <td>      Los Angeles</td>\n",
       "      <td> qMac9k</td>\n",
       "      <td>  CA</td>\n",
       "      <td> qds1Ge</td>\n",
       "      <td> 1310473559</td>\n",
       "      <td>   1.usa.gov</td>\n",
       "      <td> NaN</td>\n",
       "      <td> healthypeople</td>\n",
       "      <td> [34.041599, -118.298798]</td>\n",
       "      <td>  0</td>\n",
       "      <td>                                            direct</td>\n",
       "      <td> 1331926825</td>\n",
       "      <td> America/Los_Angeles</td>\n",
       "      <td> http://healthypeople.gov/2020/connect/webinars...</td>\n",
       "    </tr>\n",
       "    <tr>\n",
       "      <th>3539</th>\n",
       "      <td>        NaN</td>\n",
       "      <td>   Mozilla/5.0 (compatible; Fedora Core 3) FC3 KDE</td>\n",
       "      <td>                                    NaN</td>\n",
       "      <td>   US</td>\n",
       "      <td>         Bellevue</td>\n",
       "      <td> zu2M5o</td>\n",
       "      <td>  WA</td>\n",
       "      <td> zDhdro</td>\n",
       "      <td> 1331586192</td>\n",
       "      <td>      bit.ly</td>\n",
       "      <td> NaN</td>\n",
       "      <td>      glimtwin</td>\n",
       "      <td> [47.615398, -122.210297]</td>\n",
       "      <td>  0</td>\n",
       "      <td>                                            direct</td>\n",
       "      <td> 1331926827</td>\n",
       "      <td> America/Los_Angeles</td>\n",
       "      <td> http://www.federalreserve.gov/newsevents/press...</td>\n",
       "    </tr>\n",
       "    <tr>\n",
       "      <th>3540</th>\n",
       "      <td>        NaN</td>\n",
       "      <td> Mozilla/5.0 (Windows NT 6.1; WOW64) AppleWebKi...</td>\n",
       "      <td>                         en-US,en;q=0.8</td>\n",
       "      <td>   US</td>\n",
       "      <td>           Payson</td>\n",
       "      <td> wcndER</td>\n",
       "      <td>  UT</td>\n",
       "      <td> zkpJBR</td>\n",
       "      <td> 1331922854</td>\n",
       "      <td>   1.usa.gov</td>\n",
       "      <td> NaN</td>\n",
       "      <td>      bnjacobs</td>\n",
       "      <td> [40.014198, -111.738899]</td>\n",
       "      <td>  0</td>\n",
       "      <td> http://www.facebook.com/l.php?u=http%3A%2F%2F1...</td>\n",
       "      <td> 1331926828</td>\n",
       "      <td>      America/Denver</td>\n",
       "      <td> http://www.nasa.gov/mission_pages/nustar/main/...</td>\n",
       "    </tr>\n",
       "    <tr>\n",
       "      <th>3541</th>\n",
       "      <td>        NaN</td>\n",
       "      <td> Mozilla/5.0 (X11; U; OpenVMS AlphaServer_ES40;...</td>\n",
       "      <td>                                    NaN</td>\n",
       "      <td>   US</td>\n",
       "      <td>         Bellevue</td>\n",
       "      <td> zu2M5o</td>\n",
       "      <td>  WA</td>\n",
       "      <td> zDhdro</td>\n",
       "      <td> 1331586192</td>\n",
       "      <td>   1.usa.gov</td>\n",
       "      <td> NaN</td>\n",
       "      <td>      glimtwin</td>\n",
       "      <td> [47.615398, -122.210297]</td>\n",
       "      <td>  0</td>\n",
       "      <td>                                            direct</td>\n",
       "      <td> 1331926828</td>\n",
       "      <td> America/Los_Angeles</td>\n",
       "      <td> http://www.federalreserve.gov/newsevents/press...</td>\n",
       "    </tr>\n",
       "    <tr>\n",
       "      <th>3542</th>\n",
       "      <td>        NaN</td>\n",
       "      <td> Mozilla/5.0 (compatible; MSIE 9.0; Windows NT ...</td>\n",
       "      <td>                                  en-us</td>\n",
       "      <td>   US</td>\n",
       "      <td>        Pittsburg</td>\n",
       "      <td> y3reI1</td>\n",
       "      <td>  CA</td>\n",
       "      <td> y3reI1</td>\n",
       "      <td> 1331926120</td>\n",
       "      <td>   1.usa.gov</td>\n",
       "      <td> NaN</td>\n",
       "      <td>         bitly</td>\n",
       "      <td>   [38.0051, -121.838699]</td>\n",
       "      <td>  0</td>\n",
       "      <td> http://www.facebook.com/l.php?u=http%3A%2F%2F1...</td>\n",
       "      <td> 1331926829</td>\n",
       "      <td> America/Los_Angeles</td>\n",
       "      <td> http://www.sba.gov/community/blogs/community-b...</td>\n",
       "    </tr>\n",
       "    <tr>\n",
       "      <th>3543</th>\n",
       "      <td> 1331926831</td>\n",
       "      <td>                                               NaN</td>\n",
       "      <td>                                    NaN</td>\n",
       "      <td>  NaN</td>\n",
       "      <td>              NaN</td>\n",
       "      <td>    NaN</td>\n",
       "      <td> NaN</td>\n",
       "      <td>    NaN</td>\n",
       "      <td>        NaN</td>\n",
       "      <td>         NaN</td>\n",
       "      <td> NaN</td>\n",
       "      <td>           NaN</td>\n",
       "      <td>                      NaN</td>\n",
       "      <td>NaN</td>\n",
       "      <td>                                               NaN</td>\n",
       "      <td>        NaN</td>\n",
       "      <td>                 NaN</td>\n",
       "      <td>                                               NaN</td>\n",
       "    </tr>\n",
       "    <tr>\n",
       "      <th>3544</th>\n",
       "      <td>        NaN</td>\n",
       "      <td> Mozilla/5.0 (Windows NT 6.1; WOW64; rv:5.0.1) ...</td>\n",
       "      <td>                         en-us,en;q=0.5</td>\n",
       "      <td>   US</td>\n",
       "      <td>       Wentzville</td>\n",
       "      <td> vNJS4H</td>\n",
       "      <td>  MO</td>\n",
       "      <td> u0uD9q</td>\n",
       "      <td> 1319563556</td>\n",
       "      <td>   1.usa.gov</td>\n",
       "      <td> NaN</td>\n",
       "      <td>  o_4us71ccioa</td>\n",
       "      <td>  [38.790001, -90.854897]</td>\n",
       "      <td>  1</td>\n",
       "      <td>                                            direct</td>\n",
       "      <td> 1331926831</td>\n",
       "      <td>     America/Chicago</td>\n",
       "      <td> https://www.nysdot.gov/rexdesign/design/commun...</td>\n",
       "    </tr>\n",
       "    <tr>\n",
       "      <th>3545</th>\n",
       "      <td>        NaN</td>\n",
       "      <td> Mozilla/5.0 (Windows NT 6.1; WOW64; rv:10.0.2)...</td>\n",
       "      <td>                         en-us,en;q=0.5</td>\n",
       "      <td>   US</td>\n",
       "      <td>    Saint Charles</td>\n",
       "      <td> vNJS4H</td>\n",
       "      <td>  IL</td>\n",
       "      <td> u0uD9q</td>\n",
       "      <td> 1319563556</td>\n",
       "      <td>   1.usa.gov</td>\n",
       "      <td> NaN</td>\n",
       "      <td>  o_4us71ccioa</td>\n",
       "      <td>    [41.9352, -88.290901]</td>\n",
       "      <td>  1</td>\n",
       "      <td>                                            direct</td>\n",
       "      <td> 1331926832</td>\n",
       "      <td>     America/Chicago</td>\n",
       "      <td> https://www.nysdot.gov/rexdesign/design/commun...</td>\n",
       "    </tr>\n",
       "    <tr>\n",
       "      <th>3546</th>\n",
       "      <td>        NaN</td>\n",
       "      <td> Mozilla/5.0 (iPhone; CPU iPhone OS 5_1 like Ma...</td>\n",
       "      <td>                                  en-us</td>\n",
       "      <td>   US</td>\n",
       "      <td>      Los Angeles</td>\n",
       "      <td> qMac9k</td>\n",
       "      <td>  CA</td>\n",
       "      <td> qds1Ge</td>\n",
       "      <td> 1310473559</td>\n",
       "      <td>   1.usa.gov</td>\n",
       "      <td> NaN</td>\n",
       "      <td> healthypeople</td>\n",
       "      <td> [34.041599, -118.298798]</td>\n",
       "      <td>  1</td>\n",
       "      <td>                                            direct</td>\n",
       "      <td> 1331926833</td>\n",
       "      <td> America/Los_Angeles</td>\n",
       "      <td> http://healthypeople.gov/2020/connect/webinars...</td>\n",
       "    </tr>\n",
       "    <tr>\n",
       "      <th>3547</th>\n",
       "      <td>        NaN</td>\n",
       "      <td> Mozilla/5.0 (Macintosh; Intel Mac OS X 10_6_8)...</td>\n",
       "      <td>                                  en-us</td>\n",
       "      <td>   US</td>\n",
       "      <td>    Silver Spring</td>\n",
       "      <td> y0jYkg</td>\n",
       "      <td>  MD</td>\n",
       "      <td> y0jYkg</td>\n",
       "      <td> 1331851811</td>\n",
       "      <td>   1.usa.gov</td>\n",
       "      <td> NaN</td>\n",
       "      <td>         bitly</td>\n",
       "      <td>  [39.052101, -77.014999]</td>\n",
       "      <td>  1</td>\n",
       "      <td>                                            direct</td>\n",
       "      <td> 1331926836</td>\n",
       "      <td>    America/New_York</td>\n",
       "      <td> http://www.epa.gov/otaq/regs/fuels/additive/e1...</td>\n",
       "    </tr>\n",
       "    <tr>\n",
       "      <th>3548</th>\n",
       "      <td>        NaN</td>\n",
       "      <td> Mozilla/5.0 (iPhone; CPU iPhone OS 5_1 like Ma...</td>\n",
       "      <td>                                  en-us</td>\n",
       "      <td>   US</td>\n",
       "      <td>          Mcgehee</td>\n",
       "      <td> y5rMac</td>\n",
       "      <td>  AR</td>\n",
       "      <td> xANY6O</td>\n",
       "      <td> 1331916302</td>\n",
       "      <td>   1.usa.gov</td>\n",
       "      <td> NaN</td>\n",
       "      <td>   twitterfeed</td>\n",
       "      <td>  [33.628399, -91.356903]</td>\n",
       "      <td>  1</td>\n",
       "      <td> https://twitter.com/fdarecalls/status/18069759...</td>\n",
       "      <td> 1331926836</td>\n",
       "      <td>     America/Chicago</td>\n",
       "      <td>   http://www.fda.gov/Safety/Recalls/ucm296326.htm</td>\n",
       "    </tr>\n",
       "    <tr>\n",
       "      <th>3549</th>\n",
       "      <td>        NaN</td>\n",
       "      <td> Mozilla/5.0 (Windows NT 6.1; WOW64) AppleWebKi...</td>\n",
       "      <td>    sv-SE,sv;q=0.8,en-US;q=0.6,en;q=0.4</td>\n",
       "      <td>   SE</td>\n",
       "      <td>         Sollefte</td>\n",
       "      <td>  eH8wu</td>\n",
       "      <td>  24</td>\n",
       "      <td> 7dtjei</td>\n",
       "      <td> 1260316355</td>\n",
       "      <td>   1.usa.gov</td>\n",
       "      <td> NaN</td>\n",
       "      <td>  tweetdeckapi</td>\n",
       "      <td>   [63.166698, 17.266701]</td>\n",
       "      <td>  1</td>\n",
       "      <td>                                            direct</td>\n",
       "      <td> 1331926834</td>\n",
       "      <td>    Europe/Stockholm</td>\n",
       "      <td> http://www.nasa.gov/mission_pages/WISE/main/in...</td>\n",
       "    </tr>\n",
       "    <tr>\n",
       "      <th>3550</th>\n",
       "      <td>        NaN</td>\n",
       "      <td> Mozilla/4.0 (compatible; MSIE 8.0; Windows NT ...</td>\n",
       "      <td>                                  en-us</td>\n",
       "      <td>   US</td>\n",
       "      <td>     Conshohocken</td>\n",
       "      <td> A00b72</td>\n",
       "      <td>  PA</td>\n",
       "      <td> yGSwzn</td>\n",
       "      <td> 1331917632</td>\n",
       "      <td>   1.usa.gov</td>\n",
       "      <td> NaN</td>\n",
       "      <td>       addthis</td>\n",
       "      <td>      [40.0798, -75.2855]</td>\n",
       "      <td>  0</td>\n",
       "      <td>  http://www.linkedin.com/home?trk=hb_tab_home_top</td>\n",
       "      <td> 1331926837</td>\n",
       "      <td>    America/New_York</td>\n",
       "      <td> http://www.nlm.nih.gov/medlineplus/news/fullst...</td>\n",
       "    </tr>\n",
       "    <tr>\n",
       "      <th>3551</th>\n",
       "      <td>        NaN</td>\n",
       "      <td> Mozilla/5.0 (Windows NT 6.1; WOW64) AppleWebKi...</td>\n",
       "      <td>                         en-US,en;q=0.8</td>\n",
       "      <td> None</td>\n",
       "      <td>              NaN</td>\n",
       "      <td> wcndER</td>\n",
       "      <td> NaN</td>\n",
       "      <td> zkpJBR</td>\n",
       "      <td> 1331922854</td>\n",
       "      <td>   1.usa.gov</td>\n",
       "      <td> NaN</td>\n",
       "      <td>      bnjacobs</td>\n",
       "      <td>                      NaN</td>\n",
       "      <td>  0</td>\n",
       "      <td> http://plus.url.google.com/url?sa=z&amp;n=13319268...</td>\n",
       "      <td> 1331926837</td>\n",
       "      <td>                    </td>\n",
       "      <td> http://www.nasa.gov/mission_pages/nustar/main/...</td>\n",
       "    </tr>\n",
       "    <tr>\n",
       "      <th>3552</th>\n",
       "      <td>        NaN</td>\n",
       "      <td> Mozilla/5.0 (Windows; U; Windows NT 6.1; en-US...</td>\n",
       "      <td>                                    NaN</td>\n",
       "      <td>   US</td>\n",
       "      <td>          Decatur</td>\n",
       "      <td> rqgJuE</td>\n",
       "      <td>  AL</td>\n",
       "      <td> xcz8vt</td>\n",
       "      <td> 1331227417</td>\n",
       "      <td>   1.usa.gov</td>\n",
       "      <td> NaN</td>\n",
       "      <td>     bootsnall</td>\n",
       "      <td>  [34.572701, -86.940598]</td>\n",
       "      <td>  0</td>\n",
       "      <td>                                            direct</td>\n",
       "      <td> 1331926839</td>\n",
       "      <td>     America/Chicago</td>\n",
       "      <td> http://travel.state.gov/passport/passport_5535...</td>\n",
       "    </tr>\n",
       "    <tr>\n",
       "      <th>3553</th>\n",
       "      <td>        NaN</td>\n",
       "      <td> Mozilla/4.0 (compatible; MSIE 7.0; Windows NT ...</td>\n",
       "      <td>                                  en-us</td>\n",
       "      <td>   US</td>\n",
       "      <td>       Shrewsbury</td>\n",
       "      <td> 9b6kNl</td>\n",
       "      <td>  MA</td>\n",
       "      <td> 9b6kNl</td>\n",
       "      <td> 1273672411</td>\n",
       "      <td>      bit.ly</td>\n",
       "      <td> NaN</td>\n",
       "      <td>         bitly</td>\n",
       "      <td>  [42.286499, -71.714699]</td>\n",
       "      <td>  0</td>\n",
       "      <td>               http://www.shrewsbury-ma.gov/selco/</td>\n",
       "      <td> 1331926840</td>\n",
       "      <td>    America/New_York</td>\n",
       "      <td> http://www.shrewsbury-ma.gov/egov/gallery/1341...</td>\n",
       "    </tr>\n",
       "    <tr>\n",
       "      <th>3554</th>\n",
       "      <td>        NaN</td>\n",
       "      <td> Mozilla/4.0 (compatible; MSIE 7.0; Windows NT ...</td>\n",
       "      <td>                                  en-us</td>\n",
       "      <td>   US</td>\n",
       "      <td>       Shrewsbury</td>\n",
       "      <td> axNK8c</td>\n",
       "      <td>  MA</td>\n",
       "      <td> axNK8c</td>\n",
       "      <td> 1273672506</td>\n",
       "      <td>      bit.ly</td>\n",
       "      <td> NaN</td>\n",
       "      <td>         bitly</td>\n",
       "      <td>  [42.286499, -71.714699]</td>\n",
       "      <td>  0</td>\n",
       "      <td>               http://www.shrewsbury-ma.gov/selco/</td>\n",
       "      <td> 1331926840</td>\n",
       "      <td>    America/New_York</td>\n",
       "      <td> http://www.shrewsbury-ma.gov/egov/gallery/1341...</td>\n",
       "    </tr>\n",
       "    <tr>\n",
       "      <th>3555</th>\n",
       "      <td>        NaN</td>\n",
       "      <td> Mozilla/4.0 (compatible; MSIE 9.0; Windows NT ...</td>\n",
       "      <td>                                     en</td>\n",
       "      <td>   US</td>\n",
       "      <td>          Paramus</td>\n",
       "      <td> e5SvKE</td>\n",
       "      <td>  NJ</td>\n",
       "      <td> fqPSr9</td>\n",
       "      <td> 1301298479</td>\n",
       "      <td>   1.usa.gov</td>\n",
       "      <td> NaN</td>\n",
       "      <td>  tweetdeckapi</td>\n",
       "      <td>        [40.9445, -74.07]</td>\n",
       "      <td>  1</td>\n",
       "      <td>                                            direct</td>\n",
       "      <td> 1331926841</td>\n",
       "      <td>    America/New_York</td>\n",
       "      <td> http://www.fda.gov/AdvisoryCommittees/Committe...</td>\n",
       "    </tr>\n",
       "    <tr>\n",
       "      <th>3556</th>\n",
       "      <td>        NaN</td>\n",
       "      <td> Mozilla/5.0 (Windows NT 5.1) AppleWebKit/535.1...</td>\n",
       "      <td>                         en-US,en;q=0.8</td>\n",
       "      <td>   US</td>\n",
       "      <td>    Oklahoma City</td>\n",
       "      <td> jQLtP4</td>\n",
       "      <td>  OK</td>\n",
       "      <td> jQLtP4</td>\n",
       "      <td> 1307530247</td>\n",
       "      <td>   1.usa.gov</td>\n",
       "      <td> NaN</td>\n",
       "      <td>         bitly</td>\n",
       "      <td>    [35.4715, -97.518997]</td>\n",
       "      <td>  0</td>\n",
       "      <td> http://www.facebook.com/l.php?u=http%3A%2F%2F1...</td>\n",
       "      <td> 1331926844</td>\n",
       "      <td>     America/Chicago</td>\n",
       "      <td> http://www.okc.gov/PublicNotificationSystem/Fo...</td>\n",
       "    </tr>\n",
       "    <tr>\n",
       "      <th>3557</th>\n",
       "      <td>        NaN</td>\n",
       "      <td>                            GoogleMaps/RochesterNY</td>\n",
       "      <td>                                    NaN</td>\n",
       "      <td>   US</td>\n",
       "      <td>            Provo</td>\n",
       "      <td> mwszkS</td>\n",
       "      <td>  UT</td>\n",
       "      <td> mwszkS</td>\n",
       "      <td> 1308262393</td>\n",
       "      <td>        j.mp</td>\n",
       "      <td> NaN</td>\n",
       "      <td>         bitly</td>\n",
       "      <td> [40.218102, -111.613297]</td>\n",
       "      <td>  0</td>\n",
       "      <td>                          http://www.AwareMap.com/</td>\n",
       "      <td> 1331926846</td>\n",
       "      <td>      America/Denver</td>\n",
       "      <td>       http://www.monroecounty.gov/etc/911/rss.php</td>\n",
       "    </tr>\n",
       "    <tr>\n",
       "      <th>3558</th>\n",
       "      <td>        NaN</td>\n",
       "      <td>                                    GoogleProducer</td>\n",
       "      <td>                                    NaN</td>\n",
       "      <td>   US</td>\n",
       "      <td>    Mountain View</td>\n",
       "      <td> zjtI4X</td>\n",
       "      <td>  CA</td>\n",
       "      <td> zjtI4X</td>\n",
       "      <td> 1327528527</td>\n",
       "      <td>   1.usa.gov</td>\n",
       "      <td> NaN</td>\n",
       "      <td>         bitly</td>\n",
       "      <td> [37.419201, -122.057404]</td>\n",
       "      <td>  0</td>\n",
       "      <td>                                            direct</td>\n",
       "      <td> 1331926847</td>\n",
       "      <td> America/Los_Angeles</td>\n",
       "      <td>               http://www.ahrq.gov/qual/qitoolkit/</td>\n",
       "    </tr>\n",
       "    <tr>\n",
       "      <th>3559</th>\n",
       "      <td>        NaN</td>\n",
       "      <td> Mozilla/4.0 (compatible; MSIE 8.0; Windows NT ...</td>\n",
       "      <td>                                  en-US</td>\n",
       "      <td>   US</td>\n",
       "      <td>          Mc Lean</td>\n",
       "      <td> qxKrTK</td>\n",
       "      <td>  VA</td>\n",
       "      <td> qxKrTK</td>\n",
       "      <td> 1312897670</td>\n",
       "      <td>   1.usa.gov</td>\n",
       "      <td> NaN</td>\n",
       "      <td>         bitly</td>\n",
       "      <td>  [38.935799, -77.162102]</td>\n",
       "      <td>  0</td>\n",
       "      <td>                              http://t.co/OEEEvwjU</td>\n",
       "      <td> 1331926849</td>\n",
       "      <td>    America/New_York</td>\n",
       "      <td> http://herndon-va.gov/Content/public_safety/Pu...</td>\n",
       "    </tr>\n",
       "  </tbody>\n",
       "</table>\n",
       "<p>3560 rows × 18 columns</p>\n",
       "</div>"
      ],
      "text/plain": [
       "      _heartbeat_                                                  a  \\\n",
       "0             NaN  Mozilla/5.0 (Windows NT 6.1; WOW64) AppleWebKi...   \n",
       "1             NaN                             GoogleMaps/RochesterNY   \n",
       "2             NaN  Mozilla/4.0 (compatible; MSIE 8.0; Windows NT ...   \n",
       "3             NaN  Mozilla/5.0 (Macintosh; Intel Mac OS X 10_6_8)...   \n",
       "4             NaN  Mozilla/5.0 (Windows NT 6.1; WOW64) AppleWebKi...   \n",
       "5             NaN  Mozilla/5.0 (Windows NT 6.1; WOW64) AppleWebKi...   \n",
       "6             NaN  Mozilla/5.0 (Windows NT 5.1) AppleWebKit/535.1...   \n",
       "7             NaN  Mozilla/5.0 (Windows NT 6.1; rv:2.0.1) Gecko/2...   \n",
       "8             NaN  Opera/9.80 (X11; Linux zbov; U; en) Presto/2.1...   \n",
       "9             NaN  Mozilla/5.0 (Windows NT 6.1; WOW64) AppleWebKi...   \n",
       "10            NaN  Mozilla/5.0 (Windows NT 6.1; WOW64; rv:10.0.2)...   \n",
       "11            NaN  Mozilla/5.0 (Macintosh; U; Intel Mac OS X 10.4...   \n",
       "12            NaN  Mozilla/5.0 (Windows NT 6.1; WOW64; rv:10.0.2)...   \n",
       "13     1331923261                                                NaN   \n",
       "14            NaN  Mozilla/5.0 (Windows; U; Windows NT 6.1; en-US...   \n",
       "15            NaN  Mozilla/5.0 (Windows NT 6.1) AppleWebKit/535.1...   \n",
       "16            NaN  Mozilla/5.0 (Windows NT 6.1) AppleWebKit/535.1...   \n",
       "17            NaN  Mozilla/5.0 (Macintosh; Intel Mac OS X 10.5; r...   \n",
       "18            NaN                             GoogleMaps/RochesterNY   \n",
       "19            NaN  Mozilla/5.0 (Windows NT 6.1; WOW64) AppleWebKi...   \n",
       "20            NaN  Mozilla/5.0 (compatible; MSIE 9.0; Windows NT ...   \n",
       "21            NaN  Mozilla/5.0 (Macintosh; U; Intel Mac OS X 10.6...   \n",
       "22            NaN  Mozilla/4.0 (compatible; MSIE 8.0; Windows NT ...   \n",
       "23            NaN  Mozilla/5.0 (Macintosh; Intel Mac OS X 10_7_3)...   \n",
       "24            NaN  Mozilla/5.0 (Windows; U; Windows NT 5.1; es-ES...   \n",
       "25            NaN  Mozilla/5.0 (Windows NT 6.1) AppleWebKit/535.1...   \n",
       "26            NaN  Mozilla/5.0 (Windows NT 6.1) AppleWebKit/535.1...   \n",
       "27            NaN  Mozilla/5.0 (Macintosh; Intel Mac OS X 10_6_8)...   \n",
       "28            NaN  Mozilla/5.0 (iPad; CPU OS 5_0_1 like Mac OS X)...   \n",
       "29            NaN  Mozilla/5.0 (iPad; U; CPU OS 3_2 like Mac OS X...   \n",
       "...           ...                                                ...   \n",
       "3530          NaN  Mozilla/5.0 (Windows NT 6.0) AppleWebKit/535.1...   \n",
       "3531          NaN  Mozilla/5.0 (Macintosh; U; Intel Mac OS X 10_6...   \n",
       "3532          NaN  Mozilla/5.0 (Windows NT 6.1; WOW64; rv:10.0.2)...   \n",
       "3533          NaN  Mozilla/5.0 (iPad; CPU OS 5_1 like Mac OS X) A...   \n",
       "3534          NaN  Mozilla/5.0 (Macintosh; Intel Mac OS X 10_6_8)...   \n",
       "3535          NaN  Mozilla/5.0 (Windows NT 5.1; rv:10.0.2) Gecko/...   \n",
       "3536          NaN  Mozilla/5.0 (BlackBerry; U; BlackBerry 9800; e...   \n",
       "3537          NaN  Mozilla/5.0 (Windows NT 6.1; WOW64; rv:10.0.2)...   \n",
       "3538          NaN  Mozilla/5.0 (iPhone; CPU iPhone OS 5_1 like Ma...   \n",
       "3539          NaN    Mozilla/5.0 (compatible; Fedora Core 3) FC3 KDE   \n",
       "3540          NaN  Mozilla/5.0 (Windows NT 6.1; WOW64) AppleWebKi...   \n",
       "3541          NaN  Mozilla/5.0 (X11; U; OpenVMS AlphaServer_ES40;...   \n",
       "3542          NaN  Mozilla/5.0 (compatible; MSIE 9.0; Windows NT ...   \n",
       "3543   1331926831                                                NaN   \n",
       "3544          NaN  Mozilla/5.0 (Windows NT 6.1; WOW64; rv:5.0.1) ...   \n",
       "3545          NaN  Mozilla/5.0 (Windows NT 6.1; WOW64; rv:10.0.2)...   \n",
       "3546          NaN  Mozilla/5.0 (iPhone; CPU iPhone OS 5_1 like Ma...   \n",
       "3547          NaN  Mozilla/5.0 (Macintosh; Intel Mac OS X 10_6_8)...   \n",
       "3548          NaN  Mozilla/5.0 (iPhone; CPU iPhone OS 5_1 like Ma...   \n",
       "3549          NaN  Mozilla/5.0 (Windows NT 6.1; WOW64) AppleWebKi...   \n",
       "3550          NaN  Mozilla/4.0 (compatible; MSIE 8.0; Windows NT ...   \n",
       "3551          NaN  Mozilla/5.0 (Windows NT 6.1; WOW64) AppleWebKi...   \n",
       "3552          NaN  Mozilla/5.0 (Windows; U; Windows NT 6.1; en-US...   \n",
       "3553          NaN  Mozilla/4.0 (compatible; MSIE 7.0; Windows NT ...   \n",
       "3554          NaN  Mozilla/4.0 (compatible; MSIE 7.0; Windows NT ...   \n",
       "3555          NaN  Mozilla/4.0 (compatible; MSIE 9.0; Windows NT ...   \n",
       "3556          NaN  Mozilla/5.0 (Windows NT 5.1) AppleWebKit/535.1...   \n",
       "3557          NaN                             GoogleMaps/RochesterNY   \n",
       "3558          NaN                                     GoogleProducer   \n",
       "3559          NaN  Mozilla/4.0 (compatible; MSIE 8.0; Windows NT ...   \n",
       "\n",
       "                                          al     c                cy       g  \\\n",
       "0                             en-US,en;q=0.8    US           Danvers  A6qOVH   \n",
       "1                                        NaN    US             Provo  mwszkS   \n",
       "2                                      en-US    US        Washington  xxr3Qb   \n",
       "3                                      pt-br    BR              Braz  zCaLwp   \n",
       "4                             en-US,en;q=0.8    US        Shrewsbury  9b6kNl   \n",
       "5                             en-US,en;q=0.8    US        Shrewsbury  axNK8c   \n",
       "6        pl-PL,pl;q=0.8,en-US;q=0.6,en;q=0.4    PL             Luban  wcndER   \n",
       "7                    bg,en-us;q=0.7,en;q=0.3  None               NaN  wcndER   \n",
       "8                                  en-US, en  None               NaN  wcndER   \n",
       "9        pt-BR,pt;q=0.8,en-US;q=0.6,en;q=0.4  None               NaN  zCaLwp   \n",
       "10                            en-us,en;q=0.5    US           Seattle  vNJS4H   \n",
       "11                            en-us,en;q=0.5    US        Washington  wG7OIH   \n",
       "12                            en-us,en;q=0.5    US        Alexandria  vNJS4H   \n",
       "13                                       NaN   NaN               NaN     NaN   \n",
       "14                            en-us,en;q=0.5    US          Marietta  2rOUYc   \n",
       "15       zh-TW,zh;q=0.8,en-US;q=0.6,en;q=0.4    HK  Central District  nQvgJp   \n",
       "16       zh-TW,zh;q=0.8,en-US;q=0.6,en;q=0.4    HK  Central District   XdUNr   \n",
       "17                            en-us,en;q=0.5    US         Buckfield  zH1BFf   \n",
       "18                                       NaN    US             Provo  mwszkS   \n",
       "19       it-IT,it;q=0.8,en-US;q=0.6,en;q=0.4    IT            Venice  wcndER   \n",
       "20                                     es-ES    ES             Alcal  zQ95Hi   \n",
       "21                            en-us,en;q=0.5    US     Davidsonville  wcndER   \n",
       "22                                     en-us    US         Hockessin  y3ZImz   \n",
       "23                                     en-us    US            Lititz  wWiOiD   \n",
       "24       es-es,es;q=0.8,en-us;q=0.5,en;q=0.3    ES            Bilbao  wcndER   \n",
       "25    en-GB,en;q=0.8,en-US;q=0.6,en-AU;q=0.4    MY      Kuala Lumpur  wcndER   \n",
       "26       ro-RO,ro;q=0.8,en-US;q=0.6,en;q=0.4    CY           Nicosia  wcndER   \n",
       "27                            en-US,en;q=0.8    BR            SPaulo  zCaLwp   \n",
       "28                                     en-us  None               NaN  vNJS4H   \n",
       "29                                     en-us  None               NaN  FPX0IM   \n",
       "...                                      ...   ...               ...     ...   \n",
       "3530                          en-US,en;q=0.8    US     San Francisco  xVZg4P   \n",
       "3531                                   en-US  None               NaN  wcndER   \n",
       "3532                          en-us,en;q=0.5    US        Washington  Au3aUS   \n",
       "3533                                   en-us    US      Jacksonville  b2UtUJ   \n",
       "3534                                   en-us    US            Frisco  vNJS4H   \n",
       "3535                                   en-us    US           Houston  zIgLx8   \n",
       "3536                          en-US,en;q=0.5  None               NaN  xIcyim   \n",
       "3537     es-es,es;q=0.8,en-us;q=0.5,en;q=0.3    HN       Tegucigalpa  zCaLwp   \n",
       "3538                                   en-us    US       Los Angeles  qMac9k   \n",
       "3539                                     NaN    US          Bellevue  zu2M5o   \n",
       "3540                          en-US,en;q=0.8    US            Payson  wcndER   \n",
       "3541                                     NaN    US          Bellevue  zu2M5o   \n",
       "3542                                   en-us    US         Pittsburg  y3reI1   \n",
       "3543                                     NaN   NaN               NaN     NaN   \n",
       "3544                          en-us,en;q=0.5    US        Wentzville  vNJS4H   \n",
       "3545                          en-us,en;q=0.5    US     Saint Charles  vNJS4H   \n",
       "3546                                   en-us    US       Los Angeles  qMac9k   \n",
       "3547                                   en-us    US     Silver Spring  y0jYkg   \n",
       "3548                                   en-us    US           Mcgehee  y5rMac   \n",
       "3549     sv-SE,sv;q=0.8,en-US;q=0.6,en;q=0.4    SE          Sollefte   eH8wu   \n",
       "3550                                   en-us    US      Conshohocken  A00b72   \n",
       "3551                          en-US,en;q=0.8  None               NaN  wcndER   \n",
       "3552                                     NaN    US           Decatur  rqgJuE   \n",
       "3553                                   en-us    US        Shrewsbury  9b6kNl   \n",
       "3554                                   en-us    US        Shrewsbury  axNK8c   \n",
       "3555                                      en    US           Paramus  e5SvKE   \n",
       "3556                          en-US,en;q=0.8    US     Oklahoma City  jQLtP4   \n",
       "3557                                     NaN    US             Provo  mwszkS   \n",
       "3558                                     NaN    US     Mountain View  zjtI4X   \n",
       "3559                                   en-US    US           Mc Lean  qxKrTK   \n",
       "\n",
       "       gr       h          hc           hh   kw              l  \\\n",
       "0      MA  wfLQtf  1331822918    1.usa.gov  NaN        orofrog   \n",
       "1      UT  mwszkS  1308262393         j.mp  NaN          bitly   \n",
       "2      DC  xxr3Qb  1331919941    1.usa.gov  NaN          bitly   \n",
       "3      27  zUtuOu  1331923068    1.usa.gov  NaN       alelex88   \n",
       "4      MA  9b6kNl  1273672411       bit.ly  NaN          bitly   \n",
       "5      MA  axNK8c  1273672506       bit.ly  NaN          bitly   \n",
       "6      77  zkpJBR  1331922854    1.usa.gov  NaN       bnjacobs   \n",
       "7     NaN  zkpJBR  1331922854    1.usa.gov  NaN       bnjacobs   \n",
       "8     NaN  zkpJBR  1331922854    1.usa.gov  NaN       bnjacobs   \n",
       "9     NaN  zUtuOu  1331923068    1.usa.gov  NaN       alelex88   \n",
       "10     WA  u0uD9q  1319563556    1.usa.gov  NaN   o_4us71ccioa   \n",
       "11     DC  A0nRz4  1331815838    1.usa.gov  NaN    darrellissa   \n",
       "12     VA  u0uD9q  1319563556    1.usa.gov  NaN   o_4us71ccioa   \n",
       "13    NaN     NaN         NaN          NaN  NaN            NaN   \n",
       "14     GA  2rOUYc  1255769846    1.usa.gov  NaN          bitly   \n",
       "15     00  rtrrth  1317318030         j.mp  NaN     walkeryuen   \n",
       "16     00  qWkgbq  1317318039         j.mp  NaN     walkeryuen   \n",
       "17     ME  x3jOIv  1331839576    1.usa.gov  NaN  andyzieminski   \n",
       "18     UT  mwszkS  1308262393    1.usa.gov  NaN          bitly   \n",
       "19     20  zkpJBR  1331922854    1.usa.gov  NaN       bnjacobs   \n",
       "20     51  ytZYWR  1331670549    bitly.com  NaN        jplnews   \n",
       "21     MD  zkpJBR  1331922854    1.usa.gov  NaN       bnjacobs   \n",
       "22     DE  y3ZImz  1331064158    1.usa.gov  NaN          bitly   \n",
       "23     PA  wWiOiD  1330217829    1.usa.gov  NaN          bitly   \n",
       "24     59  zkpJBR  1331922854    1.usa.gov  NaN       bnjacobs   \n",
       "25     14  zkpJBR  1331922854    1.usa.gov  NaN       bnjacobs   \n",
       "26     04  zkpJBR  1331922854    1.usa.gov  NaN       bnjacobs   \n",
       "27     27  zUtuOu  1331923068    1.usa.gov  NaN       alelex88   \n",
       "28    NaN  u0uD9q  1319563556    1.usa.gov  NaN   o_4us71ccioa   \n",
       "29    NaN  FPX0IL  1331922978    1.usa.gov  NaN   twittershare   \n",
       "...   ...     ...         ...          ...  ...            ...   \n",
       "3530   CA  wqUkTo  1331908247  go.nasa.gov  NaN    nasatwitter   \n",
       "3531  NaN  zkpJBR  1331922854    1.usa.gov  NaN       bnjacobs   \n",
       "3532   DC  A9ct6C  1331926420    1.usa.gov  NaN          ncsha   \n",
       "3533   FL  ieCdgH  1301393171  go.nasa.gov  NaN    nasatwitter   \n",
       "3534   TX  u0uD9q  1319563556    1.usa.gov  NaN   o_4us71ccioa   \n",
       "3535   TX  yrPaLt  1331903484      aash.to  NaN         aashto   \n",
       "3536  NaN  yG1TTf  1331728309  go.nasa.gov  NaN    nasatwitter   \n",
       "3537   08  w63FZW  1331546756    1.usa.gov  NaN      bufferapp   \n",
       "3538   CA  qds1Ge  1310473559    1.usa.gov  NaN  healthypeople   \n",
       "3539   WA  zDhdro  1331586192       bit.ly  NaN       glimtwin   \n",
       "3540   UT  zkpJBR  1331922854    1.usa.gov  NaN       bnjacobs   \n",
       "3541   WA  zDhdro  1331586192    1.usa.gov  NaN       glimtwin   \n",
       "3542   CA  y3reI1  1331926120    1.usa.gov  NaN          bitly   \n",
       "3543  NaN     NaN         NaN          NaN  NaN            NaN   \n",
       "3544   MO  u0uD9q  1319563556    1.usa.gov  NaN   o_4us71ccioa   \n",
       "3545   IL  u0uD9q  1319563556    1.usa.gov  NaN   o_4us71ccioa   \n",
       "3546   CA  qds1Ge  1310473559    1.usa.gov  NaN  healthypeople   \n",
       "3547   MD  y0jYkg  1331851811    1.usa.gov  NaN          bitly   \n",
       "3548   AR  xANY6O  1331916302    1.usa.gov  NaN    twitterfeed   \n",
       "3549   24  7dtjei  1260316355    1.usa.gov  NaN   tweetdeckapi   \n",
       "3550   PA  yGSwzn  1331917632    1.usa.gov  NaN        addthis   \n",
       "3551  NaN  zkpJBR  1331922854    1.usa.gov  NaN       bnjacobs   \n",
       "3552   AL  xcz8vt  1331227417    1.usa.gov  NaN      bootsnall   \n",
       "3553   MA  9b6kNl  1273672411       bit.ly  NaN          bitly   \n",
       "3554   MA  axNK8c  1273672506       bit.ly  NaN          bitly   \n",
       "3555   NJ  fqPSr9  1301298479    1.usa.gov  NaN   tweetdeckapi   \n",
       "3556   OK  jQLtP4  1307530247    1.usa.gov  NaN          bitly   \n",
       "3557   UT  mwszkS  1308262393         j.mp  NaN          bitly   \n",
       "3558   CA  zjtI4X  1327528527    1.usa.gov  NaN          bitly   \n",
       "3559   VA  qxKrTK  1312897670    1.usa.gov  NaN          bitly   \n",
       "\n",
       "                            ll  nk  \\\n",
       "0      [42.576698, -70.954903]   1   \n",
       "1     [40.218102, -111.613297]   0   \n",
       "2        [38.9007, -77.043098]   1   \n",
       "3     [-23.549999, -46.616699]   0   \n",
       "4      [42.286499, -71.714699]   0   \n",
       "5      [42.286499, -71.714699]   0   \n",
       "6         [51.116699, 15.2833]   0   \n",
       "7                          NaN   0   \n",
       "8                          NaN   0   \n",
       "9                          NaN   0   \n",
       "10      [47.5951, -122.332603]   1   \n",
       "11     [38.937599, -77.092796]   0   \n",
       "12     [38.790901, -77.094704]   1   \n",
       "13                         NaN NaN   \n",
       "14       [33.953201, -84.5177]   1   \n",
       "15       [22.2833, 114.150002]   1   \n",
       "16       [22.2833, 114.150002]   1   \n",
       "17     [44.299702, -70.369797]   0   \n",
       "18    [40.218102, -111.613297]   0   \n",
       "19        [45.438599, 12.3267]   0   \n",
       "20        [37.516701, -5.9833]   0   \n",
       "21     [38.939201, -76.635002]   0   \n",
       "22        [39.785, -75.682297]   0   \n",
       "23       [40.174999, -76.3078]   0   \n",
       "24            [43.25, -2.9667]   0   \n",
       "25        [3.1667, 101.699997]   0   \n",
       "26      [35.166698, 33.366699]   0   \n",
       "27      [-23.5333, -46.616699]   0   \n",
       "28                         NaN   0   \n",
       "29                         NaN   1   \n",
       "...                        ...  ..   \n",
       "3530    [37.7645, -122.429398]   0   \n",
       "3531                       NaN   0   \n",
       "3532   [38.904202, -77.031998]   1   \n",
       "3533   [30.279301, -81.585098]   1   \n",
       "3534   [33.149899, -96.855499]   1   \n",
       "3535   [29.775499, -95.415199]   1   \n",
       "3536                       NaN   0   \n",
       "3537        [14.1, -87.216698]   0   \n",
       "3538  [34.041599, -118.298798]   0   \n",
       "3539  [47.615398, -122.210297]   0   \n",
       "3540  [40.014198, -111.738899]   0   \n",
       "3541  [47.615398, -122.210297]   0   \n",
       "3542    [38.0051, -121.838699]   0   \n",
       "3543                       NaN NaN   \n",
       "3544   [38.790001, -90.854897]   1   \n",
       "3545     [41.9352, -88.290901]   1   \n",
       "3546  [34.041599, -118.298798]   1   \n",
       "3547   [39.052101, -77.014999]   1   \n",
       "3548   [33.628399, -91.356903]   1   \n",
       "3549    [63.166698, 17.266701]   1   \n",
       "3550       [40.0798, -75.2855]   0   \n",
       "3551                       NaN   0   \n",
       "3552   [34.572701, -86.940598]   0   \n",
       "3553   [42.286499, -71.714699]   0   \n",
       "3554   [42.286499, -71.714699]   0   \n",
       "3555         [40.9445, -74.07]   1   \n",
       "3556     [35.4715, -97.518997]   0   \n",
       "3557  [40.218102, -111.613297]   0   \n",
       "3558  [37.419201, -122.057404]   0   \n",
       "3559   [38.935799, -77.162102]   0   \n",
       "\n",
       "                                                      r           t  \\\n",
       "0     http://www.facebook.com/l/7AQEFzjSi/1.usa.gov/...  1331923247   \n",
       "1                              http://www.AwareMap.com/  1331923249   \n",
       "2                                  http://t.co/03elZC4Q  1331923250   \n",
       "3                                                direct  1331923249   \n",
       "4                   http://www.shrewsbury-ma.gov/selco/  1331923251   \n",
       "5                   http://www.shrewsbury-ma.gov/selco/  1331923252   \n",
       "6     http://plus.url.google.com/url?sa=z&n=13319232...  1331923255   \n",
       "7                              http://www.facebook.com/  1331923255   \n",
       "8     http://www.facebook.com/l.php?u=http%3A%2F%2F1...  1331923254   \n",
       "9                                  http://t.co/o1Pd0WeV  1331923255   \n",
       "10                                               direct  1331923258   \n",
       "11                                 http://t.co/ND7SoPyo  1331923259   \n",
       "12                                               direct  1331923259   \n",
       "13                                                  NaN         NaN   \n",
       "14                                               direct  1331923262   \n",
       "15    http://forum2.hkgolden.com/view.aspx?type=BW&m...  1331923263   \n",
       "16    http://forum2.hkgolden.com/view.aspx?type=BW&m...  1331923263   \n",
       "17                                 http://t.co/6Cx4ROLs  1331923264   \n",
       "18                             http://www.AwareMap.com/  1331923262   \n",
       "19                             http://www.facebook.com/  1331923264   \n",
       "20                             http://www.facebook.com/  1331923265   \n",
       "21                             http://www.facebook.com/  1331923267   \n",
       "22                                               direct  1331923267   \n",
       "23    http://www.facebook.com/l.php?u=http%3A%2F%2F1...  1331923267   \n",
       "24                             http://www.facebook.com/  1331923268   \n",
       "25                             http://www.facebook.com/  1331923269   \n",
       "26                 http://www.facebook.com/?ref=tn_tnmn  1331923268   \n",
       "27                                               direct  1331923269   \n",
       "28                                               direct  1331923270   \n",
       "29                                 http://t.co/5xlp0B34  1331923270   \n",
       "...                                                 ...         ...   \n",
       "3530  http://www.facebook.com/l.php?u=http%3A%2F%2Fg...  1331926815   \n",
       "3531                                             direct  1331926816   \n",
       "3532                              http://www.ncsha.org/  1331926817   \n",
       "3533                                             direct  1331926818   \n",
       "3534                                             direct  1331926820   \n",
       "3535                                             direct  1331926823   \n",
       "3536                               http://t.co/g1VKE8zS  1331926824   \n",
       "3537                               http://t.co/A8TJyibE  1331926825   \n",
       "3538                                             direct  1331926825   \n",
       "3539                                             direct  1331926827   \n",
       "3540  http://www.facebook.com/l.php?u=http%3A%2F%2F1...  1331926828   \n",
       "3541                                             direct  1331926828   \n",
       "3542  http://www.facebook.com/l.php?u=http%3A%2F%2F1...  1331926829   \n",
       "3543                                                NaN         NaN   \n",
       "3544                                             direct  1331926831   \n",
       "3545                                             direct  1331926832   \n",
       "3546                                             direct  1331926833   \n",
       "3547                                             direct  1331926836   \n",
       "3548  https://twitter.com/fdarecalls/status/18069759...  1331926836   \n",
       "3549                                             direct  1331926834   \n",
       "3550   http://www.linkedin.com/home?trk=hb_tab_home_top  1331926837   \n",
       "3551  http://plus.url.google.com/url?sa=z&n=13319268...  1331926837   \n",
       "3552                                             direct  1331926839   \n",
       "3553                http://www.shrewsbury-ma.gov/selco/  1331926840   \n",
       "3554                http://www.shrewsbury-ma.gov/selco/  1331926840   \n",
       "3555                                             direct  1331926841   \n",
       "3556  http://www.facebook.com/l.php?u=http%3A%2F%2F1...  1331926844   \n",
       "3557                           http://www.AwareMap.com/  1331926846   \n",
       "3558                                             direct  1331926847   \n",
       "3559                               http://t.co/OEEEvwjU  1331926849   \n",
       "\n",
       "                       tz                                                  u  \n",
       "0        America/New_York        http://www.ncbi.nlm.nih.gov/pubmed/22415991  \n",
       "1          America/Denver        http://www.monroecounty.gov/etc/911/rss.php  \n",
       "2        America/New_York  http://boxer.senate.gov/en/press/releases/0316...  \n",
       "3       America/Sao_Paulo            http://apod.nasa.gov/apod/ap120312.html  \n",
       "4        America/New_York  http://www.shrewsbury-ma.gov/egov/gallery/1341...  \n",
       "5        America/New_York  http://www.shrewsbury-ma.gov/egov/gallery/1341...  \n",
       "6           Europe/Warsaw  http://www.nasa.gov/mission_pages/nustar/main/...  \n",
       "7                          http://www.nasa.gov/mission_pages/nustar/main/...  \n",
       "8                          http://www.nasa.gov/mission_pages/nustar/main/...  \n",
       "9                                    http://apod.nasa.gov/apod/ap120312.html  \n",
       "10    America/Los_Angeles  https://www.nysdot.gov/rexdesign/design/commun...  \n",
       "11       America/New_York  http://oversight.house.gov/wp-content/uploads/...  \n",
       "12       America/New_York  https://www.nysdot.gov/rexdesign/design/commun...  \n",
       "13                    NaN                                                NaN  \n",
       "14       America/New_York               http://toxtown.nlm.nih.gov/index.php  \n",
       "15         Asia/Hong_Kong  http://www.ssd.noaa.gov/PS/TROP/TCFP/data/curr...  \n",
       "16         Asia/Hong_Kong  http://www.usno.navy.mil/NOOC/nmfc-ph/RSS/jtwc...  \n",
       "17       America/New_York  http://www.usda.gov/wps/portal/usda/usdahome?c...  \n",
       "18         America/Denver        http://www.monroecounty.gov/etc/911/rss.php  \n",
       "19            Europe/Rome  http://www.nasa.gov/mission_pages/nustar/main/...  \n",
       "20           Africa/Ceuta  http://voyager.jpl.nasa.gov/imagesvideo/uranus...  \n",
       "21       America/New_York  http://www.nasa.gov/mission_pages/nustar/main/...  \n",
       "22       America/New_York  http://portal.hud.gov/hudportal/documents/hudd...  \n",
       "23       America/New_York  http://www.tricare.mil/mybenefit/ProfileFilter...  \n",
       "24          Europe/Madrid  http://www.nasa.gov/mission_pages/nustar/main/...  \n",
       "25      Asia/Kuala_Lumpur  http://www.nasa.gov/mission_pages/nustar/main/...  \n",
       "26           Asia/Nicosia  http://www.nasa.gov/mission_pages/nustar/main/...  \n",
       "27      America/Sao_Paulo            http://apod.nasa.gov/apod/ap120312.html  \n",
       "28                         https://www.nysdot.gov/rexdesign/design/commun...  \n",
       "29                         http://www.ed.gov/news/media-advisories/us-dep...  \n",
       "...                   ...                                                ...  \n",
       "3530  America/Los_Angeles  http://www.nasa.gov/multimedia/imagegallery/im...  \n",
       "3531                       http://www.nasa.gov/mission_pages/nustar/main/...  \n",
       "3532     America/New_York  http://portal.hud.gov/hudportal/HUD?src=/press...  \n",
       "3533     America/New_York                         http://apod.nasa.gov/apod/  \n",
       "3534      America/Chicago  https://www.nysdot.gov/rexdesign/design/commun...  \n",
       "3535      America/Chicago  http://ntl.bts.gov/lib/44000/44300/44374/FHWA-...  \n",
       "3536                       http://www.nasa.gov/mission_pages/hurricanes/a...  \n",
       "3537  America/Tegucigalpa            http://apod.nasa.gov/apod/ap120312.html  \n",
       "3538  America/Los_Angeles  http://healthypeople.gov/2020/connect/webinars...  \n",
       "3539  America/Los_Angeles  http://www.federalreserve.gov/newsevents/press...  \n",
       "3540       America/Denver  http://www.nasa.gov/mission_pages/nustar/main/...  \n",
       "3541  America/Los_Angeles  http://www.federalreserve.gov/newsevents/press...  \n",
       "3542  America/Los_Angeles  http://www.sba.gov/community/blogs/community-b...  \n",
       "3543                  NaN                                                NaN  \n",
       "3544      America/Chicago  https://www.nysdot.gov/rexdesign/design/commun...  \n",
       "3545      America/Chicago  https://www.nysdot.gov/rexdesign/design/commun...  \n",
       "3546  America/Los_Angeles  http://healthypeople.gov/2020/connect/webinars...  \n",
       "3547     America/New_York  http://www.epa.gov/otaq/regs/fuels/additive/e1...  \n",
       "3548      America/Chicago    http://www.fda.gov/Safety/Recalls/ucm296326.htm  \n",
       "3549     Europe/Stockholm  http://www.nasa.gov/mission_pages/WISE/main/in...  \n",
       "3550     America/New_York  http://www.nlm.nih.gov/medlineplus/news/fullst...  \n",
       "3551                       http://www.nasa.gov/mission_pages/nustar/main/...  \n",
       "3552      America/Chicago  http://travel.state.gov/passport/passport_5535...  \n",
       "3553     America/New_York  http://www.shrewsbury-ma.gov/egov/gallery/1341...  \n",
       "3554     America/New_York  http://www.shrewsbury-ma.gov/egov/gallery/1341...  \n",
       "3555     America/New_York  http://www.fda.gov/AdvisoryCommittees/Committe...  \n",
       "3556      America/Chicago  http://www.okc.gov/PublicNotificationSystem/Fo...  \n",
       "3557       America/Denver        http://www.monroecounty.gov/etc/911/rss.php  \n",
       "3558  America/Los_Angeles                http://www.ahrq.gov/qual/qitoolkit/  \n",
       "3559     America/New_York  http://herndon-va.gov/Content/public_safety/Pu...  \n",
       "\n",
       "[3560 rows x 18 columns]"
      ]
     },
<<<<<<< HEAD
     "execution_count": 29,
=======
     "execution_count": 12,
>>>>>>> f32e067bd584571f8b4a5dfe277594c96491ea32
     "metadata": {},
     "output_type": "execute_result"
    }
   ],
   "source": [
    "from pandas import DataFrame, Series\n",
    "import pandas as pd\n",
    "\n",
    "frame = DataFrame(records)\n",
    "frame"
   ]
  },
  {
   "cell_type": "code",
<<<<<<< HEAD
   "execution_count": 30,
=======
   "execution_count": 13,
>>>>>>> f32e067bd584571f8b4a5dfe277594c96491ea32
   "metadata": {
    "collapsed": false
   },
   "outputs": [
    {
     "data": {
      "text/plain": [
       "0     America/New_York\n",
       "1       America/Denver\n",
       "2     America/New_York\n",
       "3    America/Sao_Paulo\n",
       "4     America/New_York\n",
       "5     America/New_York\n",
       "6        Europe/Warsaw\n",
       "7                     \n",
       "8                     \n",
       "9                     \n",
       "Name: tz, dtype: object"
      ]
     },
<<<<<<< HEAD
     "execution_count": 30,
=======
     "execution_count": 13,
>>>>>>> f32e067bd584571f8b4a5dfe277594c96491ea32
     "metadata": {},
     "output_type": "execute_result"
    }
   ],
   "source": [
    "frame['tz'][:10]"
   ]
  },
  {
   "cell_type": "code",
<<<<<<< HEAD
   "execution_count": 31,
=======
   "execution_count": 14,
>>>>>>> f32e067bd584571f8b4a5dfe277594c96491ea32
   "metadata": {
    "collapsed": false
   },
   "outputs": [
    {
     "data": {
      "text/plain": [
       "America/New_York       1251\n",
       "                        521\n",
       "America/Chicago         400\n",
       "America/Los_Angeles     382\n",
       "America/Denver          191\n",
       "Europe/London            74\n",
       "Asia/Tokyo               37\n",
       "Pacific/Honolulu         36\n",
       "Europe/Madrid            35\n",
       "America/Sao_Paulo        33\n",
       "dtype: int64"
      ]
     },
<<<<<<< HEAD
     "execution_count": 31,
=======
     "execution_count": 14,
>>>>>>> f32e067bd584571f8b4a5dfe277594c96491ea32
     "metadata": {},
     "output_type": "execute_result"
    }
   ],
   "source": [
    "tz_counts = frame['tz'].value_counts()\n",
    "tz_counts[:10]"
   ]
  },
  {
   "cell_type": "code",
<<<<<<< HEAD
   "execution_count": 32,
=======
   "execution_count": 15,
>>>>>>> f32e067bd584571f8b4a5dfe277594c96491ea32
   "metadata": {
    "collapsed": false
   },
   "outputs": [
    {
     "data": {
      "text/plain": [
       "America/New_York       1251\n",
       "Unknown                 521\n",
       "America/Chicago         400\n",
       "America/Los_Angeles     382\n",
       "America/Denver          191\n",
       "Missing                 120\n",
       "Europe/London            74\n",
       "Asia/Tokyo               37\n",
       "Pacific/Honolulu         36\n",
       "Europe/Madrid            35\n",
       "dtype: int64"
      ]
     },
<<<<<<< HEAD
     "execution_count": 32,
=======
     "execution_count": 15,
>>>>>>> f32e067bd584571f8b4a5dfe277594c96491ea32
     "metadata": {},
     "output_type": "execute_result"
    }
   ],
   "source": [
    "clean_tz = frame['tz'].fillna('Missing')\n",
<<<<<<< HEAD
    "clean_tz[clean_tz == ''] = 'Unknown' #[clean_tz == ''] ?\n",
=======
    "clean_tz[clean_tz == ''] = 'Unknown'\n",
>>>>>>> f32e067bd584571f8b4a5dfe277594c96491ea32
    "tz_counts = clean_tz.value_counts()\n",
    "tz_counts[:10]"
   ]
  },
  {
   "cell_type": "code",
<<<<<<< HEAD
   "execution_count": 33,
=======
   "execution_count": 16,
>>>>>>> f32e067bd584571f8b4a5dfe277594c96491ea32
   "metadata": {
    "collapsed": false
   },
   "outputs": [
    {
     "data": {
      "text/plain": [
<<<<<<< HEAD
       "<matplotlib.figure.Figure at 0x921af30>"
      ]
     },
     "execution_count": 33,
=======
       "<matplotlib.figure.Figure at 0x105c91ac8>"
      ]
     },
     "execution_count": 16,
>>>>>>> f32e067bd584571f8b4a5dfe277594c96491ea32
     "metadata": {},
     "output_type": "execute_result"
    },
    {
     "data": {
      "text/plain": [
<<<<<<< HEAD
       "<matplotlib.figure.Figure at 0x921af30>"
=======
       "<matplotlib.figure.Figure at 0x105c91ac8>"
>>>>>>> f32e067bd584571f8b4a5dfe277594c96491ea32
      ]
     },
     "metadata": {},
     "output_type": "display_data"
    }
   ],
   "source": [
    "plt.figure(figsize=(10, 4))"
   ]
  },
  {
   "cell_type": "code",
   "execution_count": 17,
   "metadata": {
    "collapsed": false
   },
   "outputs": [
    {
     "data": {
<<<<<<< HEAD
      "text/html": [
       "<div style=\"max-height:1000px;max-width:1500px;overflow:auto;\">\n",
       "<table border=\"1\" class=\"dataframe\">\n",
       "  <thead>\n",
       "    <tr style=\"text-align: right;\">\n",
       "      <th></th>\n",
       "      <th>0</th>\n",
       "    </tr>\n",
       "  </thead>\n",
       "  <tbody>\n",
       "    <tr>\n",
       "      <th>0</th>\n",
       "      <td>   3</td>\n",
       "    </tr>\n",
       "    <tr>\n",
       "      <th>1</th>\n",
       "      <td> 5.5</td>\n",
       "    </tr>\n",
       "    <tr>\n",
       "      <th>2</th>\n",
       "      <td>   5</td>\n",
       "    </tr>\n",
       "    <tr>\n",
       "      <th>3</th>\n",
       "      <td>   9</td>\n",
       "    </tr>\n",
       "    <tr>\n",
       "      <th>4</th>\n",
       "      <td>   8</td>\n",
       "    </tr>\n",
       "    <tr>\n",
       "      <th>5</th>\n",
       "      <td> 5.5</td>\n",
       "    </tr>\n",
       "    <tr>\n",
       "      <th>6</th>\n",
       "      <td>   6</td>\n",
       "    </tr>\n",
       "  </tbody>\n",
       "</table>\n",
       "</div>"
      ],
      "text/plain": [
       "     0\n",
       "0    3\n",
       "1  5.5\n",
       "2    5\n",
       "3    9\n",
       "4    8\n",
       "5  5.5\n",
       "6    6"
=======
      "text/plain": [
       "<matplotlib.axes._subplots.AxesSubplot at 0x1037c9ac8>"
>>>>>>> f32e067bd584571f8b4a5dfe277594c96491ea32
      ]
     },
     "execution_count": 17,
     "metadata": {},
     "output_type": "execute_result"
<<<<<<< HEAD
    }
   ],
   "source": [
    "from pandas import *\n",
    "lista = DataFrame([3,'2',5,9,8,'2',6]) \n",
    "lista[ lista == '2' ]=5.5\n",
    "lista"
   ]
  },
  {
   "cell_type": "code",
   "execution_count": 34,
   "metadata": {
    "collapsed": false
   },
   "outputs": [
    {
     "data": {
      "text/plain": [
       "<matplotlib.axes._subplots.AxesSubplot at 0x9247730>"
      ]
     },
     "execution_count": 34,
     "metadata": {},
     "output_type": "execute_result"
=======
>>>>>>> f32e067bd584571f8b4a5dfe277594c96491ea32
    },
    {
     "data": {
      "image/png": "iVBORw0KGgoAAAANSUhEUgAAArUAAAFrCAYAAADPfHGDAAAABHNCSVQICAgIfAhkiAAAAAlwSFlz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\nWdRKkiRp8CxqJUmSNHj/P+Aw1bWALpzKAAAAAElFTkSuQmCC\n",
      "text/plain": [
<<<<<<< HEAD
       "<matplotlib.figure.Figure at 0x9247e70>"
=======
       "<matplotlib.figure.Figure at 0x1037ac630>"
>>>>>>> f32e067bd584571f8b4a5dfe277594c96491ea32
      ]
     },
     "metadata": {},
     "output_type": "display_data"
    }
   ],
   "source": [
    "tz_counts[:10].plot(kind='barh', rot=0)"
   ]
  },
  {
   "cell_type": "code",
<<<<<<< HEAD
   "execution_count": 35,
=======
   "execution_count": 18,
>>>>>>> f32e067bd584571f8b4a5dfe277594c96491ea32
   "metadata": {
    "collapsed": false
   },
   "outputs": [
    {
     "data": {
      "text/plain": [
       "'GoogleMaps/RochesterNY'"
      ]
     },
<<<<<<< HEAD
     "execution_count": 35,
=======
     "execution_count": 18,
>>>>>>> f32e067bd584571f8b4a5dfe277594c96491ea32
     "metadata": {},
     "output_type": "execute_result"
    }
   ],
   "source": [
    "frame['a'][1]"
   ]
  },
  {
   "cell_type": "code",
<<<<<<< HEAD
   "execution_count": 36,
=======
   "execution_count": 19,
>>>>>>> f32e067bd584571f8b4a5dfe277594c96491ea32
   "metadata": {
    "collapsed": false
   },
   "outputs": [
    {
     "data": {
      "text/plain": [
       "'Mozilla/5.0 (Windows NT 5.1; rv:10.0.2) Gecko/20100101 Firefox/10.0.2'"
      ]
     },
<<<<<<< HEAD
     "execution_count": 36,
=======
     "execution_count": 19,
>>>>>>> f32e067bd584571f8b4a5dfe277594c96491ea32
     "metadata": {},
     "output_type": "execute_result"
    }
   ],
   "source": [
    "frame['a'][50]"
   ]
  },
  {
   "cell_type": "code",
<<<<<<< HEAD
   "execution_count": 37,
=======
   "execution_count": 20,
>>>>>>> f32e067bd584571f8b4a5dfe277594c96491ea32
   "metadata": {
    "collapsed": false
   },
   "outputs": [
    {
     "data": {
      "text/plain": [
       "'Mozilla/5.0 (Linux; U; Android 2.2.2; en-us; LG-P925/V10e Build/FRG83G) AppleWebKit/533.1 (KHTML, like Gecko) Version/4.0 Mobile Safari/533.1'"
      ]
     },
<<<<<<< HEAD
     "execution_count": 37,
=======
     "execution_count": 20,
>>>>>>> f32e067bd584571f8b4a5dfe277594c96491ea32
     "metadata": {},
     "output_type": "execute_result"
    }
   ],
   "source": [
    "frame['a'][51]"
   ]
  },
  {
   "cell_type": "code",
<<<<<<< HEAD
   "execution_count": 38,
=======
   "execution_count": 21,
>>>>>>> f32e067bd584571f8b4a5dfe277594c96491ea32
   "metadata": {
    "collapsed": false
   },
   "outputs": [
    {
     "data": {
      "text/plain": [
       "0               Mozilla/5.0\n",
       "1    GoogleMaps/RochesterNY\n",
       "2               Mozilla/4.0\n",
       "3               Mozilla/5.0\n",
       "4               Mozilla/5.0\n",
       "dtype: object"
      ]
     },
<<<<<<< HEAD
     "execution_count": 38,
=======
     "execution_count": 21,
>>>>>>> f32e067bd584571f8b4a5dfe277594c96491ea32
     "metadata": {},
     "output_type": "execute_result"
    }
   ],
   "source": [
    "results = Series([x.split()[0] for x in frame.a.dropna()])\n",
    "results[:5]"
   ]
  },
  {
   "cell_type": "code",
<<<<<<< HEAD
   "execution_count": 39,
=======
   "execution_count": 22,
>>>>>>> f32e067bd584571f8b4a5dfe277594c96491ea32
   "metadata": {
    "collapsed": false
   },
   "outputs": [
    {
     "data": {
      "text/plain": [
       "Mozilla/5.0                 2594\n",
       "Mozilla/4.0                  601\n",
       "GoogleMaps/RochesterNY       121\n",
       "Opera/9.80                    34\n",
       "TEST_INTERNET_AGENT           24\n",
       "GoogleProducer                21\n",
       "Mozilla/6.0                    5\n",
       "BlackBerry8520/5.0.0.681       4\n",
       "dtype: int64"
      ]
     },
<<<<<<< HEAD
     "execution_count": 39,
=======
     "execution_count": 22,
>>>>>>> f32e067bd584571f8b4a5dfe277594c96491ea32
     "metadata": {},
     "output_type": "execute_result"
    }
   ],
   "source": [
    "results.value_counts()[:8]"
   ]
  },
  {
   "cell_type": "code",
<<<<<<< HEAD
   "execution_count": 40,
=======
   "execution_count": 23,
>>>>>>> f32e067bd584571f8b4a5dfe277594c96491ea32
   "metadata": {
    "collapsed": false
   },
   "outputs": [],
   "source": [
    "cframe = frame[frame.a.notnull()]"
   ]
  },
  {
   "cell_type": "code",
<<<<<<< HEAD
   "execution_count": 41,
=======
   "execution_count": 24,
>>>>>>> f32e067bd584571f8b4a5dfe277594c96491ea32
   "metadata": {
    "collapsed": false
   },
   "outputs": [
    {
     "data": {
      "text/plain": [
       "array(['Windows', 'Not Windows', 'Windows', 'Not Windows', 'Windows'], \n",
       "      dtype='<U11')"
      ]
     },
<<<<<<< HEAD
     "execution_count": 41,
=======
     "execution_count": 24,
>>>>>>> f32e067bd584571f8b4a5dfe277594c96491ea32
     "metadata": {},
     "output_type": "execute_result"
    }
   ],
   "source": [
    "operating_system = np.where(cframe['a'].str.contains('Windows'),\n",
    "                            'Windows', 'Not Windows')\n",
    "operating_system[:5]"
   ]
  },
  {
   "cell_type": "code",
<<<<<<< HEAD
   "execution_count": 42,
=======
   "execution_count": 25,
>>>>>>> f32e067bd584571f8b4a5dfe277594c96491ea32
   "metadata": {
    "collapsed": false
   },
   "outputs": [],
   "source": [
    "by_tz_os = cframe.groupby(['tz', operating_system])"
   ]
  },
  {
   "cell_type": "code",
<<<<<<< HEAD
   "execution_count": 43,
=======
   "execution_count": 26,
>>>>>>> f32e067bd584571f8b4a5dfe277594c96491ea32
   "metadata": {
    "collapsed": false
   },
   "outputs": [
    {
     "data": {
      "text/html": [
       "<div style=\"max-height:1000px;max-width:1500px;overflow:auto;\">\n",
       "<table border=\"1\" class=\"dataframe\">\n",
       "  <thead>\n",
       "    <tr style=\"text-align: right;\">\n",
       "      <th></th>\n",
       "      <th>Not Windows</th>\n",
       "      <th>Windows</th>\n",
       "    </tr>\n",
       "    <tr>\n",
       "      <th>tz</th>\n",
       "      <th></th>\n",
       "      <th></th>\n",
       "    </tr>\n",
       "  </thead>\n",
       "  <tbody>\n",
       "    <tr>\n",
       "      <th></th>\n",
       "      <td> 245</td>\n",
       "      <td> 276</td>\n",
       "    </tr>\n",
       "    <tr>\n",
       "      <th>Africa/Cairo</th>\n",
       "      <td>   0</td>\n",
       "      <td>   3</td>\n",
       "    </tr>\n",
       "    <tr>\n",
       "      <th>Africa/Casablanca</th>\n",
       "      <td>   0</td>\n",
       "      <td>   1</td>\n",
       "    </tr>\n",
       "    <tr>\n",
       "      <th>Africa/Ceuta</th>\n",
       "      <td>   0</td>\n",
       "      <td>   2</td>\n",
       "    </tr>\n",
       "    <tr>\n",
       "      <th>Africa/Johannesburg</th>\n",
       "      <td>   0</td>\n",
       "      <td>   1</td>\n",
       "    </tr>\n",
       "    <tr>\n",
       "      <th>Africa/Lusaka</th>\n",
       "      <td>   0</td>\n",
       "      <td>   1</td>\n",
       "    </tr>\n",
       "    <tr>\n",
       "      <th>America/Anchorage</th>\n",
       "      <td>   4</td>\n",
       "      <td>   1</td>\n",
       "    </tr>\n",
       "    <tr>\n",
       "      <th>America/Argentina/Buenos_Aires</th>\n",
       "      <td>   1</td>\n",
       "      <td>   0</td>\n",
       "    </tr>\n",
       "    <tr>\n",
       "      <th>America/Argentina/Cordoba</th>\n",
       "      <td>   0</td>\n",
       "      <td>   1</td>\n",
       "    </tr>\n",
       "    <tr>\n",
       "      <th>America/Argentina/Mendoza</th>\n",
       "      <td>   0</td>\n",
       "      <td>   1</td>\n",
       "    </tr>\n",
       "  </tbody>\n",
       "</table>\n",
       "</div>"
      ],
      "text/plain": [
       "                                Not Windows  Windows\n",
       "tz                                                  \n",
       "                                        245      276\n",
       "Africa/Cairo                              0        3\n",
       "Africa/Casablanca                         0        1\n",
       "Africa/Ceuta                              0        2\n",
       "Africa/Johannesburg                       0        1\n",
       "Africa/Lusaka                             0        1\n",
       "America/Anchorage                         4        1\n",
       "America/Argentina/Buenos_Aires            1        0\n",
       "America/Argentina/Cordoba                 0        1\n",
       "America/Argentina/Mendoza                 0        1"
      ]
     },
<<<<<<< HEAD
     "execution_count": 43,
=======
     "execution_count": 26,
>>>>>>> f32e067bd584571f8b4a5dfe277594c96491ea32
     "metadata": {},
     "output_type": "execute_result"
    }
   ],
   "source": [
    "agg_counts = by_tz_os.size().unstack().fillna(0)\n",
    "agg_counts[:10]"
   ]
  },
  {
   "cell_type": "code",
<<<<<<< HEAD
   "execution_count": 44,
   "metadata": {
    "collapsed": false
   },
   "outputs": [
    {
     "data": {
      "text/plain": [
       "tz\n",
       "                                  24\n",
       "Africa/Cairo                      20\n",
       "Africa/Casablanca                 21\n",
       "Africa/Ceuta                      92\n",
       "Africa/Johannesburg               87\n",
       "Africa/Lusaka                     53\n",
       "America/Anchorage                 54\n",
       "America/Argentina/Buenos_Aires    57\n",
       "America/Argentina/Cordoba         26\n",
       "America/Argentina/Mendoza         55\n",
       "dtype: int64"
      ]
     },
     "execution_count": 44,
     "metadata": {},
     "output_type": "execute_result"
    }
   ],
=======
   "execution_count": null,
   "metadata": {
    "collapsed": false
   },
   "outputs": [],
>>>>>>> f32e067bd584571f8b4a5dfe277594c96491ea32
   "source": [
    "# Use to sort in ascending order\n",
    "indexer = agg_counts.sum(1).argsort()\n",
    "indexer[:10]"
   ]
  },
  {
   "cell_type": "code",
<<<<<<< HEAD
   "execution_count": 45,
   "metadata": {
    "collapsed": false
   },
   "outputs": [
    {
     "data": {
      "text/html": [
       "<div style=\"max-height:1000px;max-width:1500px;overflow:auto;\">\n",
       "<table border=\"1\" class=\"dataframe\">\n",
       "  <thead>\n",
       "    <tr style=\"text-align: right;\">\n",
       "      <th></th>\n",
       "      <th>Not Windows</th>\n",
       "      <th>Windows</th>\n",
       "    </tr>\n",
       "    <tr>\n",
       "      <th>tz</th>\n",
       "      <th></th>\n",
       "      <th></th>\n",
       "    </tr>\n",
       "  </thead>\n",
       "  <tbody>\n",
       "    <tr>\n",
       "      <th>America/Sao_Paulo</th>\n",
       "      <td>  13</td>\n",
       "      <td>  20</td>\n",
       "    </tr>\n",
       "    <tr>\n",
       "      <th>Europe/Madrid</th>\n",
       "      <td>  16</td>\n",
       "      <td>  19</td>\n",
       "    </tr>\n",
       "    <tr>\n",
       "      <th>Pacific/Honolulu</th>\n",
       "      <td>   0</td>\n",
       "      <td>  36</td>\n",
       "    </tr>\n",
       "    <tr>\n",
       "      <th>Asia/Tokyo</th>\n",
       "      <td>   2</td>\n",
       "      <td>  35</td>\n",
       "    </tr>\n",
       "    <tr>\n",
       "      <th>Europe/London</th>\n",
       "      <td>  43</td>\n",
       "      <td>  31</td>\n",
       "    </tr>\n",
       "    <tr>\n",
       "      <th>America/Denver</th>\n",
       "      <td> 132</td>\n",
       "      <td>  59</td>\n",
       "    </tr>\n",
       "    <tr>\n",
       "      <th>America/Los_Angeles</th>\n",
       "      <td> 130</td>\n",
       "      <td> 252</td>\n",
       "    </tr>\n",
       "    <tr>\n",
       "      <th>America/Chicago</th>\n",
       "      <td> 115</td>\n",
       "      <td> 285</td>\n",
       "    </tr>\n",
       "    <tr>\n",
       "      <th></th>\n",
       "      <td> 245</td>\n",
       "      <td> 276</td>\n",
       "    </tr>\n",
       "    <tr>\n",
       "      <th>America/New_York</th>\n",
       "      <td> 339</td>\n",
       "      <td> 912</td>\n",
       "    </tr>\n",
       "  </tbody>\n",
       "</table>\n",
       "</div>"
      ],
      "text/plain": [
       "                     Not Windows  Windows\n",
       "tz                                       \n",
       "America/Sao_Paulo             13       20\n",
       "Europe/Madrid                 16       19\n",
       "Pacific/Honolulu               0       36\n",
       "Asia/Tokyo                     2       35\n",
       "Europe/London                 43       31\n",
       "America/Denver               132       59\n",
       "America/Los_Angeles          130      252\n",
       "America/Chicago              115      285\n",
       "                             245      276\n",
       "America/New_York             339      912"
      ]
     },
     "execution_count": 45,
     "metadata": {},
     "output_type": "execute_result"
    }
   ],
=======
   "execution_count": null,
   "metadata": {
    "collapsed": false
   },
   "outputs": [],
>>>>>>> f32e067bd584571f8b4a5dfe277594c96491ea32
   "source": [
    "count_subset = agg_counts.take(indexer)[-10:]\n",
    "count_subset"
   ]
  },
  {
   "cell_type": "code",
<<<<<<< HEAD
   "execution_count": 46,
   "metadata": {
    "collapsed": false
   },
   "outputs": [
    {
     "data": {
      "text/plain": [
       "<matplotlib.figure.Figure at 0x9241d30>"
      ]
     },
     "execution_count": 46,
     "metadata": {},
     "output_type": "execute_result"
    },
    {
     "data": {
      "text/plain": [
       "<matplotlib.figure.Figure at 0x9241d30>"
      ]
     },
     "metadata": {},
     "output_type": "display_data"
    }
   ],
=======
   "execution_count": null,
   "metadata": {
    "collapsed": false
   },
   "outputs": [],
>>>>>>> f32e067bd584571f8b4a5dfe277594c96491ea32
   "source": [
    "plt.figure()"
   ]
  },
  {
   "cell_type": "code",
<<<<<<< HEAD
   "execution_count": 47,
   "metadata": {
    "collapsed": false
   },
   "outputs": [
    {
     "data": {
      "text/plain": [
       "<matplotlib.axes._subplots.AxesSubplot at 0x96492b0>"
      ]
     },
     "execution_count": 47,
     "metadata": {},
     "output_type": "execute_result"
    },
    {
     "data": {
      "image/png": "iVBORw0KGgoAAAANSUhEUgAAAsQAAAFrCAYAAADW958lAAAABHNCSVQICAgIfAhkiAAAAAlwSFlz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\nxc8AAAAASUVORK5CYII=\n",
      "text/plain": [
       "<matplotlib.figure.Figure at 0x9649a30>"
      ]
     },
     "metadata": {},
     "output_type": "display_data"
    }
   ],
=======
   "execution_count": null,
   "metadata": {
    "collapsed": false
   },
   "outputs": [],
>>>>>>> f32e067bd584571f8b4a5dfe277594c96491ea32
   "source": [
    "count_subset.plot(kind='barh', stacked=True)"
   ]
  },
  {
   "cell_type": "code",
<<<<<<< HEAD
   "execution_count": 48,
   "metadata": {
    "collapsed": false
   },
   "outputs": [
    {
     "data": {
      "text/plain": [
       "<matplotlib.figure.Figure at 0x952c6d0>"
      ]
     },
     "execution_count": 48,
     "metadata": {},
     "output_type": "execute_result"
    },
    {
     "data": {
      "text/plain": [
       "<matplotlib.figure.Figure at 0x952c6d0>"
      ]
     },
     "metadata": {},
     "output_type": "display_data"
    }
   ],
=======
   "execution_count": null,
   "metadata": {
    "collapsed": false
   },
   "outputs": [],
>>>>>>> f32e067bd584571f8b4a5dfe277594c96491ea32
   "source": [
    "plt.figure()"
   ]
  },
  {
   "cell_type": "code",
<<<<<<< HEAD
   "execution_count": 49,
   "metadata": {
    "collapsed": false
   },
   "outputs": [
    {
     "data": {
      "text/plain": [
       "<matplotlib.axes._subplots.AxesSubplot at 0x94f6690>"
      ]
     },
     "execution_count": 49,
     "metadata": {},
     "output_type": "execute_result"
    },
    {
     "data": {
      "image/png": "iVBORw0KGgoAAAANSUhEUgAAAsAAAAFrCAYAAADfHD9fAAAABHNCSVQICAgIfAhkiAAAAAlwSFlz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\nUoAjIiIiolNSgCMiIiKiU/4BUBu7RnBqwqYAAAAASUVORK5CYII=\n",
      "text/plain": [
       "<matplotlib.figure.Figure at 0x96497d0>"
      ]
     },
     "metadata": {},
     "output_type": "display_data"
    }
   ],
=======
   "execution_count": null,
   "metadata": {
    "collapsed": false
   },
   "outputs": [],
>>>>>>> f32e067bd584571f8b4a5dfe277594c96491ea32
   "source": [
    "normed_subset = count_subset.div(count_subset.sum(1), axis=0)\n",
    "normed_subset.plot(kind='barh', stacked=True)"
   ]
  },
  {
   "cell_type": "markdown",
   "metadata": {},
   "source": [
    "## MovieLens 1M data set"
   ]
  },
  {
   "cell_type": "code",
   "execution_count": null,
   "metadata": {
    "collapsed": false
   },
   "outputs": [],
   "source": [
    "import pandas as pd\n",
    "encoding = 'latin1'\n",
    "\n",
    "upath = os.path.expanduser('movielens/ml-1m/users.dat')\n",
    "rpath = os.path.expanduser('movielens/ml-1m/ratings.dat')\n",
    "mpath = os.path.expanduser('movielens/ml-1m/movies.dat')\n",
    "\n",
    "unames = ['user_id', 'gender', 'age', 'occupation', 'zip']\n",
    "rnames = ['user_id', 'movie_id', 'rating', 'timestamp']\n",
    "mnames = ['movie_id', 'title', 'genres']\n",
    "\n",
    "users = pd.read_csv(upath, sep='::', header=None, names=unames, encoding=encoding)\n",
    "ratings = pd.read_csv(rpath, sep='::', header=None, names=rnames, encoding=encoding)\n",
    "movies = pd.read_csv(mpath, sep='::', header=None, names=mnames, encoding=encoding)"
   ]
  },
  {
   "cell_type": "code",
   "execution_count": null,
   "metadata": {
    "collapsed": false
   },
   "outputs": [],
   "source": [
    "users[:5]"
   ]
  },
  {
   "cell_type": "code",
   "execution_count": null,
   "metadata": {
    "collapsed": false
   },
   "outputs": [],
   "source": [
    "ratings[:5]"
   ]
  },
  {
   "cell_type": "code",
   "execution_count": null,
   "metadata": {
    "collapsed": false
   },
   "outputs": [],
   "source": [
    "movies[:5]"
   ]
  },
  {
   "cell_type": "code",
   "execution_count": null,
   "metadata": {
    "collapsed": false
   },
   "outputs": [],
   "source": [
    "ratings"
   ]
  },
  {
   "cell_type": "code",
   "execution_count": null,
   "metadata": {
    "collapsed": false
   },
   "outputs": [],
   "source": [
    "data = pd.merge(pd.merge(ratings, users), movies)\n",
    "data"
   ]
  },
  {
   "cell_type": "code",
   "execution_count": null,
   "metadata": {
    "collapsed": false
   },
   "outputs": [],
   "source": [
    "data.ix[0]"
   ]
  },
  {
   "cell_type": "code",
   "execution_count": null,
   "metadata": {
    "collapsed": false
   },
   "outputs": [],
   "source": [
    "mean_ratings = data.pivot_table('rating', rows='title',\n",
    "                                cols='gender', aggfunc='mean')\n",
    "mean_ratings[:5]"
   ]
  },
  {
   "cell_type": "code",
   "execution_count": null,
   "metadata": {
    "collapsed": false
   },
   "outputs": [],
   "source": [
    "ratings_by_title = data.groupby('title').size()"
   ]
  },
  {
   "cell_type": "code",
   "execution_count": null,
   "metadata": {
    "collapsed": false
   },
   "outputs": [],
   "source": [
    "ratings_by_title[:5]"
   ]
  },
  {
   "cell_type": "code",
   "execution_count": null,
   "metadata": {
    "collapsed": true
   },
   "outputs": [],
   "source": [
    "active_titles = ratings_by_title.index[ratings_by_title >= 250]"
   ]
  },
  {
   "cell_type": "code",
   "execution_count": null,
   "metadata": {
    "collapsed": false
   },
   "outputs": [],
   "source": [
    "active_titles[:10]"
   ]
  },
  {
   "cell_type": "code",
   "execution_count": null,
   "metadata": {
    "collapsed": false
   },
   "outputs": [],
   "source": [
    "mean_ratings = mean_ratings.ix[active_titles]\n",
    "mean_ratings"
   ]
  },
  {
   "cell_type": "code",
   "execution_count": null,
   "metadata": {
    "collapsed": false
   },
   "outputs": [],
   "source": [
    "mean_ratings = mean_ratings.rename(index={'Seven Samurai (The Magnificent Seven) (Shichinin no samurai) (1954)':\n",
    "                           'Seven Samurai (Shichinin no samurai) (1954)'})"
   ]
  },
  {
   "cell_type": "code",
   "execution_count": null,
   "metadata": {
    "collapsed": false
   },
   "outputs": [],
   "source": [
    "top_female_ratings = mean_ratings.sort_index(by='F', ascending=False)\n",
    "top_female_ratings[:10]"
   ]
  },
  {
   "cell_type": "markdown",
   "metadata": {},
   "source": [
    "### Measuring rating disagreement"
   ]
  },
  {
   "cell_type": "code",
   "execution_count": null,
   "metadata": {
    "collapsed": false
   },
   "outputs": [],
   "source": [
    "mean_ratings['diff'] = mean_ratings['M'] - mean_ratings['F']"
   ]
  },
  {
   "cell_type": "code",
   "execution_count": null,
   "metadata": {
    "collapsed": false
   },
   "outputs": [],
   "source": [
    "sorted_by_diff = mean_ratings.sort_index(by='diff')\n",
    "sorted_by_diff[:15]"
   ]
  },
  {
   "cell_type": "code",
   "execution_count": null,
   "metadata": {
    "collapsed": false
   },
   "outputs": [],
   "source": [
    "# Reverse order of rows, take first 15 rows\n",
    "sorted_by_diff[::-1][:15]"
   ]
  },
  {
   "cell_type": "code",
   "execution_count": null,
   "metadata": {
    "collapsed": false
   },
   "outputs": [],
   "source": [
    "# Standard deviation of rating grouped by title\n",
    "rating_std_by_title = data.groupby('title')['rating'].std()\n",
    "# Filter down to active_titles\n",
    "rating_std_by_title = rating_std_by_title.ix[active_titles]\n",
    "# Order Series by value in descending order\n",
    "rating_std_by_title.order(ascending=False)[:10]"
   ]
  },
  {
   "cell_type": "markdown",
   "metadata": {},
   "source": [
    "### US Baby Names 1880-2010"
   ]
  },
  {
   "cell_type": "code",
   "execution_count": null,
   "metadata": {
    "collapsed": false
   },
   "outputs": [],
   "source": [
    "from __future__ import division\n",
    "from numpy.random import randn\n",
    "import numpy as np\n",
    "import matplotlib.pyplot as plt\n",
    "plt.rc('figure', figsize=(12, 5))\n",
    "np.set_printoptions(precision=4)\n",
    "%pwd"
   ]
  },
  {
   "cell_type": "markdown",
   "metadata": {},
   "source": [
    "http://www.ssa.gov/oact/babynames/limits.html"
   ]
  },
  {
   "cell_type": "code",
   "execution_count": null,
   "metadata": {
    "collapsed": false
   },
   "outputs": [],
   "source": [
    "!head -n 10 baby_names/names/yob1880.txt"
   ]
  },
  {
   "cell_type": "code",
   "execution_count": null,
   "metadata": {
    "collapsed": false
   },
   "outputs": [],
   "source": [
    "import pandas as pd\n",
    "names1880 = pd.read_csv('baby_names/names/yob1880.txt', names=['name', 'sex', 'births'])\n",
    "names1880"
   ]
  },
  {
   "cell_type": "code",
   "execution_count": null,
   "metadata": {
    "collapsed": false
   },
   "outputs": [],
   "source": [
    "names1880.groupby('sex').births.sum()"
   ]
  },
  {
   "cell_type": "code",
   "execution_count": null,
   "metadata": {
    "collapsed": false
   },
   "outputs": [],
   "source": [
    "# 2010 is the last available year right now\n",
    "years = range(1880, 2011)\n",
    "\n",
    "pieces = []\n",
    "columns = ['name', 'sex', 'births']\n",
    "\n",
    "for year in years:\n",
    "    path = 'baby_names/names/yob%d.txt' % year\n",
    "    frame = pd.read_csv(path, names=columns)\n",
    "\n",
    "    frame['year'] = year\n",
    "    pieces.append(frame)\n",
    "\n",
    "# Concatenate everything into a single DataFrame\n",
    "names = pd.concat(pieces, ignore_index=True)"
   ]
  },
  {
   "cell_type": "code",
   "execution_count": null,
   "metadata": {
    "collapsed": false
   },
   "outputs": [],
   "source": [
    "names = pd.read_pickle('baby_names/all_names')"
   ]
  },
  {
   "cell_type": "code",
   "execution_count": null,
   "metadata": {
    "collapsed": false
   },
   "outputs": [],
   "source": [
    "names"
   ]
  },
  {
   "cell_type": "code",
   "execution_count": null,
   "metadata": {
    "collapsed": false
   },
   "outputs": [],
   "source": [
    "total_births = names.pivot_table('births', rows='year',\n",
    "                                 cols='sex', aggfunc=sum)"
   ]
  },
  {
   "cell_type": "code",
   "execution_count": null,
   "metadata": {
    "collapsed": false
   },
   "outputs": [],
   "source": [
    "total_births.tail()"
   ]
  },
  {
   "cell_type": "code",
   "execution_count": null,
   "metadata": {
    "collapsed": false
   },
   "outputs": [],
   "source": [
    "total_births.plot(title='Total births by sex and year')"
   ]
  },
  {
   "cell_type": "code",
   "execution_count": null,
   "metadata": {
    "collapsed": false
   },
   "outputs": [],
   "source": [
    "def add_prop(group):\n",
    "    # Integer division floors\n",
    "    births = group.births.astype(float)\n",
    "\n",
    "    group['prop'] = births / births.sum()\n",
    "    return group\n",
    "names = names.groupby(['year', 'sex']).apply(add_prop)"
   ]
  },
  {
   "cell_type": "code",
   "execution_count": null,
   "metadata": {
    "collapsed": false
   },
   "outputs": [],
   "source": [
    "names"
   ]
  },
  {
   "cell_type": "code",
   "execution_count": null,
   "metadata": {
    "collapsed": false
   },
   "outputs": [],
   "source": [
    "np.allclose(names.groupby(['year', 'sex']).prop.sum(), 1)"
   ]
  },
  {
   "cell_type": "code",
   "execution_count": null,
   "metadata": {
    "collapsed": false
   },
   "outputs": [],
   "source": [
    "def get_top1000(group):\n",
    "    return group.sort_index(by='births', ascending=False)[:1000]\n",
    "grouped = names.groupby(['year', 'sex'])\n",
    "top1000 = grouped.apply(get_top1000)"
   ]
  },
  {
   "cell_type": "code",
   "execution_count": null,
   "metadata": {
    "collapsed": false
   },
   "outputs": [],
   "source": [
    "pieces = []\n",
    "for year, group in names.groupby(['year', 'sex']):\n",
    "    pieces.append(group.sort_index(by='births', ascending=False)[:1000])\n",
    "top1000 = pd.concat(pieces, ignore_index=True)"
   ]
  },
  {
   "cell_type": "code",
   "execution_count": null,
   "metadata": {
    "collapsed": false
   },
   "outputs": [],
   "source": [
    "top1000.index = np.arange(len(top1000))"
   ]
  },
  {
   "cell_type": "code",
   "execution_count": null,
   "metadata": {
    "collapsed": false
   },
   "outputs": [],
   "source": [
    "top1000"
   ]
  },
  {
   "cell_type": "markdown",
   "metadata": {},
   "source": [
    "### Analyzing naming trends"
   ]
  },
  {
   "cell_type": "code",
   "execution_count": null,
   "metadata": {
    "collapsed": false
   },
   "outputs": [],
   "source": [
    "boys = top1000[top1000.sex == 'M']\n",
    "girls = top1000[top1000.sex == 'F']"
   ]
  },
  {
   "cell_type": "code",
   "execution_count": null,
   "metadata": {
    "collapsed": false
   },
   "outputs": [],
   "source": [
    "total_births = top1000.pivot_table('births', rows='year', cols='name',\n",
    "                                   aggfunc=sum)\n",
    "total_births"
   ]
  },
  {
   "cell_type": "code",
   "execution_count": null,
   "metadata": {
    "collapsed": false
   },
   "outputs": [],
   "source": [
    "subset = total_births[['John', 'Harry', 'Mary', 'Marilyn']]\n",
    "subset.plot(subplots=True, figsize=(12, 10), grid=False,\n",
    "            title=\"Number of births per year\")"
   ]
  },
  {
   "cell_type": "markdown",
   "metadata": {},
   "source": [
    "#### Measuring the increase in naming diversity"
   ]
  },
  {
   "cell_type": "code",
   "execution_count": null,
   "metadata": {
    "collapsed": false
   },
   "outputs": [],
   "source": [
    "plt.figure()"
   ]
  },
  {
   "cell_type": "code",
   "execution_count": null,
   "metadata": {
    "collapsed": false
   },
   "outputs": [],
   "source": [
    "table = top1000.pivot_table('prop', rows='year',\n",
    "                            cols='sex', aggfunc=sum)\n",
    "table.plot(title='Sum of table1000.prop by year and sex',\n",
    "           yticks=np.linspace(0, 1.2, 13), xticks=range(1880, 2020, 10))"
   ]
  },
  {
   "cell_type": "code",
   "execution_count": null,
   "metadata": {
    "collapsed": false
   },
   "outputs": [],
   "source": [
    "df = boys[boys.year == 2010]\n",
    "df"
   ]
  },
  {
   "cell_type": "code",
   "execution_count": null,
   "metadata": {
    "collapsed": false
   },
   "outputs": [],
   "source": [
    "prop_cumsum = df.sort_index(by='prop', ascending=False).prop.cumsum()\n",
    "prop_cumsum[:10]"
   ]
  },
  {
   "cell_type": "code",
   "execution_count": null,
   "metadata": {
    "collapsed": false
   },
   "outputs": [],
   "source": [
    "prop_cumsum.values.searchsorted(0.5)"
   ]
  },
  {
   "cell_type": "code",
   "execution_count": null,
   "metadata": {
    "collapsed": false
   },
   "outputs": [],
   "source": [
    "df = boys[boys.year == 1900]\n",
    "in1900 = df.sort_index(by='prop', ascending=False).prop.cumsum()\n",
    "in1900.values.searchsorted(0.5) + 1"
   ]
  },
  {
   "cell_type": "code",
   "execution_count": null,
   "metadata": {
    "collapsed": false
   },
   "outputs": [],
   "source": [
    "def get_quantile_count(group, q=0.5):\n",
    "    group = group.sort_index(by='prop', ascending=False)\n",
    "    return group.prop.cumsum().values.searchsorted(q) + 1\n",
    "\n",
    "diversity = top1000.groupby(['year', 'sex']).apply(get_quantile_count)\n",
    "diversity = diversity.unstack('sex')"
   ]
  },
  {
   "cell_type": "code",
   "execution_count": null,
   "metadata": {
    "collapsed": false
   },
   "outputs": [],
   "source": [
    "def get_quantile_count(group, q=0.5):\n",
    "    group = group.sort_index(by='prop', ascending=False)\n",
    "    return group.prop.cumsum().values.searchsorted(q) + 1\n",
    "diversity = top1000.groupby(['year', 'sex']).apply(get_quantile_count)\n",
    "diversity = diversity.unstack('sex')\n",
    "diversity.head()"
   ]
  },
  {
   "cell_type": "code",
   "execution_count": null,
   "metadata": {
    "collapsed": false
   },
   "outputs": [],
   "source": [
    "diversity.plot(title=\"Number of popular names in top 50%\")"
   ]
  },
  {
   "cell_type": "markdown",
   "metadata": {},
   "source": [
    "#### The \"Last letter\" Revolution"
   ]
  },
  {
   "cell_type": "code",
   "execution_count": null,
   "metadata": {
    "collapsed": false
   },
   "outputs": [],
   "source": [
    "# extract last letter from name column\n",
    "get_last_letter = lambda x: x[-1]\n",
    "last_letters = names.name.map(get_last_letter)\n",
    "last_letters.name = 'last_letter'\n",
    "\n",
    "table = names.pivot_table('births', rows=last_letters,\n",
    "                          cols=['sex', 'year'], aggfunc=sum)"
   ]
  },
  {
   "cell_type": "code",
   "execution_count": null,
   "metadata": {
    "collapsed": false
   },
   "outputs": [],
   "source": [
    "subtable = table.reindex(columns=[1910, 1960, 2010], level='year')\n",
    "subtable.head()\n",
    "subtable.sum()"
   ]
  },
  {
   "cell_type": "code",
   "execution_count": null,
   "metadata": {
    "collapsed": false
   },
   "outputs": [],
   "source": [
    "letter_prop = subtable / subtable.sum().astype(float)"
   ]
  },
  {
   "cell_type": "code",
   "execution_count": null,
   "metadata": {
    "collapsed": false
   },
   "outputs": [],
   "source": [
    "import matplotlib.pyplot as plt\n",
    "\n",
    "fig, axes = plt.subplots(2, 1, figsize=(10, 8))\n",
    "letter_prop['M'].plot(kind='bar', rot=0, ax=axes[0], title='Male')\n",
    "letter_prop['F'].plot(kind='bar', rot=0, ax=axes[1], title='Female',\n",
    "                      legend=False)"
   ]
  },
  {
   "cell_type": "code",
   "execution_count": null,
   "metadata": {
    "collapsed": false
   },
   "outputs": [],
   "source": [
    "plt.subplots_adjust(hspace=0.25)"
   ]
  },
  {
   "cell_type": "code",
   "execution_count": null,
   "metadata": {
    "collapsed": false
   },
   "outputs": [],
   "source": [
    "letter_prop = table / table.sum().astype(float)\n",
    "\n",
    "dny_ts = letter_prop.ix[['d', 'n', 'y'], 'M'].T\n",
    "dny_ts.head()"
   ]
  },
  {
   "cell_type": "code",
   "execution_count": null,
   "metadata": {
    "collapsed": false
   },
   "outputs": [],
   "source": [
    "plt.close('all')"
   ]
  },
  {
   "cell_type": "code",
   "execution_count": null,
   "metadata": {
    "collapsed": false
   },
   "outputs": [],
   "source": [
    "dny_ts.plot()"
   ]
  },
  {
   "cell_type": "markdown",
   "metadata": {},
   "source": [
    "#### Boy names that became girl names (and vice versa)"
   ]
  },
  {
   "cell_type": "code",
   "execution_count": null,
   "metadata": {
    "collapsed": false
   },
   "outputs": [],
   "source": [
    "all_names = top1000.name.unique()\n",
    "mask = np.array(['lesl' in x.lower() for x in all_names])\n",
    "lesley_like = all_names[mask]\n",
    "lesley_like"
   ]
  },
  {
   "cell_type": "code",
   "execution_count": null,
   "metadata": {
    "collapsed": false
   },
   "outputs": [],
   "source": [
    "filtered = top1000[top1000.name.isin(lesley_like)]\n",
    "filtered.groupby('name').births.sum()"
   ]
  },
  {
   "cell_type": "code",
   "execution_count": null,
   "metadata": {
    "collapsed": false
   },
   "outputs": [],
   "source": [
    "table = filtered.pivot_table('births', rows='year',\n",
    "                             cols='sex', aggfunc='sum')\n",
    "table = table.div(table.sum(1), axis=0)\n",
    "table.tail()"
   ]
  },
  {
   "cell_type": "code",
   "execution_count": null,
   "metadata": {
    "collapsed": false
   },
   "outputs": [],
   "source": [
    "plt.close('all')"
   ]
  },
  {
   "cell_type": "code",
   "execution_count": null,
   "metadata": {
    "collapsed": false
   },
   "outputs": [],
   "source": [
    "table.plot(style={'M': 'k-', 'F': 'k--'})"
   ]
  }
 ],
 "metadata": {
  "kernelspec": {
   "display_name": "Python 3",
   "language": "python",
   "name": "python3"
  },
  "language_info": {
   "codemirror_mode": {
    "name": "ipython",
    "version": 3
   },
   "file_extension": ".py",
   "mimetype": "text/x-python",
   "name": "python",
   "nbconvert_exporter": "python",
   "pygments_lexer": "ipython3",
   "version": "3.4.3"
  }
 },
 "nbformat": 4,
 "nbformat_minor": 0
}
